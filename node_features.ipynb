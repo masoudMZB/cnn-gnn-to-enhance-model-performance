{
  "nbformat": 4,
  "nbformat_minor": 0,
  "metadata": {
    "colab": {
      "provenance": [],
      "collapsed_sections": [
        "5o6zCjipn3lr"
      ]
    },
    "kernelspec": {
      "name": "python3",
      "display_name": "Python 3"
    },
    "language_info": {
      "name": "python"
    }
  },
  "cells": [
    {
      "cell_type": "code",
      "execution_count": null,
      "metadata": {
        "colab": {
          "base_uri": "https://localhost:8080/"
        },
        "id": "GCIjJ0tVJOQ1",
        "outputId": "cd0abd6f-c6d9-4d09-86cb-4aee46cfbc2c"
      },
      "outputs": [
        {
          "output_type": "stream",
          "name": "stdout",
          "text": [
            "2.1.0+cu121\n",
            "\u001b[2K     \u001b[90m━━━━━━━━━━━━━━━━━━━━━━━━━━━━━━━━━━━━━━━━\u001b[0m \u001b[32m10.8/10.8 MB\u001b[0m \u001b[31m28.2 MB/s\u001b[0m eta \u001b[36m0:00:00\u001b[0m\n",
            "\u001b[2K     \u001b[90m━━━━━━━━━━━━━━━━━━━━━━━━━━━━━━━━━━━━━━━━\u001b[0m \u001b[32m5.0/5.0 MB\u001b[0m \u001b[31m23.3 MB/s\u001b[0m eta \u001b[36m0:00:00\u001b[0m\n",
            "\u001b[?25h  Installing build dependencies ... \u001b[?25l\u001b[?25hdone\n",
            "  Getting requirements to build wheel ... \u001b[?25l\u001b[?25hdone\n",
            "  Preparing metadata (pyproject.toml) ... \u001b[?25l\u001b[?25hdone\n",
            "  Building wheel for torch_geometric (pyproject.toml) ... \u001b[?25l\u001b[?25hdone\n"
          ]
        }
      ],
      "source": [
        "import os\n",
        "import torch\n",
        "os.environ['TORCH'] = torch.__version__\n",
        "print(torch.__version__)\n",
        "\n",
        "!pip install -q torch-scatter -f https://data.pyg.org/whl/torch-${TORCH}.html\n",
        "!pip install -q torch-sparse -f https://data.pyg.org/whl/torch-${TORCH}.html\n",
        "!pip install -q git+https://github.com/pyg-team/pytorch_geometric.git\n",
        "\n",
        "# ! pip install torch-cluster -f https://data.pyg.org/whl/torch-2.1.0+${CUDA}.html\n",
        "# ! pip install torch-cluster"
      ]
    },
    {
      "cell_type": "code",
      "source": [
        "from google.colab import drive\n",
        "drive.mount('/content/drive')"
      ],
      "metadata": {
        "colab": {
          "base_uri": "https://localhost:8080/"
        },
        "id": "K82xVZjnJcT2",
        "outputId": "8efbb35c-8e85-44fb-aba7-0fc2f6059e5b"
      },
      "execution_count": null,
      "outputs": [
        {
          "output_type": "stream",
          "name": "stdout",
          "text": [
            "Mounted at /content/drive\n"
          ]
        }
      ]
    },
    {
      "cell_type": "markdown",
      "source": [
        "# count param numbers"
      ],
      "metadata": {
        "id": "iHmY_-0sPbDw"
      }
    },
    {
      "cell_type": "code",
      "source": [
        "import torchvision.models as models\n",
        "\n",
        "# Load the SqueezeNet model\n",
        "squeezenet = models.squeezenet1_0(pretrained=True)\n",
        "\n",
        "# Calculate the number of parameters\n",
        "num_params_squeezenet = sum(p.numel() for p in squeezenet.parameters())\n",
        "\n",
        "print(f\"Number of trainable parameters in SqueezeNet: {num_params_squeezenet}\")\n"
      ],
      "metadata": {
        "colab": {
          "base_uri": "https://localhost:8080/"
        },
        "id": "0YdMeo_WPuZX",
        "outputId": "7fd77c24-ffae-4039-e44a-ca727eca5a1a"
      },
      "execution_count": null,
      "outputs": [
        {
          "output_type": "stream",
          "name": "stdout",
          "text": [
            "Number of trainable parameters in SqueezeNet: 1248424\n"
          ]
        }
      ]
    },
    {
      "cell_type": "code",
      "source": [
        "efficientnet = torch.hub.load('NVIDIA/DeepLearningExamples:torchhub', 'nvidia_efficientnet_b0', pretrained=True)\n",
        "\n",
        "\n",
        "# Calculate the number of parameters\n",
        "num_params_efficientnet = sum(p.numel() for p in efficientnet.parameters())\n",
        "\n",
        "print(f\"Number of trainable parameters in efficientnet: {num_params_efficientnet}\")"
      ],
      "metadata": {
        "colab": {
          "base_uri": "https://localhost:8080/"
        },
        "id": "NjKybjngP7Sw",
        "outputId": "e01e9f51-9cef-469b-d9d4-55370dbe1912"
      },
      "execution_count": null,
      "outputs": [
        {
          "output_type": "stream",
          "name": "stdout",
          "text": [
            "Number of trainable parameters in efficientnet: 5288548\n"
          ]
        },
        {
          "output_type": "stream",
          "name": "stderr",
          "text": [
            "Using cache found in /root/.cache/torch/hub/NVIDIA_DeepLearningExamples_torchhub\n"
          ]
        }
      ]
    },
    {
      "cell_type": "code",
      "source": [
        "import torch\n",
        "from torch.nn import Parameter\n",
        "\n",
        "def count_parameters(model):\n",
        "    return sum(p.numel() for p in model.parameters())\n",
        "\n",
        "# Example usage:\n",
        "# Define your PyTorch model\n",
        "model = GCN(1, 10)\n",
        "# Calculate the number of parameters\n",
        "num_params = count_parameters(model)\n",
        "\n",
        "print(f\"Number of trainable parameters in the model: {num_params}\")\n"
      ],
      "metadata": {
        "colab": {
          "base_uri": "https://localhost:8080/"
        },
        "id": "YLBcIulAPcwn",
        "outputId": "e7c11d1d-a14a-4f2e-b5a4-a402babaab86"
      },
      "execution_count": null,
      "outputs": [
        {
          "output_type": "stream",
          "name": "stdout",
          "text": [
            "Number of trainable parameters in the model: 560\n"
          ]
        }
      ]
    },
    {
      "cell_type": "code",
      "source": [
        "# Example usage:\n",
        "# Define your PyTorch model\n",
        "model = GCN(5, 10)\n",
        "# Calculate the number of parameters\n",
        "num_params = count_parameters(model)\n",
        "\n",
        "print(f\"Number of trainable parameters in the model: {num_params}\")"
      ],
      "metadata": {
        "colab": {
          "base_uri": "https://localhost:8080/"
        },
        "id": "RDKQOHWRURQo",
        "outputId": "67057960-65fc-49a6-9dd5-bab05954e90d"
      },
      "execution_count": null,
      "outputs": [
        {
          "output_type": "stream",
          "name": "stdout",
          "text": [
            "Number of trainable parameters in the model: 600\n"
          ]
        }
      ]
    },
    {
      "cell_type": "code",
      "source": [
        "# Example usage:\n",
        "# Define your PyTorch model\n",
        "model = GCN(32, 10)\n",
        "# Calculate the number of parameters\n",
        "num_params = count_parameters(model)\n",
        "\n",
        "print(f\"Number of trainable parameters in the model: {num_params}\")"
      ],
      "metadata": {
        "colab": {
          "base_uri": "https://localhost:8080/"
        },
        "id": "wjwyF-ecURs3",
        "outputId": "eb78f552-1c8c-47fc-8b75-0400f5cd2cdc"
      },
      "execution_count": null,
      "outputs": [
        {
          "output_type": "stream",
          "name": "stdout",
          "text": [
            "Number of trainable parameters in the model: 870\n"
          ]
        }
      ]
    },
    {
      "cell_type": "code",
      "source": [
        "# Example usage:\n",
        "# Define your PyTorch model\n",
        "model = GCN(100, 10)\n",
        "# Calculate the number of parameters\n",
        "num_params = count_parameters(model)\n",
        "\n",
        "print(f\"Number of trainable parameters in the model: {num_params}\")"
      ],
      "metadata": {
        "colab": {
          "base_uri": "https://localhost:8080/"
        },
        "id": "DeYnpEnWUTxf",
        "outputId": "61a52573-8db6-4fa7-c58f-4e5adf195a71"
      },
      "execution_count": null,
      "outputs": [
        {
          "output_type": "stream",
          "name": "stdout",
          "text": [
            "Number of trainable parameters in the model: 1550\n"
          ]
        }
      ]
    },
    {
      "cell_type": "code",
      "source": [
        "# Example usage:\n",
        "# Define your PyTorch model\n",
        "model = GCN(200, 10)\n",
        "# Calculate the number of parameters\n",
        "num_params = count_parameters(model)\n",
        "\n",
        "print(f\"Number of trainable parameters in the model: {num_params}\")"
      ],
      "metadata": {
        "colab": {
          "base_uri": "https://localhost:8080/"
        },
        "id": "KCaZ5ZTVUVFw",
        "outputId": "4078cc99-e51d-4742-a0c6-e445cf6dafbb"
      },
      "execution_count": null,
      "outputs": [
        {
          "output_type": "stream",
          "name": "stdout",
          "text": [
            "Number of trainable parameters in the model: 2550\n"
          ]
        }
      ]
    },
    {
      "cell_type": "code",
      "source": [
        "# Example usage:\n",
        "# Define your PyTorch model\n",
        "model = GCN(300, 10)\n",
        "# Calculate the number of parameters\n",
        "num_params = count_parameters(model)\n",
        "\n",
        "print(f\"Number of trainable parameters in the model: {num_params}\")"
      ],
      "metadata": {
        "colab": {
          "base_uri": "https://localhost:8080/"
        },
        "id": "LMdlvOJ6UWhX",
        "outputId": "57b82d51-656c-4a7d-ee3b-31c51693d4d5"
      },
      "execution_count": null,
      "outputs": [
        {
          "output_type": "stream",
          "name": "stdout",
          "text": [
            "Number of trainable parameters in the model: 3550\n"
          ]
        }
      ]
    },
    {
      "cell_type": "markdown",
      "source": [
        "# let's try a new code"
      ],
      "metadata": {
        "id": "iCi7_SRBWK2r"
      }
    },
    {
      "cell_type": "code",
      "source": [
        "import torch\n",
        "from torch.nn import Linear\n",
        "import torch.nn.functional as F\n",
        "from torch_geometric.nn import GCNConv, TopKPooling, global_mean_pool\n",
        "from torch_geometric.nn import global_mean_pool as gap, global_max_pool as gmp\n",
        "embedding_size = 10\n",
        "\n",
        "\n",
        "class GCN(torch.nn.Module):\n",
        "    def __init__(self, input_size, num_classes):\n",
        "        # Init parent\n",
        "        super(GCN, self).__init__()\n",
        "        # torch.manual_seed(42)\n",
        "        # GCN layers\n",
        "        self.initial_conv = GCNConv(input_size, embedding_size)\n",
        "        self.conv1 = GCNConv(embedding_size, embedding_size)\n",
        "        self.conv2 = GCNConv(embedding_size, embedding_size)\n",
        "        self.conv3 = GCNConv(embedding_size, embedding_size)\n",
        "        # Output layer\n",
        "        # self.out = Linear(embedding_size*2, dataset.num_classes)\n",
        "        self.out = Linear(embedding_size*2, num_classes)\n",
        "    def forward(self, x, edge_index, batch_index):\n",
        "        # First Conv layer\n",
        "        hidden = self.initial_conv(x, edge_index)\n",
        "        hidden = F.tanh(hidden)\n",
        "        # Other Conv layers\n",
        "        hidden = self.conv1(hidden, edge_index)\n",
        "        hidden = F.tanh(hidden)\n",
        "        hidden = self.conv2(hidden, edge_index)\n",
        "        hidden = F.tanh(hidden)\n",
        "        hidden = self.conv3(hidden, edge_index)\n",
        "        hidden = F.tanh(hidden)\n",
        "        # Global Pooling (stack different aggregations)\n",
        "        hidden = torch.cat([gmp(hidden, batch_index),\n",
        "                            gap(hidden, batch_index)], dim=1)\n",
        "        # Apply a final (linear) classifier.\n",
        "        out = self.out(hidden)\n",
        "        return out, hidden\n",
        "\n",
        "# print(model)\n",
        "# print(\"Number of parameters: \", sum(p.numel() for p in model.parameters()))"
      ],
      "metadata": {
        "id": "E0y8MSRzXIbr"
      },
      "execution_count": null,
      "outputs": []
    },
    {
      "cell_type": "code",
      "source": [
        "import pandas as pd\n",
        "import torch\n",
        "from sklearn.metrics import confusion_matrix, classification_report\n",
        "import seaborn as sns\n",
        "import matplotlib.pyplot as plt\n",
        "\n",
        "def evaluate_to_draw_metrics(data_loader, model, loss_fn, device):\n",
        "    model.eval()\n",
        "    total_loss = 0\n",
        "    total_correct = 0\n",
        "    total_total = 0\n",
        "    result_data = []\n",
        "\n",
        "    with torch.no_grad():\n",
        "        for batch in data_loader:\n",
        "            batch = batch.to(device)\n",
        "            pred, _ = model(batch.x.float(), batch.edge_index, batch.batch)\n",
        "            test_loss = loss_fn(pred, batch.y)\n",
        "            total_loss += test_loss.item()\n",
        "\n",
        "            _, test_predicted = torch.max(pred.data, 1)\n",
        "            total_total += batch.y.size(0)\n",
        "            total_correct += (test_predicted == batch.y).sum().item()\n",
        "\n",
        "            for i in range(len(batch.y)):\n",
        "                result_data.append([batch.y[i].item(), test_predicted[i].item()])\n",
        "\n",
        "    accuracy = total_correct / total_total\n",
        "    avg_loss = total_loss / len(data_loader)\n",
        "\n",
        "    columns = [\"Real Label\", \"Predicted Label\"]\n",
        "    df = pd.DataFrame(result_data, columns=columns)\n",
        "\n",
        "    # Confusion Matrix\n",
        "    cm = confusion_matrix(df['Real Label'], df['Predicted Label'])\n",
        "    # Plotting Confusion Matrix\n",
        "    plt.figure(figsize=(10,8))\n",
        "    sns.heatmap(cm, annot=True, fmt=\"d\")\n",
        "    plt.ylabel('Actual')\n",
        "    plt.xlabel('Predicted')\n",
        "    plt.title('Confusion Matrix')\n",
        "    plt.show()\n",
        "\n",
        "    # Precision, Recall, and F1 Score\n",
        "    print(classification_report(df['Real Label'], df['Predicted Label']))\n",
        "\n",
        "    return avg_loss, accuracy, df"
      ],
      "metadata": {
        "id": "3H6YElMeZQ68"
      },
      "execution_count": null,
      "outputs": []
    },
    {
      "cell_type": "code",
      "source": [
        "def pca_the_features(dim, features):\n",
        "      from sklearn.decomposition import PCA\n",
        "\n",
        "      # Define the split indices\n",
        "      train_indices = range(9200)\n",
        "      val_indices = range(9200, 10000)\n",
        "\n",
        "      # Split the features into train and validation\n",
        "      train_features = features[:9200]\n",
        "      val_features = features[9200:]\n",
        "\n",
        "      # Apply PCA on the training features\n",
        "      pca = PCA(n_components=dim)\n",
        "      pca.fit(train_features)\n",
        "      train_features_pca = pca.transform(train_features)\n",
        "\n",
        "      # Apply PCA on the validation features\n",
        "      val_features_pca = pca.transform(val_features)\n",
        "\n",
        "      return train_features_pca, val_features_pca\n",
        "\n",
        "\n",
        "def create_dataset(train_features_pca, val_features_pca):\n",
        "      import torch\n",
        "      from torch_geometric.datasets import MNISTSuperpixels\n",
        "      from sklearn.decomposition import PCA\n",
        "      from torch_geometric.data import DataLoader\n",
        "\n",
        "      # Load the dataset\n",
        "      dataset = MNISTSuperpixels(root='.', train=False)\n",
        "\n",
        "      # Assuming you have a features list\n",
        "      # features = [...]  # Replace [...] with your features list\n",
        "\n",
        "      # Define the split indices\n",
        "      train_indices = range(9200)\n",
        "      val_indices = range(9200, 10000)\n",
        "\n",
        "      # Initialize train and validation datasets\n",
        "      train_dataset = []\n",
        "      val_dataset = []\n",
        "\n",
        "      # Process the dataset and PCA-transformed features\n",
        "      for i, graph in enumerate(dataset):\n",
        "          num_nodes = graph.num_nodes\n",
        "\n",
        "          # Assign PCA-transformed features to the graph's 'x' attribute\n",
        "          if i in train_indices:\n",
        "              graph.x = torch.tensor(train_features_pca[i], dtype=torch.float).unsqueeze(0).repeat(num_nodes, 1)\n",
        "              train_dataset.append(graph)\n",
        "          elif i in val_indices:\n",
        "              graph.x = torch.tensor(val_features_pca[i - 9200], dtype=torch.float).unsqueeze(0).repeat(num_nodes, 1)\n",
        "              val_dataset.append(graph)\n",
        "\n",
        "      # Print the first graph in the train dataset\n",
        "      print(train_dataset[0])\n",
        "\n",
        "      # Print the first graph in the validation dataset\n",
        "      print(val_dataset[0])\n",
        "\n",
        "      return train_dataset, val_dataset\n",
        "\n",
        "def train_model(dim, train_dataset, val_dataset,num_classes=10, draw_metrics=False):\n",
        "      from torch_geometric.data import DataLoader\n",
        "      import warnings\n",
        "      from torch_geometric.data import DataLoader\n",
        "      warnings.filterwarnings(\"ignore\")\n",
        "\n",
        "      def train_and_test(data_loader, model, optimizer, loss_fn, device):\n",
        "          model.train()\n",
        "\n",
        "          correct = 0\n",
        "          total = 0\n",
        "          total_loss = 0\n",
        "\n",
        "          for batch in data_loader:\n",
        "              batch = batch.to(device)\n",
        "              optimizer.zero_grad()\n",
        "              pred, _ = model(batch.x.float(), batch.edge_index, batch.batch)\n",
        "              loss = loss_fn(pred, batch.y)\n",
        "              loss.backward()\n",
        "              optimizer.step()\n",
        "\n",
        "              _, predicted = torch.max(pred.data, 1)\n",
        "              total += batch.y.size(0)\n",
        "              correct += (predicted == batch.y).sum().item()\n",
        "              total_loss += loss.item()\n",
        "\n",
        "          accuracy = correct / total\n",
        "          avg_loss = total_loss / len(data_loader)\n",
        "          return avg_loss, accuracy\n",
        "\n",
        "      def evaluate(data_loader, model, loss_fn, device):\n",
        "          model.eval()\n",
        "          total_loss = 0\n",
        "          total_correct = 0\n",
        "          total_total = 0\n",
        "\n",
        "          with torch.no_grad():\n",
        "              for batch in data_loader:\n",
        "                  batch = batch.to(device)\n",
        "                  pred, _ = model(batch.x.float(), batch.edge_index, batch.batch)\n",
        "                  test_loss = loss_fn(pred, batch.y)\n",
        "                  total_loss += test_loss.item()\n",
        "\n",
        "                  _, test_predicted = torch.max(pred.data, 1)\n",
        "                  total_total += batch.y.size(0)\n",
        "                  total_correct += (test_predicted == batch.y).sum().item()\n",
        "\n",
        "          accuracy = total_correct / total_total\n",
        "          avg_loss = total_loss / len(data_loader)\n",
        "          return avg_loss, accuracy\n",
        "\n",
        "\n",
        "\n",
        "      print(\"Starting training...\")\n",
        "\n",
        "      best_accuracy = [0.0, 0.0, 0.0, 0.0, 0.0]\n",
        "      best_accuracy_train = [0.0, 0.0, 0.0, 0.0, 0.0]\n",
        "      # Initialize lists to store logs for each run\n",
        "      all_train_losses = []\n",
        "      all_train_accuracies = []\n",
        "      all_test_losses = []\n",
        "      all_test_accuracies = []\n",
        "\n",
        "      best_accuracy = [0.0] * 5\n",
        "      best_accuracy_train = [0.0] * 5\n",
        "      patience = 5\n",
        "\n",
        "      patience = 5  # Number of epochs without improvement to wait before stopping\n",
        "      early_stop_counter = 0\n",
        "\n",
        "      for run_time in [0,1,2,3,4]:\n",
        "        model = GCN(dim, num_classes)\n",
        "        # Cross EntrophyLoss\n",
        "        loss_fn = torch.nn.CrossEntropyLoss()\n",
        "        optimizer = torch.optim.Adam(model.parameters(), lr=0.0007)\n",
        "        # Use GPU for training\n",
        "        device = torch.device(\"cuda:0\" if torch.cuda.is_available() else \"cpu\")\n",
        "\n",
        "        model = model.to(device)\n",
        "\n",
        "        train_losses = []\n",
        "        train_accuracies = []\n",
        "        test_losses = []\n",
        "        test_accuracies = []\n",
        "\n",
        "\n",
        "        # Wrap data in a data loader\n",
        "        # data_size = len(dataset)\n",
        "        NUM_GRAPHS_PER_BATCH = 64\n",
        "        train_loader = DataLoader(train_dataset,\n",
        "                            batch_size=NUM_GRAPHS_PER_BATCH, shuffle=True)\n",
        "        test_loader = DataLoader(val_dataset,\n",
        "                                batch_size=NUM_GRAPHS_PER_BATCH, shuffle=True)\n",
        "\n",
        "\n",
        "\n",
        "        for epoch in range(40):\n",
        "            train_loss, train_accuracy = train_and_test(train_loader, model, optimizer, loss_fn, device)\n",
        "            test_loss, test_accuracy = evaluate(test_loader, model, loss_fn, device)\n",
        "\n",
        "            train_losses.append(train_loss)\n",
        "            train_accuracies.append(train_accuracy)\n",
        "            test_losses.append(test_loss)\n",
        "            test_accuracies.append(test_accuracy)\n",
        "\n",
        "            print(f\"Epoch {epoch} | Train Loss {train_loss} | Train Accuracy {train_accuracy} | Test Loss {test_loss} | Test Accuracy {test_accuracy}\")\n",
        "\n",
        "\n",
        "\n",
        "\n",
        "            # add best acc of train\n",
        "            if train_accuracy > best_accuracy_train[run_time]:\n",
        "                best_accuracy_train[run_time] = train_accuracy\n",
        "\n",
        "            # Check for improvement in validation accuracy\n",
        "            if test_accuracy > best_accuracy[run_time]:\n",
        "                best_accuracy[run_time] = test_accuracy\n",
        "                early_stop_counter = 0\n",
        "            else:\n",
        "                early_stop_counter += 1\n",
        "                if early_stop_counter >= patience:\n",
        "                    print(\"Validation accuracy did not improve for several epochs. Stopping early.\")\n",
        "                    break\n",
        "\n",
        "        # Store logs for this run\n",
        "        all_train_losses.append(train_losses)\n",
        "        all_train_accuracies.append(train_accuracies)\n",
        "        all_test_losses.append(test_losses)\n",
        "        all_test_accuracies.append(test_accuracies)\n",
        "\n",
        "      # report best of 5 rounds in train and test\n",
        "      # FOR TEST\n",
        "      import statistics\n",
        "      print(f'best accuraces for test was : {best_accuracy}')\n",
        "      print(f'stddev for test was  : {statistics.stdev(best_accuracy)}')\n",
        "\n",
        "      # FOR Train\n",
        "      print(f'best accuraces for test was : {best_accuracy_train}')\n",
        "      print(f'stddev for test was  : {statistics.stdev(best_accuracy_train)}')\n",
        "\n",
        "      if draw_metrics:\n",
        "        evaluate_to_draw_metrics(test_loader, model, loss_fn, device)\n",
        "\n",
        "\n",
        "      return all_train_losses, all_train_accuracies, all_test_losses, all_test_accuracies\n",
        "\n",
        "\n",
        "\n",
        "def run_experiment(dim,  features, show_metric=False):\n",
        "      train_features_pca, val_features_pca = pca_the_features(dim, features)\n",
        "      train_dataset, val_dataset = create_dataset(train_features_pca, val_features_pca)\n",
        "      logs = train_model(dim, train_dataset, val_dataset, num_classes = 10, draw_metrics=show_metric)\n",
        "      return logs\n",
        "\n",
        "def run_experiment_no_pca(dim,  train_features, val_features, show_metric=False):\n",
        "\n",
        "      train_dataset, val_dataset = create_dataset(train_features, val_features)\n",
        "      logs = train_model(dim, train_dataset, val_dataset, num_classes = 10, draw_metrics=show_metric)\n",
        "      return logs\n",
        "\n",
        "def akbar(dim,  features, show_metric=False):\n",
        "      train_features_pca, val_features_pca = pca_the_features(dim, features)\n",
        "      train_dataset, val_dataset = create_dataset(train_features_pca, val_features_pca)\n",
        "      logs = train_model(dim, train_dataset, val_dataset, num_classes = 10, draw_metrics=show_metric)\n",
        "      return logs\n"
      ],
      "metadata": {
        "id": "ZF2PenqyWNed"
      },
      "execution_count": null,
      "outputs": []
    },
    {
      "cell_type": "markdown",
      "source": [
        "# load feature"
      ],
      "metadata": {
        "id": "JNLy2FU1Z8ie"
      }
    },
    {
      "cell_type": "code",
      "source": [
        "import numpy as np\n",
        "features = np.load('/content/drive/MyDrive/tmp/features_squeeze_86528.npy')\n",
        "\n"
      ],
      "metadata": {
        "id": "4zYrFMnMZ6QL"
      },
      "execution_count": null,
      "outputs": []
    },
    {
      "cell_type": "code",
      "source": [
        "import pickle\n",
        "file = open(\"/content/drive/MyDrive/tmp/mnist_features_train_false_efficientb0.pkl\",'rb')\n",
        "features_efficient = pickle.load(file)"
      ],
      "metadata": {
        "id": "310Z6EZFuGAC"
      },
      "execution_count": null,
      "outputs": []
    },
    {
      "cell_type": "code",
      "source": [
        "with open('/content/drive/MyDrive/tmp/logssq5.pkl', 'rb') as file:\n",
        "        logssq5_loaded = pickle.load(file)"
      ],
      "metadata": {
        "id": "HXIneYzJSPkO"
      },
      "execution_count": null,
      "outputs": []
    },
    {
      "cell_type": "code",
      "source": [
        "import numpy as np\n",
        "\n",
        "test_acc = [0.8725, 0.8875, 0.8975, 0.83625, 0.8775]\n",
        "\n",
        "np.array(test_acc).mean()"
      ],
      "metadata": {
        "id": "cQWS5RkH-u1D"
      },
      "execution_count": null,
      "outputs": []
    },
    {
      "cell_type": "markdown",
      "source": [
        "# sq 32"
      ],
      "metadata": {
        "id": "BR0mgV4xQhCt"
      }
    },
    {
      "cell_type": "code",
      "source": [
        "logssq32 =  run_experiment(32, features)\n",
        "with open('/content/drive/MyDrive/tmp/logssq32.pkl', 'wb') as file:\n",
        "        pickle.dump(logssq32, file)"
      ],
      "metadata": {
        "colab": {
          "base_uri": "https://localhost:8080/"
        },
        "id": "3gKruIXnQifN",
        "outputId": "60f09324-f3d7-4dd5-99d4-48ef928ba0c7"
      },
      "execution_count": null,
      "outputs": [
        {
          "output_type": "stream",
          "name": "stdout",
          "text": [
            "Data(x=[75, 32], edge_index=[2, 1405], y=[1], pos=[75, 2])\n",
            "Data(x=[75, 32], edge_index=[2, 1395], y=[1], pos=[75, 2])\n",
            "Starting training...\n",
            "Epoch 0 | Train Loss 2.1672484891282187 | Train Accuracy 0.2192391304347826 | Test Loss 1.9703429478865404 | Test Accuracy 0.3275\n",
            "Epoch 1 | Train Loss 1.7943696081638336 | Train Accuracy 0.45206521739130434 | Test Loss 1.663704826281621 | Test Accuracy 0.4875\n",
            "Epoch 2 | Train Loss 1.4989558681845665 | Train Accuracy 0.5458695652173913 | Test Loss 1.3995998272529016 | Test Accuracy 0.6075\n",
            "Epoch 3 | Train Loss 1.251665157576402 | Train Accuracy 0.6365217391304347 | Test Loss 1.1559660251323993 | Test Accuracy 0.67625\n",
            "Epoch 4 | Train Loss 1.058025526917643 | Train Accuracy 0.6972826086956522 | Test Loss 0.9694657784241897 | Test Accuracy 0.7225\n",
            "Epoch 5 | Train Loss 0.9039843107263247 | Train Accuracy 0.7416304347826087 | Test Loss 0.8749451637268066 | Test Accuracy 0.755\n",
            "Epoch 6 | Train Loss 0.8085913892007537 | Train Accuracy 0.7655434782608695 | Test Loss 0.7941968945356516 | Test Accuracy 0.765\n",
            "Epoch 7 | Train Loss 0.74166949879792 | Train Accuracy 0.7819565217391304 | Test Loss 0.7242035269737244 | Test Accuracy 0.7825\n",
            "Epoch 8 | Train Loss 0.6835984751168225 | Train Accuracy 0.8023913043478261 | Test Loss 0.6733803519835839 | Test Accuracy 0.795\n",
            "Epoch 9 | Train Loss 0.6391550606737534 | Train Accuracy 0.8165217391304348 | Test Loss 0.6521014983837421 | Test Accuracy 0.80375\n",
            "Epoch 10 | Train Loss 0.6063192557129595 | Train Accuracy 0.8233695652173914 | Test Loss 0.6402453390451578 | Test Accuracy 0.815\n",
            "Epoch 11 | Train Loss 0.5642704752584299 | Train Accuracy 0.8358695652173913 | Test Loss 0.6119410579021161 | Test Accuracy 0.82625\n",
            "Epoch 12 | Train Loss 0.542511805271109 | Train Accuracy 0.842391304347826 | Test Loss 0.56640441601093 | Test Accuracy 0.82625\n",
            "Epoch 13 | Train Loss 0.5200293402497967 | Train Accuracy 0.8475 | Test Loss 0.5654518375029931 | Test Accuracy 0.8375\n",
            "Epoch 14 | Train Loss 0.49631726472742027 | Train Accuracy 0.8572826086956522 | Test Loss 0.5374981302481431 | Test Accuracy 0.8425\n",
            "Epoch 15 | Train Loss 0.4786571094559299 | Train Accuracy 0.8626086956521739 | Test Loss 0.4984061259489793 | Test Accuracy 0.85625\n",
            "Epoch 16 | Train Loss 0.4542386315556036 | Train Accuracy 0.8705434782608695 | Test Loss 0.48406447814061093 | Test Accuracy 0.86375\n",
            "Epoch 17 | Train Loss 0.44471650073925656 | Train Accuracy 0.8725 | Test Loss 0.466628365791761 | Test Accuracy 0.87125\n",
            "Epoch 18 | Train Loss 0.4276124946773052 | Train Accuracy 0.8757608695652174 | Test Loss 0.4727071707065289 | Test Accuracy 0.8725\n",
            "Epoch 19 | Train Loss 0.41319576112760437 | Train Accuracy 0.8846739130434783 | Test Loss 0.46616720350889057 | Test Accuracy 0.86875\n",
            "Epoch 20 | Train Loss 0.3985913998136918 | Train Accuracy 0.888804347826087 | Test Loss 0.4676447671193343 | Test Accuracy 0.86375\n",
            "Epoch 21 | Train Loss 0.38816165060011876 | Train Accuracy 0.8916304347826087 | Test Loss 0.43409208151010364 | Test Accuracy 0.87125\n",
            "Epoch 22 | Train Loss 0.3738710451353755 | Train Accuracy 0.8967391304347826 | Test Loss 0.4495997234032704 | Test Accuracy 0.8625\n",
            "Epoch 23 | Train Loss 0.36411684358285534 | Train Accuracy 0.898804347826087 | Test Loss 0.43936561391903806 | Test Accuracy 0.86875\n",
            "Validation accuracy did not improve for several epochs. Stopping early.\n",
            "Epoch 0 | Train Loss 2.0944301726089583 | Train Accuracy 0.24554347826086956 | Test Loss 1.8364234154040997 | Test Accuracy 0.35875\n",
            "Epoch 1 | Train Loss 1.7053080275654793 | Train Accuracy 0.3948913043478261 | Test Loss 1.5369122853645911 | Test Accuracy 0.4975\n",
            "Epoch 2 | Train Loss 1.421890685127841 | Train Accuracy 0.5439130434782609 | Test Loss 1.3325761281527007 | Test Accuracy 0.595\n",
            "Epoch 3 | Train Loss 1.1943251606490877 | Train Accuracy 0.6463043478260869 | Test Loss 1.154742873631991 | Test Accuracy 0.65\n",
            "Epoch 4 | Train Loss 1.0285537052485678 | Train Accuracy 0.701304347826087 | Test Loss 1.0305305123329163 | Test Accuracy 0.69875\n",
            "Epoch 5 | Train Loss 0.9002661460803615 | Train Accuracy 0.7331521739130434 | Test Loss 0.9330823283929092 | Test Accuracy 0.71875\n",
            "Epoch 6 | Train Loss 0.7988470267090533 | Train Accuracy 0.7594565217391305 | Test Loss 0.8362892682735736 | Test Accuracy 0.73375\n",
            "Epoch 7 | Train Loss 0.7196367157416211 | Train Accuracy 0.7815217391304348 | Test Loss 0.7738041900671445 | Test Accuracy 0.76125\n",
            "Epoch 8 | Train Loss 0.661765715935164 | Train Accuracy 0.8004347826086956 | Test Loss 0.7336327777459071 | Test Accuracy 0.775\n",
            "Epoch 9 | Train Loss 0.6150485213018126 | Train Accuracy 0.8138043478260869 | Test Loss 0.6987936748908117 | Test Accuracy 0.78375\n",
            "Epoch 10 | Train Loss 0.5806439142260287 | Train Accuracy 0.827391304347826 | Test Loss 0.6774719265791086 | Test Accuracy 0.78875\n",
            "Epoch 11 | Train Loss 0.5493109083424011 | Train Accuracy 0.8364130434782608 | Test Loss 0.6532542338738074 | Test Accuracy 0.7975\n",
            "Epoch 12 | Train Loss 0.522065551744567 | Train Accuracy 0.8466304347826087 | Test Loss 0.6580994335504678 | Test Accuracy 0.79625\n",
            "Epoch 13 | Train Loss 0.5014321094171869 | Train Accuracy 0.8508695652173913 | Test Loss 0.622467272556745 | Test Accuracy 0.80875\n",
            "Epoch 14 | Train Loss 0.48160538925892776 | Train Accuracy 0.8592391304347826 | Test Loss 0.5799881976384383 | Test Accuracy 0.815\n",
            "Epoch 15 | Train Loss 0.46314122589925927 | Train Accuracy 0.8668478260869565 | Test Loss 0.5710004476400522 | Test Accuracy 0.81125\n",
            "Epoch 16 | Train Loss 0.4475969390736686 | Train Accuracy 0.8714130434782609 | Test Loss 0.5805240411024827 | Test Accuracy 0.82625\n",
            "Epoch 17 | Train Loss 0.43616610920677584 | Train Accuracy 0.8745652173913043 | Test Loss 0.54914613870474 | Test Accuracy 0.8325\n",
            "Epoch 18 | Train Loss 0.426192457580732 | Train Accuracy 0.8780434782608696 | Test Loss 0.5424526585982397 | Test Accuracy 0.8375\n",
            "Epoch 19 | Train Loss 0.4158275831076834 | Train Accuracy 0.8802173913043478 | Test Loss 0.5334167870191427 | Test Accuracy 0.84125\n",
            "Epoch 20 | Train Loss 0.4065295026327173 | Train Accuracy 0.8844565217391305 | Test Loss 0.5499281711303271 | Test Accuracy 0.8425\n",
            "Epoch 21 | Train Loss 0.39535994620786774 | Train Accuracy 0.8869565217391304 | Test Loss 0.5360637146693009 | Test Accuracy 0.84375\n",
            "Epoch 22 | Train Loss 0.38446164182904696 | Train Accuracy 0.8908695652173914 | Test Loss 0.4976237599666302 | Test Accuracy 0.84875\n",
            "Epoch 23 | Train Loss 0.3711555967521336 | Train Accuracy 0.8940217391304348 | Test Loss 0.48771412670612335 | Test Accuracy 0.85375\n",
            "Epoch 24 | Train Loss 0.3644340279408627 | Train Accuracy 0.8971739130434783 | Test Loss 0.45824237397083867 | Test Accuracy 0.86375\n",
            "Epoch 25 | Train Loss 0.3567171979488598 | Train Accuracy 0.8996739130434782 | Test Loss 0.4689057973714975 | Test Accuracy 0.86125\n",
            "Epoch 26 | Train Loss 0.3550339523288939 | Train Accuracy 0.9009782608695652 | Test Loss 0.4467788075025265 | Test Accuracy 0.86875\n",
            "Epoch 27 | Train Loss 0.34815594848866266 | Train Accuracy 0.9023913043478261 | Test Loss 0.4576932719120613 | Test Accuracy 0.86625\n",
            "Epoch 28 | Train Loss 0.3406841064699822 | Train Accuracy 0.9053260869565217 | Test Loss 0.4494066857374631 | Test Accuracy 0.8675\n",
            "Epoch 29 | Train Loss 0.3341662979995211 | Train Accuracy 0.9072826086956521 | Test Loss 0.4537338006954927 | Test Accuracy 0.86875\n",
            "Epoch 30 | Train Loss 0.3296958278450701 | Train Accuracy 0.9084782608695652 | Test Loss 0.4509485065937042 | Test Accuracy 0.87\n",
            "Epoch 31 | Train Loss 0.32218105371834505 | Train Accuracy 0.9108695652173913 | Test Loss 0.44003260823396534 | Test Accuracy 0.87625\n",
            "Epoch 32 | Train Loss 0.3143007958100902 | Train Accuracy 0.915 | Test Loss 0.47078314194312465 | Test Accuracy 0.8725\n",
            "Epoch 33 | Train Loss 0.30881750200771624 | Train Accuracy 0.9160869565217391 | Test Loss 0.4279800813931685 | Test Accuracy 0.88375\n",
            "Epoch 34 | Train Loss 0.30459722767894465 | Train Accuracy 0.9170652173913043 | Test Loss 0.4181545273615764 | Test Accuracy 0.88625\n",
            "Epoch 35 | Train Loss 0.3024670567570461 | Train Accuracy 0.9177173913043478 | Test Loss 0.4260049725954349 | Test Accuracy 0.87625\n",
            "Epoch 36 | Train Loss 0.29638340122376877 | Train Accuracy 0.92 | Test Loss 0.43687663628504825 | Test Accuracy 0.8775\n",
            "Epoch 37 | Train Loss 0.2948659534255664 | Train Accuracy 0.9211956521739131 | Test Loss 0.4421959129663614 | Test Accuracy 0.88125\n",
            "Epoch 38 | Train Loss 0.28872078512277866 | Train Accuracy 0.9223913043478261 | Test Loss 0.4275720360187384 | Test Accuracy 0.88375\n",
            "Epoch 39 | Train Loss 0.2833844515908923 | Train Accuracy 0.9248913043478261 | Test Loss 0.4142051614247836 | Test Accuracy 0.8875\n",
            "Epoch 0 | Train Loss 2.081443732811345 | Train Accuracy 0.3006521739130435 | Test Loss 1.8960617047089796 | Test Accuracy 0.40375\n",
            "Epoch 1 | Train Loss 1.6261089965701103 | Train Accuracy 0.49869565217391304 | Test Loss 1.4976399403352003 | Test Accuracy 0.545\n",
            "Epoch 2 | Train Loss 1.297958464258247 | Train Accuracy 0.5988043478260869 | Test Loss 1.257438824726985 | Test Accuracy 0.57125\n",
            "Epoch 3 | Train Loss 1.1064237066441112 | Train Accuracy 0.6454347826086957 | Test Loss 1.0689041706231923 | Test Accuracy 0.6525\n",
            "Epoch 4 | Train Loss 0.9774368703365326 | Train Accuracy 0.6851086956521739 | Test Loss 0.9896139594224783 | Test Accuracy 0.68875\n",
            "Epoch 5 | Train Loss 0.8821197479135461 | Train Accuracy 0.7321739130434782 | Test Loss 0.8849671758138217 | Test Accuracy 0.725\n",
            "Epoch 6 | Train Loss 0.7976278418468105 | Train Accuracy 0.7631521739130435 | Test Loss 0.779716317470257 | Test Accuracy 0.75625\n",
            "Epoch 7 | Train Loss 0.7255658176210191 | Train Accuracy 0.7855434782608696 | Test Loss 0.730150241118211 | Test Accuracy 0.78875\n",
            "Epoch 8 | Train Loss 0.6714545451104641 | Train Accuracy 0.7993478260869565 | Test Loss 0.6831754446029663 | Test Accuracy 0.80375\n",
            "Epoch 9 | Train Loss 0.6334549072715971 | Train Accuracy 0.8089130434782609 | Test Loss 0.6261566785665659 | Test Accuracy 0.81625\n",
            "Epoch 10 | Train Loss 0.5966302754564418 | Train Accuracy 0.8194565217391304 | Test Loss 0.6007179480332595 | Test Accuracy 0.8325\n",
            "Epoch 11 | Train Loss 0.5622514101366202 | Train Accuracy 0.8360869565217391 | Test Loss 0.5753523592765515 | Test Accuracy 0.8325\n",
            "Epoch 12 | Train Loss 0.5376184305383099 | Train Accuracy 0.841195652173913 | Test Loss 0.5386661440134048 | Test Accuracy 0.84375\n",
            "Epoch 13 | Train Loss 0.5133887285159694 | Train Accuracy 0.8489130434782609 | Test Loss 0.528926262488732 | Test Accuracy 0.85375\n",
            "Epoch 14 | Train Loss 0.49529921346240574 | Train Accuracy 0.8541304347826087 | Test Loss 0.5229774644741645 | Test Accuracy 0.83875\n",
            "Epoch 15 | Train Loss 0.4787287736932437 | Train Accuracy 0.8598913043478261 | Test Loss 0.49590325126281154 | Test Accuracy 0.86125\n",
            "Epoch 16 | Train Loss 0.4638660109291474 | Train Accuracy 0.865 | Test Loss 0.500616348706759 | Test Accuracy 0.84875\n",
            "Epoch 17 | Train Loss 0.45057338424440885 | Train Accuracy 0.8679347826086956 | Test Loss 0.4906668021128728 | Test Accuracy 0.85375\n",
            "Epoch 18 | Train Loss 0.43278560673611033 | Train Accuracy 0.8722826086956522 | Test Loss 0.4549687241132443 | Test Accuracy 0.86375\n",
            "Epoch 19 | Train Loss 0.421919044935041 | Train Accuracy 0.8751086956521739 | Test Loss 0.4678633144268623 | Test Accuracy 0.8625\n",
            "Epoch 20 | Train Loss 0.4135337674783336 | Train Accuracy 0.8782608695652174 | Test Loss 0.46991522037065947 | Test Accuracy 0.85875\n",
            "Epoch 21 | Train Loss 0.4072996366562115 | Train Accuracy 0.8801086956521739 | Test Loss 0.4660923985334543 | Test Accuracy 0.86875\n",
            "Epoch 22 | Train Loss 0.3989631866829263 | Train Accuracy 0.8821739130434783 | Test Loss 0.4277619948753944 | Test Accuracy 0.8725\n",
            "Epoch 23 | Train Loss 0.3909540542711814 | Train Accuracy 0.8856521739130435 | Test Loss 0.4185161693738057 | Test Accuracy 0.87125\n",
            "Epoch 24 | Train Loss 0.3803540680350529 | Train Accuracy 0.8896739130434783 | Test Loss 0.4276400070924025 | Test Accuracy 0.875\n",
            "Epoch 25 | Train Loss 0.3753647692501545 | Train Accuracy 0.8926086956521739 | Test Loss 0.42294848423737746 | Test Accuracy 0.87\n",
            "Epoch 26 | Train Loss 0.3654756602934665 | Train Accuracy 0.8941304347826087 | Test Loss 0.38873301217189205 | Test Accuracy 0.8825\n",
            "Epoch 27 | Train Loss 0.3615560096999009 | Train Accuracy 0.8953260869565217 | Test Loss 0.4074160548356863 | Test Accuracy 0.87625\n",
            "Epoch 28 | Train Loss 0.3516602731930713 | Train Accuracy 0.8985869565217391 | Test Loss 0.4115748279369794 | Test Accuracy 0.87125\n",
            "Epoch 29 | Train Loss 0.34713025277273524 | Train Accuracy 0.8991304347826087 | Test Loss 0.3963039288154015 | Test Accuracy 0.88125\n",
            "Epoch 30 | Train Loss 0.339608572009537 | Train Accuracy 0.9025 | Test Loss 0.38690526210344756 | Test Accuracy 0.88375\n",
            "Epoch 31 | Train Loss 0.3351990584697988 | Train Accuracy 0.9045652173913044 | Test Loss 0.39166549421273744 | Test Accuracy 0.88625\n",
            "Epoch 32 | Train Loss 0.3280035305975212 | Train Accuracy 0.9084782608695652 | Test Loss 0.40029281263168043 | Test Accuracy 0.875\n",
            "Epoch 33 | Train Loss 0.3246851370980342 | Train Accuracy 0.9080434782608696 | Test Loss 0.37444481597496915 | Test Accuracy 0.88375\n",
            "Epoch 34 | Train Loss 0.317893925588578 | Train Accuracy 0.91 | Test Loss 0.38280544028832364 | Test Accuracy 0.8825\n",
            "Epoch 35 | Train Loss 0.30917009540523094 | Train Accuracy 0.9097826086956522 | Test Loss 0.3755882244843703 | Test Accuracy 0.8825\n",
            "Epoch 36 | Train Loss 0.30492764799338246 | Train Accuracy 0.9127173913043478 | Test Loss 0.3542131638297668 | Test Accuracy 0.89375\n",
            "Epoch 37 | Train Loss 0.3029344491143193 | Train Accuracy 0.9145652173913044 | Test Loss 0.3620491807277386 | Test Accuracy 0.89125\n",
            "Epoch 38 | Train Loss 0.29987530948387253 | Train Accuracy 0.9146739130434782 | Test Loss 0.3554086914429298 | Test Accuracy 0.8975\n",
            "Epoch 39 | Train Loss 0.29050915305399233 | Train Accuracy 0.9178260869565218 | Test Loss 0.3554786374935737 | Test Accuracy 0.8975\n",
            "Epoch 0 | Train Loss 2.109844852652815 | Train Accuracy 0.273804347826087 | Test Loss 1.869367003440857 | Test Accuracy 0.4125\n",
            "Epoch 1 | Train Loss 1.681796779235204 | Train Accuracy 0.5009782608695652 | Test Loss 1.493462745959942 | Test Accuracy 0.5525\n",
            "Epoch 2 | Train Loss 1.376181325978703 | Train Accuracy 0.5857608695652174 | Test Loss 1.2503319336817815 | Test Accuracy 0.61375\n",
            "Epoch 3 | Train Loss 1.1722179522944822 | Train Accuracy 0.6478260869565218 | Test Loss 1.0934833379892201 | Test Accuracy 0.67\n",
            "Epoch 4 | Train Loss 1.0253440646661653 | Train Accuracy 0.6926086956521739 | Test Loss 0.9803713605954096 | Test Accuracy 0.7125\n",
            "Epoch 5 | Train Loss 0.9319966009093655 | Train Accuracy 0.7202173913043478 | Test Loss 0.9152801449482257 | Test Accuracy 0.725\n",
            "Epoch 6 | Train Loss 0.8532286311189333 | Train Accuracy 0.740108695652174 | Test Loss 0.8348635205855737 | Test Accuracy 0.73\n",
            "Epoch 7 | Train Loss 0.7890555436412493 | Train Accuracy 0.7583695652173913 | Test Loss 0.824144537632282 | Test Accuracy 0.7375\n",
            "Epoch 8 | Train Loss 0.7421409036550257 | Train Accuracy 0.773804347826087 | Test Loss 0.7889509292749258 | Test Accuracy 0.74875\n",
            "Epoch 9 | Train Loss 0.7043632372385926 | Train Accuracy 0.7845652173913044 | Test Loss 0.743550717830658 | Test Accuracy 0.765\n",
            "Epoch 10 | Train Loss 0.6747372974124219 | Train Accuracy 0.7934782608695652 | Test Loss 0.6951215404730576 | Test Accuracy 0.78125\n",
            "Epoch 11 | Train Loss 0.6444225472708544 | Train Accuracy 0.8033695652173913 | Test Loss 0.6653232413988847 | Test Accuracy 0.78875\n",
            "Epoch 12 | Train Loss 0.6160760910974609 | Train Accuracy 0.8126086956521739 | Test Loss 0.6699647903442383 | Test Accuracy 0.79125\n",
            "Epoch 13 | Train Loss 0.5906353638403945 | Train Accuracy 0.8222826086956522 | Test Loss 0.6167437594670516 | Test Accuracy 0.81125\n",
            "Epoch 14 | Train Loss 0.5683378227468994 | Train Accuracy 0.8314130434782608 | Test Loss 0.6055386754182669 | Test Accuracy 0.8225\n",
            "Epoch 15 | Train Loss 0.5506436821694175 | Train Accuracy 0.8382608695652174 | Test Loss 0.6029384525922629 | Test Accuracy 0.83625\n",
            "Epoch 16 | Train Loss 0.5321633244554201 | Train Accuracy 0.8448913043478261 | Test Loss 0.5718079025928791 | Test Accuracy 0.83\n",
            "Epoch 17 | Train Loss 0.5202251142925687 | Train Accuracy 0.8448913043478261 | Test Loss 0.5665086347323197 | Test Accuracy 0.8325\n",
            "Epoch 18 | Train Loss 0.5078377378069692 | Train Accuracy 0.8502173913043478 | Test Loss 0.558022466989664 | Test Accuracy 0.835\n",
            "Epoch 19 | Train Loss 0.49478206255783636 | Train Accuracy 0.8546739130434783 | Test Loss 0.5674499456699078 | Test Accuracy 0.83625\n",
            "Epoch 20 | Train Loss 0.48384973655144375 | Train Accuracy 0.8584782608695652 | Test Loss 0.5506943601828355 | Test Accuracy 0.8325\n",
            "Validation accuracy did not improve for several epochs. Stopping early.\n",
            "Epoch 0 | Train Loss 2.0921574748224683 | Train Accuracy 0.2426086956521739 | Test Loss 1.8938297950304472 | Test Accuracy 0.42375\n",
            "Epoch 1 | Train Loss 1.6947499149375491 | Train Accuracy 0.4781521739130435 | Test Loss 1.5457156896591187 | Test Accuracy 0.54375\n",
            "Epoch 2 | Train Loss 1.4043276177512274 | Train Accuracy 0.5867391304347827 | Test Loss 1.2740302636073186 | Test Accuracy 0.63125\n",
            "Epoch 3 | Train Loss 1.1742199920117855 | Train Accuracy 0.6606521739130434 | Test Loss 1.047797372707954 | Test Accuracy 0.70625\n",
            "Epoch 4 | Train Loss 0.9951911585198508 | Train Accuracy 0.7080434782608696 | Test Loss 0.9113653806539682 | Test Accuracy 0.735\n",
            "Epoch 5 | Train Loss 0.869892613341411 | Train Accuracy 0.7422826086956522 | Test Loss 0.8383003931779128 | Test Accuracy 0.74875\n",
            "Epoch 6 | Train Loss 0.7892177233265506 | Train Accuracy 0.7675 | Test Loss 0.7946469875482413 | Test Accuracy 0.76375\n",
            "Epoch 7 | Train Loss 0.7288907799455855 | Train Accuracy 0.7860869565217391 | Test Loss 0.7370846225665166 | Test Accuracy 0.78\n",
            "Epoch 8 | Train Loss 0.6822684812876914 | Train Accuracy 0.8030434782608695 | Test Loss 0.7248207949675046 | Test Accuracy 0.78375\n",
            "Epoch 9 | Train Loss 0.6523696834014522 | Train Accuracy 0.8122826086956522 | Test Loss 0.7017394143801469 | Test Accuracy 0.79875\n",
            "Epoch 10 | Train Loss 0.6232212802602185 | Train Accuracy 0.8208695652173913 | Test Loss 0.675042986869812 | Test Accuracy 0.81\n",
            "Epoch 11 | Train Loss 0.6022719960245821 | Train Accuracy 0.827391304347826 | Test Loss 0.6484954425921807 | Test Accuracy 0.81\n",
            "Epoch 12 | Train Loss 0.58032786887553 | Train Accuracy 0.8343478260869566 | Test Loss 0.6240991881260505 | Test Accuracy 0.8125\n",
            "Epoch 13 | Train Loss 0.5522534936252568 | Train Accuracy 0.8441304347826087 | Test Loss 0.622261778666423 | Test Accuracy 0.815\n",
            "Epoch 14 | Train Loss 0.5334554055912627 | Train Accuracy 0.8479347826086957 | Test Loss 0.6015010705360999 | Test Accuracy 0.82625\n",
            "Epoch 15 | Train Loss 0.515541215116779 | Train Accuracy 0.8526086956521739 | Test Loss 0.5563723123990573 | Test Accuracy 0.8325\n",
            "Epoch 16 | Train Loss 0.4984832118368811 | Train Accuracy 0.8602173913043478 | Test Loss 0.5741280386081109 | Test Accuracy 0.83625\n",
            "Epoch 17 | Train Loss 0.4810570716443989 | Train Accuracy 0.865108695652174 | Test Loss 0.5302584836116204 | Test Accuracy 0.84875\n",
            "Epoch 18 | Train Loss 0.46791005320847034 | Train Accuracy 0.871304347826087 | Test Loss 0.523352847649501 | Test Accuracy 0.84875\n",
            "Epoch 19 | Train Loss 0.4524806581644548 | Train Accuracy 0.8739130434782608 | Test Loss 0.5125478230989896 | Test Accuracy 0.8525\n",
            "Epoch 20 | Train Loss 0.4392689563747909 | Train Accuracy 0.8784782608695653 | Test Loss 0.5059988567462335 | Test Accuracy 0.85125\n",
            "Epoch 21 | Train Loss 0.42584466096013784 | Train Accuracy 0.8817391304347826 | Test Loss 0.47128461186702436 | Test Accuracy 0.8575\n",
            "Epoch 22 | Train Loss 0.41272804151392645 | Train Accuracy 0.8846739130434783 | Test Loss 0.46962782740592957 | Test Accuracy 0.85875\n",
            "Epoch 23 | Train Loss 0.405118725159102 | Train Accuracy 0.8892391304347826 | Test Loss 0.45218305404369646 | Test Accuracy 0.86375\n",
            "Epoch 24 | Train Loss 0.39406548378368217 | Train Accuracy 0.8917391304347826 | Test Loss 0.4751171607237596 | Test Accuracy 0.8625\n",
            "Epoch 25 | Train Loss 0.3814253221369452 | Train Accuracy 0.8930434782608696 | Test Loss 0.4663402850811298 | Test Accuracy 0.865\n",
            "Epoch 26 | Train Loss 0.37068780987626976 | Train Accuracy 0.8979347826086956 | Test Loss 0.44221537617536694 | Test Accuracy 0.86875\n",
            "Epoch 27 | Train Loss 0.3661885887073974 | Train Accuracy 0.9001086956521739 | Test Loss 0.4603077035683852 | Test Accuracy 0.86\n",
            "Epoch 28 | Train Loss 0.35675634743852747 | Train Accuracy 0.9021739130434783 | Test Loss 0.4543161346362187 | Test Accuracy 0.86375\n",
            "Epoch 29 | Train Loss 0.35097697987738585 | Train Accuracy 0.904891304347826 | Test Loss 0.44142045883031994 | Test Accuracy 0.86875\n",
            "Epoch 30 | Train Loss 0.3482886272379094 | Train Accuracy 0.9042391304347827 | Test Loss 0.4415869231407459 | Test Accuracy 0.8675\n",
            "Epoch 31 | Train Loss 0.34461409339888227 | Train Accuracy 0.9044565217391304 | Test Loss 0.4368025752214285 | Test Accuracy 0.87125\n",
            "Epoch 32 | Train Loss 0.3381540599382586 | Train Accuracy 0.9083695652173913 | Test Loss 0.43298242871577924 | Test Accuracy 0.8675\n",
            "Epoch 33 | Train Loss 0.33463028171617126 | Train Accuracy 0.9085869565217392 | Test Loss 0.42547433307537663 | Test Accuracy 0.86875\n",
            "Epoch 34 | Train Loss 0.3317255432614022 | Train Accuracy 0.9102173913043479 | Test Loss 0.4363600221964029 | Test Accuracy 0.87125\n",
            "Epoch 35 | Train Loss 0.3272213849446012 | Train Accuracy 0.9120652173913043 | Test Loss 0.41919503762171817 | Test Accuracy 0.8775\n",
            "Epoch 36 | Train Loss 0.32392240688204765 | Train Accuracy 0.9123913043478261 | Test Loss 0.4062467630092914 | Test Accuracy 0.87625\n",
            "Epoch 37 | Train Loss 0.31699976526821655 | Train Accuracy 0.913804347826087 | Test Loss 0.4157501802994655 | Test Accuracy 0.87\n",
            "Epoch 38 | Train Loss 0.31354542407724595 | Train Accuracy 0.9151086956521739 | Test Loss 0.40872902938952815 | Test Accuracy 0.8725\n",
            "Epoch 39 | Train Loss 0.3101249779574573 | Train Accuracy 0.9147826086956522 | Test Loss 0.412573632139426 | Test Accuracy 0.87\n",
            "best accuraces for test was : [0.8725, 0.8875, 0.8975, 0.83625, 0.8775]\n",
            "stddev for test was  : 0.02331174596635778\n",
            "best accuraces for test was : [0.898804347826087, 0.9248913043478261, 0.9178260869565218, 0.8584782608695652, 0.9151086956521739]\n",
            "stddev for test was  : 0.026671374919107822\n"
          ]
        }
      ]
    },
    {
      "cell_type": "code",
      "source": [
        "import numpy as np\n",
        "\n",
        "test_acc = [0.8725, 0.8875, 0.8975, 0.83625, 0.8775]\n",
        "\n",
        "np.array(test_acc).mean()"
      ],
      "metadata": {
        "colab": {
          "base_uri": "https://localhost:8080/"
        },
        "id": "Zndj3dz67F0o",
        "outputId": "85ee5707-a9cd-48fc-8072-c4cdd5b3f31c"
      },
      "execution_count": 5,
      "outputs": [
        {
          "output_type": "execute_result",
          "data": {
            "text/plain": [
              "0.87425"
            ]
          },
          "metadata": {},
          "execution_count": 5
        }
      ]
    },
    {
      "cell_type": "markdown",
      "source": [
        "# squeeze 5"
      ],
      "metadata": {
        "id": "5o6zCjipn3lr"
      }
    },
    {
      "cell_type": "code",
      "source": [
        "logssq5 = akbar(5, features)"
      ],
      "metadata": {
        "colab": {
          "base_uri": "https://localhost:8080/"
        },
        "id": "iGIuRCrbb4oF",
        "outputId": "717a115c-eb7f-4678-d21d-661830e35d8d"
      },
      "execution_count": null,
      "outputs": [
        {
          "output_type": "stream",
          "name": "stdout",
          "text": [
            "Data(x=[75, 5], edge_index=[2, 1405], y=[1], pos=[75, 2])\n",
            "Data(x=[75, 5], edge_index=[2, 1395], y=[1], pos=[75, 2])\n",
            "Starting training...\n",
            "Epoch 0 | Train Loss 2.044776117636098 | Train Accuracy 0.2966304347826087 | Test Loss 1.7313865973399236 | Test Accuracy 0.46\n",
            "Epoch 1 | Train Loss 1.5256156507465575 | Train Accuracy 0.5002173913043478 | Test Loss 1.343080080472506 | Test Accuracy 0.59375\n",
            "Epoch 2 | Train Loss 1.2646480161282752 | Train Accuracy 0.5834782608695652 | Test Loss 1.1476550973378694 | Test Accuracy 0.5925\n",
            "Epoch 3 | Train Loss 1.1391245929731264 | Train Accuracy 0.6034782608695652 | Test Loss 1.067445273582752 | Test Accuracy 0.60875\n",
            "Epoch 4 | Train Loss 1.063641607347462 | Train Accuracy 0.6240217391304348 | Test Loss 1.0057832782085125 | Test Accuracy 0.6175\n",
            "Epoch 5 | Train Loss 1.0135492831468582 | Train Accuracy 0.6478260869565218 | Test Loss 0.953297665485969 | Test Accuracy 0.685\n",
            "Epoch 6 | Train Loss 0.9731278522974915 | Train Accuracy 0.6707608695652174 | Test Loss 0.9355468704150274 | Test Accuracy 0.695\n",
            "Epoch 7 | Train Loss 0.9438141816192203 | Train Accuracy 0.6790217391304347 | Test Loss 0.9091661205658546 | Test Accuracy 0.70375\n",
            "Epoch 8 | Train Loss 0.9197125588026311 | Train Accuracy 0.6825 | Test Loss 0.8907113946401156 | Test Accuracy 0.69\n",
            "Epoch 9 | Train Loss 0.8986792717542913 | Train Accuracy 0.6892391304347826 | Test Loss 0.899630931707529 | Test Accuracy 0.69625\n",
            "Epoch 10 | Train Loss 0.884611063533359 | Train Accuracy 0.6958695652173913 | Test Loss 0.8779065929926358 | Test Accuracy 0.70375\n",
            "Epoch 11 | Train Loss 0.8739233977264829 | Train Accuracy 0.6971739130434783 | Test Loss 0.8647590554677523 | Test Accuracy 0.70375\n",
            "Epoch 12 | Train Loss 0.8658976935678058 | Train Accuracy 0.6972826086956522 | Test Loss 0.8457406667562631 | Test Accuracy 0.705\n",
            "Epoch 13 | Train Loss 0.852420673188236 | Train Accuracy 0.6976086956521739 | Test Loss 0.8521968401395358 | Test Accuracy 0.7175\n",
            "Epoch 14 | Train Loss 0.839621014893055 | Train Accuracy 0.7018478260869565 | Test Loss 0.8357926423733051 | Test Accuracy 0.70125\n",
            "Epoch 15 | Train Loss 0.8314870302047994 | Train Accuracy 0.7055434782608696 | Test Loss 0.8200084429520828 | Test Accuracy 0.71\n",
            "Epoch 16 | Train Loss 0.8221793228553401 | Train Accuracy 0.7058695652173913 | Test Loss 0.8113231658935547 | Test Accuracy 0.71625\n",
            "Epoch 17 | Train Loss 0.8115464705559943 | Train Accuracy 0.7132608695652174 | Test Loss 0.8359325207196749 | Test Accuracy 0.70625\n",
            "Epoch 18 | Train Loss 0.8053888078365061 | Train Accuracy 0.7145652173913043 | Test Loss 0.8169603897975042 | Test Accuracy 0.69375\n",
            "Validation accuracy did not improve for several epochs. Stopping early.\n",
            "Epoch 0 | Train Loss 2.070649980670876 | Train Accuracy 0.32815217391304347 | Test Loss 1.7985539711438692 | Test Accuracy 0.4725\n",
            "Epoch 1 | Train Loss 1.5597515089644327 | Train Accuracy 0.5195652173913043 | Test Loss 1.3794780052625215 | Test Accuracy 0.58\n",
            "Epoch 2 | Train Loss 1.2466478943824768 | Train Accuracy 0.6159782608695652 | Test Loss 1.1741083447749798 | Test Accuracy 0.6575\n",
            "Epoch 3 | Train Loss 1.0744767946501572 | Train Accuracy 0.6733695652173913 | Test Loss 1.0707066792708178 | Test Accuracy 0.67375\n",
            "Epoch 4 | Train Loss 0.9796634676555792 | Train Accuracy 0.6954347826086956 | Test Loss 0.9916110268005958 | Test Accuracy 0.68625\n",
            "Epoch 5 | Train Loss 0.9217797492941221 | Train Accuracy 0.7055434782608696 | Test Loss 0.9594999781021705 | Test Accuracy 0.69125\n",
            "Epoch 6 | Train Loss 0.881048746407032 | Train Accuracy 0.7164130434782608 | Test Loss 0.9154382485609788 | Test Accuracy 0.70875\n",
            "Epoch 7 | Train Loss 0.8481003000504441 | Train Accuracy 0.7219565217391304 | Test Loss 0.9236309253252469 | Test Accuracy 0.7025\n",
            "Epoch 8 | Train Loss 0.8227360174059868 | Train Accuracy 0.7332608695652174 | Test Loss 0.9210696541346036 | Test Accuracy 0.6925\n",
            "Epoch 9 | Train Loss 0.8071948260896735 | Train Accuracy 0.7416304347826087 | Test Loss 0.8949836859336266 | Test Accuracy 0.7125\n",
            "Epoch 10 | Train Loss 0.7933838450246387 | Train Accuracy 0.7455434782608695 | Test Loss 0.9007738920358511 | Test Accuracy 0.7075\n",
            "Epoch 11 | Train Loss 0.7790119610726833 | Train Accuracy 0.7457608695652174 | Test Loss 0.8765602845412034 | Test Accuracy 0.71625\n",
            "Epoch 12 | Train Loss 0.7711268530951606 | Train Accuracy 0.7495652173913043 | Test Loss 0.8900481416628911 | Test Accuracy 0.7125\n",
            "Epoch 13 | Train Loss 0.7635357435792685 | Train Accuracy 0.7522826086956522 | Test Loss 0.8745492696762085 | Test Accuracy 0.715\n",
            "Epoch 14 | Train Loss 0.7560284729633067 | Train Accuracy 0.7539130434782608 | Test Loss 0.8677671047357413 | Test Accuracy 0.71625\n",
            "Epoch 15 | Train Loss 0.746939777293139 | Train Accuracy 0.7546739130434783 | Test Loss 0.8631398265178387 | Test Accuracy 0.7125\n",
            "Epoch 16 | Train Loss 0.7415207589252127 | Train Accuracy 0.7540217391304348 | Test Loss 0.8841039079886216 | Test Accuracy 0.7175\n",
            "Epoch 17 | Train Loss 0.7358451295230124 | Train Accuracy 0.7525 | Test Loss 0.8802225085405203 | Test Accuracy 0.695\n",
            "Epoch 18 | Train Loss 0.7322484766029649 | Train Accuracy 0.7563043478260869 | Test Loss 0.8644369473824134 | Test Accuracy 0.71875\n",
            "Epoch 19 | Train Loss 0.7310042226066192 | Train Accuracy 0.7545652173913043 | Test Loss 0.8546991027318515 | Test Accuracy 0.72125\n",
            "Epoch 20 | Train Loss 0.7284842435684469 | Train Accuracy 0.7566304347826087 | Test Loss 0.8426130230610187 | Test Accuracy 0.72625\n",
            "Epoch 21 | Train Loss 0.7250541411340237 | Train Accuracy 0.758804347826087 | Test Loss 0.8585433042966403 | Test Accuracy 0.7075\n",
            "Epoch 22 | Train Loss 0.7216694553693136 | Train Accuracy 0.7596739130434783 | Test Loss 0.8519192108741174 | Test Accuracy 0.7175\n",
            "Epoch 23 | Train Loss 0.7207950811005301 | Train Accuracy 0.758695652173913 | Test Loss 0.866375235410837 | Test Accuracy 0.7075\n",
            "Epoch 24 | Train Loss 0.7179289085583554 | Train Accuracy 0.7630434782608696 | Test Loss 0.8700526219147903 | Test Accuracy 0.7\n",
            "Epoch 25 | Train Loss 0.7161893521746 | Train Accuracy 0.7585869565217391 | Test Loss 0.8744276303511399 | Test Accuracy 0.7025\n",
            "Validation accuracy did not improve for several epochs. Stopping early.\n",
            "Epoch 0 | Train Loss 2.067852837344011 | Train Accuracy 0.2490217391304348 | Test Loss 1.7677899048878596 | Test Accuracy 0.3675\n",
            "Epoch 1 | Train Loss 1.5752378958794806 | Train Accuracy 0.47358695652173916 | Test Loss 1.3651173573273878 | Test Accuracy 0.5275\n",
            "Epoch 2 | Train Loss 1.29189090596305 | Train Accuracy 0.5791304347826087 | Test Loss 1.1934349628595204 | Test Accuracy 0.58375\n",
            "Epoch 3 | Train Loss 1.150572780933645 | Train Accuracy 0.6156521739130435 | Test Loss 1.0917738538521986 | Test Accuracy 0.6\n",
            "Epoch 4 | Train Loss 1.0698675587773323 | Train Accuracy 0.6427173913043478 | Test Loss 1.0283508942677424 | Test Accuracy 0.61\n",
            "Epoch 5 | Train Loss 1.0100909993052483 | Train Accuracy 0.6568478260869566 | Test Loss 0.9671069383621216 | Test Accuracy 0.655\n",
            "Epoch 6 | Train Loss 0.9686650902860694 | Train Accuracy 0.6771739130434783 | Test Loss 0.9232206894801214 | Test Accuracy 0.66125\n",
            "Epoch 7 | Train Loss 0.9298404302034113 | Train Accuracy 0.6907608695652174 | Test Loss 0.8767444674785321 | Test Accuracy 0.68125\n",
            "Epoch 8 | Train Loss 0.893606696691778 | Train Accuracy 0.7055434782608696 | Test Loss 0.8665965291169974 | Test Accuracy 0.6825\n",
            "Epoch 9 | Train Loss 0.8725125309493806 | Train Accuracy 0.7151086956521739 | Test Loss 0.8492184373048636 | Test Accuracy 0.69125\n",
            "Epoch 10 | Train Loss 0.8549892904443873 | Train Accuracy 0.7190217391304348 | Test Loss 0.8147808405069205 | Test Accuracy 0.69875\n",
            "Epoch 11 | Train Loss 0.8355570367226998 | Train Accuracy 0.7217391304347827 | Test Loss 0.8182449249120859 | Test Accuracy 0.695\n",
            "Epoch 12 | Train Loss 0.8199807376497321 | Train Accuracy 0.7292391304347826 | Test Loss 0.787372309427995 | Test Accuracy 0.6925\n",
            "Epoch 13 | Train Loss 0.8102149423211813 | Train Accuracy 0.731195652173913 | Test Loss 0.7784027548936697 | Test Accuracy 0.70625\n",
            "Epoch 14 | Train Loss 0.7999773131062587 | Train Accuracy 0.7358695652173913 | Test Loss 0.7558997273445129 | Test Accuracy 0.7\n",
            "Epoch 15 | Train Loss 0.7892450698547893 | Train Accuracy 0.7389130434782609 | Test Loss 0.7607482029841497 | Test Accuracy 0.70125\n",
            "Epoch 16 | Train Loss 0.7790765046245522 | Train Accuracy 0.7409782608695652 | Test Loss 0.7555599625294025 | Test Accuracy 0.70625\n",
            "Epoch 17 | Train Loss 0.7741546299722459 | Train Accuracy 0.7419565217391304 | Test Loss 0.7443636793356675 | Test Accuracy 0.70625\n",
            "Epoch 18 | Train Loss 0.7691863798018959 | Train Accuracy 0.7436956521739131 | Test Loss 0.7424066204291123 | Test Accuracy 0.71125\n",
            "Epoch 19 | Train Loss 0.7623524514751302 | Train Accuracy 0.7465217391304347 | Test Loss 0.7378058525232168 | Test Accuracy 0.70625\n",
            "Epoch 20 | Train Loss 0.7564780157473352 | Train Accuracy 0.7470652173913044 | Test Loss 0.7326081670247592 | Test Accuracy 0.71875\n",
            "Epoch 21 | Train Loss 0.7497866708371375 | Train Accuracy 0.7486956521739131 | Test Loss 0.7301782553012555 | Test Accuracy 0.71125\n",
            "Epoch 22 | Train Loss 0.7469188411616616 | Train Accuracy 0.7479347826086956 | Test Loss 0.7337049154134897 | Test Accuracy 0.71375\n",
            "Epoch 23 | Train Loss 0.740675300359726 | Train Accuracy 0.7521739130434782 | Test Loss 0.7309439411530128 | Test Accuracy 0.71625\n",
            "Epoch 24 | Train Loss 0.7350623653166823 | Train Accuracy 0.7543478260869565 | Test Loss 0.7450555287874662 | Test Accuracy 0.7175\n",
            "Epoch 25 | Train Loss 0.7323148118125068 | Train Accuracy 0.753804347826087 | Test Loss 0.7571744804198925 | Test Accuracy 0.72375\n",
            "Epoch 26 | Train Loss 0.729244471838077 | Train Accuracy 0.7558695652173913 | Test Loss 0.7323808899292579 | Test Accuracy 0.72375\n",
            "Epoch 27 | Train Loss 0.723923492555817 | Train Accuracy 0.7571739130434783 | Test Loss 0.7287949048555814 | Test Accuracy 0.72625\n",
            "Epoch 28 | Train Loss 0.7220247979793284 | Train Accuracy 0.7593478260869565 | Test Loss 0.7276746149246509 | Test Accuracy 0.72375\n",
            "Epoch 29 | Train Loss 0.7174348303427299 | Train Accuracy 0.7605434782608695 | Test Loss 0.7246352846805866 | Test Accuracy 0.7275\n",
            "Epoch 30 | Train Loss 0.7134409408188529 | Train Accuracy 0.7621739130434783 | Test Loss 0.7322178207910978 | Test Accuracy 0.72875\n",
            "Epoch 31 | Train Loss 0.7113869566884305 | Train Accuracy 0.7645652173913043 | Test Loss 0.7481161080873929 | Test Accuracy 0.73125\n",
            "Epoch 32 | Train Loss 0.710393973522716 | Train Accuracy 0.763804347826087 | Test Loss 0.7226077455740708 | Test Accuracy 0.73125\n",
            "Epoch 33 | Train Loss 0.7056404300447967 | Train Accuracy 0.7660869565217391 | Test Loss 0.7430357336997986 | Test Accuracy 0.73375\n",
            "Epoch 34 | Train Loss 0.7007880651702484 | Train Accuracy 0.7682608695652174 | Test Loss 0.7246445279854995 | Test Accuracy 0.73125\n",
            "Epoch 35 | Train Loss 0.6991311100622019 | Train Accuracy 0.7706521739130435 | Test Loss 0.7266703431422894 | Test Accuracy 0.74375\n",
            "Epoch 36 | Train Loss 0.7005458991560671 | Train Accuracy 0.7682608695652174 | Test Loss 0.7349276267565213 | Test Accuracy 0.73875\n",
            "Epoch 37 | Train Loss 0.6963150896545913 | Train Accuracy 0.7695652173913043 | Test Loss 0.7351164909509512 | Test Accuracy 0.73625\n",
            "Epoch 38 | Train Loss 0.6954205081694655 | Train Accuracy 0.7701086956521739 | Test Loss 0.7320794188059293 | Test Accuracy 0.74625\n",
            "Epoch 39 | Train Loss 0.6896725023786227 | Train Accuracy 0.7708695652173913 | Test Loss 0.7192248381101168 | Test Accuracy 0.74125\n",
            "Epoch 0 | Train Loss 2.098527458806833 | Train Accuracy 0.2801086956521739 | Test Loss 1.8082379194406362 | Test Accuracy 0.48125\n",
            "Epoch 1 | Train Loss 1.5656219497323036 | Train Accuracy 0.5534782608695652 | Test Loss 1.3421870836844811 | Test Accuracy 0.635\n",
            "Epoch 2 | Train Loss 1.200495332479477 | Train Accuracy 0.639891304347826 | Test Loss 1.0700724675105169 | Test Accuracy 0.66375\n",
            "Epoch 3 | Train Loss 1.0176108649207487 | Train Accuracy 0.667608695652174 | Test Loss 0.9510343808394212 | Test Accuracy 0.68625\n",
            "Epoch 4 | Train Loss 0.9252565407918559 | Train Accuracy 0.6960869565217391 | Test Loss 0.8679128564321078 | Test Accuracy 0.6875\n",
            "Epoch 5 | Train Loss 0.8729560689793693 | Train Accuracy 0.7154347826086956 | Test Loss 0.8476107579011184 | Test Accuracy 0.68625\n",
            "Epoch 6 | Train Loss 0.8438729283710321 | Train Accuracy 0.7191304347826087 | Test Loss 0.816407166994535 | Test Accuracy 0.70125\n",
            "Epoch 7 | Train Loss 0.8210473677350415 | Train Accuracy 0.7241304347826087 | Test Loss 0.8029671678176293 | Test Accuracy 0.70125\n",
            "Epoch 8 | Train Loss 0.8057138936387168 | Train Accuracy 0.7254347826086956 | Test Loss 0.7665251676852887 | Test Accuracy 0.70625\n",
            "Epoch 9 | Train Loss 0.7945997785362933 | Train Accuracy 0.7288043478260869 | Test Loss 0.7756446233162513 | Test Accuracy 0.7075\n",
            "Epoch 10 | Train Loss 0.7849458584354984 | Train Accuracy 0.7307608695652174 | Test Loss 0.7658766278853784 | Test Accuracy 0.71375\n",
            "Epoch 11 | Train Loss 0.779368677486976 | Train Accuracy 0.7331521739130434 | Test Loss 0.7653638628812937 | Test Accuracy 0.71\n",
            "Epoch 12 | Train Loss 0.7736910335305665 | Train Accuracy 0.7325 | Test Loss 0.7369973613665655 | Test Accuracy 0.7175\n",
            "Epoch 13 | Train Loss 0.7684669122099876 | Train Accuracy 0.7358695652173913 | Test Loss 0.7371886235017043 | Test Accuracy 0.7225\n",
            "Epoch 14 | Train Loss 0.760366384146942 | Train Accuracy 0.7354347826086957 | Test Loss 0.7402736865557157 | Test Accuracy 0.73\n",
            "Epoch 15 | Train Loss 0.7546308268275526 | Train Accuracy 0.7384782608695653 | Test Loss 0.7298922813855685 | Test Accuracy 0.73125\n",
            "Epoch 16 | Train Loss 0.7510065920650959 | Train Accuracy 0.7427173913043478 | Test Loss 0.707314344552847 | Test Accuracy 0.7325\n",
            "Epoch 17 | Train Loss 0.74944392281274 | Train Accuracy 0.7431521739130434 | Test Loss 0.7263907331686753 | Test Accuracy 0.7275\n",
            "Epoch 18 | Train Loss 0.7434358576105701 | Train Accuracy 0.7446739130434783 | Test Loss 0.7154842798526471 | Test Accuracy 0.73\n",
            "Epoch 19 | Train Loss 0.7416773262537188 | Train Accuracy 0.7495652173913043 | Test Loss 0.7230689846552335 | Test Accuracy 0.74125\n",
            "Epoch 20 | Train Loss 0.7360498004903396 | Train Accuracy 0.7496739130434783 | Test Loss 0.7203269463319045 | Test Accuracy 0.74375\n",
            "Epoch 21 | Train Loss 0.7323505743924115 | Train Accuracy 0.7519565217391304 | Test Loss 0.7252300748458276 | Test Accuracy 0.7325\n",
            "Epoch 22 | Train Loss 0.7288844090782933 | Train Accuracy 0.7539130434782608 | Test Loss 0.7316817182760972 | Test Accuracy 0.73125\n",
            "Epoch 23 | Train Loss 0.7252511839485831 | Train Accuracy 0.7567391304347826 | Test Loss 0.735091534944681 | Test Accuracy 0.7275\n",
            "Epoch 24 | Train Loss 0.7256051645510726 | Train Accuracy 0.756195652173913 | Test Loss 0.7053400461490338 | Test Accuracy 0.7375\n",
            "Epoch 25 | Train Loss 0.7215391058060858 | Train Accuracy 0.7566304347826087 | Test Loss 0.7161474961500901 | Test Accuracy 0.7375\n",
            "Validation accuracy did not improve for several epochs. Stopping early.\n",
            "Epoch 0 | Train Loss 2.0195281902949014 | Train Accuracy 0.24369565217391304 | Test Loss 1.7681596645942101 | Test Accuracy 0.42375\n",
            "Epoch 1 | Train Loss 1.6000090307659574 | Train Accuracy 0.481195652173913 | Test Loss 1.4838938529674823 | Test Accuracy 0.49875\n",
            "Epoch 2 | Train Loss 1.3429087772965431 | Train Accuracy 0.5846739130434783 | Test Loss 1.2470760620557344 | Test Accuracy 0.60625\n",
            "Epoch 3 | Train Loss 1.1607756142814953 | Train Accuracy 0.6265217391304347 | Test Loss 1.118014083458827 | Test Accuracy 0.6425\n",
            "Epoch 4 | Train Loss 1.067950754115979 | Train Accuracy 0.6466304347826087 | Test Loss 1.0439130893120399 | Test Accuracy 0.64875\n",
            "Epoch 5 | Train Loss 1.0144786565668054 | Train Accuracy 0.6613043478260869 | Test Loss 1.0165256903721736 | Test Accuracy 0.68375\n",
            "Epoch 6 | Train Loss 0.9768117633130815 | Train Accuracy 0.6751086956521739 | Test Loss 0.97960731616387 | Test Accuracy 0.68625\n",
            "Epoch 7 | Train Loss 0.9553186458845934 | Train Accuracy 0.6721739130434783 | Test Loss 0.962858640230619 | Test Accuracy 0.6875\n",
            "Epoch 8 | Train Loss 0.9349586437973711 | Train Accuracy 0.6818478260869565 | Test Loss 0.9388668537139893 | Test Accuracy 0.68625\n",
            "Epoch 9 | Train Loss 0.9189768309394518 | Train Accuracy 0.686304347826087 | Test Loss 0.9357088804244995 | Test Accuracy 0.69\n",
            "Epoch 10 | Train Loss 0.9076189262171587 | Train Accuracy 0.6879347826086957 | Test Loss 0.9316317393229558 | Test Accuracy 0.69375\n",
            "Epoch 11 | Train Loss 0.8991314334173998 | Train Accuracy 0.6908695652173913 | Test Loss 0.9295632701653701 | Test Accuracy 0.7\n",
            "Epoch 12 | Train Loss 0.8910688182546033 | Train Accuracy 0.6928260869565217 | Test Loss 0.9267794352311355 | Test Accuracy 0.69875\n",
            "Epoch 13 | Train Loss 0.8810698067148527 | Train Accuracy 0.6957608695652174 | Test Loss 0.8951006119067852 | Test Accuracy 0.70375\n",
            "Epoch 14 | Train Loss 0.8755684275594022 | Train Accuracy 0.7019565217391305 | Test Loss 0.8814130838100727 | Test Accuracy 0.705\n",
            "Epoch 15 | Train Loss 0.8677879687812593 | Train Accuracy 0.6988043478260869 | Test Loss 0.9032911062240601 | Test Accuracy 0.70375\n",
            "Epoch 16 | Train Loss 0.8636678502791457 | Train Accuracy 0.6983695652173914 | Test Loss 0.8875078513072088 | Test Accuracy 0.7075\n",
            "Epoch 17 | Train Loss 0.8551787738170888 | Train Accuracy 0.7046739130434783 | Test Loss 0.883544752231011 | Test Accuracy 0.71\n",
            "Epoch 18 | Train Loss 0.8503215221895112 | Train Accuracy 0.7042391304347826 | Test Loss 0.8582736941484305 | Test Accuracy 0.71125\n",
            "Epoch 19 | Train Loss 0.8447356671094894 | Train Accuracy 0.7058695652173913 | Test Loss 0.8567767922694867 | Test Accuracy 0.71125\n",
            "Epoch 20 | Train Loss 0.8380512758675549 | Train Accuracy 0.7092391304347826 | Test Loss 0.8554550225918109 | Test Accuracy 0.7075\n",
            "Epoch 21 | Train Loss 0.8290943263305558 | Train Accuracy 0.7116304347826087 | Test Loss 0.8382018300203177 | Test Accuracy 0.7225\n",
            "Epoch 22 | Train Loss 0.8209058723102013 | Train Accuracy 0.7128260869565217 | Test Loss 0.8390186704122103 | Test Accuracy 0.72\n",
            "Epoch 23 | Train Loss 0.8154504050811132 | Train Accuracy 0.7152173913043478 | Test Loss 0.8478677822993352 | Test Accuracy 0.7175\n",
            "Epoch 24 | Train Loss 0.8088401903708776 | Train Accuracy 0.7155434782608696 | Test Loss 0.8429692433430598 | Test Accuracy 0.7175\n",
            "Epoch 25 | Train Loss 0.8025613187087907 | Train Accuracy 0.7191304347826087 | Test Loss 0.8422012970997736 | Test Accuracy 0.725\n",
            "Epoch 26 | Train Loss 0.7975176835639609 | Train Accuracy 0.7222826086956522 | Test Loss 0.8217591735032889 | Test Accuracy 0.72625\n",
            "Epoch 27 | Train Loss 0.793814743972487 | Train Accuracy 0.72 | Test Loss 0.8386834813998296 | Test Accuracy 0.72125\n",
            "Epoch 28 | Train Loss 0.7857178702122636 | Train Accuracy 0.7264130434782609 | Test Loss 0.80327491576855 | Test Accuracy 0.72625\n",
            "Epoch 29 | Train Loss 0.7811125881142087 | Train Accuracy 0.7258695652173913 | Test Loss 0.8112887831834646 | Test Accuracy 0.71625\n",
            "Epoch 30 | Train Loss 0.7784763843648963 | Train Accuracy 0.7257608695652173 | Test Loss 0.7878219622832078 | Test Accuracy 0.71\n",
            "Epoch 31 | Train Loss 0.773039991243018 | Train Accuracy 0.73 | Test Loss 0.7861632658885076 | Test Accuracy 0.73125\n",
            "Epoch 32 | Train Loss 0.7670515639086565 | Train Accuracy 0.735 | Test Loss 0.7874714044424204 | Test Accuracy 0.72375\n",
            "Epoch 33 | Train Loss 0.7645100123352475 | Train Accuracy 0.7345652173913043 | Test Loss 0.7717005014419556 | Test Accuracy 0.715\n",
            "Epoch 34 | Train Loss 0.7605433248811297 | Train Accuracy 0.738804347826087 | Test Loss 0.79170639698322 | Test Accuracy 0.725\n",
            "Epoch 35 | Train Loss 0.7625649087131023 | Train Accuracy 0.7377173913043479 | Test Loss 0.7616797341750219 | Test Accuracy 0.73125\n",
            "Epoch 36 | Train Loss 0.7611689095695814 | Train Accuracy 0.7370652173913044 | Test Loss 0.7913511945651128 | Test Accuracy 0.7225\n",
            "Validation accuracy did not improve for several epochs. Stopping early.\n",
            "best accuraces for test was : [0.7175, 0.72625, 0.74625, 0.74375, 0.73125]\n",
            "stddev for test was  : 0.012041594578792293\n",
            "best accuraces for test was : [0.7145652173913043, 0.7630434782608696, 0.7708695652173913, 0.7567391304347826, 0.738804347826087]\n",
            "stddev for test was  : 0.022499474894103585\n"
          ]
        }
      ]
    },
    {
      "cell_type": "code",
      "source": [
        "import numpy as np\n",
        "\n",
        "test_acc = [0.7175, 0.72625, 0.74625, 0.74375, 0.73125]\n",
        "\n",
        "np.array(test_acc).mean()"
      ],
      "metadata": {
        "colab": {
          "base_uri": "https://localhost:8080/"
        },
        "id": "HqfL1cRXQnfu",
        "outputId": "bcce26b0-fea7-47a9-8951-c903380a58ea"
      },
      "execution_count": 7,
      "outputs": [
        {
          "output_type": "execute_result",
          "data": {
            "text/plain": [
              "0.733"
            ]
          },
          "metadata": {},
          "execution_count": 7
        }
      ]
    },
    {
      "cell_type": "code",
      "source": [
        "import pickle\n",
        "\n",
        "with open('/content/drive/MyDrive/tmp/logssq5.pkl', 'wb') as file:\n",
        "        pickle.dump(logssq5, file)"
      ],
      "metadata": {
        "id": "JiLd6oFBM6m_"
      },
      "execution_count": null,
      "outputs": []
    },
    {
      "cell_type": "markdown",
      "source": [
        "# sq 1"
      ],
      "metadata": {
        "id": "dERRIz-MOLPp"
      }
    },
    {
      "cell_type": "code",
      "source": [
        "logssq1 = akbar(1, features)"
      ],
      "metadata": {
        "colab": {
          "base_uri": "https://localhost:8080/"
        },
        "id": "wG7lE8XYONm1",
        "outputId": "73e9770e-d19f-4ddf-b38f-11c0072a5875"
      },
      "execution_count": null,
      "outputs": [
        {
          "output_type": "stream",
          "name": "stdout",
          "text": [
            "Data(x=[75, 1], edge_index=[2, 1405], y=[1], pos=[75, 2])\n",
            "Data(x=[75, 1], edge_index=[2, 1395], y=[1], pos=[75, 2])\n",
            "Starting training...\n",
            "Epoch 0 | Train Loss 2.072137428654565 | Train Accuracy 0.17402173913043478 | Test Loss 1.8643934084818914 | Test Accuracy 0.20375\n",
            "Epoch 1 | Train Loss 1.83225938760572 | Train Accuracy 0.21706521739130435 | Test Loss 1.7881387563852162 | Test Accuracy 0.25125\n",
            "Epoch 2 | Train Loss 1.7645333550042577 | Train Accuracy 0.2348913043478261 | Test Loss 1.703175159601065 | Test Accuracy 0.2575\n",
            "Epoch 3 | Train Loss 1.7229889647828207 | Train Accuracy 0.25206521739130433 | Test Loss 1.6802945045324473 | Test Accuracy 0.255\n",
            "Epoch 4 | Train Loss 1.7111139620343845 | Train Accuracy 0.24239130434782608 | Test Loss 1.6666631423510039 | Test Accuracy 0.225\n",
            "Epoch 5 | Train Loss 1.6961135781473584 | Train Accuracy 0.25282608695652176 | Test Loss 1.6425740443743193 | Test Accuracy 0.25625\n",
            "Epoch 6 | Train Loss 1.6881839194231563 | Train Accuracy 0.25119565217391304 | Test Loss 1.6572195108120258 | Test Accuracy 0.225\n",
            "Epoch 7 | Train Loss 1.686710461974144 | Train Accuracy 0.2505434782608696 | Test Loss 1.6340792270807118 | Test Accuracy 0.25625\n",
            "Validation accuracy did not improve for several epochs. Stopping early.\n",
            "Epoch 0 | Train Loss 2.0136185155974493 | Train Accuracy 0.1957608695652174 | Test Loss 1.8374318067844098 | Test Accuracy 0.21375\n",
            "Epoch 1 | Train Loss 1.8060863407121763 | Train Accuracy 0.2006521739130435 | Test Loss 1.739323643537668 | Test Accuracy 0.18875\n",
            "Epoch 2 | Train Loss 1.7487357002165582 | Train Accuracy 0.20532608695652174 | Test Loss 1.7001778345841627 | Test Accuracy 0.20625\n",
            "Epoch 3 | Train Loss 1.7313551066650286 | Train Accuracy 0.21271739130434783 | Test Loss 1.673780450454125 | Test Accuracy 0.275\n",
            "Epoch 4 | Train Loss 1.7165253170662456 | Train Accuracy 0.24706521739130435 | Test Loss 1.6703033722363985 | Test Accuracy 0.24\n",
            "Epoch 5 | Train Loss 1.7049697306421068 | Train Accuracy 0.2583695652173913 | Test Loss 1.6426702462709868 | Test Accuracy 0.27\n",
            "Epoch 6 | Train Loss 1.6924018437663715 | Train Accuracy 0.25380434782608696 | Test Loss 1.6288004013208242 | Test Accuracy 0.2725\n",
            "Epoch 7 | Train Loss 1.6821965823570888 | Train Accuracy 0.25619565217391305 | Test Loss 1.6377259217775786 | Test Accuracy 0.255\n",
            "Epoch 8 | Train Loss 1.6720916570888624 | Train Accuracy 0.2657608695652174 | Test Loss 1.6311468069369977 | Test Accuracy 0.26\n",
            "Validation accuracy did not improve for several epochs. Stopping early.\n",
            "Epoch 0 | Train Loss 2.01996884163883 | Train Accuracy 0.16706521739130434 | Test Loss 1.8228433315570538 | Test Accuracy 0.20875\n",
            "Epoch 1 | Train Loss 1.8158050303657849 | Train Accuracy 0.20228260869565218 | Test Loss 1.7598571593944843 | Test Accuracy 0.215\n",
            "Epoch 2 | Train Loss 1.7469158288505342 | Train Accuracy 0.21358695652173912 | Test Loss 1.6868126850861769 | Test Accuracy 0.2775\n",
            "Epoch 3 | Train Loss 1.7256351361672084 | Train Accuracy 0.24043478260869566 | Test Loss 1.66663291821113 | Test Accuracy 0.2925\n",
            "Epoch 4 | Train Loss 1.7106620305114322 | Train Accuracy 0.24880434782608696 | Test Loss 1.6502354420148408 | Test Accuracy 0.275\n",
            "Epoch 5 | Train Loss 1.6950622416204877 | Train Accuracy 0.25423913043478263 | Test Loss 1.642655189220722 | Test Accuracy 0.24\n",
            "Epoch 6 | Train Loss 1.6814928121036954 | Train Accuracy 0.2548913043478261 | Test Loss 1.6286363143187303 | Test Accuracy 0.27625\n",
            "Epoch 7 | Train Loss 1.6790434883700476 | Train Accuracy 0.2551086956521739 | Test Loss 1.6184911269408007 | Test Accuracy 0.29375\n",
            "Epoch 8 | Train Loss 1.6653529091013803 | Train Accuracy 0.2659782608695652 | Test Loss 1.6217776353542621 | Test Accuracy 0.3025\n",
            "Epoch 9 | Train Loss 1.6645336093174086 | Train Accuracy 0.26380434782608697 | Test Loss 1.6208233191416814 | Test Accuracy 0.28\n",
            "Epoch 10 | Train Loss 1.6590042627520032 | Train Accuracy 0.2625 | Test Loss 1.609860374377324 | Test Accuracy 0.27375\n",
            "Epoch 11 | Train Loss 1.657877791259024 | Train Accuracy 0.2672826086956522 | Test Loss 1.6075673745228694 | Test Accuracy 0.27375\n",
            "Epoch 12 | Train Loss 1.6546974745061662 | Train Accuracy 0.2716304347826087 | Test Loss 1.5965535182219286 | Test Accuracy 0.29\n",
            "Epoch 13 | Train Loss 1.6512400052613683 | Train Accuracy 0.27467391304347827 | Test Loss 1.5977415121518648 | Test Accuracy 0.27875\n",
            "Validation accuracy did not improve for several epochs. Stopping early.\n",
            "Epoch 0 | Train Loss 2.024575319555071 | Train Accuracy 0.18521739130434783 | Test Loss 1.8065450191497803 | Test Accuracy 0.2\n",
            "Epoch 1 | Train Loss 1.7691427965958912 | Train Accuracy 0.21347826086956523 | Test Loss 1.698643262569721 | Test Accuracy 0.25625\n",
            "Epoch 2 | Train Loss 1.731744064225091 | Train Accuracy 0.23130434782608697 | Test Loss 1.6935494587971613 | Test Accuracy 0.2225\n",
            "Epoch 3 | Train Loss 1.7160537069042523 | Train Accuracy 0.24195652173913043 | Test Loss 1.6576910202319806 | Test Accuracy 0.255\n",
            "Epoch 4 | Train Loss 1.698691464960575 | Train Accuracy 0.25217391304347825 | Test Loss 1.635242223739624 | Test Accuracy 0.265\n",
            "Epoch 5 | Train Loss 1.6837875329785876 | Train Accuracy 0.2514130434782609 | Test Loss 1.6326022423230684 | Test Accuracy 0.24875\n",
            "Epoch 6 | Train Loss 1.6778284054663446 | Train Accuracy 0.2557608695652174 | Test Loss 1.6207628158422618 | Test Accuracy 0.2725\n",
            "Epoch 7 | Train Loss 1.6710519856876798 | Train Accuracy 0.26054347826086954 | Test Loss 1.6178833429629986 | Test Accuracy 0.23875\n",
            "Epoch 8 | Train Loss 1.6619390191303358 | Train Accuracy 0.26217391304347826 | Test Loss 1.6076571299479558 | Test Accuracy 0.27625\n",
            "Epoch 9 | Train Loss 1.659597775174512 | Train Accuracy 0.2669565217391304 | Test Loss 1.6093665728202233 | Test Accuracy 0.28125\n",
            "Epoch 10 | Train Loss 1.6593678353561296 | Train Accuracy 0.2675 | Test Loss 1.5981974234947791 | Test Accuracy 0.29125\n",
            "Epoch 11 | Train Loss 1.6521569357977972 | Train Accuracy 0.2709782608695652 | Test Loss 1.6037630759752715 | Test Accuracy 0.30125\n",
            "Epoch 12 | Train Loss 1.6526114609506395 | Train Accuracy 0.26902173913043476 | Test Loss 1.591041088104248 | Test Accuracy 0.28875\n",
            "Epoch 13 | Train Loss 1.6536962944600317 | Train Accuracy 0.2658695652173913 | Test Loss 1.6012588280897875 | Test Accuracy 0.27125\n",
            "Epoch 14 | Train Loss 1.6471938788890839 | Train Accuracy 0.26902173913043476 | Test Loss 1.603533148765564 | Test Accuracy 0.2975\n",
            "Epoch 15 | Train Loss 1.6480433411068387 | Train Accuracy 0.27010869565217394 | Test Loss 1.6148799566122203 | Test Accuracy 0.27625\n",
            "Epoch 16 | Train Loss 1.6494571301672194 | Train Accuracy 0.2718478260869565 | Test Loss 1.593148341545692 | Test Accuracy 0.27375\n",
            "Validation accuracy did not improve for several epochs. Stopping early.\n",
            "Epoch 0 | Train Loss 2.0508323361476264 | Train Accuracy 0.19652173913043477 | Test Loss 1.8568400694773748 | Test Accuracy 0.2225\n",
            "Epoch 1 | Train Loss 1.812911245557997 | Train Accuracy 0.2076086956521739 | Test Loss 1.7469639686437755 | Test Accuracy 0.2025\n",
            "Epoch 2 | Train Loss 1.7462028629249997 | Train Accuracy 0.2107608695652174 | Test Loss 1.697051240847661 | Test Accuracy 0.1975\n",
            "Epoch 3 | Train Loss 1.7272381890151236 | Train Accuracy 0.23576086956521738 | Test Loss 1.6848147282233605 | Test Accuracy 0.245\n",
            "Epoch 4 | Train Loss 1.7145853812495868 | Train Accuracy 0.2465217391304348 | Test Loss 1.6633346722676203 | Test Accuracy 0.2575\n",
            "Epoch 5 | Train Loss 1.7033745141492949 | Train Accuracy 0.2505434782608696 | Test Loss 1.6473245529028087 | Test Accuracy 0.24125\n",
            "Epoch 6 | Train Loss 1.6933110331495602 | Train Accuracy 0.25369565217391304 | Test Loss 1.6437622125332172 | Test Accuracy 0.265\n",
            "Epoch 7 | Train Loss 1.6873067145546277 | Train Accuracy 0.25173913043478263 | Test Loss 1.6250155522273138 | Test Accuracy 0.27875\n",
            "Epoch 8 | Train Loss 1.6764813711245854 | Train Accuracy 0.2594565217391304 | Test Loss 1.6249212118295522 | Test Accuracy 0.27\n",
            "Epoch 9 | Train Loss 1.6732389256358147 | Train Accuracy 0.2579347826086957 | Test Loss 1.6269319240863507 | Test Accuracy 0.26125\n",
            "Epoch 10 | Train Loss 1.6650775116350915 | Train Accuracy 0.26771739130434785 | Test Loss 1.6120966306099525 | Test Accuracy 0.27125\n",
            "Epoch 11 | Train Loss 1.6565974288516574 | Train Accuracy 0.2691304347826087 | Test Loss 1.6019523969063392 | Test Accuracy 0.26625\n",
            "Epoch 12 | Train Loss 1.6543323546648026 | Train Accuracy 0.265 | Test Loss 1.5995783530748808 | Test Accuracy 0.28125\n",
            "Epoch 13 | Train Loss 1.6497586824827724 | Train Accuracy 0.2728260869565217 | Test Loss 1.5965569294415987 | Test Accuracy 0.2925\n",
            "Epoch 14 | Train Loss 1.6492913820677333 | Train Accuracy 0.2727173913043478 | Test Loss 1.6070508315013006 | Test Accuracy 0.275\n",
            "Epoch 15 | Train Loss 1.6484934108124838 | Train Accuracy 0.27108695652173914 | Test Loss 1.5931371175325835 | Test Accuracy 0.30375\n",
            "Epoch 16 | Train Loss 1.6482985408769713 | Train Accuracy 0.27402173913043476 | Test Loss 1.6124461614168608 | Test Accuracy 0.285\n",
            "Epoch 17 | Train Loss 1.6458578275309668 | Train Accuracy 0.27652173913043476 | Test Loss 1.5942703668887799 | Test Accuracy 0.28125\n",
            "Epoch 18 | Train Loss 1.6473046847515636 | Train Accuracy 0.2733695652173913 | Test Loss 1.6013071078520555 | Test Accuracy 0.28\n",
            "Epoch 19 | Train Loss 1.641339849266741 | Train Accuracy 0.28108695652173915 | Test Loss 1.5947413444519043 | Test Accuracy 0.275\n",
            "Epoch 20 | Train Loss 1.6478919668330088 | Train Accuracy 0.2709782608695652 | Test Loss 1.5928432391240046 | Test Accuracy 0.30125\n",
            "Validation accuracy did not improve for several epochs. Stopping early.\n",
            "best accuraces for test was : [0.2575, 0.275, 0.3025, 0.30125, 0.30375]\n",
            "stddev for test was  : 0.020815408955867285\n",
            "best accuraces for test was : [0.25282608695652176, 0.2657608695652174, 0.27467391304347827, 0.2718478260869565, 0.28108695652173915]\n",
            "stddev for test was  : 0.010702796747722643\n"
          ]
        }
      ]
    },
    {
      "cell_type": "code",
      "source": [
        "import numpy as np\n",
        "\n",
        "test_acc = [0.2575, 0.275, 0.3025, 0.30125, 0.30375]\n",
        "\n",
        "np.array(test_acc).mean()"
      ],
      "metadata": {
        "colab": {
          "base_uri": "https://localhost:8080/"
        },
        "id": "gHDovoBD8uIB",
        "outputId": "eecedbe7-827f-4e0a-c94c-33885805539b"
      },
      "execution_count": 6,
      "outputs": [
        {
          "output_type": "execute_result",
          "data": {
            "text/plain": [
              "0.288"
            ]
          },
          "metadata": {},
          "execution_count": 6
        }
      ]
    },
    {
      "cell_type": "code",
      "source": [
        "with open('/content/drive/MyDrive/tmp/logssq1.pkl', 'wb') as file:\n",
        "        pickle.dump(logssq1, file)"
      ],
      "metadata": {
        "id": "r-zJ2xhcP_od"
      },
      "execution_count": null,
      "outputs": []
    },
    {
      "cell_type": "markdown",
      "source": [
        "# squeeze 100"
      ],
      "metadata": {
        "id": "2Qi1OGgRoDqL"
      }
    },
    {
      "cell_type": "code",
      "source": [
        "logssq100 =  run_experiment(100, features)\n",
        "with open('/content/drive/MyDrive/tmp/logssq100.pkl', 'wb') as file:\n",
        "        pickle.dump(logssq100, file)"
      ],
      "metadata": {
        "colab": {
          "base_uri": "https://localhost:8080/"
        },
        "id": "hjkYoioPfk4D",
        "outputId": "63522e79-400f-438c-e017-a16de2a3b191"
      },
      "execution_count": null,
      "outputs": [
        {
          "output_type": "stream",
          "name": "stdout",
          "text": [
            "Data(x=[75, 100], edge_index=[2, 1405], y=[1], pos=[75, 2])\n",
            "Data(x=[75, 100], edge_index=[2, 1395], y=[1], pos=[75, 2])\n",
            "Starting training...\n",
            "Epoch 0 | Train Loss 2.069312012030019 | Train Accuracy 0.31228260869565216 | Test Loss 1.859796900015611 | Test Accuracy 0.39875\n",
            "Epoch 1 | Train Loss 1.670549213886261 | Train Accuracy 0.4677173913043478 | Test Loss 1.501000587756817 | Test Accuracy 0.55875\n",
            "Epoch 2 | Train Loss 1.351069809661971 | Train Accuracy 0.5854347826086956 | Test Loss 1.2722674516531138 | Test Accuracy 0.6\n",
            "Epoch 3 | Train Loss 1.122127856231398 | Train Accuracy 0.6665217391304348 | Test Loss 1.0723542066720815 | Test Accuracy 0.67625\n",
            "Epoch 4 | Train Loss 0.9527563518948026 | Train Accuracy 0.7164130434782608 | Test Loss 0.9102590817671555 | Test Accuracy 0.72875\n",
            "Epoch 5 | Train Loss 0.8083324817319711 | Train Accuracy 0.7627173913043478 | Test Loss 0.7592953856174762 | Test Accuracy 0.78875\n",
            "Epoch 6 | Train Loss 0.7005931308699979 | Train Accuracy 0.7928260869565218 | Test Loss 0.6603348897053645 | Test Accuracy 0.82875\n",
            "Epoch 7 | Train Loss 0.6170871690329578 | Train Accuracy 0.8177173913043478 | Test Loss 0.581224608879823 | Test Accuracy 0.8375\n",
            "Epoch 8 | Train Loss 0.5454137981351879 | Train Accuracy 0.8415217391304348 | Test Loss 0.5417757240625528 | Test Accuracy 0.8575\n",
            "Epoch 9 | Train Loss 0.49417891705201733 | Train Accuracy 0.8596739130434783 | Test Loss 0.4951482071326329 | Test Accuracy 0.865\n",
            "Epoch 10 | Train Loss 0.45614540245797897 | Train Accuracy 0.8717391304347826 | Test Loss 0.46330302495222825 | Test Accuracy 0.87375\n",
            "Epoch 11 | Train Loss 0.4209287746085061 | Train Accuracy 0.8859782608695652 | Test Loss 0.4696117742703511 | Test Accuracy 0.8775\n",
            "Epoch 12 | Train Loss 0.39285479620512986 | Train Accuracy 0.8945652173913043 | Test Loss 0.4210932312103418 | Test Accuracy 0.89\n",
            "Epoch 13 | Train Loss 0.36944218155824476 | Train Accuracy 0.9002173913043479 | Test Loss 0.4194319030413261 | Test Accuracy 0.8825\n",
            "Epoch 14 | Train Loss 0.3514365732876791 | Train Accuracy 0.9061956521739131 | Test Loss 0.3928435376057258 | Test Accuracy 0.89125\n",
            "Epoch 15 | Train Loss 0.33127793493784136 | Train Accuracy 0.9117391304347826 | Test Loss 0.35051124027142155 | Test Accuracy 0.89625\n",
            "Epoch 16 | Train Loss 0.31314046691275305 | Train Accuracy 0.9151086956521739 | Test Loss 0.3397322205396799 | Test Accuracy 0.8975\n",
            "Epoch 17 | Train Loss 0.3003484824568861 | Train Accuracy 0.9185869565217392 | Test Loss 0.3075929478957103 | Test Accuracy 0.90375\n",
            "Epoch 18 | Train Loss 0.28406983541531694 | Train Accuracy 0.9232608695652174 | Test Loss 0.3015260581786816 | Test Accuracy 0.905\n",
            "Epoch 19 | Train Loss 0.27526292228139937 | Train Accuracy 0.9234782608695652 | Test Loss 0.30505639715836597 | Test Accuracy 0.90625\n",
            "Epoch 20 | Train Loss 0.27071094492243397 | Train Accuracy 0.9253260869565217 | Test Loss 0.2992352774510017 | Test Accuracy 0.9175\n",
            "Epoch 21 | Train Loss 0.2637661738942067 | Train Accuracy 0.9260869565217391 | Test Loss 0.2861326107612023 | Test Accuracy 0.9225\n",
            "Epoch 22 | Train Loss 0.2558880611840222 | Train Accuracy 0.9265217391304348 | Test Loss 0.30489165966327375 | Test Accuracy 0.91375\n",
            "Epoch 23 | Train Loss 0.24751556328394347 | Train Accuracy 0.9307608695652174 | Test Loss 0.2831479230752358 | Test Accuracy 0.9175\n",
            "Epoch 24 | Train Loss 0.24067874796067676 | Train Accuracy 0.9335869565217392 | Test Loss 0.3004918717421018 | Test Accuracy 0.9225\n",
            "Epoch 25 | Train Loss 0.23330727379976046 | Train Accuracy 0.9352173913043478 | Test Loss 0.2860815186913197 | Test Accuracy 0.92375\n",
            "Epoch 26 | Train Loss 0.22574122224210036 | Train Accuracy 0.9357608695652174 | Test Loss 0.2923013109427232 | Test Accuracy 0.9225\n",
            "Epoch 27 | Train Loss 0.22083011559314197 | Train Accuracy 0.9391304347826087 | Test Loss 0.298619602735226 | Test Accuracy 0.91875\n",
            "Epoch 28 | Train Loss 0.2154315588219712 | Train Accuracy 0.941195652173913 | Test Loss 0.296629949257924 | Test Accuracy 0.9225\n",
            "Epoch 29 | Train Loss 0.21251162035494214 | Train Accuracy 0.9416304347826087 | Test Loss 0.29220619797706604 | Test Accuracy 0.9225\n",
            "Epoch 30 | Train Loss 0.21044809190142486 | Train Accuracy 0.9410869565217391 | Test Loss 0.2634077427478937 | Test Accuracy 0.92375\n",
            "Validation accuracy did not improve for several epochs. Stopping early.\n",
            "Epoch 0 | Train Loss 2.131339304976993 | Train Accuracy 0.28695652173913044 | Test Loss 1.9458932601488554 | Test Accuracy 0.38625\n",
            "Epoch 1 | Train Loss 1.7384424747692213 | Train Accuracy 0.4373913043478261 | Test Loss 1.5794550638932447 | Test Accuracy 0.505\n",
            "Epoch 2 | Train Loss 1.4420446935627196 | Train Accuracy 0.5314130434782609 | Test Loss 1.3266938466292162 | Test Accuracy 0.57875\n",
            "Epoch 3 | Train Loss 1.2448684722185135 | Train Accuracy 0.5907608695652173 | Test Loss 1.1877592160151556 | Test Accuracy 0.61\n",
            "Epoch 4 | Train Loss 1.0996139620741208 | Train Accuracy 0.6466304347826087 | Test Loss 1.0348717616154597 | Test Accuracy 0.69875\n",
            "Epoch 5 | Train Loss 0.9790663197636604 | Train Accuracy 0.6890217391304347 | Test Loss 0.9064833659392136 | Test Accuracy 0.72\n",
            "Epoch 6 | Train Loss 0.8780259990857707 | Train Accuracy 0.7243478260869565 | Test Loss 0.8392753784473126 | Test Accuracy 0.7375\n",
            "Epoch 7 | Train Loss 0.8092540945443842 | Train Accuracy 0.7459782608695652 | Test Loss 0.7761225746228144 | Test Accuracy 0.7525\n",
            "Epoch 8 | Train Loss 0.7487384587940242 | Train Accuracy 0.7655434782608695 | Test Loss 0.6927396334134616 | Test Accuracy 0.765\n",
            "Epoch 9 | Train Loss 0.7013625465333462 | Train Accuracy 0.78 | Test Loss 0.6575791744085459 | Test Accuracy 0.7775\n",
            "Epoch 10 | Train Loss 0.6609032733572854 | Train Accuracy 0.7955434782608696 | Test Loss 0.5997582169679495 | Test Accuracy 0.8025\n",
            "Epoch 11 | Train Loss 0.6144007268465228 | Train Accuracy 0.8089130434782609 | Test Loss 0.5633659683741056 | Test Accuracy 0.8225\n",
            "Epoch 12 | Train Loss 0.5808076730204953 | Train Accuracy 0.8222826086956522 | Test Loss 0.5756299793720245 | Test Accuracy 0.81625\n",
            "Epoch 13 | Train Loss 0.5396863472544484 | Train Accuracy 0.8380434782608696 | Test Loss 0.5301431325765756 | Test Accuracy 0.82625\n",
            "Epoch 14 | Train Loss 0.5153193500720792 | Train Accuracy 0.8454347826086956 | Test Loss 0.49829129530833316 | Test Accuracy 0.83375\n",
            "Epoch 15 | Train Loss 0.48967904152555597 | Train Accuracy 0.8535869565217391 | Test Loss 0.4619007958815648 | Test Accuracy 0.85375\n",
            "Epoch 16 | Train Loss 0.46408495617409545 | Train Accuracy 0.8622826086956522 | Test Loss 0.46774964836927563 | Test Accuracy 0.855\n",
            "Epoch 17 | Train Loss 0.4425729827748405 | Train Accuracy 0.8689130434782608 | Test Loss 0.450163313975701 | Test Accuracy 0.84875\n",
            "Epoch 18 | Train Loss 0.4188902640922202 | Train Accuracy 0.8783695652173913 | Test Loss 0.4365547253535344 | Test Accuracy 0.86125\n",
            "Epoch 19 | Train Loss 0.40155162910620373 | Train Accuracy 0.8829347826086956 | Test Loss 0.4139501188810055 | Test Accuracy 0.865\n",
            "Epoch 20 | Train Loss 0.3831440456625488 | Train Accuracy 0.8878260869565218 | Test Loss 0.3887692025074592 | Test Accuracy 0.86875\n",
            "Epoch 21 | Train Loss 0.3579440431462394 | Train Accuracy 0.8967391304347826 | Test Loss 0.39012585694973284 | Test Accuracy 0.86875\n",
            "Epoch 22 | Train Loss 0.34484194312244654 | Train Accuracy 0.9001086956521739 | Test Loss 0.3753119088136233 | Test Accuracy 0.87125\n",
            "Epoch 23 | Train Loss 0.330932841118839 | Train Accuracy 0.9052173913043479 | Test Loss 0.37040879405461824 | Test Accuracy 0.88375\n",
            "Epoch 24 | Train Loss 0.32006910826183027 | Train Accuracy 0.908695652173913 | Test Loss 0.3818714034098845 | Test Accuracy 0.88375\n",
            "Epoch 25 | Train Loss 0.3079998039433526 | Train Accuracy 0.9146739130434782 | Test Loss 0.3485925461237247 | Test Accuracy 0.89875\n",
            "Epoch 26 | Train Loss 0.3014310205665727 | Train Accuracy 0.913695652173913 | Test Loss 0.3403194879110043 | Test Accuracy 0.9025\n",
            "Epoch 27 | Train Loss 0.28734699248646695 | Train Accuracy 0.9211956521739131 | Test Loss 0.31669355355776274 | Test Accuracy 0.90125\n",
            "Epoch 28 | Train Loss 0.2808711426332593 | Train Accuracy 0.9209782608695652 | Test Loss 0.313865248973553 | Test Accuracy 0.9025\n",
            "Epoch 29 | Train Loss 0.28129786361629766 | Train Accuracy 0.9217391304347826 | Test Loss 0.2875340844576175 | Test Accuracy 0.915\n",
            "Epoch 30 | Train Loss 0.2694849649237262 | Train Accuracy 0.9241304347826087 | Test Loss 0.2938141089219313 | Test Accuracy 0.91125\n",
            "Epoch 31 | Train Loss 0.26133980069102514 | Train Accuracy 0.9254347826086956 | Test Loss 0.27815700150453126 | Test Accuracy 0.9125\n",
            "Epoch 32 | Train Loss 0.2518236151275535 | Train Accuracy 0.9279347826086957 | Test Loss 0.27656671290214246 | Test Accuracy 0.9125\n",
            "Epoch 33 | Train Loss 0.24705315702077416 | Train Accuracy 0.9304347826086956 | Test Loss 0.2720285591024619 | Test Accuracy 0.9175\n",
            "Epoch 34 | Train Loss 0.24032157561224368 | Train Accuracy 0.9319565217391305 | Test Loss 0.2597199586721567 | Test Accuracy 0.9175\n",
            "Epoch 35 | Train Loss 0.2334560155351129 | Train Accuracy 0.935 | Test Loss 0.26755453875431645 | Test Accuracy 0.92\n",
            "Epoch 36 | Train Loss 0.22931290208362043 | Train Accuracy 0.9373913043478261 | Test Loss 0.249932889181834 | Test Accuracy 0.92125\n",
            "Epoch 37 | Train Loss 0.22747493843134078 | Train Accuracy 0.936304347826087 | Test Loss 0.25020170842225736 | Test Accuracy 0.92\n",
            "Epoch 38 | Train Loss 0.22671646479931143 | Train Accuracy 0.9360869565217391 | Test Loss 0.24106951287159553 | Test Accuracy 0.92125\n",
            "Epoch 39 | Train Loss 0.22383247134793136 | Train Accuracy 0.9382608695652174 | Test Loss 0.24481080243220696 | Test Accuracy 0.92\n",
            "Epoch 0 | Train Loss 2.1276003594199815 | Train Accuracy 0.2441304347826087 | Test Loss 1.91028565626878 | Test Accuracy 0.33\n",
            "Epoch 1 | Train Loss 1.7670345952113469 | Train Accuracy 0.39467391304347826 | Test Loss 1.5973470761225774 | Test Accuracy 0.46125\n",
            "Epoch 2 | Train Loss 1.5261894853578672 | Train Accuracy 0.4832608695652174 | Test Loss 1.4030339259367723 | Test Accuracy 0.54375\n",
            "Epoch 3 | Train Loss 1.3568053096532822 | Train Accuracy 0.5416304347826087 | Test Loss 1.2533555030822754 | Test Accuracy 0.6075\n",
            "Epoch 4 | Train Loss 1.2173983992801771 | Train Accuracy 0.5855434782608696 | Test Loss 1.1205880733636708 | Test Accuracy 0.63625\n",
            "Epoch 5 | Train Loss 1.0969529151916504 | Train Accuracy 0.6344565217391305 | Test Loss 1.0334818088091338 | Test Accuracy 0.6675\n",
            "Epoch 6 | Train Loss 0.995244585805469 | Train Accuracy 0.6666304347826087 | Test Loss 0.9376813035744888 | Test Accuracy 0.70875\n",
            "Epoch 7 | Train Loss 0.9081569044954247 | Train Accuracy 0.7002173913043478 | Test Loss 0.8573338802044208 | Test Accuracy 0.73\n",
            "Epoch 8 | Train Loss 0.8281515364845594 | Train Accuracy 0.7280434782608696 | Test Loss 0.77650497509883 | Test Accuracy 0.76\n",
            "Epoch 9 | Train Loss 0.7553237388945289 | Train Accuracy 0.7547826086956522 | Test Loss 0.714064712707813 | Test Accuracy 0.7725\n",
            "Epoch 10 | Train Loss 0.7013826084633669 | Train Accuracy 0.773695652173913 | Test Loss 0.680742621421814 | Test Accuracy 0.7775\n",
            "Epoch 11 | Train Loss 0.6506634321477678 | Train Accuracy 0.7921739130434783 | Test Loss 0.6355185829676114 | Test Accuracy 0.79\n",
            "Epoch 12 | Train Loss 0.6062584053725004 | Train Accuracy 0.8058695652173913 | Test Loss 0.5846652686595917 | Test Accuracy 0.805\n",
            "Epoch 13 | Train Loss 0.5650123084584872 | Train Accuracy 0.8182608695652174 | Test Loss 0.5466004105714651 | Test Accuracy 0.81375\n",
            "Epoch 14 | Train Loss 0.5442906618118286 | Train Accuracy 0.826304347826087 | Test Loss 0.5357299836782309 | Test Accuracy 0.815\n",
            "Epoch 15 | Train Loss 0.512465869800912 | Train Accuracy 0.8346739130434783 | Test Loss 0.5140334619925573 | Test Accuracy 0.82875\n",
            "Epoch 16 | Train Loss 0.4716057810518477 | Train Accuracy 0.8517391304347826 | Test Loss 0.48372464455091035 | Test Accuracy 0.86\n",
            "Epoch 17 | Train Loss 0.4506649602618482 | Train Accuracy 0.8571739130434782 | Test Loss 0.46395795620404756 | Test Accuracy 0.85875\n",
            "Epoch 18 | Train Loss 0.4312270348891616 | Train Accuracy 0.8655434782608695 | Test Loss 0.42011984953513515 | Test Accuracy 0.86875\n",
            "Epoch 19 | Train Loss 0.4165954097277588 | Train Accuracy 0.8721739130434782 | Test Loss 0.4142416004951184 | Test Accuracy 0.8725\n",
            "Epoch 20 | Train Loss 0.39325383729818797 | Train Accuracy 0.8804347826086957 | Test Loss 0.3925579499739867 | Test Accuracy 0.8725\n",
            "Epoch 21 | Train Loss 0.38409556448459625 | Train Accuracy 0.8809782608695652 | Test Loss 0.39027535915374756 | Test Accuracy 0.88125\n",
            "Epoch 22 | Train Loss 0.369712067871458 | Train Accuracy 0.8859782608695652 | Test Loss 0.37436264294844407 | Test Accuracy 0.885\n",
            "Epoch 23 | Train Loss 0.36010678247031236 | Train Accuracy 0.8895652173913043 | Test Loss 0.3583344484751041 | Test Accuracy 0.8925\n",
            "Epoch 24 | Train Loss 0.3447968297534519 | Train Accuracy 0.8946739130434782 | Test Loss 0.35205607001598066 | Test Accuracy 0.895\n",
            "Epoch 25 | Train Loss 0.33173066429379916 | Train Accuracy 0.898695652173913 | Test Loss 0.3398398057772563 | Test Accuracy 0.89375\n",
            "Epoch 26 | Train Loss 0.31973054798112976 | Train Accuracy 0.9015217391304348 | Test Loss 0.3243116977123114 | Test Accuracy 0.9\n",
            "Epoch 27 | Train Loss 0.30800946553548175 | Train Accuracy 0.9072826086956521 | Test Loss 0.3144778941686337 | Test Accuracy 0.90875\n",
            "Epoch 28 | Train Loss 0.2995234601613548 | Train Accuracy 0.9111956521739131 | Test Loss 0.30097179687940157 | Test Accuracy 0.91125\n",
            "Epoch 29 | Train Loss 0.2943548617574076 | Train Accuracy 0.9130434782608695 | Test Loss 0.3161822626223931 | Test Accuracy 0.91\n",
            "Epoch 30 | Train Loss 0.28670191744135487 | Train Accuracy 0.9163043478260869 | Test Loss 0.3199140177323268 | Test Accuracy 0.91375\n",
            "Epoch 31 | Train Loss 0.27789028144131106 | Train Accuracy 0.9173913043478261 | Test Loss 0.2963673105606666 | Test Accuracy 0.92125\n",
            "Epoch 32 | Train Loss 0.272020616930806 | Train Accuracy 0.9197826086956522 | Test Loss 0.29851271785222566 | Test Accuracy 0.92625\n",
            "Epoch 33 | Train Loss 0.27019731131278807 | Train Accuracy 0.9194565217391304 | Test Loss 0.28774360853892106 | Test Accuracy 0.92875\n",
            "Epoch 34 | Train Loss 0.2614473657320357 | Train Accuracy 0.923695652173913 | Test Loss 0.2664564549922943 | Test Accuracy 0.92875\n",
            "Epoch 35 | Train Loss 0.2557415322193669 | Train Accuracy 0.9258695652173913 | Test Loss 0.2515311756959328 | Test Accuracy 0.93375\n",
            "Epoch 36 | Train Loss 0.2504804053912974 | Train Accuracy 0.9253260869565217 | Test Loss 0.23436679404515487 | Test Accuracy 0.93875\n",
            "Epoch 37 | Train Loss 0.24267075691993037 | Train Accuracy 0.928695652173913 | Test Loss 0.22517212136433676 | Test Accuracy 0.94125\n",
            "Epoch 38 | Train Loss 0.24271206211091745 | Train Accuracy 0.9297826086956522 | Test Loss 0.21845901012420654 | Test Accuracy 0.94375\n",
            "Epoch 39 | Train Loss 0.238503179150737 | Train Accuracy 0.9298913043478261 | Test Loss 0.2384882219708883 | Test Accuracy 0.94\n",
            "Epoch 0 | Train Loss 2.089695063730081 | Train Accuracy 0.23097826086956522 | Test Loss 1.9077902940603404 | Test Accuracy 0.265\n",
            "Epoch 1 | Train Loss 1.7764892578125 | Train Accuracy 0.32521739130434785 | Test Loss 1.7232251534095178 | Test Accuracy 0.355\n",
            "Epoch 2 | Train Loss 1.604291957285669 | Train Accuracy 0.42782608695652175 | Test Loss 1.522156128516564 | Test Accuracy 0.48125\n",
            "Epoch 3 | Train Loss 1.4438374150130484 | Train Accuracy 0.5006521739130435 | Test Loss 1.3870961299309363 | Test Accuracy 0.52\n",
            "Epoch 4 | Train Loss 1.292219013803535 | Train Accuracy 0.5638043478260869 | Test Loss 1.226134025133573 | Test Accuracy 0.5975\n",
            "Epoch 5 | Train Loss 1.1572623434993956 | Train Accuracy 0.6194565217391305 | Test Loss 1.1106522495930011 | Test Accuracy 0.62875\n",
            "Epoch 6 | Train Loss 1.0451986479262512 | Train Accuracy 0.6598913043478261 | Test Loss 1.000374280489408 | Test Accuracy 0.66375\n",
            "Epoch 7 | Train Loss 0.9546988138722049 | Train Accuracy 0.6935869565217392 | Test Loss 0.918400356402764 | Test Accuracy 0.675\n",
            "Epoch 8 | Train Loss 0.868114692469438 | Train Accuracy 0.726195652173913 | Test Loss 0.8712092133668753 | Test Accuracy 0.68625\n",
            "Epoch 9 | Train Loss 0.7843980772627724 | Train Accuracy 0.7578260869565218 | Test Loss 0.7987696803533114 | Test Accuracy 0.71875\n",
            "Epoch 10 | Train Loss 0.717031537865599 | Train Accuracy 0.7830434782608696 | Test Loss 0.7843914582179143 | Test Accuracy 0.73\n",
            "Epoch 11 | Train Loss 0.6571341802676519 | Train Accuracy 0.8023913043478261 | Test Loss 0.7294938885248624 | Test Accuracy 0.76\n",
            "Epoch 12 | Train Loss 0.6030673945529593 | Train Accuracy 0.821195652173913 | Test Loss 0.6996993651756873 | Test Accuracy 0.77875\n",
            "Epoch 13 | Train Loss 0.5639846380800009 | Train Accuracy 0.8344565217391304 | Test Loss 0.6484624032790844 | Test Accuracy 0.80625\n",
            "Epoch 14 | Train Loss 0.5254785442310903 | Train Accuracy 0.8476086956521739 | Test Loss 0.6034197876086602 | Test Accuracy 0.82125\n",
            "Epoch 15 | Train Loss 0.4878439690089888 | Train Accuracy 0.860108695652174 | Test Loss 0.6101999580860138 | Test Accuracy 0.82875\n",
            "Epoch 16 | Train Loss 0.46307382598105407 | Train Accuracy 0.8668478260869565 | Test Loss 0.5708130735617417 | Test Accuracy 0.835\n",
            "Epoch 17 | Train Loss 0.428383055039578 | Train Accuracy 0.878804347826087 | Test Loss 0.5400173778717334 | Test Accuracy 0.84\n",
            "Epoch 18 | Train Loss 0.40181537955585456 | Train Accuracy 0.8856521739130435 | Test Loss 0.5102431567815634 | Test Accuracy 0.85375\n",
            "Epoch 19 | Train Loss 0.38061637545211446 | Train Accuracy 0.8930434782608696 | Test Loss 0.4786455906354464 | Test Accuracy 0.86125\n",
            "Epoch 20 | Train Loss 0.35943424210159314 | Train Accuracy 0.899891304347826 | Test Loss 0.42918019684461445 | Test Accuracy 0.885\n",
            "Epoch 21 | Train Loss 0.3393429975128836 | Train Accuracy 0.9072826086956521 | Test Loss 0.4038602870244246 | Test Accuracy 0.88375\n",
            "Epoch 22 | Train Loss 0.3209239024565452 | Train Accuracy 0.9125 | Test Loss 0.38984307990624356 | Test Accuracy 0.88375\n",
            "Epoch 23 | Train Loss 0.3111150034496354 | Train Accuracy 0.915 | Test Loss 0.36677214044791 | Test Accuracy 0.88875\n",
            "Epoch 24 | Train Loss 0.30143560841679573 | Train Accuracy 0.9154347826086957 | Test Loss 0.35845290468289304 | Test Accuracy 0.89375\n",
            "Epoch 25 | Train Loss 0.28830459372450906 | Train Accuracy 0.9206521739130434 | Test Loss 0.3629073087985699 | Test Accuracy 0.89375\n",
            "Epoch 26 | Train Loss 0.2755713948669533 | Train Accuracy 0.9266304347826086 | Test Loss 0.34910497126670986 | Test Accuracy 0.9025\n",
            "Epoch 27 | Train Loss 0.2702845458148254 | Train Accuracy 0.9253260869565217 | Test Loss 0.32391615211963654 | Test Accuracy 0.90875\n",
            "Epoch 28 | Train Loss 0.2558589762387176 | Train Accuracy 0.93 | Test Loss 0.33421626916298497 | Test Accuracy 0.9075\n",
            "Epoch 29 | Train Loss 0.250179758347157 | Train Accuracy 0.9321739130434783 | Test Loss 0.3370973186997267 | Test Accuracy 0.9125\n",
            "Epoch 30 | Train Loss 0.24690642365668383 | Train Accuracy 0.933804347826087 | Test Loss 0.32664592678730303 | Test Accuracy 0.91625\n",
            "Epoch 31 | Train Loss 0.24167293217033148 | Train Accuracy 0.9366304347826087 | Test Loss 0.31273252918170047 | Test Accuracy 0.91875\n",
            "Epoch 32 | Train Loss 0.23354678901119363 | Train Accuracy 0.9360869565217391 | Test Loss 0.30676866265443653 | Test Accuracy 0.915\n",
            "Epoch 33 | Train Loss 0.22181985842891866 | Train Accuracy 0.9389130434782609 | Test Loss 0.3077464539271135 | Test Accuracy 0.91625\n",
            "Epoch 34 | Train Loss 0.21575695159845054 | Train Accuracy 0.9415217391304348 | Test Loss 0.30913795129610944 | Test Accuracy 0.91375\n",
            "Epoch 35 | Train Loss 0.20799979854685566 | Train Accuracy 0.9435869565217392 | Test Loss 0.3036532573975049 | Test Accuracy 0.9175\n",
            "Epoch 36 | Train Loss 0.20813780904023182 | Train Accuracy 0.9441304347826087 | Test Loss 0.2984947252732057 | Test Accuracy 0.91875\n",
            "Validation accuracy did not improve for several epochs. Stopping early.\n",
            "Epoch 0 | Train Loss 2.120823596086767 | Train Accuracy 0.23369565217391305 | Test Loss 1.9131079545387855 | Test Accuracy 0.2975\n",
            "Epoch 1 | Train Loss 1.803453875084718 | Train Accuracy 0.36945652173913046 | Test Loss 1.6075882269785955 | Test Accuracy 0.4325\n",
            "Epoch 2 | Train Loss 1.5328462016251352 | Train Accuracy 0.4718478260869565 | Test Loss 1.3408154524289644 | Test Accuracy 0.54625\n",
            "Epoch 3 | Train Loss 1.329510137438774 | Train Accuracy 0.5483695652173913 | Test Loss 1.1603641143211951 | Test Accuracy 0.61625\n",
            "Epoch 4 | Train Loss 1.164860667867793 | Train Accuracy 0.596195652173913 | Test Loss 1.015725117463332 | Test Accuracy 0.64375\n",
            "Epoch 5 | Train Loss 1.04738247477346 | Train Accuracy 0.6366304347826087 | Test Loss 0.8999202526532687 | Test Accuracy 0.69125\n",
            "Epoch 6 | Train Loss 0.9413295168843534 | Train Accuracy 0.6771739130434783 | Test Loss 0.7899224253801199 | Test Accuracy 0.73625\n",
            "Epoch 7 | Train Loss 0.85715342230267 | Train Accuracy 0.7158695652173913 | Test Loss 0.7107873421448928 | Test Accuracy 0.765\n",
            "Epoch 8 | Train Loss 0.7751031054390801 | Train Accuracy 0.741304347826087 | Test Loss 0.6432869342657236 | Test Accuracy 0.79625\n",
            "Epoch 9 | Train Loss 0.7055408478611045 | Train Accuracy 0.7711956521739131 | Test Loss 0.5623613183314984 | Test Accuracy 0.8275\n",
            "Epoch 10 | Train Loss 0.6439636362095674 | Train Accuracy 0.7956521739130434 | Test Loss 0.5330803646491125 | Test Accuracy 0.84625\n",
            "Epoch 11 | Train Loss 0.6003021695133712 | Train Accuracy 0.8145652173913044 | Test Loss 0.4793120462160844 | Test Accuracy 0.85625\n",
            "Epoch 12 | Train Loss 0.5602734798772467 | Train Accuracy 0.8267391304347826 | Test Loss 0.4582468133706313 | Test Accuracy 0.84875\n",
            "Epoch 13 | Train Loss 0.524173075436718 | Train Accuracy 0.836195652173913 | Test Loss 0.4484959771999946 | Test Accuracy 0.85875\n",
            "Epoch 14 | Train Loss 0.48886243792043793 | Train Accuracy 0.8476086956521739 | Test Loss 0.4210894680940188 | Test Accuracy 0.8675\n",
            "Epoch 15 | Train Loss 0.464777373501824 | Train Accuracy 0.8576086956521739 | Test Loss 0.387864718070397 | Test Accuracy 0.8775\n",
            "Epoch 16 | Train Loss 0.4394920655629701 | Train Accuracy 0.8677173913043478 | Test Loss 0.38038086547301364 | Test Accuracy 0.89375\n",
            "Epoch 17 | Train Loss 0.4190321483959754 | Train Accuracy 0.8746739130434783 | Test Loss 0.34164500121886915 | Test Accuracy 0.89625\n",
            "Epoch 18 | Train Loss 0.3956946510200699 | Train Accuracy 0.8823913043478261 | Test Loss 0.33941176189826083 | Test Accuracy 0.90125\n",
            "Epoch 19 | Train Loss 0.37762026126599973 | Train Accuracy 0.8893478260869565 | Test Loss 0.3212294544164951 | Test Accuracy 0.9125\n",
            "Epoch 20 | Train Loss 0.368515193151931 | Train Accuracy 0.8922826086956521 | Test Loss 0.3149969440240126 | Test Accuracy 0.91375\n",
            "Epoch 21 | Train Loss 0.3554678963393801 | Train Accuracy 0.8980434782608696 | Test Loss 0.3012016793856254 | Test Accuracy 0.9125\n",
            "Epoch 22 | Train Loss 0.3450286701942484 | Train Accuracy 0.8993478260869565 | Test Loss 0.2896455434652475 | Test Accuracy 0.9275\n",
            "Epoch 23 | Train Loss 0.3327790067738129 | Train Accuracy 0.9010869565217391 | Test Loss 0.30227885796473575 | Test Accuracy 0.92625\n",
            "Epoch 24 | Train Loss 0.31382432771432733 | Train Accuracy 0.9082608695652173 | Test Loss 0.3058440387248993 | Test Accuracy 0.92375\n",
            "Epoch 25 | Train Loss 0.304319503199723 | Train Accuracy 0.9120652173913043 | Test Loss 0.2952304757558383 | Test Accuracy 0.9275\n",
            "Epoch 26 | Train Loss 0.2976919259462092 | Train Accuracy 0.9147826086956522 | Test Loss 0.291212817797294 | Test Accuracy 0.92375\n",
            "Epoch 27 | Train Loss 0.28873937437310815 | Train Accuracy 0.9172826086956521 | Test Loss 0.2797744537775333 | Test Accuracy 0.9225\n",
            "Validation accuracy did not improve for several epochs. Stopping early.\n",
            "best accuraces for test was : [0.92375, 0.92125, 0.94375, 0.91875, 0.9275]\n",
            "stddev for test was  : 0.009905806378079475\n",
            "best accuraces for test was : [0.9416304347826087, 0.9382608695652174, 0.9298913043478261, 0.9441304347826087, 0.9172826086956521]\n",
            "stddev for test was  : 0.010898060475020427\n"
          ]
        }
      ]
    },
    {
      "cell_type": "code",
      "source": [
        "import numpy as np\n",
        "\n",
        "test_acc = [0.92375, 0.92125, 0.94375, 0.91875, 0.9275]\n",
        "\n",
        "np.array(test_acc).mean()"
      ],
      "metadata": {
        "colab": {
          "base_uri": "https://localhost:8080/"
        },
        "id": "rK5Pbn0Z-rta",
        "outputId": "1f6eceb7-f6c6-4817-dabb-867013c9e15d"
      },
      "execution_count": 8,
      "outputs": [
        {
          "output_type": "execute_result",
          "data": {
            "text/plain": [
              "0.9269999999999999"
            ]
          },
          "metadata": {},
          "execution_count": 8
        }
      ]
    },
    {
      "cell_type": "markdown",
      "source": [
        "# squeeze 200"
      ],
      "metadata": {
        "id": "Ii70lzknoF9K"
      }
    },
    {
      "cell_type": "code",
      "source": [
        "logssq200 = run_experiment(200, features)\n",
        "with open('/content/drive/MyDrive/tmp/logssq200.pkl', 'wb') as file:\n",
        "        pickle.dump(logssq200, file)"
      ],
      "metadata": {
        "colab": {
          "base_uri": "https://localhost:8080/"
        },
        "id": "uLVVLZPccyek",
        "outputId": "568030ce-92e8-41f5-cd51-6ed055d00611"
      },
      "execution_count": null,
      "outputs": [
        {
          "output_type": "stream",
          "name": "stdout",
          "text": [
            "Data(x=[75, 200], edge_index=[2, 1405], y=[1], pos=[75, 2])\n",
            "Data(x=[75, 200], edge_index=[2, 1395], y=[1], pos=[75, 2])\n",
            "Starting training...\n",
            "Epoch 0 | Train Loss 2.1719609556926622 | Train Accuracy 0.22239130434782609 | Test Loss 1.9813783994087806 | Test Accuracy 0.3175\n",
            "Epoch 1 | Train Loss 1.8103919186525874 | Train Accuracy 0.398804347826087 | Test Loss 1.5918881984857411 | Test Accuracy 0.4925\n",
            "Epoch 2 | Train Loss 1.4773797765374184 | Train Accuracy 0.5079347826086956 | Test Loss 1.2775145494020903 | Test Accuracy 0.58625\n",
            "Epoch 3 | Train Loss 1.238030665864547 | Train Accuracy 0.591195652173913 | Test Loss 1.0799518319276662 | Test Accuracy 0.64375\n",
            "Epoch 4 | Train Loss 1.065044704824686 | Train Accuracy 0.658804347826087 | Test Loss 0.9670122082416828 | Test Accuracy 0.69625\n",
            "Epoch 5 | Train Loss 0.9203199243379964 | Train Accuracy 0.7143478260869566 | Test Loss 0.8159631903354938 | Test Accuracy 0.7475\n",
            "Epoch 6 | Train Loss 0.7926653284165595 | Train Accuracy 0.7581521739130435 | Test Loss 0.7635748799030597 | Test Accuracy 0.77125\n",
            "Epoch 7 | Train Loss 0.7036516997549269 | Train Accuracy 0.7867391304347826 | Test Loss 0.6857065718907577 | Test Accuracy 0.79\n",
            "Epoch 8 | Train Loss 0.6355582711597284 | Train Accuracy 0.8090217391304347 | Test Loss 0.6481182483526376 | Test Accuracy 0.8175\n",
            "Epoch 9 | Train Loss 0.5835796476652225 | Train Accuracy 0.8277173913043478 | Test Loss 0.6021819573182327 | Test Accuracy 0.83125\n",
            "Epoch 10 | Train Loss 0.5423716652310557 | Train Accuracy 0.8395652173913043 | Test Loss 0.5573733701155736 | Test Accuracy 0.84125\n",
            "Epoch 11 | Train Loss 0.4991493569687009 | Train Accuracy 0.8532608695652174 | Test Loss 0.5034146354748652 | Test Accuracy 0.86125\n",
            "Epoch 12 | Train Loss 0.46101648412230944 | Train Accuracy 0.8667391304347826 | Test Loss 0.47454969928814816 | Test Accuracy 0.8675\n",
            "Epoch 13 | Train Loss 0.4275711312269171 | Train Accuracy 0.8803260869565217 | Test Loss 0.4649336773615617 | Test Accuracy 0.87125\n",
            "Epoch 14 | Train Loss 0.40044254809617996 | Train Accuracy 0.8864130434782609 | Test Loss 0.4229022849064607 | Test Accuracy 0.88125\n",
            "Epoch 15 | Train Loss 0.3685917826369405 | Train Accuracy 0.898695652173913 | Test Loss 0.41219673363062054 | Test Accuracy 0.875\n",
            "Epoch 16 | Train Loss 0.3427027551871207 | Train Accuracy 0.9056521739130434 | Test Loss 0.3875339398017296 | Test Accuracy 0.88625\n",
            "Epoch 17 | Train Loss 0.32362751222939956 | Train Accuracy 0.9120652173913043 | Test Loss 0.37465845392300534 | Test Accuracy 0.89125\n",
            "Epoch 18 | Train Loss 0.3070374296253754 | Train Accuracy 0.9169565217391304 | Test Loss 0.3609950404900771 | Test Accuracy 0.89375\n",
            "Epoch 19 | Train Loss 0.2894842102088862 | Train Accuracy 0.921304347826087 | Test Loss 0.37636300119069904 | Test Accuracy 0.88875\n",
            "Epoch 20 | Train Loss 0.2779963221918378 | Train Accuracy 0.923695652173913 | Test Loss 0.35263146689304936 | Test Accuracy 0.89875\n",
            "Epoch 21 | Train Loss 0.26719247917127276 | Train Accuracy 0.9271739130434783 | Test Loss 0.3334240179795485 | Test Accuracy 0.90125\n",
            "Epoch 22 | Train Loss 0.255359733166794 | Train Accuracy 0.9316304347826087 | Test Loss 0.32007926072065646 | Test Accuracy 0.9075\n",
            "Epoch 23 | Train Loss 0.2462044774244229 | Train Accuracy 0.9328260869565217 | Test Loss 0.3259059809721433 | Test Accuracy 0.90625\n",
            "Epoch 24 | Train Loss 0.2330919900495145 | Train Accuracy 0.9378260869565217 | Test Loss 0.34707056272488374 | Test Accuracy 0.905\n",
            "Epoch 25 | Train Loss 0.22286408016872075 | Train Accuracy 0.94 | Test Loss 0.330351302256951 | Test Accuracy 0.91\n",
            "Epoch 26 | Train Loss 0.22010009955718285 | Train Accuracy 0.9391304347826087 | Test Loss 0.31988228456332135 | Test Accuracy 0.91625\n",
            "Epoch 27 | Train Loss 0.20976853908763993 | Train Accuracy 0.9434782608695652 | Test Loss 0.30305503423397356 | Test Accuracy 0.91875\n",
            "Epoch 28 | Train Loss 0.2045643085665587 | Train Accuracy 0.9443478260869566 | Test Loss 0.3053124581391995 | Test Accuracy 0.91875\n",
            "Epoch 29 | Train Loss 0.19562423550006416 | Train Accuracy 0.9467391304347826 | Test Loss 0.32009684581022996 | Test Accuracy 0.9225\n",
            "Epoch 30 | Train Loss 0.1928633978176448 | Train Accuracy 0.9482608695652174 | Test Loss 0.27988515908901507 | Test Accuracy 0.925\n",
            "Epoch 31 | Train Loss 0.18815151777946287 | Train Accuracy 0.9494565217391304 | Test Loss 0.29012467998724717 | Test Accuracy 0.92\n",
            "Epoch 32 | Train Loss 0.1802500367630273 | Train Accuracy 0.9520652173913043 | Test Loss 0.28112241396537196 | Test Accuracy 0.92375\n",
            "Epoch 33 | Train Loss 0.17757529501492778 | Train Accuracy 0.9519565217391305 | Test Loss 0.2939508729256116 | Test Accuracy 0.92125\n",
            "Epoch 34 | Train Loss 0.17587464278201675 | Train Accuracy 0.9520652173913043 | Test Loss 0.2728628143668175 | Test Accuracy 0.9275\n",
            "Epoch 35 | Train Loss 0.1720335133270257 | Train Accuracy 0.9535869565217391 | Test Loss 0.29512423964647144 | Test Accuracy 0.92125\n",
            "Epoch 36 | Train Loss 0.1661400366315825 | Train Accuracy 0.9548913043478261 | Test Loss 0.2576652088990578 | Test Accuracy 0.9325\n",
            "Epoch 37 | Train Loss 0.16240198905062345 | Train Accuracy 0.9553260869565218 | Test Loss 0.2696658349954165 | Test Accuracy 0.935\n",
            "Epoch 38 | Train Loss 0.159806654892034 | Train Accuracy 0.9570652173913043 | Test Loss 0.25623821982970607 | Test Accuracy 0.93375\n",
            "Epoch 39 | Train Loss 0.1540737438740002 | Train Accuracy 0.9601086956521739 | Test Loss 0.24623259558127478 | Test Accuracy 0.93375\n",
            "Epoch 0 | Train Loss 2.1215423295895257 | Train Accuracy 0.22706521739130434 | Test Loss 2.01783614892226 | Test Accuracy 0.2775\n",
            "Epoch 1 | Train Loss 1.7919904068112373 | Train Accuracy 0.4102173913043478 | Test Loss 1.6887362095025868 | Test Accuracy 0.4325\n",
            "Epoch 2 | Train Loss 1.4770614728331566 | Train Accuracy 0.5328260869565218 | Test Loss 1.4320776921052198 | Test Accuracy 0.52875\n",
            "Epoch 3 | Train Loss 1.2503813169896603 | Train Accuracy 0.5942391304347826 | Test Loss 1.2413521913381724 | Test Accuracy 0.585\n",
            "Epoch 4 | Train Loss 1.08632746587197 | Train Accuracy 0.6532608695652173 | Test Loss 1.0891294250121484 | Test Accuracy 0.66125\n",
            "Epoch 5 | Train Loss 0.96521806013253 | Train Accuracy 0.6914130434782608 | Test Loss 0.9348097306031448 | Test Accuracy 0.71375\n",
            "Epoch 6 | Train Loss 0.8662901798056232 | Train Accuracy 0.7293478260869565 | Test Loss 0.8418985972037683 | Test Accuracy 0.75125\n",
            "Epoch 7 | Train Loss 0.7855133757823043 | Train Accuracy 0.7593478260869565 | Test Loss 0.7893802431913522 | Test Accuracy 0.76875\n",
            "Epoch 8 | Train Loss 0.7204304999775357 | Train Accuracy 0.7814130434782609 | Test Loss 0.6880211371641892 | Test Accuracy 0.7975\n",
            "Epoch 9 | Train Loss 0.6610456026262708 | Train Accuracy 0.8021739130434783 | Test Loss 0.65958316051043 | Test Accuracy 0.79875\n",
            "Epoch 10 | Train Loss 0.6202516079776816 | Train Accuracy 0.8154347826086956 | Test Loss 0.5643966197967529 | Test Accuracy 0.8275\n",
            "Epoch 11 | Train Loss 0.576417560585671 | Train Accuracy 0.8294565217391304 | Test Loss 0.5294362444144028 | Test Accuracy 0.8475\n",
            "Epoch 12 | Train Loss 0.5383892818871472 | Train Accuracy 0.8428260869565217 | Test Loss 0.5188362162846786 | Test Accuracy 0.85625\n",
            "Epoch 13 | Train Loss 0.5078033773849407 | Train Accuracy 0.8532608695652174 | Test Loss 0.4851301404146048 | Test Accuracy 0.86125\n",
            "Epoch 14 | Train Loss 0.4702025849579109 | Train Accuracy 0.8643478260869565 | Test Loss 0.44740987053284276 | Test Accuracy 0.86875\n",
            "Epoch 15 | Train Loss 0.4420445315125916 | Train Accuracy 0.8727173913043478 | Test Loss 0.439773080440668 | Test Accuracy 0.88375\n",
            "Epoch 16 | Train Loss 0.4140794934290979 | Train Accuracy 0.8819565217391304 | Test Loss 0.4343015964214618 | Test Accuracy 0.88875\n",
            "Epoch 17 | Train Loss 0.38807591951141757 | Train Accuracy 0.8892391304347826 | Test Loss 0.40579338257129377 | Test Accuracy 0.8975\n",
            "Epoch 18 | Train Loss 0.36612953349120086 | Train Accuracy 0.895 | Test Loss 0.3811721606896474 | Test Accuracy 0.9\n",
            "Epoch 19 | Train Loss 0.3499265643250611 | Train Accuracy 0.8993478260869565 | Test Loss 0.362515250650736 | Test Accuracy 0.9075\n",
            "Epoch 20 | Train Loss 0.3379771015089419 | Train Accuracy 0.903804347826087 | Test Loss 0.33600791371785677 | Test Accuracy 0.90625\n",
            "Epoch 21 | Train Loss 0.3206959123102327 | Train Accuracy 0.9078260869565218 | Test Loss 0.3306847226161223 | Test Accuracy 0.90875\n",
            "Epoch 22 | Train Loss 0.3131770934495661 | Train Accuracy 0.9118478260869565 | Test Loss 0.31012327625201297 | Test Accuracy 0.9175\n",
            "Epoch 23 | Train Loss 0.30116557479939526 | Train Accuracy 0.9135869565217392 | Test Loss 0.33393067236130053 | Test Accuracy 0.91\n",
            "Epoch 24 | Train Loss 0.2920983629818592 | Train Accuracy 0.9192391304347826 | Test Loss 0.30181415608296025 | Test Accuracy 0.91875\n",
            "Epoch 25 | Train Loss 0.2846226885707842 | Train Accuracy 0.9220652173913043 | Test Loss 0.27932610935889757 | Test Accuracy 0.915\n",
            "Epoch 26 | Train Loss 0.2748634516158038 | Train Accuracy 0.923695652173913 | Test Loss 0.28333064684501064 | Test Accuracy 0.92375\n",
            "Epoch 27 | Train Loss 0.26982685558808345 | Train Accuracy 0.9257608695652174 | Test Loss 0.29462355776475024 | Test Accuracy 0.925\n",
            "Epoch 28 | Train Loss 0.25926500864119995 | Train Accuracy 0.928804347826087 | Test Loss 0.2978169276164128 | Test Accuracy 0.91625\n",
            "Epoch 29 | Train Loss 0.25513933813716805 | Train Accuracy 0.9297826086956522 | Test Loss 0.3000126498249861 | Test Accuracy 0.9175\n",
            "Epoch 30 | Train Loss 0.2449296298954222 | Train Accuracy 0.9325 | Test Loss 0.29856948611828 | Test Accuracy 0.92\n",
            "Epoch 31 | Train Loss 0.24357808557235533 | Train Accuracy 0.9346739130434782 | Test Loss 0.28431541415361256 | Test Accuracy 0.9225\n",
            "Epoch 32 | Train Loss 0.2380636453938981 | Train Accuracy 0.9355434782608696 | Test Loss 0.28905854374170303 | Test Accuracy 0.9225\n",
            "Validation accuracy did not improve for several epochs. Stopping early.\n",
            "Epoch 0 | Train Loss 2.102779087920984 | Train Accuracy 0.26521739130434785 | Test Loss 1.9437189652369573 | Test Accuracy 0.32375\n",
            "Epoch 1 | Train Loss 1.7261508247918553 | Train Accuracy 0.4073913043478261 | Test Loss 1.6569785613280077 | Test Accuracy 0.41875\n",
            "Epoch 2 | Train Loss 1.4487269297242165 | Train Accuracy 0.5146739130434783 | Test Loss 1.4102584307010357 | Test Accuracy 0.53625\n",
            "Epoch 3 | Train Loss 1.2295820696486368 | Train Accuracy 0.610108695652174 | Test Loss 1.226100050486051 | Test Accuracy 0.61125\n",
            "Epoch 4 | Train Loss 1.0424494188692834 | Train Accuracy 0.6761956521739131 | Test Loss 1.0153733721146216 | Test Accuracy 0.67375\n",
            "Epoch 5 | Train Loss 0.8983568015197912 | Train Accuracy 0.7265217391304348 | Test Loss 0.8835592774244455 | Test Accuracy 0.71\n",
            "Epoch 6 | Train Loss 0.7934631866713365 | Train Accuracy 0.7626086956521739 | Test Loss 0.7614036019031818 | Test Accuracy 0.77875\n",
            "Epoch 7 | Train Loss 0.6996346016724905 | Train Accuracy 0.7948913043478261 | Test Loss 0.6842708518871894 | Test Accuracy 0.79875\n",
            "Epoch 8 | Train Loss 0.6340629162473811 | Train Accuracy 0.8148913043478261 | Test Loss 0.5981955711658185 | Test Accuracy 0.8225\n",
            "Epoch 9 | Train Loss 0.5798345379945304 | Train Accuracy 0.8339130434782609 | Test Loss 0.5289787076986753 | Test Accuracy 0.8575\n",
            "Epoch 10 | Train Loss 0.52647672738466 | Train Accuracy 0.850108695652174 | Test Loss 0.49635706956569964 | Test Accuracy 0.86625\n",
            "Epoch 11 | Train Loss 0.48724534093505806 | Train Accuracy 0.8654347826086957 | Test Loss 0.4441505808096666 | Test Accuracy 0.88\n",
            "Epoch 12 | Train Loss 0.4506787538735403 | Train Accuracy 0.8797826086956522 | Test Loss 0.427432832809595 | Test Accuracy 0.87875\n",
            "Epoch 13 | Train Loss 0.4225397278658218 | Train Accuracy 0.8854347826086957 | Test Loss 0.3978673563553737 | Test Accuracy 0.89125\n",
            "Epoch 14 | Train Loss 0.4001372813557585 | Train Accuracy 0.8916304347826087 | Test Loss 0.40706813679291654 | Test Accuracy 0.88875\n",
            "Epoch 15 | Train Loss 0.37769059743732214 | Train Accuracy 0.8973913043478261 | Test Loss 0.38468707410188824 | Test Accuracy 0.8875\n",
            "Epoch 16 | Train Loss 0.35812557985385257 | Train Accuracy 0.9010869565217391 | Test Loss 0.36461332784249234 | Test Accuracy 0.89875\n",
            "Epoch 17 | Train Loss 0.3441625468225943 | Train Accuracy 0.9052173913043479 | Test Loss 0.3495488751393098 | Test Accuracy 0.89625\n",
            "Epoch 18 | Train Loss 0.3282299738170372 | Train Accuracy 0.9103260869565217 | Test Loss 0.3444394858983847 | Test Accuracy 0.8975\n",
            "Epoch 19 | Train Loss 0.30970028125577503 | Train Accuracy 0.9155434782608696 | Test Loss 0.3321501715825154 | Test Accuracy 0.90375\n",
            "Epoch 20 | Train Loss 0.30005166788275045 | Train Accuracy 0.917608695652174 | Test Loss 0.3457789593018018 | Test Accuracy 0.89625\n",
            "Epoch 21 | Train Loss 0.28798788542755777 | Train Accuracy 0.9190217391304348 | Test Loss 0.33569516241550446 | Test Accuracy 0.91\n",
            "Epoch 22 | Train Loss 0.275802175152219 | Train Accuracy 0.9232608695652174 | Test Loss 0.31818434366813075 | Test Accuracy 0.9125\n",
            "Epoch 23 | Train Loss 0.2644837403980394 | Train Accuracy 0.9260869565217391 | Test Loss 0.3001541501054397 | Test Accuracy 0.91375\n",
            "Epoch 24 | Train Loss 0.2550238865013752 | Train Accuracy 0.928804347826087 | Test Loss 0.29300723797999895 | Test Accuracy 0.915\n",
            "Epoch 25 | Train Loss 0.25035926999731195 | Train Accuracy 0.931304347826087 | Test Loss 0.311431144292538 | Test Accuracy 0.91\n",
            "Epoch 26 | Train Loss 0.2352216995269474 | Train Accuracy 0.9341304347826087 | Test Loss 0.2954166927016698 | Test Accuracy 0.9125\n",
            "Epoch 27 | Train Loss 0.22803286144820353 | Train Accuracy 0.9360869565217391 | Test Loss 0.2662585492317493 | Test Accuracy 0.92625\n",
            "Epoch 28 | Train Loss 0.23133983517376086 | Train Accuracy 0.9352173913043478 | Test Loss 0.28402294562413144 | Test Accuracy 0.9225\n",
            "Epoch 29 | Train Loss 0.2218422810288353 | Train Accuracy 0.9393478260869565 | Test Loss 0.29896641694582426 | Test Accuracy 0.91625\n",
            "Epoch 30 | Train Loss 0.21436325375301143 | Train Accuracy 0.9427173913043478 | Test Loss 0.2896813303232193 | Test Accuracy 0.92\n",
            "Epoch 31 | Train Loss 0.20749152508667773 | Train Accuracy 0.9443478260869566 | Test Loss 0.2667144720370953 | Test Accuracy 0.93\n",
            "Epoch 32 | Train Loss 0.1996970690993799 | Train Accuracy 0.947391304347826 | Test Loss 0.2614430977174869 | Test Accuracy 0.93375\n",
            "Epoch 33 | Train Loss 0.19538165452993578 | Train Accuracy 0.9477173913043478 | Test Loss 0.2726080194115639 | Test Accuracy 0.93\n",
            "Epoch 34 | Train Loss 0.1959027281910595 | Train Accuracy 0.9488043478260869 | Test Loss 0.2854506063919801 | Test Accuracy 0.93\n",
            "Epoch 35 | Train Loss 0.18498446161134374 | Train Accuracy 0.9497826086956521 | Test Loss 0.26320065787205327 | Test Accuracy 0.93625\n",
            "Epoch 36 | Train Loss 0.18535571615211666 | Train Accuracy 0.9508695652173913 | Test Loss 0.23987338548669448 | Test Accuracy 0.9375\n",
            "Epoch 37 | Train Loss 0.18199948253782672 | Train Accuracy 0.9509782608695653 | Test Loss 0.24823687913326117 | Test Accuracy 0.93625\n",
            "Epoch 38 | Train Loss 0.17953854775987566 | Train Accuracy 0.951195652173913 | Test Loss 0.2548239901661873 | Test Accuracy 0.9375\n",
            "Epoch 39 | Train Loss 0.17119046342041758 | Train Accuracy 0.9543478260869566 | Test Loss 0.24734379236514753 | Test Accuracy 0.93375\n",
            "Epoch 0 | Train Loss 2.2070872493916087 | Train Accuracy 0.18934782608695652 | Test Loss 2.049749282690195 | Test Accuracy 0.26875\n",
            "Epoch 1 | Train Loss 1.814911548462179 | Train Accuracy 0.38054347826086954 | Test Loss 1.6501416151340191 | Test Accuracy 0.47875\n",
            "Epoch 2 | Train Loss 1.4753679368231032 | Train Accuracy 0.5090217391304348 | Test Loss 1.3687865275603075 | Test Accuracy 0.54125\n",
            "Epoch 3 | Train Loss 1.2584505052202277 | Train Accuracy 0.5846739130434783 | Test Loss 1.19291536624615 | Test Accuracy 0.60125\n",
            "Epoch 4 | Train Loss 1.1009365825189485 | Train Accuracy 0.643804347826087 | Test Loss 1.0121452945929308 | Test Accuracy 0.68875\n",
            "Epoch 5 | Train Loss 0.9681856052743064 | Train Accuracy 0.6906521739130435 | Test Loss 0.884900803749378 | Test Accuracy 0.735\n",
            "Epoch 6 | Train Loss 0.854904024137391 | Train Accuracy 0.7307608695652174 | Test Loss 0.778189847102532 | Test Accuracy 0.75625\n",
            "Epoch 7 | Train Loss 0.7571058246410556 | Train Accuracy 0.7622826086956521 | Test Loss 0.6716500795804538 | Test Accuracy 0.78875\n",
            "Epoch 8 | Train Loss 0.6644857654141055 | Train Accuracy 0.7980434782608695 | Test Loss 0.5928900998372298 | Test Accuracy 0.81875\n",
            "Epoch 9 | Train Loss 0.5908561775253879 | Train Accuracy 0.82 | Test Loss 0.530870245053218 | Test Accuracy 0.83625\n",
            "Epoch 10 | Train Loss 0.5407770253303978 | Train Accuracy 0.8351086956521739 | Test Loss 0.471434616125547 | Test Accuracy 0.84875\n",
            "Epoch 11 | Train Loss 0.5017374942286147 | Train Accuracy 0.8471739130434782 | Test Loss 0.4486505435063289 | Test Accuracy 0.8625\n",
            "Epoch 12 | Train Loss 0.4622159387088484 | Train Accuracy 0.8594565217391305 | Test Loss 0.42382985811967117 | Test Accuracy 0.87625\n",
            "Epoch 13 | Train Loss 0.42832068943729 | Train Accuracy 0.8694565217391305 | Test Loss 0.40483909386854905 | Test Accuracy 0.87625\n",
            "Epoch 14 | Train Loss 0.39679726999666953 | Train Accuracy 0.8784782608695653 | Test Loss 0.38113466707559734 | Test Accuracy 0.88125\n",
            "Epoch 15 | Train Loss 0.36870663095679546 | Train Accuracy 0.8897826086956522 | Test Loss 0.36339357724556554 | Test Accuracy 0.88625\n",
            "Epoch 16 | Train Loss 0.3465391792770889 | Train Accuracy 0.8992391304347827 | Test Loss 0.31950841729457563 | Test Accuracy 0.90125\n",
            "Epoch 17 | Train Loss 0.32531643933099175 | Train Accuracy 0.905 | Test Loss 0.3070770674026929 | Test Accuracy 0.91125\n",
            "Epoch 18 | Train Loss 0.30411774773771566 | Train Accuracy 0.9116304347826087 | Test Loss 0.3222301590901155 | Test Accuracy 0.90625\n",
            "Epoch 19 | Train Loss 0.29439251533605987 | Train Accuracy 0.9157608695652174 | Test Loss 0.320990101649211 | Test Accuracy 0.905\n",
            "Epoch 20 | Train Loss 0.2790396987564034 | Train Accuracy 0.9225 | Test Loss 0.29069488323651826 | Test Accuracy 0.91625\n",
            "Epoch 21 | Train Loss 0.26197779716716874 | Train Accuracy 0.9264130434782609 | Test Loss 0.28252217975946575 | Test Accuracy 0.91875\n",
            "Epoch 22 | Train Loss 0.2534213452082541 | Train Accuracy 0.9292391304347826 | Test Loss 0.2803229150863794 | Test Accuracy 0.92\n",
            "Epoch 23 | Train Loss 0.24292048066854477 | Train Accuracy 0.9311956521739131 | Test Loss 0.269882147701887 | Test Accuracy 0.92125\n",
            "Epoch 24 | Train Loss 0.23993775434792042 | Train Accuracy 0.9328260869565217 | Test Loss 0.2707246427352612 | Test Accuracy 0.91875\n",
            "Epoch 25 | Train Loss 0.23167455698260003 | Train Accuracy 0.9348913043478261 | Test Loss 0.24528697419625062 | Test Accuracy 0.9225\n",
            "Epoch 26 | Train Loss 0.222554692093076 | Train Accuracy 0.9373913043478261 | Test Loss 0.25326258746477276 | Test Accuracy 0.92625\n",
            "Epoch 27 | Train Loss 0.21987380092549655 | Train Accuracy 0.9377173913043478 | Test Loss 0.2497565092948767 | Test Accuracy 0.92625\n",
            "Epoch 28 | Train Loss 0.21001317711650497 | Train Accuracy 0.9429347826086957 | Test Loss 0.24023748131898734 | Test Accuracy 0.925\n",
            "Epoch 29 | Train Loss 0.20084497213570607 | Train Accuracy 0.9465217391304348 | Test Loss 0.23020852987582868 | Test Accuracy 0.93\n",
            "Epoch 30 | Train Loss 0.19614798606683811 | Train Accuracy 0.9464130434782608 | Test Loss 0.23088450729846954 | Test Accuracy 0.9275\n",
            "Epoch 31 | Train Loss 0.18849331026689875 | Train Accuracy 0.9484782608695652 | Test Loss 0.23413179241693938 | Test Accuracy 0.925\n",
            "Epoch 32 | Train Loss 0.18168502295803693 | Train Accuracy 0.9506521739130435 | Test Loss 0.23147300430215323 | Test Accuracy 0.92625\n",
            "Epoch 33 | Train Loss 0.17668907584932944 | Train Accuracy 0.9538043478260869 | Test Loss 0.2501631725866061 | Test Accuracy 0.925\n",
            "Epoch 34 | Train Loss 0.17363529635541555 | Train Accuracy 0.9528260869565217 | Test Loss 0.24446613570818534 | Test Accuracy 0.9225\n",
            "Validation accuracy did not improve for several epochs. Stopping early.\n",
            "Epoch 0 | Train Loss 2.1406602602865963 | Train Accuracy 0.2642391304347826 | Test Loss 1.9530331996771007 | Test Accuracy 0.335\n",
            "Epoch 1 | Train Loss 1.767554337779681 | Train Accuracy 0.39 | Test Loss 1.5951071885915904 | Test Accuracy 0.475\n",
            "Epoch 2 | Train Loss 1.4510870551069577 | Train Accuracy 0.5239130434782608 | Test Loss 1.372870839559115 | Test Accuracy 0.55125\n",
            "Epoch 3 | Train Loss 1.2393232848909166 | Train Accuracy 0.5979347826086957 | Test Loss 1.2062666782966027 | Test Accuracy 0.6125\n",
            "Epoch 4 | Train Loss 1.0853790872626834 | Train Accuracy 0.6557608695652174 | Test Loss 1.0783992409706116 | Test Accuracy 0.655\n",
            "Epoch 5 | Train Loss 0.9512954805460241 | Train Accuracy 0.7098913043478261 | Test Loss 0.9308871901952304 | Test Accuracy 0.71\n",
            "Epoch 6 | Train Loss 0.835209192087253 | Train Accuracy 0.7471739130434782 | Test Loss 0.8378561505904565 | Test Accuracy 0.73625\n",
            "Epoch 7 | Train Loss 0.7373897307034996 | Train Accuracy 0.7819565217391304 | Test Loss 0.7565633585819831 | Test Accuracy 0.77125\n",
            "Epoch 8 | Train Loss 0.6595280640241172 | Train Accuracy 0.8078260869565217 | Test Loss 0.7074340054622064 | Test Accuracy 0.80125\n",
            "Epoch 9 | Train Loss 0.5945095535781648 | Train Accuracy 0.826304347826087 | Test Loss 0.6415963539710412 | Test Accuracy 0.81875\n",
            "Epoch 10 | Train Loss 0.5390806458890438 | Train Accuracy 0.8480434782608696 | Test Loss 0.6013766252077543 | Test Accuracy 0.83125\n",
            "Epoch 11 | Train Loss 0.4945957953524258 | Train Accuracy 0.8581521739130434 | Test Loss 0.5434344571370345 | Test Accuracy 0.85\n",
            "Epoch 12 | Train Loss 0.4487787356807126 | Train Accuracy 0.871195652173913 | Test Loss 0.5194179576176864 | Test Accuracy 0.86\n",
            "Epoch 13 | Train Loss 0.41127337060040897 | Train Accuracy 0.8830434782608696 | Test Loss 0.4922371185742892 | Test Accuracy 0.87\n",
            "Epoch 14 | Train Loss 0.38825911397321355 | Train Accuracy 0.8903260869565217 | Test Loss 0.48281198052259594 | Test Accuracy 0.87375\n",
            "Epoch 15 | Train Loss 0.3625600758112139 | Train Accuracy 0.8960869565217391 | Test Loss 0.42034691113692063 | Test Accuracy 0.88125\n",
            "Epoch 16 | Train Loss 0.34037364419135785 | Train Accuracy 0.903804347826087 | Test Loss 0.41789428889751434 | Test Accuracy 0.8825\n",
            "Epoch 17 | Train Loss 0.3239261004038983 | Train Accuracy 0.908695652173913 | Test Loss 0.3755538222881464 | Test Accuracy 0.89125\n",
            "Epoch 18 | Train Loss 0.3083224012516439 | Train Accuracy 0.9120652173913043 | Test Loss 0.3976661895330136 | Test Accuracy 0.89\n",
            "Epoch 19 | Train Loss 0.2908620950248506 | Train Accuracy 0.9155434782608696 | Test Loss 0.37662160855073196 | Test Accuracy 0.89625\n",
            "Epoch 20 | Train Loss 0.2781002250913944 | Train Accuracy 0.9218478260869565 | Test Loss 0.3540649436987363 | Test Accuracy 0.90125\n",
            "Epoch 21 | Train Loss 0.2657891396536595 | Train Accuracy 0.9255434782608696 | Test Loss 0.3554501235485077 | Test Accuracy 0.9025\n",
            "Epoch 22 | Train Loss 0.2532419461446504 | Train Accuracy 0.9282608695652174 | Test Loss 0.3316869013584577 | Test Accuracy 0.91375\n",
            "Epoch 23 | Train Loss 0.24719660982696545 | Train Accuracy 0.9311956521739131 | Test Loss 0.319566174195363 | Test Accuracy 0.91375\n",
            "Epoch 24 | Train Loss 0.24421233916655183 | Train Accuracy 0.9327173913043478 | Test Loss 0.28341104319462407 | Test Accuracy 0.92\n",
            "Epoch 25 | Train Loss 0.23297216512987184 | Train Accuracy 0.9354347826086956 | Test Loss 0.2721501290798187 | Test Accuracy 0.92\n",
            "Epoch 26 | Train Loss 0.22009784989576373 | Train Accuracy 0.9393478260869565 | Test Loss 0.25834339971725756 | Test Accuracy 0.9325\n",
            "Epoch 27 | Train Loss 0.21400288567464384 | Train Accuracy 0.9397826086956522 | Test Loss 0.28796682277551067 | Test Accuracy 0.9275\n",
            "Epoch 28 | Train Loss 0.2051454941328201 | Train Accuracy 0.9439130434782609 | Test Loss 0.26904032207452333 | Test Accuracy 0.9325\n",
            "Epoch 29 | Train Loss 0.1988471623044461 | Train Accuracy 0.9452173913043478 | Test Loss 0.259866826236248 | Test Accuracy 0.93375\n",
            "Epoch 30 | Train Loss 0.19573465755416286 | Train Accuracy 0.9465217391304348 | Test Loss 0.25923203848875487 | Test Accuracy 0.93375\n",
            "Epoch 31 | Train Loss 0.1897675121565246 | Train Accuracy 0.9492391304347826 | Test Loss 0.27965876116202426 | Test Accuracy 0.9325\n",
            "Epoch 32 | Train Loss 0.18074311608345145 | Train Accuracy 0.9506521739130435 | Test Loss 0.2629569172859192 | Test Accuracy 0.93125\n",
            "Epoch 33 | Train Loss 0.1786237590842777 | Train Accuracy 0.95 | Test Loss 0.2476743872349079 | Test Accuracy 0.93625\n",
            "Epoch 34 | Train Loss 0.1735216666582144 | Train Accuracy 0.9522826086956522 | Test Loss 0.24597585258575586 | Test Accuracy 0.94\n",
            "Epoch 35 | Train Loss 0.17143181607955033 | Train Accuracy 0.9522826086956522 | Test Loss 0.2855588249289073 | Test Accuracy 0.92875\n",
            "Epoch 36 | Train Loss 0.16305991092748526 | Train Accuracy 0.9545652173913044 | Test Loss 0.26360976008268505 | Test Accuracy 0.94\n",
            "Epoch 37 | Train Loss 0.1647997746606254 | Train Accuracy 0.955 | Test Loss 0.26808299066928715 | Test Accuracy 0.935\n",
            "Epoch 38 | Train Loss 0.16314515528372592 | Train Accuracy 0.9554347826086956 | Test Loss 0.2557996419759897 | Test Accuracy 0.93625\n",
            "Epoch 39 | Train Loss 0.1599823247977636 | Train Accuracy 0.9572826086956522 | Test Loss 0.286083429478682 | Test Accuracy 0.94\n",
            "Validation accuracy did not improve for several epochs. Stopping early.\n",
            "best accuraces for test was : [0.935, 0.925, 0.9375, 0.93, 0.94]\n",
            "stddev for test was  : 0.006020797289396114\n",
            "best accuraces for test was : [0.9601086956521739, 0.9355434782608696, 0.9543478260869566, 0.9538043478260869, 0.9572826086956522]\n",
            "stddev for test was  : 0.009656677366950608\n"
          ]
        }
      ]
    },
    {
      "cell_type": "code",
      "source": [
        "import numpy as np\n",
        "\n",
        "test_acc = [0.935, 0.925, 0.9375, 0.93, 0.94]\n",
        "\n",
        "np.array(test_acc).mean()"
      ],
      "metadata": {
        "colab": {
          "base_uri": "https://localhost:8080/"
        },
        "id": "ZICHjgQA-6Ub",
        "outputId": "05984467-ceea-4600-e2bd-0617f4aeb353"
      },
      "execution_count": 9,
      "outputs": [
        {
          "output_type": "execute_result",
          "data": {
            "text/plain": [
              "0.9335000000000001"
            ]
          },
          "metadata": {},
          "execution_count": 9
        }
      ]
    },
    {
      "cell_type": "markdown",
      "source": [
        "# squeeze 300"
      ],
      "metadata": {
        "id": "kLSyaSSnoJx6"
      }
    },
    {
      "cell_type": "code",
      "source": [
        "logssq300 = run_experiment(300, features)\n",
        "with open('/content/drive/MyDrive/tmp/logssq300.pkl', 'wb') as file:\n",
        "        pickle.dump(logssq300, file)"
      ],
      "metadata": {
        "colab": {
          "base_uri": "https://localhost:8080/"
        },
        "id": "5zCkP6jNh2uL",
        "outputId": "4bbd306b-fd9b-4a04-ae9e-b3adb21277cb"
      },
      "execution_count": null,
      "outputs": [
        {
          "output_type": "stream",
          "name": "stdout",
          "text": [
            "Data(x=[75, 300], edge_index=[2, 1405], y=[1], pos=[75, 2])\n",
            "Data(x=[75, 300], edge_index=[2, 1395], y=[1], pos=[75, 2])\n",
            "Starting training...\n",
            "Epoch 0 | Train Loss 2.150854040351179 | Train Accuracy 0.2257608695652174 | Test Loss 1.9765421152114868 | Test Accuracy 0.3775\n",
            "Epoch 1 | Train Loss 1.7449636401401625 | Train Accuracy 0.4225 | Test Loss 1.5677334253604596 | Test Accuracy 0.5025\n",
            "Epoch 2 | Train Loss 1.3582947908176317 | Train Accuracy 0.5809782608695652 | Test Loss 1.2565540075302124 | Test Accuracy 0.60875\n",
            "Epoch 3 | Train Loss 1.0816227959262 | Train Accuracy 0.6845652173913044 | Test Loss 1.0435980879343474 | Test Accuracy 0.695\n",
            "Epoch 4 | Train Loss 0.8772104370097319 | Train Accuracy 0.7570652173913044 | Test Loss 0.8636716237434974 | Test Accuracy 0.7525\n",
            "Epoch 5 | Train Loss 0.7248963357673751 | Train Accuracy 0.7956521739130434 | Test Loss 0.7387260381992047 | Test Accuracy 0.785\n",
            "Epoch 6 | Train Loss 0.6134283368786176 | Train Accuracy 0.8280434782608695 | Test Loss 0.6525090749447162 | Test Accuracy 0.8225\n",
            "Epoch 7 | Train Loss 0.5370281307647625 | Train Accuracy 0.8457608695652173 | Test Loss 0.5739410702998822 | Test Accuracy 0.8375\n",
            "Epoch 8 | Train Loss 0.47642087874313194 | Train Accuracy 0.8636956521739131 | Test Loss 0.5034351899073675 | Test Accuracy 0.865\n",
            "Epoch 9 | Train Loss 0.42577217891812325 | Train Accuracy 0.8781521739130435 | Test Loss 0.4711319047671098 | Test Accuracy 0.8675\n",
            "Epoch 10 | Train Loss 0.38883923025180894 | Train Accuracy 0.8893478260869565 | Test Loss 0.4365035708133991 | Test Accuracy 0.87625\n",
            "Epoch 11 | Train Loss 0.35855948893974227 | Train Accuracy 0.8993478260869565 | Test Loss 0.42213461376153505 | Test Accuracy 0.87625\n",
            "Epoch 12 | Train Loss 0.34006695982275736 | Train Accuracy 0.9057608695652174 | Test Loss 0.40056705245604884 | Test Accuracy 0.88125\n",
            "Epoch 13 | Train Loss 0.3238491237991386 | Train Accuracy 0.908804347826087 | Test Loss 0.38083869448074925 | Test Accuracy 0.89125\n",
            "Epoch 14 | Train Loss 0.30548988603469396 | Train Accuracy 0.9156521739130434 | Test Loss 0.3684385075018956 | Test Accuracy 0.9\n",
            "Epoch 15 | Train Loss 0.28463782235566115 | Train Accuracy 0.9208695652173913 | Test Loss 0.3769479050086095 | Test Accuracy 0.9\n",
            "Epoch 16 | Train Loss 0.27071234221673673 | Train Accuracy 0.9251086956521739 | Test Loss 0.3617585003376007 | Test Accuracy 0.89875\n",
            "Epoch 17 | Train Loss 0.25644545655490625 | Train Accuracy 0.9301086956521739 | Test Loss 0.33059751758208644 | Test Accuracy 0.90125\n",
            "Epoch 18 | Train Loss 0.24372477079224256 | Train Accuracy 0.9331521739130435 | Test Loss 0.3470143045370395 | Test Accuracy 0.89875\n",
            "Epoch 19 | Train Loss 0.23533828856630457 | Train Accuracy 0.9352173913043478 | Test Loss 0.3179084423642892 | Test Accuracy 0.9075\n",
            "Epoch 20 | Train Loss 0.22444849280226561 | Train Accuracy 0.9385869565217392 | Test Loss 0.3255105511500285 | Test Accuracy 0.905\n",
            "Epoch 21 | Train Loss 0.21646578413330847 | Train Accuracy 0.9404347826086956 | Test Loss 0.2927878668101934 | Test Accuracy 0.9125\n",
            "Epoch 22 | Train Loss 0.21005309137722683 | Train Accuracy 0.9414130434782608 | Test Loss 0.29866471542761874 | Test Accuracy 0.915\n",
            "Epoch 23 | Train Loss 0.20372175420117047 | Train Accuracy 0.9434782608695652 | Test Loss 0.2789348134627709 | Test Accuracy 0.915\n",
            "Epoch 24 | Train Loss 0.1957422928729405 | Train Accuracy 0.946304347826087 | Test Loss 0.26918616690314734 | Test Accuracy 0.915\n",
            "Epoch 25 | Train Loss 0.19174944635273683 | Train Accuracy 0.9466304347826087 | Test Loss 0.24448667294703996 | Test Accuracy 0.9225\n",
            "Epoch 26 | Train Loss 0.18620715655076006 | Train Accuracy 0.9483695652173914 | Test Loss 0.24309671154389015 | Test Accuracy 0.9225\n",
            "Epoch 27 | Train Loss 0.1820735982619226 | Train Accuracy 0.9495652173913044 | Test Loss 0.23901710372704726 | Test Accuracy 0.92875\n",
            "Epoch 28 | Train Loss 0.17576388141606003 | Train Accuracy 0.9501086956521739 | Test Loss 0.22309923286621386 | Test Accuracy 0.93625\n",
            "Epoch 29 | Train Loss 0.17192337716308734 | Train Accuracy 0.951195652173913 | Test Loss 0.2244409185189467 | Test Accuracy 0.92875\n",
            "Epoch 30 | Train Loss 0.1696089093780352 | Train Accuracy 0.9531521739130435 | Test Loss 0.24445154059391755 | Test Accuracy 0.9225\n",
            "Epoch 31 | Train Loss 0.16392681232860518 | Train Accuracy 0.9547826086956521 | Test Loss 0.2593007660829104 | Test Accuracy 0.92375\n",
            "Epoch 32 | Train Loss 0.15520057807831714 | Train Accuracy 0.9589130434782609 | Test Loss 0.2458599525002333 | Test Accuracy 0.93125\n",
            "Epoch 33 | Train Loss 0.15252765995036396 | Train Accuracy 0.9581521739130435 | Test Loss 0.22604723102771318 | Test Accuracy 0.92625\n",
            "Validation accuracy did not improve for several epochs. Stopping early.\n",
            "Epoch 0 | Train Loss 2.1733223175009093 | Train Accuracy 0.23097826086956522 | Test Loss 2.0136724618765025 | Test Accuracy 0.3475\n",
            "Epoch 1 | Train Loss 1.7896725469165378 | Train Accuracy 0.4151086956521739 | Test Loss 1.6133709779152503 | Test Accuracy 0.51875\n",
            "Epoch 2 | Train Loss 1.4202709454629157 | Train Accuracy 0.5445652173913044 | Test Loss 1.2485561004051795 | Test Accuracy 0.61125\n",
            "Epoch 3 | Train Loss 1.1339475156532393 | Train Accuracy 0.6314130434782609 | Test Loss 1.028547397026649 | Test Accuracy 0.65625\n",
            "Epoch 4 | Train Loss 0.9556107434133688 | Train Accuracy 0.6897826086956522 | Test Loss 0.8737510763681852 | Test Accuracy 0.70875\n",
            "Epoch 5 | Train Loss 0.8330286633637216 | Train Accuracy 0.7377173913043479 | Test Loss 0.7924169760483962 | Test Accuracy 0.74375\n",
            "Epoch 6 | Train Loss 0.7232627150499158 | Train Accuracy 0.7717391304347826 | Test Loss 0.7487599207804754 | Test Accuracy 0.76\n",
            "Epoch 7 | Train Loss 0.637826718389988 | Train Accuracy 0.8004347826086956 | Test Loss 0.6321410169968238 | Test Accuracy 0.78625\n",
            "Epoch 8 | Train Loss 0.5810396253234811 | Train Accuracy 0.8175 | Test Loss 0.5755596206738398 | Test Accuracy 0.8175\n",
            "Epoch 9 | Train Loss 0.52120974390871 | Train Accuracy 0.842391304347826 | Test Loss 0.49513501960497636 | Test Accuracy 0.84875\n",
            "Epoch 10 | Train Loss 0.478643882398804 | Train Accuracy 0.8553260869565218 | Test Loss 0.504578180038012 | Test Accuracy 0.855\n",
            "Epoch 11 | Train Loss 0.43608326175146633 | Train Accuracy 0.8695652173913043 | Test Loss 0.4875031915994791 | Test Accuracy 0.85\n",
            "Epoch 12 | Train Loss 0.3996603050165706 | Train Accuracy 0.8797826086956522 | Test Loss 0.42764839644615465 | Test Accuracy 0.87375\n",
            "Epoch 13 | Train Loss 0.3697557049906916 | Train Accuracy 0.8895652173913043 | Test Loss 0.3890300072156466 | Test Accuracy 0.89\n",
            "Epoch 14 | Train Loss 0.33920171877576244 | Train Accuracy 0.9010869565217391 | Test Loss 0.3627772457324542 | Test Accuracy 0.90125\n",
            "Epoch 15 | Train Loss 0.3177348881339033 | Train Accuracy 0.9093478260869565 | Test Loss 0.3533527828179873 | Test Accuracy 0.90625\n",
            "Epoch 16 | Train Loss 0.2967725969954497 | Train Accuracy 0.9130434782608695 | Test Loss 0.331764722099671 | Test Accuracy 0.9075\n",
            "Epoch 17 | Train Loss 0.28179267219578225 | Train Accuracy 0.9201086956521739 | Test Loss 0.32160032941744876 | Test Accuracy 0.92125\n",
            "Epoch 18 | Train Loss 0.26805561361834407 | Train Accuracy 0.9234782608695652 | Test Loss 0.33512913836882663 | Test Accuracy 0.9125\n",
            "Epoch 19 | Train Loss 0.25709639820787644 | Train Accuracy 0.9279347826086957 | Test Loss 0.31373279369794405 | Test Accuracy 0.9125\n",
            "Epoch 20 | Train Loss 0.24524584867888027 | Train Accuracy 0.9325 | Test Loss 0.29887165358433354 | Test Accuracy 0.91875\n",
            "Epoch 21 | Train Loss 0.2359702622310983 | Train Accuracy 0.9326086956521739 | Test Loss 0.30304361421328324 | Test Accuracy 0.92\n",
            "Epoch 22 | Train Loss 0.2265368412869672 | Train Accuracy 0.9353260869565218 | Test Loss 0.2974732804756898 | Test Accuracy 0.9125\n",
            "Validation accuracy did not improve for several epochs. Stopping early.\n",
            "Epoch 0 | Train Loss 2.108103600641092 | Train Accuracy 0.28369565217391307 | Test Loss 1.9205973056646495 | Test Accuracy 0.4275\n",
            "Epoch 1 | Train Loss 1.6735301489631336 | Train Accuracy 0.47880434782608694 | Test Loss 1.5443819669576793 | Test Accuracy 0.49375\n",
            "Epoch 2 | Train Loss 1.3643993735313416 | Train Accuracy 0.5611956521739131 | Test Loss 1.2675378047502959 | Test Accuracy 0.60125\n",
            "Epoch 3 | Train Loss 1.1338922244807084 | Train Accuracy 0.6579347826086956 | Test Loss 1.0617666840553284 | Test Accuracy 0.66625\n",
            "Epoch 4 | Train Loss 0.971542595161332 | Train Accuracy 0.7 | Test Loss 0.9362846612930298 | Test Accuracy 0.70625\n",
            "Epoch 5 | Train Loss 0.8435467229121261 | Train Accuracy 0.743804347826087 | Test Loss 0.8214964683239276 | Test Accuracy 0.7375\n",
            "Epoch 6 | Train Loss 0.7467872591482269 | Train Accuracy 0.7727173913043478 | Test Loss 0.7095130085945129 | Test Accuracy 0.78\n",
            "Epoch 7 | Train Loss 0.6473157674902015 | Train Accuracy 0.8018478260869565 | Test Loss 0.6345291435718536 | Test Accuracy 0.8175\n",
            "Epoch 8 | Train Loss 0.5684858784079552 | Train Accuracy 0.8276086956521739 | Test Loss 0.5815856869404132 | Test Accuracy 0.83875\n",
            "Epoch 9 | Train Loss 0.5041502472013235 | Train Accuracy 0.8455434782608696 | Test Loss 0.511184770327348 | Test Accuracy 0.855\n",
            "Epoch 10 | Train Loss 0.45626632403582335 | Train Accuracy 0.8621739130434782 | Test Loss 0.462539778305934 | Test Accuracy 0.8675\n",
            "Epoch 11 | Train Loss 0.41800613256378305 | Train Accuracy 0.8744565217391305 | Test Loss 0.4392033563210414 | Test Accuracy 0.88125\n",
            "Epoch 12 | Train Loss 0.3871113141584728 | Train Accuracy 0.8835869565217391 | Test Loss 0.39960964826437145 | Test Accuracy 0.88375\n",
            "Epoch 13 | Train Loss 0.3521683623807298 | Train Accuracy 0.8960869565217391 | Test Loss 0.3735388540304624 | Test Accuracy 0.89375\n",
            "Epoch 14 | Train Loss 0.32628676786811817 | Train Accuracy 0.9060869565217391 | Test Loss 0.3539309501647949 | Test Accuracy 0.8975\n",
            "Epoch 15 | Train Loss 0.30781323219546014 | Train Accuracy 0.913804347826087 | Test Loss 0.3435894927153221 | Test Accuracy 0.9\n",
            "Epoch 16 | Train Loss 0.2889678585343063 | Train Accuracy 0.92 | Test Loss 0.3341452651298963 | Test Accuracy 0.90125\n",
            "Epoch 17 | Train Loss 0.2747042899330457 | Train Accuracy 0.9228260869565217 | Test Loss 0.3104496460694533 | Test Accuracy 0.915\n",
            "Epoch 18 | Train Loss 0.25793301728036666 | Train Accuracy 0.9292391304347826 | Test Loss 0.27493424942860234 | Test Accuracy 0.925\n",
            "Epoch 19 | Train Loss 0.24915206026182407 | Train Accuracy 0.9310869565217391 | Test Loss 0.2566123398450705 | Test Accuracy 0.92875\n",
            "Epoch 20 | Train Loss 0.2346713594160974 | Train Accuracy 0.9365217391304348 | Test Loss 0.2441904963209079 | Test Accuracy 0.93375\n",
            "Epoch 21 | Train Loss 0.22277947986084554 | Train Accuracy 0.9395652173913044 | Test Loss 0.2679368589933102 | Test Accuracy 0.9325\n",
            "Epoch 22 | Train Loss 0.2177000798854149 | Train Accuracy 0.9397826086956522 | Test Loss 0.2709335323709708 | Test Accuracy 0.92125\n",
            "Epoch 23 | Train Loss 0.21705447266706163 | Train Accuracy 0.9389130434782609 | Test Loss 0.26348476570386153 | Test Accuracy 0.92875\n",
            "Epoch 24 | Train Loss 0.21153842083488902 | Train Accuracy 0.9403260869565218 | Test Loss 0.24916709271761087 | Test Accuracy 0.93625\n",
            "Epoch 25 | Train Loss 0.20583742124856347 | Train Accuracy 0.941195652173913 | Test Loss 0.23684937736162773 | Test Accuracy 0.935\n",
            "Epoch 26 | Train Loss 0.19825481310383314 | Train Accuracy 0.9442391304347826 | Test Loss 0.2580553505283136 | Test Accuracy 0.9375\n",
            "Epoch 27 | Train Loss 0.20065322942617866 | Train Accuracy 0.9427173913043478 | Test Loss 0.2577995342703966 | Test Accuracy 0.93875\n",
            "Epoch 28 | Train Loss 0.18997804898147783 | Train Accuracy 0.9466304347826087 | Test Loss 0.23634371562645987 | Test Accuracy 0.94375\n",
            "Epoch 29 | Train Loss 0.17838369930783907 | Train Accuracy 0.9502173913043478 | Test Loss 0.23512701804821307 | Test Accuracy 0.94875\n",
            "Epoch 30 | Train Loss 0.1758297631620533 | Train Accuracy 0.9509782608695653 | Test Loss 0.22929459810256958 | Test Accuracy 0.94375\n",
            "Epoch 31 | Train Loss 0.172366809953625 | Train Accuracy 0.9516304347826087 | Test Loss 0.23423012976463026 | Test Accuracy 0.94625\n",
            "Epoch 32 | Train Loss 0.16965265991166234 | Train Accuracy 0.9531521739130435 | Test Loss 0.22714059914533907 | Test Accuracy 0.9475\n",
            "Epoch 33 | Train Loss 0.1623264371107022 | Train Accuracy 0.955 | Test Loss 0.23314195985977465 | Test Accuracy 0.94625\n",
            "Epoch 34 | Train Loss 0.1608124158034722 | Train Accuracy 0.9555434782608696 | Test Loss 0.23350569161658102 | Test Accuracy 0.94125\n",
            "Validation accuracy did not improve for several epochs. Stopping early.\n",
            "Epoch 0 | Train Loss 2.1098005308045282 | Train Accuracy 0.2529347826086957 | Test Loss 1.9389338126549354 | Test Accuracy 0.32125\n",
            "Epoch 1 | Train Loss 1.7812115508649085 | Train Accuracy 0.3825 | Test Loss 1.623635484622075 | Test Accuracy 0.42125\n",
            "Epoch 2 | Train Loss 1.514878439406554 | Train Accuracy 0.46402173913043476 | Test Loss 1.3937161335578332 | Test Accuracy 0.51875\n",
            "Epoch 3 | Train Loss 1.3206442611085043 | Train Accuracy 0.5456521739130434 | Test Loss 1.2149159403947682 | Test Accuracy 0.60875\n",
            "Epoch 4 | Train Loss 1.1509998705652025 | Train Accuracy 0.6241304347826087 | Test Loss 1.0520130808536823 | Test Accuracy 0.68\n",
            "Epoch 5 | Train Loss 1.0024589490559366 | Train Accuracy 0.6959782608695653 | Test Loss 0.924652466407189 | Test Accuracy 0.7425\n",
            "Epoch 6 | Train Loss 0.874084441198243 | Train Accuracy 0.7422826086956522 | Test Loss 0.8173403189732478 | Test Accuracy 0.75375\n",
            "Epoch 7 | Train Loss 0.7819716826909118 | Train Accuracy 0.7722826086956521 | Test Loss 0.7268699980699099 | Test Accuracy 0.79125\n",
            "Epoch 8 | Train Loss 0.7076933406707313 | Train Accuracy 0.7952173913043479 | Test Loss 0.6758286677874051 | Test Accuracy 0.81875\n",
            "Epoch 9 | Train Loss 0.6476976080901093 | Train Accuracy 0.818695652173913 | Test Loss 0.6500525955970471 | Test Accuracy 0.825\n",
            "Epoch 10 | Train Loss 0.5941632040258911 | Train Accuracy 0.8345652173913043 | Test Loss 0.6178147792816162 | Test Accuracy 0.83\n",
            "Epoch 11 | Train Loss 0.5430948835694127 | Train Accuracy 0.8480434782608696 | Test Loss 0.6052501109930185 | Test Accuracy 0.82875\n",
            "Epoch 12 | Train Loss 0.5064128798743089 | Train Accuracy 0.856304347826087 | Test Loss 0.5389286921574519 | Test Accuracy 0.84875\n",
            "Epoch 13 | Train Loss 0.4719202815451556 | Train Accuracy 0.8664130434782609 | Test Loss 0.508622176372088 | Test Accuracy 0.85625\n",
            "Epoch 14 | Train Loss 0.4402983257960942 | Train Accuracy 0.8744565217391305 | Test Loss 0.4810513991575975 | Test Accuracy 0.8725\n",
            "Epoch 15 | Train Loss 0.4157564847005738 | Train Accuracy 0.883695652173913 | Test Loss 0.4621128806701073 | Test Accuracy 0.87625\n",
            "Epoch 16 | Train Loss 0.39254536966068876 | Train Accuracy 0.8925 | Test Loss 0.39715545452558076 | Test Accuracy 0.8875\n",
            "Epoch 17 | Train Loss 0.3709532194253471 | Train Accuracy 0.9002173913043479 | Test Loss 0.41368661935512835 | Test Accuracy 0.8875\n",
            "Epoch 18 | Train Loss 0.3604967369077106 | Train Accuracy 0.9032608695652173 | Test Loss 0.4033989103940817 | Test Accuracy 0.8875\n",
            "Epoch 19 | Train Loss 0.3438678637871312 | Train Accuracy 0.9081521739130435 | Test Loss 0.3822016171537913 | Test Accuracy 0.89375\n",
            "Epoch 20 | Train Loss 0.32995138798529905 | Train Accuracy 0.9116304347826087 | Test Loss 0.36230264604091644 | Test Accuracy 0.8975\n",
            "Epoch 21 | Train Loss 0.3183045808950232 | Train Accuracy 0.9153260869565217 | Test Loss 0.3474404112650798 | Test Accuracy 0.91\n",
            "Epoch 22 | Train Loss 0.31397801223728394 | Train Accuracy 0.917608695652174 | Test Loss 0.3525764357585173 | Test Accuracy 0.90875\n",
            "Epoch 23 | Train Loss 0.299914807598624 | Train Accuracy 0.9211956521739131 | Test Loss 0.34448343286147487 | Test Accuracy 0.90375\n",
            "Epoch 24 | Train Loss 0.28445730860241586 | Train Accuracy 0.9261956521739131 | Test Loss 0.3353722393512726 | Test Accuracy 0.91\n",
            "Epoch 25 | Train Loss 0.268858156270451 | Train Accuracy 0.9311956521739131 | Test Loss 0.32669580899752104 | Test Accuracy 0.90625\n",
            "Epoch 26 | Train Loss 0.25751633334180546 | Train Accuracy 0.9340217391304347 | Test Loss 0.31780761079146314 | Test Accuracy 0.90625\n",
            "Validation accuracy did not improve for several epochs. Stopping early.\n",
            "Epoch 0 | Train Loss 2.20025461498234 | Train Accuracy 0.2232608695652174 | Test Loss 2.042169846021212 | Test Accuracy 0.325\n",
            "Epoch 1 | Train Loss 1.8539047522677317 | Train Accuracy 0.3848913043478261 | Test Loss 1.695313499524043 | Test Accuracy 0.4525\n",
            "Epoch 2 | Train Loss 1.5069975116186671 | Train Accuracy 0.5226086956521739 | Test Loss 1.372782276226924 | Test Accuracy 0.59375\n",
            "Epoch 3 | Train Loss 1.2289579254057672 | Train Accuracy 0.6335869565217391 | Test Loss 1.1122008057741017 | Test Accuracy 0.685\n",
            "Epoch 4 | Train Loss 0.9910351791315608 | Train Accuracy 0.7120652173913044 | Test Loss 0.8977452424856333 | Test Accuracy 0.74375\n",
            "Epoch 5 | Train Loss 0.8067890471882291 | Train Accuracy 0.7645652173913043 | Test Loss 0.7317631657306964 | Test Accuracy 0.79\n",
            "Epoch 6 | Train Loss 0.6817570283181138 | Train Accuracy 0.7990217391304347 | Test Loss 0.6034566553739401 | Test Accuracy 0.82625\n",
            "Epoch 7 | Train Loss 0.5847094768865241 | Train Accuracy 0.8326086956521739 | Test Loss 0.5386930933365455 | Test Accuracy 0.8525\n",
            "Epoch 8 | Train Loss 0.5221818789011903 | Train Accuracy 0.8490217391304348 | Test Loss 0.4984897512655992 | Test Accuracy 0.86\n",
            "Epoch 9 | Train Loss 0.47207482655843097 | Train Accuracy 0.8647826086956522 | Test Loss 0.45430720998690677 | Test Accuracy 0.86125\n",
            "Epoch 10 | Train Loss 0.44216780912958914 | Train Accuracy 0.871304347826087 | Test Loss 0.43168439314915585 | Test Accuracy 0.86625\n",
            "Epoch 11 | Train Loss 0.40753502931652796 | Train Accuracy 0.8817391304347826 | Test Loss 0.41444435027929455 | Test Accuracy 0.86625\n",
            "Epoch 12 | Train Loss 0.3717098713128103 | Train Accuracy 0.8943478260869565 | Test Loss 0.37323788840037125 | Test Accuracy 0.89375\n",
            "Epoch 13 | Train Loss 0.3471499790127079 | Train Accuracy 0.9020652173913043 | Test Loss 0.33245357183309704 | Test Accuracy 0.89875\n",
            "Epoch 14 | Train Loss 0.32835318489621085 | Train Accuracy 0.9068478260869566 | Test Loss 0.324160920885893 | Test Accuracy 0.89875\n",
            "Epoch 15 | Train Loss 0.3142459531211191 | Train Accuracy 0.9128260869565218 | Test Loss 0.30508012725756717 | Test Accuracy 0.89875\n",
            "Epoch 16 | Train Loss 0.2991227255616751 | Train Accuracy 0.9154347826086957 | Test Loss 0.30239225580142093 | Test Accuracy 0.90375\n",
            "Epoch 17 | Train Loss 0.28521291435592705 | Train Accuracy 0.9192391304347826 | Test Loss 0.299355325790552 | Test Accuracy 0.9025\n",
            "Epoch 18 | Train Loss 0.27274528585581315 | Train Accuracy 0.9252173913043479 | Test Loss 0.29948750826028675 | Test Accuracy 0.9125\n",
            "Epoch 19 | Train Loss 0.26174558150685495 | Train Accuracy 0.926304347826087 | Test Loss 0.3131539993561231 | Test Accuracy 0.9075\n",
            "Epoch 20 | Train Loss 0.25858203916706973 | Train Accuracy 0.9292391304347826 | Test Loss 0.3176352920440527 | Test Accuracy 0.90625\n",
            "Epoch 21 | Train Loss 0.24635729969789585 | Train Accuracy 0.9323913043478261 | Test Loss 0.3055009108323317 | Test Accuracy 0.90375\n",
            "Epoch 22 | Train Loss 0.23562859117777812 | Train Accuracy 0.9355434782608696 | Test Loss 0.28826918510290295 | Test Accuracy 0.90625\n",
            "Epoch 23 | Train Loss 0.2296013829505278 | Train Accuracy 0.9365217391304348 | Test Loss 0.3068609449725885 | Test Accuracy 0.90625\n",
            "Validation accuracy did not improve for several epochs. Stopping early.\n",
            "best accuraces for test was : [0.93625, 0.92125, 0.94875, 0.91, 0.9125]\n",
            "stddev for test was  : 0.016455432233764018\n",
            "best accuraces for test was : [0.9589130434782609, 0.9353260869565218, 0.9555434782608696, 0.9340217391304347, 0.9365217391304348]\n",
            "stddev for test was  : 0.012107397869724278\n"
          ]
        }
      ]
    },
    {
      "cell_type": "code",
      "source": [
        "import numpy as np\n",
        "\n",
        "test_acc = [0.93625, 0.92125, 0.94875, 0.91, 0.9125]\n",
        "\n",
        "np.array(test_acc).mean()"
      ],
      "metadata": {
        "colab": {
          "base_uri": "https://localhost:8080/"
        },
        "id": "4_v3uKGR_lDL",
        "outputId": "d7005fa5-6eb9-4c18-b6fd-2491a2dc7953"
      },
      "execution_count": 10,
      "outputs": [
        {
          "output_type": "execute_result",
          "data": {
            "text/plain": [
              "0.9257500000000001"
            ]
          },
          "metadata": {},
          "execution_count": 10
        }
      ]
    },
    {
      "cell_type": "markdown",
      "source": [
        "# efficient 1"
      ],
      "metadata": {
        "id": "EoAi9zDHt4tq"
      }
    },
    {
      "cell_type": "code",
      "source": [
        "logsef1 = run_experiment(1, features_efficient)\n",
        "with open('/content/drive/MyDrive/tmp/logsef1.pkl', 'wb') as file:\n",
        "        pickle.dump(logsef1, file)"
      ],
      "metadata": {
        "colab": {
          "base_uri": "https://localhost:8080/"
        },
        "id": "BN_7xpG0uJrD",
        "outputId": "417fc344-0293-41d5-85b2-689ba62f4a44"
      },
      "execution_count": null,
      "outputs": [
        {
          "output_type": "stream",
          "name": "stdout",
          "text": [
            "Data(x=[75, 1], edge_index=[2, 1405], y=[1], pos=[75, 2])\n",
            "Data(x=[75, 1], edge_index=[2, 1395], y=[1], pos=[75, 2])\n",
            "Starting training...\n",
            "Epoch 0 | Train Loss 2.1406043569246926 | Train Accuracy 0.18717391304347827 | Test Loss 2.021116458452665 | Test Accuracy 0.22375\n",
            "Epoch 1 | Train Loss 1.9360927500658565 | Train Accuracy 0.2232608695652174 | Test Loss 1.9579731867863581 | Test Accuracy 0.23875\n",
            "Epoch 2 | Train Loss 1.847867540187306 | Train Accuracy 0.2597826086956522 | Test Loss 1.8536790150862474 | Test Accuracy 0.26375\n",
            "Epoch 3 | Train Loss 1.763752109474606 | Train Accuracy 0.31228260869565216 | Test Loss 1.7820335626602173 | Test Accuracy 0.30875\n",
            "Epoch 4 | Train Loss 1.6862075767583318 | Train Accuracy 0.3467391304347826 | Test Loss 1.7163623754794781 | Test Accuracy 0.345\n",
            "Epoch 5 | Train Loss 1.6277850791811943 | Train Accuracy 0.36630434782608695 | Test Loss 1.7011804488989024 | Test Accuracy 0.355\n",
            "Epoch 6 | Train Loss 1.5956923365592957 | Train Accuracy 0.3758695652173913 | Test Loss 1.6651154664846568 | Test Accuracy 0.36625\n",
            "Epoch 7 | Train Loss 1.5791910166541736 | Train Accuracy 0.37978260869565217 | Test Loss 1.647539734840393 | Test Accuracy 0.3675\n",
            "Epoch 8 | Train Loss 1.5704863104555342 | Train Accuracy 0.38021739130434784 | Test Loss 1.6621681726895845 | Test Accuracy 0.3575\n",
            "Epoch 9 | Train Loss 1.5660530767507024 | Train Accuracy 0.3832608695652174 | Test Loss 1.6505076701824481 | Test Accuracy 0.36\n",
            "Epoch 10 | Train Loss 1.5639000286658604 | Train Accuracy 0.3783695652173913 | Test Loss 1.6751948228249183 | Test Accuracy 0.36625\n",
            "Epoch 11 | Train Loss 1.560455069773727 | Train Accuracy 0.3815217391304348 | Test Loss 1.6640621515420766 | Test Accuracy 0.36375\n",
            "Epoch 12 | Train Loss 1.5616890622509851 | Train Accuracy 0.3784782608695652 | Test Loss 1.6473933458328247 | Test Accuracy 0.36\n",
            "Validation accuracy did not improve for several epochs. Stopping early.\n",
            "Epoch 0 | Train Loss 2.171540323230955 | Train Accuracy 0.1673913043478261 | Test Loss 2.0099451266802273 | Test Accuracy 0.22375\n",
            "Epoch 1 | Train Loss 1.9177132315105863 | Train Accuracy 0.2418478260869565 | Test Loss 1.88228047811068 | Test Accuracy 0.30375\n",
            "Epoch 2 | Train Loss 1.7609333909220166 | Train Accuracy 0.3209782608695652 | Test Loss 1.7710910210242639 | Test Accuracy 0.32625\n",
            "Epoch 3 | Train Loss 1.6608715140157275 | Train Accuracy 0.35934782608695653 | Test Loss 1.6964665651321411 | Test Accuracy 0.3525\n",
            "Epoch 4 | Train Loss 1.6145970771710079 | Train Accuracy 0.37130434782608696 | Test Loss 1.6739729917966402 | Test Accuracy 0.3675\n",
            "Epoch 5 | Train Loss 1.5922876828246646 | Train Accuracy 0.37467391304347825 | Test Loss 1.6826918583649855 | Test Accuracy 0.3575\n",
            "Epoch 6 | Train Loss 1.5788948014378548 | Train Accuracy 0.37880434782608696 | Test Loss 1.6548519317920392 | Test Accuracy 0.36875\n",
            "Epoch 7 | Train Loss 1.5745586786005232 | Train Accuracy 0.3758695652173913 | Test Loss 1.6447412967681885 | Test Accuracy 0.37125\n",
            "Epoch 8 | Train Loss 1.5699976566765044 | Train Accuracy 0.37956521739130433 | Test Loss 1.6656620319073017 | Test Accuracy 0.36625\n",
            "Epoch 9 | Train Loss 1.565205819076962 | Train Accuracy 0.38119565217391305 | Test Loss 1.6462756945536687 | Test Accuracy 0.3625\n",
            "Epoch 10 | Train Loss 1.564615561730332 | Train Accuracy 0.3807608695652174 | Test Loss 1.635844661639287 | Test Accuracy 0.3675\n",
            "Epoch 11 | Train Loss 1.563334380586942 | Train Accuracy 0.3784782608695652 | Test Loss 1.6475970103190496 | Test Accuracy 0.36625\n",
            "Epoch 12 | Train Loss 1.5615927063756518 | Train Accuracy 0.37782608695652176 | Test Loss 1.66179686326247 | Test Accuracy 0.3675\n",
            "Validation accuracy did not improve for several epochs. Stopping early.\n",
            "Epoch 0 | Train Loss 2.0841266786058745 | Train Accuracy 0.1932608695652174 | Test Loss 1.984212352679326 | Test Accuracy 0.25625\n",
            "Epoch 1 | Train Loss 1.8715793465574582 | Train Accuracy 0.2657608695652174 | Test Loss 1.872921081689688 | Test Accuracy 0.285\n",
            "Epoch 2 | Train Loss 1.752376303076744 | Train Accuracy 0.3166304347826087 | Test Loss 1.7630615417773907 | Test Accuracy 0.31\n",
            "Epoch 3 | Train Loss 1.6674154276649158 | Train Accuracy 0.3584782608695652 | Test Loss 1.6868430100954497 | Test Accuracy 0.35625\n",
            "Epoch 4 | Train Loss 1.6196306041545339 | Train Accuracy 0.37119565217391304 | Test Loss 1.6835889266087458 | Test Accuracy 0.36625\n",
            "Epoch 5 | Train Loss 1.5951260113053851 | Train Accuracy 0.3748913043478261 | Test Loss 1.6600551972022424 | Test Accuracy 0.3675\n",
            "Epoch 6 | Train Loss 1.586379854215516 | Train Accuracy 0.37467391304347825 | Test Loss 1.6574117953960712 | Test Accuracy 0.36\n",
            "Epoch 7 | Train Loss 1.5797807590829 | Train Accuracy 0.3764130434782609 | Test Loss 1.6488524675369263 | Test Accuracy 0.37\n",
            "Epoch 8 | Train Loss 1.573570614059766 | Train Accuracy 0.3791304347826087 | Test Loss 1.6577385572286754 | Test Accuracy 0.3675\n",
            "Epoch 9 | Train Loss 1.5703443206018872 | Train Accuracy 0.38065217391304346 | Test Loss 1.651704870737516 | Test Accuracy 0.36875\n",
            "Epoch 10 | Train Loss 1.5672229147619672 | Train Accuracy 0.37967391304347825 | Test Loss 1.6472972081257746 | Test Accuracy 0.37375\n",
            "Epoch 11 | Train Loss 1.5655417541662853 | Train Accuracy 0.3782608695652174 | Test Loss 1.661283933199369 | Test Accuracy 0.36625\n",
            "Epoch 12 | Train Loss 1.5626119913326368 | Train Accuracy 0.3804347826086957 | Test Loss 1.6591227604792669 | Test Accuracy 0.37\n",
            "Epoch 13 | Train Loss 1.5616629512773619 | Train Accuracy 0.38 | Test Loss 1.6448006629943848 | Test Accuracy 0.37375\n",
            "Epoch 14 | Train Loss 1.5591158237722185 | Train Accuracy 0.3826086956521739 | Test Loss 1.6306716203689575 | Test Accuracy 0.365\n",
            "Epoch 15 | Train Loss 1.560157571401861 | Train Accuracy 0.37956521739130433 | Test Loss 1.6521481367257924 | Test Accuracy 0.375\n",
            "Epoch 16 | Train Loss 1.557377723356088 | Train Accuracy 0.38217391304347825 | Test Loss 1.6542855776273286 | Test Accuracy 0.36625\n",
            "Epoch 17 | Train Loss 1.556849015255769 | Train Accuracy 0.3842391304347826 | Test Loss 1.6483145218629103 | Test Accuracy 0.36625\n",
            "Epoch 18 | Train Loss 1.5573137609495058 | Train Accuracy 0.3847826086956522 | Test Loss 1.642157187828651 | Test Accuracy 0.3675\n",
            "Epoch 19 | Train Loss 1.555640895333555 | Train Accuracy 0.38119565217391305 | Test Loss 1.6409180072637706 | Test Accuracy 0.3675\n",
            "Epoch 20 | Train Loss 1.5553305918971698 | Train Accuracy 0.38206521739130433 | Test Loss 1.6456951819933379 | Test Accuracy 0.3675\n",
            "Validation accuracy did not improve for several epochs. Stopping early.\n",
            "Epoch 0 | Train Loss 2.1153453845116825 | Train Accuracy 0.17065217391304346 | Test Loss 2.0214899594967184 | Test Accuracy 0.21875\n",
            "Epoch 1 | Train Loss 1.934452746477392 | Train Accuracy 0.22945652173913045 | Test Loss 1.9164330867620616 | Test Accuracy 0.255\n",
            "Epoch 2 | Train Loss 1.8056243964367442 | Train Accuracy 0.29706521739130437 | Test Loss 1.781584592965933 | Test Accuracy 0.315\n",
            "Epoch 3 | Train Loss 1.687161945634418 | Train Accuracy 0.35054347826086957 | Test Loss 1.69315897501432 | Test Accuracy 0.355\n",
            "Epoch 4 | Train Loss 1.6191280169619455 | Train Accuracy 0.3759782608695652 | Test Loss 1.6678066895558283 | Test Accuracy 0.355\n",
            "Epoch 5 | Train Loss 1.5907046414083905 | Train Accuracy 0.37673913043478263 | Test Loss 1.6474226254683275 | Test Accuracy 0.3675\n",
            "Epoch 6 | Train Loss 1.57697694003582 | Train Accuracy 0.3791304347826087 | Test Loss 1.6513429880142212 | Test Accuracy 0.3675\n",
            "Epoch 7 | Train Loss 1.5703483762012587 | Train Accuracy 0.3783695652173913 | Test Loss 1.656416893005371 | Test Accuracy 0.36875\n",
            "Epoch 8 | Train Loss 1.5630164941151936 | Train Accuracy 0.3839130434782609 | Test Loss 1.6521904468536377 | Test Accuracy 0.36\n",
            "Epoch 9 | Train Loss 1.560367964208126 | Train Accuracy 0.38271739130434784 | Test Loss 1.63836486522968 | Test Accuracy 0.36\n",
            "Epoch 10 | Train Loss 1.5626330135597124 | Train Accuracy 0.37880434782608696 | Test Loss 1.6476860963381255 | Test Accuracy 0.36375\n",
            "Epoch 11 | Train Loss 1.556796713007821 | Train Accuracy 0.38304347826086954 | Test Loss 1.6335091774280255 | Test Accuracy 0.36375\n",
            "Epoch 12 | Train Loss 1.5596169945266511 | Train Accuracy 0.38206521739130433 | Test Loss 1.6268599308454073 | Test Accuracy 0.36125\n",
            "Validation accuracy did not improve for several epochs. Stopping early.\n",
            "Epoch 0 | Train Loss 2.101072053114573 | Train Accuracy 0.19032608695652173 | Test Loss 1.9876960882773766 | Test Accuracy 0.1925\n",
            "Epoch 1 | Train Loss 1.913101722796758 | Train Accuracy 0.22978260869565217 | Test Loss 1.885476671732389 | Test Accuracy 0.2525\n",
            "Epoch 2 | Train Loss 1.7832317103942235 | Train Accuracy 0.29391304347826086 | Test Loss 1.7659380711041963 | Test Accuracy 0.35\n",
            "Epoch 3 | Train Loss 1.6901624906394217 | Train Accuracy 0.33641304347826084 | Test Loss 1.733360006259038 | Test Accuracy 0.34875\n",
            "Epoch 4 | Train Loss 1.6360704518026776 | Train Accuracy 0.3642391304347826 | Test Loss 1.6889708042144775 | Test Accuracy 0.36\n",
            "Epoch 5 | Train Loss 1.6025535952713754 | Train Accuracy 0.3735869565217391 | Test Loss 1.6688820215371938 | Test Accuracy 0.3675\n",
            "Epoch 6 | Train Loss 1.5841330140829086 | Train Accuracy 0.3773913043478261 | Test Loss 1.6596414125882661 | Test Accuracy 0.37375\n",
            "Epoch 7 | Train Loss 1.5749688893556595 | Train Accuracy 0.3808695652173913 | Test Loss 1.6613528361687293 | Test Accuracy 0.36375\n",
            "Epoch 8 | Train Loss 1.5683567490842607 | Train Accuracy 0.38130434782608696 | Test Loss 1.6505938951785748 | Test Accuracy 0.36375\n",
            "Epoch 9 | Train Loss 1.565932156311141 | Train Accuracy 0.3808695652173913 | Test Loss 1.6442756010935857 | Test Accuracy 0.36625\n",
            "Epoch 10 | Train Loss 1.561802204284403 | Train Accuracy 0.38315217391304346 | Test Loss 1.6239039256022527 | Test Accuracy 0.36875\n",
            "Epoch 11 | Train Loss 1.561736038989491 | Train Accuracy 0.3809782608695652 | Test Loss 1.6448101905676036 | Test Accuracy 0.37125\n",
            "Validation accuracy did not improve for several epochs. Stopping early.\n",
            "best accuraces for test was : [0.3675, 0.37125, 0.375, 0.36875, 0.37375]\n",
            "stddev for test was  : 0.0031868871959954935\n",
            "best accuraces for test was : [0.3832608695652174, 0.38119565217391305, 0.3847826086956522, 0.3839130434782609, 0.38315217391304346]\n",
            "stddev for test was  : 0.0013245714790167335\n"
          ]
        }
      ]
    },
    {
      "cell_type": "code",
      "source": [
        "import numpy as np\n",
        "\n",
        "test_acc = [0.3675, 0.37125, 0.375, 0.36875, 0.37375]\n",
        "\n",
        "np.array(test_acc).mean()"
      ],
      "metadata": {
        "colab": {
          "base_uri": "https://localhost:8080/"
        },
        "id": "t0t9WMAyAYE8",
        "outputId": "d45f2193-015c-4330-db0b-ec57664ea5b9"
      },
      "execution_count": 11,
      "outputs": [
        {
          "output_type": "execute_result",
          "data": {
            "text/plain": [
              "0.37124999999999997"
            ]
          },
          "metadata": {},
          "execution_count": 11
        }
      ]
    },
    {
      "cell_type": "markdown",
      "source": [
        "# efficient 5"
      ],
      "metadata": {
        "id": "5D5N1qH_t7FT"
      }
    },
    {
      "cell_type": "code",
      "source": [
        "logsef5 = run_experiment(5, features_efficient)\n",
        "with open('/content/drive/MyDrive/tmp/logsef5.pkl', 'wb') as file:\n",
        "        pickle.dump(logsef5, file)"
      ],
      "metadata": {
        "colab": {
          "base_uri": "https://localhost:8080/"
        },
        "id": "eTjNxB4ivmha",
        "outputId": "1cc5de85-99eb-45ff-dd67-30d59ef34a3e"
      },
      "execution_count": null,
      "outputs": [
        {
          "output_type": "stream",
          "name": "stdout",
          "text": [
            "Data(x=[75, 5], edge_index=[2, 1405], y=[1], pos=[75, 2])\n",
            "Data(x=[75, 5], edge_index=[2, 1395], y=[1], pos=[75, 2])\n",
            "Starting training...\n",
            "Epoch 0 | Train Loss 1.9460570100280974 | Train Accuracy 0.36782608695652175 | Test Loss 1.653708265377925 | Test Accuracy 0.48875\n",
            "Epoch 1 | Train Loss 1.437923011680444 | Train Accuracy 0.5638043478260869 | Test Loss 1.274550777215224 | Test Accuracy 0.6\n",
            "Epoch 2 | Train Loss 1.1502849554849996 | Train Accuracy 0.6476086956521739 | Test Loss 1.1225292911896338 | Test Accuracy 0.66625\n",
            "Epoch 3 | Train Loss 1.006902853647868 | Train Accuracy 0.6834782608695652 | Test Loss 1.0072645774254432 | Test Accuracy 0.685\n",
            "Epoch 4 | Train Loss 0.9217266088558568 | Train Accuracy 0.6985869565217391 | Test Loss 0.9512693515190711 | Test Accuracy 0.7\n",
            "Epoch 5 | Train Loss 0.8599148549967341 | Train Accuracy 0.7168478260869565 | Test Loss 0.9092935002767123 | Test Accuracy 0.71625\n",
            "Epoch 6 | Train Loss 0.817267840107282 | Train Accuracy 0.731304347826087 | Test Loss 0.8824969484255865 | Test Accuracy 0.70375\n",
            "Epoch 7 | Train Loss 0.7877407926652167 | Train Accuracy 0.7360869565217392 | Test Loss 0.8944147320894095 | Test Accuracy 0.70625\n",
            "Epoch 8 | Train Loss 0.7649701577093866 | Train Accuracy 0.7439130434782608 | Test Loss 0.8610195563389704 | Test Accuracy 0.70625\n",
            "Epoch 9 | Train Loss 0.7489416441983647 | Train Accuracy 0.746304347826087 | Test Loss 0.863034372146313 | Test Accuracy 0.7125\n",
            "Epoch 10 | Train Loss 0.7370314740886291 | Train Accuracy 0.7480434782608696 | Test Loss 0.8594639484698956 | Test Accuracy 0.70625\n",
            "Validation accuracy did not improve for several epochs. Stopping early.\n",
            "Epoch 0 | Train Loss 2.057555756635136 | Train Accuracy 0.3080434782608696 | Test Loss 1.7626199905688946 | Test Accuracy 0.4525\n",
            "Epoch 1 | Train Loss 1.502864537967576 | Train Accuracy 0.5416304347826087 | Test Loss 1.3587008256178637 | Test Accuracy 0.54875\n",
            "Epoch 2 | Train Loss 1.167743192364772 | Train Accuracy 0.6089130434782609 | Test Loss 1.1373726679728582 | Test Accuracy 0.56625\n",
            "Epoch 3 | Train Loss 1.0113755253454049 | Train Accuracy 0.6453260869565217 | Test Loss 1.068973266161405 | Test Accuracy 0.61375\n",
            "Epoch 4 | Train Loss 0.9324123209549321 | Train Accuracy 0.6710869565217391 | Test Loss 1.0052802562713623 | Test Accuracy 0.64375\n",
            "Epoch 5 | Train Loss 0.8809821241431766 | Train Accuracy 0.6923913043478261 | Test Loss 0.9892663543040936 | Test Accuracy 0.66125\n",
            "Epoch 6 | Train Loss 0.8497861238817374 | Train Accuracy 0.7003260869565218 | Test Loss 0.9615291632138766 | Test Accuracy 0.6675\n",
            "Epoch 7 | Train Loss 0.8248670560618242 | Train Accuracy 0.7131521739130435 | Test Loss 0.9533034425515395 | Test Accuracy 0.6725\n",
            "Epoch 8 | Train Loss 0.8050373676750395 | Train Accuracy 0.7189130434782609 | Test Loss 0.9545712608557481 | Test Accuracy 0.6775\n",
            "Epoch 9 | Train Loss 0.7883166331383917 | Train Accuracy 0.7242391304347826 | Test Loss 0.953921052125784 | Test Accuracy 0.67\n",
            "Epoch 10 | Train Loss 0.7733038165089157 | Train Accuracy 0.7326086956521739 | Test Loss 0.9418280583161575 | Test Accuracy 0.68125\n",
            "Epoch 11 | Train Loss 0.7594475779268477 | Train Accuracy 0.7406521739130435 | Test Loss 0.9355364808669457 | Test Accuracy 0.6925\n",
            "Epoch 12 | Train Loss 0.7478613789296813 | Train Accuracy 0.7473913043478261 | Test Loss 0.9106531280737656 | Test Accuracy 0.69375\n",
            "Epoch 13 | Train Loss 0.7383362884736724 | Train Accuracy 0.7504347826086957 | Test Loss 0.8956549809529231 | Test Accuracy 0.70125\n",
            "Epoch 14 | Train Loss 0.7304242342296574 | Train Accuracy 0.7501086956521739 | Test Loss 0.8987007232812735 | Test Accuracy 0.70625\n",
            "Epoch 15 | Train Loss 0.7218983605917957 | Train Accuracy 0.7540217391304348 | Test Loss 0.8893517255783081 | Test Accuracy 0.70625\n",
            "Epoch 16 | Train Loss 0.7166603178613715 | Train Accuracy 0.7557608695652174 | Test Loss 0.8962704997796279 | Test Accuracy 0.71375\n",
            "Epoch 17 | Train Loss 0.7107103082040945 | Train Accuracy 0.7565217391304347 | Test Loss 0.8814602127441993 | Test Accuracy 0.71125\n",
            "Epoch 18 | Train Loss 0.7071938030421734 | Train Accuracy 0.7553260869565217 | Test Loss 0.864430477985969 | Test Accuracy 0.7125\n",
            "Epoch 19 | Train Loss 0.7028941002984842 | Train Accuracy 0.7585869565217391 | Test Loss 0.8599204421043396 | Test Accuracy 0.7175\n",
            "Epoch 20 | Train Loss 0.7001797457536062 | Train Accuracy 0.7595652173913043 | Test Loss 0.8680777962391193 | Test Accuracy 0.715\n",
            "Epoch 21 | Train Loss 0.6958607046140565 | Train Accuracy 0.7593478260869565 | Test Loss 0.8712002543302683 | Test Accuracy 0.71\n",
            "Epoch 22 | Train Loss 0.6930718612339761 | Train Accuracy 0.7616304347826087 | Test Loss 0.8569404436991765 | Test Accuracy 0.7175\n",
            "Epoch 23 | Train Loss 0.6901797437005572 | Train Accuracy 0.7631521739130435 | Test Loss 0.859865298637977 | Test Accuracy 0.71625\n",
            "Epoch 24 | Train Loss 0.6865110240048833 | Train Accuracy 0.7623913043478261 | Test Loss 0.8517938898159907 | Test Accuracy 0.71125\n",
            "Validation accuracy did not improve for several epochs. Stopping early.\n",
            "Epoch 0 | Train Loss 2.00093966225783 | Train Accuracy 0.2642391304347826 | Test Loss 1.726621178480295 | Test Accuracy 0.4275\n",
            "Epoch 1 | Train Loss 1.4915885420309172 | Train Accuracy 0.5173913043478261 | Test Loss 1.3277923327225905 | Test Accuracy 0.57625\n",
            "Epoch 2 | Train Loss 1.1698489623765151 | Train Accuracy 0.6189130434782608 | Test Loss 1.137896546950707 | Test Accuracy 0.6275\n",
            "Epoch 3 | Train Loss 1.0062078026433785 | Train Accuracy 0.6617391304347826 | Test Loss 1.056293826836806 | Test Accuracy 0.63125\n",
            "Epoch 4 | Train Loss 0.9159679048591189 | Train Accuracy 0.6832608695652174 | Test Loss 1.020979500733889 | Test Accuracy 0.62875\n",
            "Epoch 5 | Train Loss 0.8658533237046666 | Train Accuracy 0.6938043478260869 | Test Loss 0.9848803373483511 | Test Accuracy 0.64\n",
            "Epoch 6 | Train Loss 0.8322681689427959 | Train Accuracy 0.6985869565217391 | Test Loss 0.9640227831326998 | Test Accuracy 0.64375\n",
            "Epoch 7 | Train Loss 0.8109210415018929 | Train Accuracy 0.703695652173913 | Test Loss 0.9374094192798321 | Test Accuracy 0.65\n",
            "Epoch 8 | Train Loss 0.7977602138287492 | Train Accuracy 0.7078260869565217 | Test Loss 0.9507853984832764 | Test Accuracy 0.6575\n",
            "Epoch 9 | Train Loss 0.78864596121841 | Train Accuracy 0.7101086956521739 | Test Loss 0.9317490045840924 | Test Accuracy 0.6625\n",
            "Epoch 10 | Train Loss 0.7824742978231775 | Train Accuracy 0.712391304347826 | Test Loss 0.9416989913353553 | Test Accuracy 0.67125\n",
            "Epoch 11 | Train Loss 0.7767367462317148 | Train Accuracy 0.7119565217391305 | Test Loss 0.9516241275347196 | Test Accuracy 0.67\n",
            "Epoch 12 | Train Loss 0.7708124356965224 | Train Accuracy 0.7191304347826087 | Test Loss 0.9230741812632635 | Test Accuracy 0.68\n",
            "Epoch 13 | Train Loss 0.7635532276084026 | Train Accuracy 0.7219565217391304 | Test Loss 0.9342426565977243 | Test Accuracy 0.67625\n",
            "Epoch 14 | Train Loss 0.755572905143102 | Train Accuracy 0.7242391304347826 | Test Loss 0.9221710975353534 | Test Accuracy 0.6725\n",
            "Epoch 15 | Train Loss 0.7502030397040976 | Train Accuracy 0.7258695652173913 | Test Loss 0.9317923142359807 | Test Accuracy 0.67375\n",
            "Epoch 16 | Train Loss 0.7440920496980349 | Train Accuracy 0.7318478260869565 | Test Loss 0.9145017128724319 | Test Accuracy 0.68125\n",
            "Epoch 17 | Train Loss 0.7407121877703402 | Train Accuracy 0.7326086956521739 | Test Loss 0.9448389181723962 | Test Accuracy 0.685\n",
            "Epoch 18 | Train Loss 0.7357031849937307 | Train Accuracy 0.7334782608695652 | Test Loss 0.9357360372176537 | Test Accuracy 0.685\n",
            "Epoch 19 | Train Loss 0.731800183860792 | Train Accuracy 0.7360869565217392 | Test Loss 0.9365315941663889 | Test Accuracy 0.6925\n",
            "Epoch 20 | Train Loss 0.7283673518233829 | Train Accuracy 0.7389130434782609 | Test Loss 0.8983895090910105 | Test Accuracy 0.68625\n",
            "Epoch 21 | Train Loss 0.7240786248197159 | Train Accuracy 0.7398913043478261 | Test Loss 0.8999293171442472 | Test Accuracy 0.68375\n",
            "Epoch 22 | Train Loss 0.7211098581966426 | Train Accuracy 0.7415217391304347 | Test Loss 0.9205361971488366 | Test Accuracy 0.68625\n",
            "Epoch 23 | Train Loss 0.7182087051785655 | Train Accuracy 0.741304347826087 | Test Loss 0.9222508668899536 | Test Accuracy 0.68125\n",
            "Epoch 24 | Train Loss 0.7154890555474493 | Train Accuracy 0.7431521739130434 | Test Loss 0.915267866391402 | Test Accuracy 0.67875\n",
            "Validation accuracy did not improve for several epochs. Stopping early.\n",
            "Epoch 0 | Train Loss 2.0122213711341224 | Train Accuracy 0.33021739130434785 | Test Loss 1.7031308045754066 | Test Accuracy 0.52875\n",
            "Epoch 1 | Train Loss 1.4620362925860617 | Train Accuracy 0.5495652173913044 | Test Loss 1.3101783990859985 | Test Accuracy 0.585\n",
            "Epoch 2 | Train Loss 1.1666607306235366 | Train Accuracy 0.6425 | Test Loss 1.1247572027719939 | Test Accuracy 0.63625\n",
            "Epoch 3 | Train Loss 1.007864087820053 | Train Accuracy 0.6858695652173913 | Test Loss 1.017226361311399 | Test Accuracy 0.64625\n",
            "Epoch 4 | Train Loss 0.9070731128255526 | Train Accuracy 0.7042391304347826 | Test Loss 0.9562289760662959 | Test Accuracy 0.67375\n",
            "Epoch 5 | Train Loss 0.8424722299807601 | Train Accuracy 0.7190217391304348 | Test Loss 0.9034882967288678 | Test Accuracy 0.68\n",
            "Epoch 6 | Train Loss 0.8035682299070888 | Train Accuracy 0.7259782608695652 | Test Loss 0.9014221200576196 | Test Accuracy 0.68375\n",
            "Epoch 7 | Train Loss 0.777942444715235 | Train Accuracy 0.7383695652173913 | Test Loss 0.874645499082712 | Test Accuracy 0.7\n",
            "Epoch 8 | Train Loss 0.7578444040069977 | Train Accuracy 0.7505434782608695 | Test Loss 0.8961213552034818 | Test Accuracy 0.70125\n",
            "Epoch 9 | Train Loss 0.7451637252751324 | Train Accuracy 0.7539130434782608 | Test Loss 0.8652888949100788 | Test Accuracy 0.6975\n",
            "Epoch 10 | Train Loss 0.7350290022376511 | Train Accuracy 0.7575 | Test Loss 0.8690607180962195 | Test Accuracy 0.71625\n",
            "Epoch 11 | Train Loss 0.7256682970457606 | Train Accuracy 0.7591304347826087 | Test Loss 0.8670481351705698 | Test Accuracy 0.705\n",
            "Epoch 12 | Train Loss 0.7165149446162913 | Train Accuracy 0.7618478260869566 | Test Loss 0.8601941603880662 | Test Accuracy 0.70375\n",
            "Epoch 13 | Train Loss 0.7119006106836928 | Train Accuracy 0.7620652173913044 | Test Loss 0.8604800792840811 | Test Accuracy 0.71125\n",
            "Epoch 14 | Train Loss 0.7061541492326392 | Train Accuracy 0.7628260869565218 | Test Loss 0.8548146257033715 | Test Accuracy 0.71125\n",
            "Epoch 15 | Train Loss 0.7017600182443857 | Train Accuracy 0.7658695652173914 | Test Loss 0.8680473932853112 | Test Accuracy 0.7075\n",
            "Validation accuracy did not improve for several epochs. Stopping early.\n",
            "Epoch 0 | Train Loss 2.041054147813055 | Train Accuracy 0.34619565217391307 | Test Loss 1.788575218274043 | Test Accuracy 0.49875\n",
            "Epoch 1 | Train Loss 1.5336988030208483 | Train Accuracy 0.5211956521739131 | Test Loss 1.3562025748766386 | Test Accuracy 0.6075\n",
            "Epoch 2 | Train Loss 1.189840181834168 | Train Accuracy 0.6446739130434782 | Test Loss 1.1193042122400725 | Test Accuracy 0.655\n",
            "Epoch 3 | Train Loss 0.9934026619626416 | Train Accuracy 0.6851086956521739 | Test Loss 1.0038135464374836 | Test Accuracy 0.68125\n",
            "Epoch 4 | Train Loss 0.8929739445447922 | Train Accuracy 0.7066304347826087 | Test Loss 0.9474835029015174 | Test Accuracy 0.70625\n",
            "Epoch 5 | Train Loss 0.8324686388174692 | Train Accuracy 0.7190217391304348 | Test Loss 0.9182663743312542 | Test Accuracy 0.71125\n",
            "Epoch 6 | Train Loss 0.7952013392415311 | Train Accuracy 0.7273913043478261 | Test Loss 0.8979072433251601 | Test Accuracy 0.71\n",
            "Epoch 7 | Train Loss 0.7721969017552005 | Train Accuracy 0.7327173913043479 | Test Loss 0.8835172011302068 | Test Accuracy 0.705\n",
            "Epoch 8 | Train Loss 0.7569760847836733 | Train Accuracy 0.7343478260869565 | Test Loss 0.8790119748849136 | Test Accuracy 0.715\n",
            "Epoch 9 | Train Loss 0.7448089317315154 | Train Accuracy 0.7395652173913043 | Test Loss 0.8649238898203924 | Test Accuracy 0.71125\n",
            "Epoch 10 | Train Loss 0.7374452230417066 | Train Accuracy 0.7420652173913044 | Test Loss 0.8804529859469488 | Test Accuracy 0.71375\n",
            "Epoch 11 | Train Loss 0.7298823272188505 | Train Accuracy 0.7441304347826087 | Test Loss 0.8694241138604971 | Test Accuracy 0.7125\n",
            "Epoch 12 | Train Loss 0.7226156019088295 | Train Accuracy 0.7475 | Test Loss 0.8486174665964566 | Test Accuracy 0.72625\n",
            "Epoch 13 | Train Loss 0.7179217239220937 | Train Accuracy 0.7466304347826087 | Test Loss 0.8520512672571036 | Test Accuracy 0.72625\n",
            "Epoch 14 | Train Loss 0.7133140878544914 | Train Accuracy 0.7480434782608696 | Test Loss 0.8573999129808866 | Test Accuracy 0.725\n",
            "Epoch 15 | Train Loss 0.7091148675729831 | Train Accuracy 0.7484782608695653 | Test Loss 0.8534527375147893 | Test Accuracy 0.72625\n",
            "Epoch 16 | Train Loss 0.7046475075185299 | Train Accuracy 0.753695652173913 | Test Loss 0.8467882734078628 | Test Accuracy 0.73\n",
            "Epoch 17 | Train Loss 0.7027295016580157 | Train Accuracy 0.7519565217391304 | Test Loss 0.8505043616661658 | Test Accuracy 0.72875\n",
            "Epoch 18 | Train Loss 0.6989412100778686 | Train Accuracy 0.7547826086956522 | Test Loss 0.8327092803441561 | Test Accuracy 0.72125\n",
            "Epoch 19 | Train Loss 0.6967896214789815 | Train Accuracy 0.7543478260869565 | Test Loss 0.8375296638562129 | Test Accuracy 0.7225\n",
            "Epoch 20 | Train Loss 0.694888069604834 | Train Accuracy 0.755 | Test Loss 0.8513576938555791 | Test Accuracy 0.715\n",
            "Epoch 21 | Train Loss 0.6918415822502639 | Train Accuracy 0.7572826086956522 | Test Loss 0.83171857549594 | Test Accuracy 0.7275\n",
            "Validation accuracy did not improve for several epochs. Stopping early.\n",
            "best accuraces for test was : [0.71625, 0.7175, 0.6925, 0.71625, 0.73]\n",
            "stddev for test was  : 0.013595725431178726\n",
            "best accuraces for test was : [0.7480434782608696, 0.7631521739130435, 0.7431521739130434, 0.7658695652173914, 0.7572826086956522]\n",
            "stddev for test was  : 0.009712490253210807\n"
          ]
        }
      ]
    },
    {
      "cell_type": "code",
      "source": [
        "import numpy as np\n",
        "\n",
        "test_acc = [0.71625, 0.7175, 0.6925, 0.71625, 0.73]\n",
        "\n",
        "np.array(test_acc).mean()"
      ],
      "metadata": {
        "colab": {
          "base_uri": "https://localhost:8080/"
        },
        "id": "BGMjO1ZwAqOd",
        "outputId": "88e64f58-9e93-4ba5-d616-fb5c73c597b6"
      },
      "execution_count": 12,
      "outputs": [
        {
          "output_type": "execute_result",
          "data": {
            "text/plain": [
              "0.7145"
            ]
          },
          "metadata": {},
          "execution_count": 12
        }
      ]
    },
    {
      "cell_type": "markdown",
      "source": [
        "# efficient 32"
      ],
      "metadata": {
        "id": "pV4iRrkAt7-a"
      }
    },
    {
      "cell_type": "code",
      "source": [
        "logsef32= run_experiment(32, features_efficient, show_metric=True)\n",
        "with open('/content/drive/MyDrive/tmp/logsef32.pkl', 'wb') as file:\n",
        "        pickle.dump(logsef32, file)"
      ],
      "metadata": {
        "id": "2A_It8o3vm-8",
        "colab": {
          "base_uri": "https://localhost:8080/",
          "height": 1000
        },
        "outputId": "932c4ba1-c063-4d0f-e547-a39400c066db"
      },
      "execution_count": null,
      "outputs": [
        {
          "output_type": "stream",
          "name": "stdout",
          "text": [
            "Data(x=[75, 32], edge_index=[2, 1405], y=[1], pos=[75, 2])\n",
            "Data(x=[75, 32], edge_index=[2, 1395], y=[1], pos=[75, 2])\n",
            "Starting training...\n",
            "Epoch 0 | Train Loss 2.013024782968892 | Train Accuracy 0.35032608695652173 | Test Loss 1.7231546548696666 | Test Accuracy 0.4925\n",
            "Epoch 1 | Train Loss 1.4357592016458511 | Train Accuracy 0.6009782608695652 | Test Loss 1.2535647520652184 | Test Accuracy 0.66\n",
            "Epoch 2 | Train Loss 1.035349566489458 | Train Accuracy 0.7047826086956521 | Test Loss 0.9774390504910395 | Test Accuracy 0.72\n",
            "Epoch 3 | Train Loss 0.8201855536964204 | Train Accuracy 0.7486956521739131 | Test Loss 0.8425729274749756 | Test Accuracy 0.72125\n",
            "Epoch 4 | Train Loss 0.704199635113279 | Train Accuracy 0.7716304347826087 | Test Loss 0.749364013855274 | Test Accuracy 0.74875\n",
            "Epoch 5 | Train Loss 0.6342214546683762 | Train Accuracy 0.7984782608695652 | Test Loss 0.6882507984454815 | Test Accuracy 0.775\n",
            "Epoch 6 | Train Loss 0.5747543498873711 | Train Accuracy 0.823695652173913 | Test Loss 0.6338148506788107 | Test Accuracy 0.79375\n",
            "Epoch 7 | Train Loss 0.5199377288420995 | Train Accuracy 0.8454347826086956 | Test Loss 0.5836264972503369 | Test Accuracy 0.82\n",
            "Epoch 8 | Train Loss 0.4672681861039665 | Train Accuracy 0.8665217391304347 | Test Loss 0.5356020400157342 | Test Accuracy 0.8375\n",
            "Epoch 9 | Train Loss 0.42234210452685755 | Train Accuracy 0.8802173913043478 | Test Loss 0.49671688905129063 | Test Accuracy 0.85125\n",
            "Epoch 10 | Train Loss 0.38711740386982757 | Train Accuracy 0.8896739130434783 | Test Loss 0.47286305060753453 | Test Accuracy 0.8625\n",
            "Epoch 11 | Train Loss 0.3603987553053432 | Train Accuracy 0.8979347826086956 | Test Loss 0.43288000042621905 | Test Accuracy 0.87\n",
            "Epoch 12 | Train Loss 0.338652469838659 | Train Accuracy 0.9064130434782609 | Test Loss 0.4082934879339658 | Test Accuracy 0.87875\n",
            "Epoch 13 | Train Loss 0.31906413612887263 | Train Accuracy 0.9118478260869565 | Test Loss 0.3833581507205963 | Test Accuracy 0.89125\n",
            "Epoch 14 | Train Loss 0.3048328941480981 | Train Accuracy 0.9166304347826087 | Test Loss 0.37365649525935835 | Test Accuracy 0.90125\n",
            "Epoch 15 | Train Loss 0.2858891814119286 | Train Accuracy 0.9253260869565217 | Test Loss 0.33658900971596056 | Test Accuracy 0.90625\n",
            "Epoch 16 | Train Loss 0.2694394701263971 | Train Accuracy 0.9292391304347826 | Test Loss 0.33963252718632037 | Test Accuracy 0.905\n",
            "Epoch 17 | Train Loss 0.25716373991842073 | Train Accuracy 0.9318478260869565 | Test Loss 0.3142921019058961 | Test Accuracy 0.91625\n",
            "Epoch 18 | Train Loss 0.24876442432610524 | Train Accuracy 0.9366304347826087 | Test Loss 0.3089115573809697 | Test Accuracy 0.91875\n",
            "Epoch 19 | Train Loss 0.2376045776117179 | Train Accuracy 0.9376086956521739 | Test Loss 0.29527593232118166 | Test Accuracy 0.92\n",
            "Epoch 20 | Train Loss 0.22985369510327777 | Train Accuracy 0.9404347826086956 | Test Loss 0.28482352827604 | Test Accuracy 0.92625\n",
            "Epoch 21 | Train Loss 0.22201067548141712 | Train Accuracy 0.9421739130434783 | Test Loss 0.27829851038180864 | Test Accuracy 0.92875\n",
            "Epoch 22 | Train Loss 0.21599479027402899 | Train Accuracy 0.9430434782608695 | Test Loss 0.2825135439634323 | Test Accuracy 0.93125\n",
            "Epoch 23 | Train Loss 0.21082459475534657 | Train Accuracy 0.9446739130434783 | Test Loss 0.27490398860894716 | Test Accuracy 0.93375\n",
            "Epoch 24 | Train Loss 0.2053909830800775 | Train Accuracy 0.9466304347826087 | Test Loss 0.2810975983738899 | Test Accuracy 0.935\n",
            "Epoch 25 | Train Loss 0.19986435075083542 | Train Accuracy 0.9481521739130435 | Test Loss 0.27938993676350665 | Test Accuracy 0.93125\n",
            "Epoch 26 | Train Loss 0.1961387262110495 | Train Accuracy 0.9477173913043478 | Test Loss 0.28441857260007125 | Test Accuracy 0.93125\n",
            "Epoch 27 | Train Loss 0.19205830132381785 | Train Accuracy 0.9501086956521739 | Test Loss 0.2778750268312601 | Test Accuracy 0.93375\n",
            "Epoch 28 | Train Loss 0.18793219847915074 | Train Accuracy 0.9520652173913043 | Test Loss 0.2739521630394917 | Test Accuracy 0.92875\n",
            "Epoch 29 | Train Loss 0.18556010304018855 | Train Accuracy 0.951304347826087 | Test Loss 0.2773307367013051 | Test Accuracy 0.9325\n",
            "Validation accuracy did not improve for several epochs. Stopping early.\n",
            "Epoch 0 | Train Loss 2.047073669731617 | Train Accuracy 0.3048913043478261 | Test Loss 1.7454540546123798 | Test Accuracy 0.4275\n",
            "Epoch 1 | Train Loss 1.5188365711106195 | Train Accuracy 0.5247826086956522 | Test Loss 1.2932375210982103 | Test Accuracy 0.6375\n",
            "Epoch 2 | Train Loss 1.1260994205044375 | Train Accuracy 0.6817391304347826 | Test Loss 0.9921604440762446 | Test Accuracy 0.73125\n",
            "Epoch 3 | Train Loss 0.8631868975030051 | Train Accuracy 0.7571739130434783 | Test Loss 0.7752651709776658 | Test Accuracy 0.8\n",
            "Epoch 4 | Train Loss 0.6845154079298178 | Train Accuracy 0.8247826086956521 | Test Loss 0.6053007932809683 | Test Accuracy 0.8475\n",
            "Epoch 5 | Train Loss 0.5558203477412462 | Train Accuracy 0.8541304347826087 | Test Loss 0.49713778495788574 | Test Accuracy 0.8825\n",
            "Epoch 6 | Train Loss 0.4720169771462679 | Train Accuracy 0.8733695652173913 | Test Loss 0.4460238264157222 | Test Accuracy 0.8825\n",
            "Epoch 7 | Train Loss 0.41622304719769293 | Train Accuracy 0.8877173913043478 | Test Loss 0.40620911579865676 | Test Accuracy 0.89375\n",
            "Epoch 8 | Train Loss 0.37904913609640467 | Train Accuracy 0.8971739130434783 | Test Loss 0.3987101282064731 | Test Accuracy 0.895\n",
            "Epoch 9 | Train Loss 0.35293466525359285 | Train Accuracy 0.9028260869565218 | Test Loss 0.3590538799762726 | Test Accuracy 0.895\n",
            "Epoch 10 | Train Loss 0.32848708445413244 | Train Accuracy 0.9094565217391304 | Test Loss 0.3516038071650725 | Test Accuracy 0.89375\n",
            "Epoch 11 | Train Loss 0.31055516480571693 | Train Accuracy 0.9141304347826087 | Test Loss 0.3408856460681328 | Test Accuracy 0.89625\n",
            "Epoch 12 | Train Loss 0.2960667436321576 | Train Accuracy 0.9171739130434783 | Test Loss 0.3424730896949768 | Test Accuracy 0.9\n",
            "Epoch 13 | Train Loss 0.2844606591905985 | Train Accuracy 0.9192391304347826 | Test Loss 0.32097312578788173 | Test Accuracy 0.9025\n",
            "Epoch 14 | Train Loss 0.2739411934485866 | Train Accuracy 0.9243478260869565 | Test Loss 0.3239499938029509 | Test Accuracy 0.9075\n",
            "Epoch 15 | Train Loss 0.2646966833724744 | Train Accuracy 0.9259782608695653 | Test Loss 0.33111734229784745 | Test Accuracy 0.91\n",
            "Epoch 16 | Train Loss 0.25666589450298083 | Train Accuracy 0.9267391304347826 | Test Loss 0.3053179887624887 | Test Accuracy 0.915\n",
            "Epoch 17 | Train Loss 0.24786416141109335 | Train Accuracy 0.9306521739130434 | Test Loss 0.2895394896085446 | Test Accuracy 0.915\n",
            "Epoch 18 | Train Loss 0.2422342953375644 | Train Accuracy 0.9322826086956522 | Test Loss 0.2899562590397321 | Test Accuracy 0.91875\n",
            "Epoch 19 | Train Loss 0.23450121831976706 | Train Accuracy 0.9340217391304347 | Test Loss 0.27479453270251936 | Test Accuracy 0.92\n",
            "Epoch 20 | Train Loss 0.2274114036311706 | Train Accuracy 0.9360869565217391 | Test Loss 0.28518526829206026 | Test Accuracy 0.91625\n",
            "Epoch 21 | Train Loss 0.22429120204307967 | Train Accuracy 0.9365217391304348 | Test Loss 0.2855372509131065 | Test Accuracy 0.92\n",
            "Epoch 22 | Train Loss 0.21978963983969557 | Train Accuracy 0.938695652173913 | Test Loss 0.29268778459383893 | Test Accuracy 0.92125\n",
            "Epoch 23 | Train Loss 0.21320013342321747 | Train Accuracy 0.9390217391304347 | Test Loss 0.3004384350318175 | Test Accuracy 0.9225\n",
            "Epoch 24 | Train Loss 0.2058860344760534 | Train Accuracy 0.9405434782608696 | Test Loss 0.29661557995356047 | Test Accuracy 0.92\n",
            "Epoch 25 | Train Loss 0.20199470384977758 | Train Accuracy 0.9435869565217392 | Test Loss 0.28723853826522827 | Test Accuracy 0.92375\n",
            "Epoch 26 | Train Loss 0.1990535387562381 | Train Accuracy 0.9428260869565217 | Test Loss 0.29142987154997313 | Test Accuracy 0.92125\n",
            "Epoch 27 | Train Loss 0.19314911102669108 | Train Accuracy 0.9448913043478261 | Test Loss 0.29010041573872936 | Test Accuracy 0.9175\n",
            "Epoch 28 | Train Loss 0.18888304302365416 | Train Accuracy 0.9471739130434783 | Test Loss 0.29357378070171064 | Test Accuracy 0.92\n",
            "Epoch 29 | Train Loss 0.18355672183032665 | Train Accuracy 0.9478260869565217 | Test Loss 0.29012932914953965 | Test Accuracy 0.91875\n",
            "Epoch 30 | Train Loss 0.1796128355846223 | Train Accuracy 0.9504347826086956 | Test Loss 0.3065730734513356 | Test Accuracy 0.9225\n",
            "Validation accuracy did not improve for several epochs. Stopping early.\n",
            "Epoch 0 | Train Loss 2.033535983827379 | Train Accuracy 0.27304347826086955 | Test Loss 1.723826344196613 | Test Accuracy 0.40875\n",
            "Epoch 1 | Train Loss 1.527573198907905 | Train Accuracy 0.5266304347826087 | Test Loss 1.241910301722013 | Test Accuracy 0.66875\n",
            "Epoch 2 | Train Loss 1.10730642080307 | Train Accuracy 0.6835869565217392 | Test Loss 0.9149653774041396 | Test Accuracy 0.78625\n",
            "Epoch 3 | Train Loss 0.8438074953026242 | Train Accuracy 0.778804347826087 | Test Loss 0.7097331377176138 | Test Accuracy 0.82625\n",
            "Epoch 4 | Train Loss 0.6649290153549777 | Train Accuracy 0.8270652173913043 | Test Loss 0.5776019623646369 | Test Accuracy 0.855\n",
            "Epoch 5 | Train Loss 0.5482646736005942 | Train Accuracy 0.855 | Test Loss 0.48144424649385303 | Test Accuracy 0.88\n",
            "Epoch 6 | Train Loss 0.4754824479007059 | Train Accuracy 0.8720652173913044 | Test Loss 0.4286080851004674 | Test Accuracy 0.89625\n",
            "Epoch 7 | Train Loss 0.42700170756628114 | Train Accuracy 0.8832608695652174 | Test Loss 0.38667683417980486 | Test Accuracy 0.90375\n",
            "Epoch 8 | Train Loss 0.3937562828262647 | Train Accuracy 0.8917391304347826 | Test Loss 0.3625362698848431 | Test Accuracy 0.9\n",
            "Epoch 9 | Train Loss 0.36245595498217476 | Train Accuracy 0.9008695652173913 | Test Loss 0.3335501081668414 | Test Accuracy 0.91375\n",
            "Epoch 10 | Train Loss 0.33596052457061076 | Train Accuracy 0.9102173913043479 | Test Loss 0.3193544791294978 | Test Accuracy 0.91625\n",
            "Epoch 11 | Train Loss 0.317023728767203 | Train Accuracy 0.9143478260869565 | Test Loss 0.31161713141661423 | Test Accuracy 0.9175\n",
            "Epoch 12 | Train Loss 0.30138074787747526 | Train Accuracy 0.9185869565217392 | Test Loss 0.31219513141191924 | Test Accuracy 0.91875\n",
            "Epoch 13 | Train Loss 0.2898513356534143 | Train Accuracy 0.9222826086956522 | Test Loss 0.2817241790202948 | Test Accuracy 0.91875\n",
            "Epoch 14 | Train Loss 0.2803420547085504 | Train Accuracy 0.9225 | Test Loss 0.2930924342228816 | Test Accuracy 0.9175\n",
            "Epoch 15 | Train Loss 0.27351786056533456 | Train Accuracy 0.9252173913043479 | Test Loss 0.271859633234831 | Test Accuracy 0.92\n",
            "Epoch 16 | Train Loss 0.26542310225259924 | Train Accuracy 0.9264130434782609 | Test Loss 0.28975018228475863 | Test Accuracy 0.92\n",
            "Epoch 17 | Train Loss 0.26008599665429855 | Train Accuracy 0.9257608695652174 | Test Loss 0.2697717719353162 | Test Accuracy 0.93\n",
            "Epoch 18 | Train Loss 0.25519929945261943 | Train Accuracy 0.9296739130434782 | Test Loss 0.26310361749850786 | Test Accuracy 0.92875\n",
            "Epoch 19 | Train Loss 0.2505334774549637 | Train Accuracy 0.9294565217391304 | Test Loss 0.2619083890548119 | Test Accuracy 0.92875\n",
            "Epoch 20 | Train Loss 0.24650476477108896 | Train Accuracy 0.931304347826087 | Test Loss 0.2684035576306857 | Test Accuracy 0.93125\n",
            "Epoch 21 | Train Loss 0.24075958215528065 | Train Accuracy 0.9320652173913043 | Test Loss 0.25770126512417424 | Test Accuracy 0.9275\n",
            "Epoch 22 | Train Loss 0.2382209425429917 | Train Accuracy 0.9326086956521739 | Test Loss 0.26378149138047147 | Test Accuracy 0.93375\n",
            "Epoch 23 | Train Loss 0.23536460305978027 | Train Accuracy 0.9326086956521739 | Test Loss 0.24818468552369338 | Test Accuracy 0.93125\n",
            "Epoch 24 | Train Loss 0.22841721514446867 | Train Accuracy 0.9355434782608696 | Test Loss 0.24787264374586251 | Test Accuracy 0.93\n",
            "Epoch 25 | Train Loss 0.2250652252179053 | Train Accuracy 0.9354347826086956 | Test Loss 0.2491649595590738 | Test Accuracy 0.92875\n",
            "Epoch 26 | Train Loss 0.22012942858661214 | Train Accuracy 0.938695652173913 | Test Loss 0.24969201191113546 | Test Accuracy 0.93375\n",
            "Epoch 27 | Train Loss 0.21758253699065083 | Train Accuracy 0.9394565217391304 | Test Loss 0.2545456118308581 | Test Accuracy 0.93125\n",
            "Validation accuracy did not improve for several epochs. Stopping early.\n",
            "Epoch 0 | Train Loss 2.1070190403196545 | Train Accuracy 0.29 | Test Loss 1.884278233234699 | Test Accuracy 0.425\n",
            "Epoch 1 | Train Loss 1.5675658235947292 | Train Accuracy 0.6032608695652174 | Test Loss 1.382384520310622 | Test Accuracy 0.63125\n",
            "Epoch 2 | Train Loss 1.0861613725622494 | Train Accuracy 0.7365217391304347 | Test Loss 1.0028838698680584 | Test Accuracy 0.73375\n",
            "Epoch 3 | Train Loss 0.7705612315071954 | Train Accuracy 0.8061956521739131 | Test Loss 0.7806059213785025 | Test Accuracy 0.7925\n",
            "Epoch 4 | Train Loss 0.5920890996025668 | Train Accuracy 0.8521739130434782 | Test Loss 0.6634417588894184 | Test Accuracy 0.81875\n",
            "Epoch 5 | Train Loss 0.47644318723016316 | Train Accuracy 0.8775 | Test Loss 0.5748142485435193 | Test Accuracy 0.8375\n",
            "Epoch 6 | Train Loss 0.402914942552646 | Train Accuracy 0.8925 | Test Loss 0.521466789337305 | Test Accuracy 0.8475\n",
            "Epoch 7 | Train Loss 0.35741294568611515 | Train Accuracy 0.9043478260869565 | Test Loss 0.46561144636227536 | Test Accuracy 0.8725\n",
            "Epoch 8 | Train Loss 0.324273149172465 | Train Accuracy 0.9133695652173913 | Test Loss 0.43343878250855666 | Test Accuracy 0.87375\n",
            "Epoch 9 | Train Loss 0.29870113880477017 | Train Accuracy 0.9203260869565217 | Test Loss 0.4085809313333951 | Test Accuracy 0.88625\n",
            "Epoch 10 | Train Loss 0.277803557459265 | Train Accuracy 0.9254347826086956 | Test Loss 0.3913009659602092 | Test Accuracy 0.8975\n",
            "Epoch 11 | Train Loss 0.26432335909662974 | Train Accuracy 0.931304347826087 | Test Loss 0.380570188164711 | Test Accuracy 0.905\n",
            "Epoch 12 | Train Loss 0.24875501320800847 | Train Accuracy 0.9345652173913044 | Test Loss 0.351356097138845 | Test Accuracy 0.90375\n",
            "Epoch 13 | Train Loss 0.23758038324821326 | Train Accuracy 0.936304347826087 | Test Loss 0.3483146784397272 | Test Accuracy 0.91\n",
            "Epoch 14 | Train Loss 0.22861772630777624 | Train Accuracy 0.9389130434782609 | Test Loss 0.3540430642091311 | Test Accuracy 0.92\n",
            "Epoch 15 | Train Loss 0.21793277952302662 | Train Accuracy 0.9417391304347826 | Test Loss 0.3421544318015759 | Test Accuracy 0.92625\n",
            "Epoch 16 | Train Loss 0.21270538323248425 | Train Accuracy 0.9427173913043478 | Test Loss 0.34974249395040363 | Test Accuracy 0.92125\n",
            "Epoch 17 | Train Loss 0.20597375846571392 | Train Accuracy 0.9441304347826087 | Test Loss 0.33071134755244624 | Test Accuracy 0.92\n",
            "Epoch 18 | Train Loss 0.2011415057608651 | Train Accuracy 0.9448913043478261 | Test Loss 0.3387151217231384 | Test Accuracy 0.9225\n",
            "Epoch 19 | Train Loss 0.1962922513226254 | Train Accuracy 0.9478260869565217 | Test Loss 0.330584032031206 | Test Accuracy 0.91875\n",
            "Epoch 20 | Train Loss 0.1914509633400788 | Train Accuracy 0.9483695652173914 | Test Loss 0.33078598288389355 | Test Accuracy 0.91875\n",
            "Validation accuracy did not improve for several epochs. Stopping early.\n",
            "Epoch 0 | Train Loss 2.0748123774925866 | Train Accuracy 0.2747826086956522 | Test Loss 1.8262240978387685 | Test Accuracy 0.37375\n",
            "Epoch 1 | Train Loss 1.5372531604435709 | Train Accuracy 0.5283695652173913 | Test Loss 1.3637460928696852 | Test Accuracy 0.59375\n",
            "Epoch 2 | Train Loss 1.1094212494790554 | Train Accuracy 0.6953260869565218 | Test Loss 1.0046056875815759 | Test Accuracy 0.72375\n",
            "Epoch 3 | Train Loss 0.8192972764372826 | Train Accuracy 0.7763043478260869 | Test Loss 0.7682911020058852 | Test Accuracy 0.79\n",
            "Epoch 4 | Train Loss 0.6517122437556585 | Train Accuracy 0.8192391304347826 | Test Loss 0.658952894119116 | Test Accuracy 0.81875\n",
            "Epoch 5 | Train Loss 0.5434348858478997 | Train Accuracy 0.85 | Test Loss 0.5703021631791041 | Test Accuracy 0.84625\n",
            "Epoch 6 | Train Loss 0.47037359244293636 | Train Accuracy 0.8709782608695652 | Test Loss 0.49514998151705814 | Test Accuracy 0.86875\n",
            "Epoch 7 | Train Loss 0.4144701440301206 | Train Accuracy 0.8860869565217391 | Test Loss 0.45880897916280305 | Test Accuracy 0.87625\n",
            "Epoch 8 | Train Loss 0.3747016242187884 | Train Accuracy 0.8965217391304348 | Test Loss 0.42121327037994677 | Test Accuracy 0.8875\n",
            "Epoch 9 | Train Loss 0.3463967880234122 | Train Accuracy 0.904891304347826 | Test Loss 0.4166907244003736 | Test Accuracy 0.8875\n",
            "Epoch 10 | Train Loss 0.3232137541183167 | Train Accuracy 0.9108695652173913 | Test Loss 0.40824220730708194 | Test Accuracy 0.8975\n",
            "Epoch 11 | Train Loss 0.30735496886902386 | Train Accuracy 0.9159782608695652 | Test Loss 0.3750374832978615 | Test Accuracy 0.90375\n",
            "Epoch 12 | Train Loss 0.29206047574472094 | Train Accuracy 0.9193478260869565 | Test Loss 0.3684499194988838 | Test Accuracy 0.9\n",
            "Epoch 13 | Train Loss 0.2803727082080311 | Train Accuracy 0.9211956521739131 | Test Loss 0.38281408983927506 | Test Accuracy 0.9025\n",
            "Epoch 14 | Train Loss 0.27019857889455223 | Train Accuracy 0.9247826086956522 | Test Loss 0.38022203743457794 | Test Accuracy 0.9025\n",
            "Epoch 15 | Train Loss 0.2630413647534119 | Train Accuracy 0.9267391304347826 | Test Loss 0.35733284285435307 | Test Accuracy 0.9025\n",
            "Epoch 16 | Train Loss 0.2526014070543978 | Train Accuracy 0.9296739130434782 | Test Loss 0.3604845221226032 | Test Accuracy 0.90125\n",
            "Validation accuracy did not improve for several epochs. Stopping early.\n",
            "best accuraces for test was : [0.935, 0.92375, 0.93375, 0.92625, 0.90375]\n",
            "stddev for test was  : 0.012549900398011118\n",
            "best accuraces for test was : [0.9520652173913043, 0.9504347826086956, 0.9394565217391304, 0.9483695652173914, 0.9296739130434782]\n",
            "stddev for test was  : 0.009373196108745718\n"
          ]
        },
        {
          "output_type": "display_data",
          "data": {
            "text/plain": [
              "<Figure size 1000x800 with 2 Axes>"
            ],
            "image/png": "[encoded data removed]"
          },
          "metadata": {}
        },
        {
          "output_type": "stream",
          "name": "stdout",
          "text": [
            "              precision    recall  f1-score   support\n",
            "\n",
            "           0       0.99      0.94      0.96        83\n",
            "           1       0.94      0.96      0.95        95\n",
            "           2       0.77      0.75      0.76        77\n",
            "           3       0.90      0.77      0.83        82\n",
            "           4       0.92      0.95      0.93        75\n",
            "           5       0.95      0.90      0.93        69\n",
            "           6       0.94      0.95      0.94        79\n",
            "           7       0.89      0.96      0.92        91\n",
            "           8       0.81      0.88      0.84        76\n",
            "           9       0.91      0.95      0.93        73\n",
            "\n",
            "    accuracy                           0.90       800\n",
            "   macro avg       0.90      0.90      0.90       800\n",
            "weighted avg       0.90      0.90      0.90       800\n",
            "\n"
          ]
        }
      ]
    },
    {
      "cell_type": "code",
      "source": [
        "import numpy as np\n",
        "\n",
        "test_acc = [0.935, 0.92375, 0.93375, 0.92625, 0.90375]\n",
        "\n",
        "np.array(test_acc).mean()"
      ],
      "metadata": {
        "colab": {
          "base_uri": "https://localhost:8080/"
        },
        "id": "WYN1y17RAyoV",
        "outputId": "71eb96fa-f963-4aaf-dd40-1bccd32cfb64"
      },
      "execution_count": 13,
      "outputs": [
        {
          "output_type": "execute_result",
          "data": {
            "text/plain": [
              "0.9245000000000001"
            ]
          },
          "metadata": {},
          "execution_count": 13
        }
      ]
    },
    {
      "cell_type": "markdown",
      "source": [
        "# efficient 100"
      ],
      "metadata": {
        "id": "-n1BbuLvt8vj"
      }
    },
    {
      "cell_type": "code",
      "source": [
        "logsef100 = run_experiment(100, features_efficient)\n",
        "with open('/content/drive/MyDrive/tmp/logsef100.pkl', 'wb') as file:\n",
        "        pickle.dump(logsef100, file)"
      ],
      "metadata": {
        "id": "B1H_VIbXvnVM",
        "colab": {
          "base_uri": "https://localhost:8080/"
        },
        "outputId": "2726b6d6-7516-497c-87dd-b3f8a50685f4"
      },
      "execution_count": null,
      "outputs": [
        {
          "output_type": "stream",
          "name": "stdout",
          "text": [
            "Data(x=[75, 100], edge_index=[2, 1405], y=[1], pos=[75, 2])\n",
            "Data(x=[75, 100], edge_index=[2, 1395], y=[1], pos=[75, 2])\n",
            "Starting training...\n",
            "Epoch 0 | Train Loss 2.053633516861333 | Train Accuracy 0.3166304347826087 | Test Loss 1.7392909435125499 | Test Accuracy 0.48625\n",
            "Epoch 1 | Train Loss 1.4699265700247552 | Train Accuracy 0.5468478260869565 | Test Loss 1.195796223787161 | Test Accuracy 0.65875\n",
            "Epoch 2 | Train Loss 1.025038472066323 | Train Accuracy 0.7051086956521739 | Test Loss 0.8524462626530573 | Test Accuracy 0.77875\n",
            "Epoch 3 | Train Loss 0.7145008999440405 | Train Accuracy 0.8145652173913044 | Test Loss 0.6444507928994986 | Test Accuracy 0.83375\n",
            "Epoch 4 | Train Loss 0.5127031029098563 | Train Accuracy 0.8593478260869565 | Test Loss 0.4894118010997772 | Test Accuracy 0.86125\n",
            "Epoch 5 | Train Loss 0.4062823789815108 | Train Accuracy 0.8853260869565217 | Test Loss 0.4304135487629817 | Test Accuracy 0.88625\n",
            "Epoch 6 | Train Loss 0.3404087987211015 | Train Accuracy 0.9110869565217391 | Test Loss 0.39949221221300274 | Test Accuracy 0.895\n",
            "Epoch 7 | Train Loss 0.28912819518397254 | Train Accuracy 0.928804347826087 | Test Loss 0.3455912104019752 | Test Accuracy 0.91125\n",
            "Epoch 8 | Train Loss 0.24695559875625703 | Train Accuracy 0.9423913043478261 | Test Loss 0.3214323085087996 | Test Accuracy 0.9175\n",
            "Epoch 9 | Train Loss 0.21270443085167143 | Train Accuracy 0.9504347826086956 | Test Loss 0.2958647253421637 | Test Accuracy 0.91875\n",
            "Epoch 10 | Train Loss 0.18829758858515155 | Train Accuracy 0.9566304347826087 | Test Loss 0.28244755359796375 | Test Accuracy 0.92\n",
            "Epoch 11 | Train Loss 0.16884120085483623 | Train Accuracy 0.9610869565217391 | Test Loss 0.27166729821608615 | Test Accuracy 0.9225\n",
            "Epoch 12 | Train Loss 0.15537938185864025 | Train Accuracy 0.9648913043478261 | Test Loss 0.2642924670989697 | Test Accuracy 0.91875\n",
            "Epoch 13 | Train Loss 0.1454228265210986 | Train Accuracy 0.9658695652173913 | Test Loss 0.25934212597516865 | Test Accuracy 0.92625\n",
            "Epoch 14 | Train Loss 0.13227256947559202 | Train Accuracy 0.9702173913043478 | Test Loss 0.24265480786561966 | Test Accuracy 0.93125\n",
            "Epoch 15 | Train Loss 0.1238838149389873 | Train Accuracy 0.9727173913043479 | Test Loss 0.2509787225952515 | Test Accuracy 0.93375\n",
            "Epoch 16 | Train Loss 0.1192759159538481 | Train Accuracy 0.9731521739130434 | Test Loss 0.25165677815675735 | Test Accuracy 0.93125\n",
            "Epoch 17 | Train Loss 0.1141045572520751 | Train Accuracy 0.9753260869565218 | Test Loss 0.2280403864211761 | Test Accuracy 0.9375\n",
            "Epoch 18 | Train Loss 0.10775107966684219 | Train Accuracy 0.9759782608695652 | Test Loss 0.233158244823034 | Test Accuracy 0.935\n",
            "Epoch 19 | Train Loss 0.10409006054720117 | Train Accuracy 0.9776086956521739 | Test Loss 0.23863276151510385 | Test Accuracy 0.9375\n",
            "Epoch 20 | Train Loss 0.10469838225334469 | Train Accuracy 0.975 | Test Loss 0.23591591876286727 | Test Accuracy 0.9375\n",
            "Epoch 21 | Train Loss 0.09878219721010989 | Train Accuracy 0.9780434782608696 | Test Loss 0.23729018752391523 | Test Accuracy 0.93875\n",
            "Epoch 22 | Train Loss 0.09503223810396674 | Train Accuracy 0.9782608695652174 | Test Loss 0.2324430077121808 | Test Accuracy 0.9425\n",
            "Epoch 23 | Train Loss 0.09020631026942283 | Train Accuracy 0.9802173913043478 | Test Loss 0.22259571088048127 | Test Accuracy 0.93625\n",
            "Epoch 24 | Train Loss 0.08796770337762104 | Train Accuracy 0.9805434782608695 | Test Loss 0.23510986781464174 | Test Accuracy 0.9425\n",
            "Epoch 25 | Train Loss 0.08425730476543929 | Train Accuracy 0.9816304347826087 | Test Loss 0.2370219219189424 | Test Accuracy 0.94\n",
            "Epoch 26 | Train Loss 0.08062619096987571 | Train Accuracy 0.9822826086956522 | Test Loss 0.24181241312852272 | Test Accuracy 0.94375\n",
            "Epoch 27 | Train Loss 0.07732079952903506 | Train Accuracy 0.9831521739130434 | Test Loss 0.2370320547085542 | Test Accuracy 0.94375\n",
            "Epoch 28 | Train Loss 0.07631039217166188 | Train Accuracy 0.9834782608695652 | Test Loss 0.2426013069657179 | Test Accuracy 0.94375\n",
            "Epoch 29 | Train Loss 0.07745276683838004 | Train Accuracy 0.9830434782608696 | Test Loss 0.2311692934913131 | Test Accuracy 0.945\n",
            "Epoch 30 | Train Loss 0.07751509865435462 | Train Accuracy 0.9817391304347826 | Test Loss 0.22943750023841858 | Test Accuracy 0.945\n",
            "Epoch 31 | Train Loss 0.0724000990157947 | Train Accuracy 0.9833695652173913 | Test Loss 0.2273662485755407 | Test Accuracy 0.94375\n",
            "Epoch 32 | Train Loss 0.07133111525520992 | Train Accuracy 0.983804347826087 | Test Loss 0.23054295434401587 | Test Accuracy 0.9425\n",
            "Epoch 33 | Train Loss 0.06912669558530776 | Train Accuracy 0.9847826086956522 | Test Loss 0.23030315110316643 | Test Accuracy 0.94625\n",
            "Epoch 34 | Train Loss 0.06944679982391083 | Train Accuracy 0.9847826086956522 | Test Loss 0.2586042932592906 | Test Accuracy 0.94125\n",
            "Epoch 35 | Train Loss 0.07095229167154887 | Train Accuracy 0.9831521739130434 | Test Loss 0.24630459455343393 | Test Accuracy 0.94125\n",
            "Epoch 36 | Train Loss 0.06738273342165889 | Train Accuracy 0.9847826086956522 | Test Loss 0.23461152254962003 | Test Accuracy 0.94375\n",
            "Epoch 37 | Train Loss 0.06370298011784649 | Train Accuracy 0.9855434782608695 | Test Loss 0.2514662493306857 | Test Accuracy 0.9425\n",
            "Epoch 38 | Train Loss 0.06166309543833551 | Train Accuracy 0.9860869565217392 | Test Loss 0.24070581220663512 | Test Accuracy 0.9425\n",
            "Validation accuracy did not improve for several epochs. Stopping early.\n",
            "Epoch 0 | Train Loss 2.1196043151948185 | Train Accuracy 0.2607608695652174 | Test Loss 1.867787737112779 | Test Accuracy 0.41\n",
            "Epoch 1 | Train Loss 1.6110627353191376 | Train Accuracy 0.4875 | Test Loss 1.368680055324848 | Test Accuracy 0.58\n",
            "Epoch 2 | Train Loss 1.182989626708958 | Train Accuracy 0.6469565217391304 | Test Loss 1.0446882568872893 | Test Accuracy 0.6825\n",
            "Epoch 3 | Train Loss 0.8974823839962482 | Train Accuracy 0.7509782608695652 | Test Loss 0.8547524488889254 | Test Accuracy 0.77125\n",
            "Epoch 4 | Train Loss 0.6957634230040841 | Train Accuracy 0.8159782608695653 | Test Loss 0.7089596069776095 | Test Accuracy 0.8175\n",
            "Epoch 5 | Train Loss 0.5579980026102729 | Train Accuracy 0.8636956521739131 | Test Loss 0.6021658801115476 | Test Accuracy 0.83\n",
            "Epoch 6 | Train Loss 0.4605448529538181 | Train Accuracy 0.8853260869565217 | Test Loss 0.5224866362718436 | Test Accuracy 0.85875\n",
            "Epoch 7 | Train Loss 0.3899103368942936 | Train Accuracy 0.9030434782608696 | Test Loss 0.4787787508506041 | Test Accuracy 0.875\n",
            "Epoch 8 | Train Loss 0.33884721787439454 | Train Accuracy 0.9160869565217391 | Test Loss 0.42852191970898557 | Test Accuracy 0.87375\n",
            "Epoch 9 | Train Loss 0.3008822564346095 | Train Accuracy 0.9257608695652174 | Test Loss 0.40345821472314686 | Test Accuracy 0.8875\n",
            "Epoch 10 | Train Loss 0.2715788571060532 | Train Accuracy 0.933695652173913 | Test Loss 0.37266866633525264 | Test Accuracy 0.8925\n",
            "Epoch 11 | Train Loss 0.2466089034246074 | Train Accuracy 0.9392391304347826 | Test Loss 0.3771170572592662 | Test Accuracy 0.89375\n",
            "Epoch 12 | Train Loss 0.22567748811302912 | Train Accuracy 0.9443478260869566 | Test Loss 0.3599721926909227 | Test Accuracy 0.9025\n",
            "Epoch 13 | Train Loss 0.2085644779468162 | Train Accuracy 0.9496739130434783 | Test Loss 0.348233530154595 | Test Accuracy 0.89875\n",
            "Epoch 14 | Train Loss 0.19277768416537178 | Train Accuracy 0.955 | Test Loss 0.3433443686136833 | Test Accuracy 0.9025\n",
            "Epoch 15 | Train Loss 0.18271369450829095 | Train Accuracy 0.9559782608695652 | Test Loss 0.3344147721162209 | Test Accuracy 0.90875\n",
            "Epoch 16 | Train Loss 0.173043513049682 | Train Accuracy 0.9588043478260869 | Test Loss 0.3340809723505607 | Test Accuracy 0.9075\n",
            "Epoch 17 | Train Loss 0.16567438600274423 | Train Accuracy 0.9609782608695652 | Test Loss 0.3528442600598702 | Test Accuracy 0.90375\n",
            "Epoch 18 | Train Loss 0.1633473748806864 | Train Accuracy 0.9608695652173913 | Test Loss 0.35218954200928027 | Test Accuracy 0.90875\n",
            "Epoch 19 | Train Loss 0.15742113324813545 | Train Accuracy 0.9620652173913044 | Test Loss 0.33785062913711256 | Test Accuracy 0.91375\n",
            "Epoch 20 | Train Loss 0.14961169344476527 | Train Accuracy 0.9646739130434783 | Test Loss 0.3418521766479199 | Test Accuracy 0.91625\n",
            "Epoch 21 | Train Loss 0.14525212179352012 | Train Accuracy 0.9648913043478261 | Test Loss 0.3310731781216768 | Test Accuracy 0.915\n",
            "Epoch 22 | Train Loss 0.14067089115269482 | Train Accuracy 0.9658695652173913 | Test Loss 0.3211847423360898 | Test Accuracy 0.91875\n",
            "Epoch 23 | Train Loss 0.133906093878775 | Train Accuracy 0.9679347826086957 | Test Loss 0.3118482048694904 | Test Accuracy 0.91875\n",
            "Epoch 24 | Train Loss 0.12328473810986099 | Train Accuracy 0.97 | Test Loss 0.3106329246209218 | Test Accuracy 0.91875\n",
            "Epoch 25 | Train Loss 0.1194708839757368 | Train Accuracy 0.9708695652173913 | Test Loss 0.31382045035178846 | Test Accuracy 0.915\n",
            "Epoch 26 | Train Loss 0.11974515864211652 | Train Accuracy 0.9696739130434783 | Test Loss 0.30317962857393116 | Test Accuracy 0.92375\n",
            "Epoch 27 | Train Loss 0.11462175602921182 | Train Accuracy 0.9716304347826087 | Test Loss 0.32435569969507366 | Test Accuracy 0.9175\n",
            "Epoch 28 | Train Loss 0.1135436548308159 | Train Accuracy 0.9710869565217392 | Test Loss 0.3226598398043559 | Test Accuracy 0.92\n",
            "Epoch 29 | Train Loss 0.1068224542024028 | Train Accuracy 0.9734782608695652 | Test Loss 0.30195006943092895 | Test Accuracy 0.91875\n",
            "Epoch 30 | Train Loss 0.10370702233113763 | Train Accuracy 0.9741304347826087 | Test Loss 0.33195550854389483 | Test Accuracy 0.91875\n",
            "Epoch 31 | Train Loss 0.10151980289568503 | Train Accuracy 0.9753260869565218 | Test Loss 0.350602204983051 | Test Accuracy 0.91875\n",
            "Validation accuracy did not improve for several epochs. Stopping early.\n",
            "Epoch 0 | Train Loss 2.116744144095315 | Train Accuracy 0.2122826086956522 | Test Loss 1.876685408445505 | Test Accuracy 0.33125\n",
            "Epoch 1 | Train Loss 1.652525088025464 | Train Accuracy 0.4423913043478261 | Test Loss 1.4070626130470862 | Test Accuracy 0.53375\n",
            "Epoch 2 | Train Loss 1.2342913208736315 | Train Accuracy 0.6240217391304348 | Test Loss 1.0559356258465693 | Test Accuracy 0.7275\n",
            "Epoch 3 | Train Loss 0.9106533212794198 | Train Accuracy 0.7658695652173914 | Test Loss 0.7913935688825754 | Test Accuracy 0.8\n",
            "Epoch 4 | Train Loss 0.6821612978561057 | Train Accuracy 0.8292391304347826 | Test Loss 0.6204487429215357 | Test Accuracy 0.85\n",
            "Epoch 5 | Train Loss 0.5375025148193041 | Train Accuracy 0.8677173913043478 | Test Loss 0.512215270445897 | Test Accuracy 0.87375\n",
            "Epoch 6 | Train Loss 0.4307189395444261 | Train Accuracy 0.8979347826086956 | Test Loss 0.43588899419857907 | Test Accuracy 0.8875\n",
            "Epoch 7 | Train Loss 0.3539299374032352 | Train Accuracy 0.9177173913043478 | Test Loss 0.3491285454768401 | Test Accuracy 0.91125\n",
            "Epoch 8 | Train Loss 0.30029398306376404 | Train Accuracy 0.9301086956521739 | Test Loss 0.35063394331015074 | Test Accuracy 0.91375\n",
            "Epoch 9 | Train Loss 0.26682429015636444 | Train Accuracy 0.9373913043478261 | Test Loss 0.3038698515066734 | Test Accuracy 0.92375\n",
            "Epoch 10 | Train Loss 0.23715854731077948 | Train Accuracy 0.9458695652173913 | Test Loss 0.30344540110001195 | Test Accuracy 0.92125\n",
            "Epoch 11 | Train Loss 0.21047761436137888 | Train Accuracy 0.9529347826086957 | Test Loss 0.28571146497359645 | Test Accuracy 0.92375\n",
            "Epoch 12 | Train Loss 0.1927649473461012 | Train Accuracy 0.9569565217391305 | Test Loss 0.26028904204185194 | Test Accuracy 0.9325\n",
            "Epoch 13 | Train Loss 0.17765989653869635 | Train Accuracy 0.9608695652173913 | Test Loss 0.24174798394625002 | Test Accuracy 0.935\n",
            "Epoch 14 | Train Loss 0.17104857029496795 | Train Accuracy 0.9618478260869565 | Test Loss 0.24181735515594482 | Test Accuracy 0.9325\n",
            "Epoch 15 | Train Loss 0.15896940402065715 | Train Accuracy 0.9640217391304348 | Test Loss 0.24937267830738655 | Test Accuracy 0.92625\n",
            "Epoch 16 | Train Loss 0.15241127096426985 | Train Accuracy 0.966195652173913 | Test Loss 0.24680584912689832 | Test Accuracy 0.935\n",
            "Epoch 17 | Train Loss 0.1454685680542348 | Train Accuracy 0.9672826086956522 | Test Loss 0.24427325737017852 | Test Accuracy 0.9375\n",
            "Epoch 18 | Train Loss 0.13875090180792743 | Train Accuracy 0.9689130434782609 | Test Loss 0.24298460294420904 | Test Accuracy 0.9325\n",
            "Epoch 19 | Train Loss 0.1333252825619032 | Train Accuracy 0.9691304347826087 | Test Loss 0.25555405708459705 | Test Accuracy 0.93625\n",
            "Epoch 20 | Train Loss 0.12860703866721857 | Train Accuracy 0.9702173913043478 | Test Loss 0.24466166759912783 | Test Accuracy 0.93375\n",
            "Epoch 21 | Train Loss 0.12706574510472515 | Train Accuracy 0.9702173913043478 | Test Loss 0.24661355064465448 | Test Accuracy 0.93625\n",
            "Epoch 22 | Train Loss 0.12143657655299951 | Train Accuracy 0.9714130434782609 | Test Loss 0.2609608769416809 | Test Accuracy 0.93625\n",
            "Validation accuracy did not improve for several epochs. Stopping early.\n",
            "Epoch 0 | Train Loss 2.0677609137362905 | Train Accuracy 0.3226086956521739 | Test Loss 1.7700952933384821 | Test Accuracy 0.4475\n",
            "Epoch 1 | Train Loss 1.5002713203430176 | Train Accuracy 0.5589130434782609 | Test Loss 1.2752509117126465 | Test Accuracy 0.64375\n",
            "Epoch 2 | Train Loss 1.0546325378947787 | Train Accuracy 0.7188043478260869 | Test Loss 0.8915165754464957 | Test Accuracy 0.77375\n",
            "Epoch 3 | Train Loss 0.7064203263984786 | Train Accuracy 0.8176086956521739 | Test Loss 0.6146533626776475 | Test Accuracy 0.84875\n",
            "Epoch 4 | Train Loss 0.4988868511799309 | Train Accuracy 0.8610869565217392 | Test Loss 0.4638409156065721 | Test Accuracy 0.8925\n",
            "Epoch 5 | Train Loss 0.3784383811677496 | Train Accuracy 0.9029347826086956 | Test Loss 0.38981668651103973 | Test Accuracy 0.90875\n",
            "Epoch 6 | Train Loss 0.2992138669101728 | Train Accuracy 0.921304347826087 | Test Loss 0.34356280129689437 | Test Accuracy 0.90875\n",
            "Epoch 7 | Train Loss 0.24513465041915575 | Train Accuracy 0.9344565217391304 | Test Loss 0.29389454080508304 | Test Accuracy 0.915\n",
            "Epoch 8 | Train Loss 0.2024102078543769 | Train Accuracy 0.9489130434782609 | Test Loss 0.2562031430693773 | Test Accuracy 0.92875\n",
            "Epoch 9 | Train Loss 0.17456356844761306 | Train Accuracy 0.9578260869565217 | Test Loss 0.23734956750502953 | Test Accuracy 0.93125\n",
            "Epoch 10 | Train Loss 0.15115718429701197 | Train Accuracy 0.9633695652173913 | Test Loss 0.22709394991397858 | Test Accuracy 0.9375\n",
            "Epoch 11 | Train Loss 0.13598987941319743 | Train Accuracy 0.9680434782608696 | Test Loss 0.21399514549053633 | Test Accuracy 0.93875\n",
            "Epoch 12 | Train Loss 0.12352056627989644 | Train Accuracy 0.9702173913043478 | Test Loss 0.21838253535903418 | Test Accuracy 0.945\n",
            "Epoch 13 | Train Loss 0.1136210980023154 | Train Accuracy 0.9729347826086957 | Test Loss 0.23234659490677026 | Test Accuracy 0.945\n",
            "Epoch 14 | Train Loss 0.10434791212901473 | Train Accuracy 0.9748913043478261 | Test Loss 0.2176620616362645 | Test Accuracy 0.94375\n",
            "Epoch 15 | Train Loss 0.09728717360283351 | Train Accuracy 0.976195652173913 | Test Loss 0.2059238664805889 | Test Accuracy 0.9475\n",
            "Epoch 16 | Train Loss 0.0924115049937326 | Train Accuracy 0.9769565217391304 | Test Loss 0.21164743860180563 | Test Accuracy 0.9425\n",
            "Epoch 17 | Train Loss 0.08876550214416865 | Train Accuracy 0.9783695652173913 | Test Loss 0.20694274856494024 | Test Accuracy 0.9425\n",
            "Epoch 18 | Train Loss 0.08336583928515513 | Train Accuracy 0.9803260869565218 | Test Loss 0.20750652253627777 | Test Accuracy 0.94125\n",
            "Epoch 19 | Train Loss 0.07873086266530056 | Train Accuracy 0.9810869565217392 | Test Loss 0.21061130813681161 | Test Accuracy 0.945\n",
            "Epoch 20 | Train Loss 0.07616774591022274 | Train Accuracy 0.981304347826087 | Test Loss 0.2028544463503819 | Test Accuracy 0.9475\n",
            "Validation accuracy did not improve for several epochs. Stopping early.\n",
            "Epoch 0 | Train Loss 2.0599737755126424 | Train Accuracy 0.3084782608695652 | Test Loss 1.80397629737854 | Test Accuracy 0.45625\n",
            "Epoch 1 | Train Loss 1.5379253410630755 | Train Accuracy 0.543695652173913 | Test Loss 1.2216720305956328 | Test Accuracy 0.70875\n",
            "Epoch 2 | Train Loss 1.039591698596875 | Train Accuracy 0.746195652173913 | Test Loss 0.8059162268271813 | Test Accuracy 0.8325\n",
            "Epoch 3 | Train Loss 0.6907491808136305 | Train Accuracy 0.8390217391304348 | Test Loss 0.535135221022826 | Test Accuracy 0.88375\n",
            "Epoch 4 | Train Loss 0.48199831632276374 | Train Accuracy 0.8865217391304347 | Test Loss 0.38940207545573896 | Test Accuracy 0.91375\n",
            "Epoch 5 | Train Loss 0.36727079490406644 | Train Accuracy 0.912608695652174 | Test Loss 0.30451696194135225 | Test Accuracy 0.9275\n",
            "Epoch 6 | Train Loss 0.29665184600485694 | Train Accuracy 0.9284782608695652 | Test Loss 0.24307098526221055 | Test Accuracy 0.9475\n",
            "Epoch 7 | Train Loss 0.24842604943033722 | Train Accuracy 0.9385869565217392 | Test Loss 0.2356532376546126 | Test Accuracy 0.9475\n",
            "Epoch 8 | Train Loss 0.21643258398398757 | Train Accuracy 0.946304347826087 | Test Loss 0.22412960861737913 | Test Accuracy 0.9475\n",
            "Epoch 9 | Train Loss 0.1920954425457037 | Train Accuracy 0.952391304347826 | Test Loss 0.22010895208670542 | Test Accuracy 0.94625\n",
            "Epoch 10 | Train Loss 0.17515841292010415 | Train Accuracy 0.9559782608695652 | Test Loss 0.20469809266237113 | Test Accuracy 0.9525\n",
            "Epoch 11 | Train Loss 0.16155006971934605 | Train Accuracy 0.9578260869565217 | Test Loss 0.21992588157837206 | Test Accuracy 0.94625\n",
            "Epoch 12 | Train Loss 0.14725564177044564 | Train Accuracy 0.9614130434782608 | Test Loss 0.21620968729257584 | Test Accuracy 0.9475\n",
            "Epoch 13 | Train Loss 0.13357339384189496 | Train Accuracy 0.967391304347826 | Test Loss 0.20987630291627005 | Test Accuracy 0.9475\n",
            "Epoch 14 | Train Loss 0.12258669968125308 | Train Accuracy 0.9696739130434783 | Test Loss 0.22974396210450393 | Test Accuracy 0.94625\n",
            "Epoch 15 | Train Loss 0.11547997104935348 | Train Accuracy 0.9706521739130435 | Test Loss 0.21476123997798333 | Test Accuracy 0.945\n",
            "Validation accuracy did not improve for several epochs. Stopping early.\n",
            "best accuraces for test was : [0.94625, 0.92375, 0.9375, 0.9475, 0.9525]\n",
            "stddev for test was  : 0.011298506538476692\n",
            "best accuraces for test was : [0.9860869565217392, 0.9753260869565218, 0.9714130434782609, 0.981304347826087, 0.9706521739130435]\n",
            "stddev for test was  : 0.006621965367684515\n"
          ]
        }
      ]
    },
    {
      "cell_type": "code",
      "source": [
        "import numpy as np\n",
        "\n",
        "test_acc = [0.94625, 0.92375, 0.9375, 0.9475, 0.9525]\n",
        "\n",
        "np.array(test_acc).mean()"
      ],
      "metadata": {
        "colab": {
          "base_uri": "https://localhost:8080/"
        },
        "id": "ZkoSAWqVBgdk",
        "outputId": "be0e4381-9039-4f39-a2fe-43c5f9d19cc1"
      },
      "execution_count": 14,
      "outputs": [
        {
          "output_type": "execute_result",
          "data": {
            "text/plain": [
              "0.9414999999999999"
            ]
          },
          "metadata": {},
          "execution_count": 14
        }
      ]
    },
    {
      "cell_type": "markdown",
      "source": [
        "# efficient 200"
      ],
      "metadata": {
        "id": "41q2bspvt-Ss"
      }
    },
    {
      "cell_type": "code",
      "source": [
        "logsef200 = run_experiment(200, features_efficient)\n",
        "with open('/content/drive/MyDrive/tmp/logsef200.pkl', 'wb') as file:\n",
        "        pickle.dump(logsef200, file)"
      ],
      "metadata": {
        "id": "Gc7Xin4JvnyE",
        "colab": {
          "base_uri": "https://localhost:8080/"
        },
        "outputId": "7fbc6010-9c3c-45c8-f3fa-3837cb64b4d3"
      },
      "execution_count": null,
      "outputs": [
        {
          "output_type": "stream",
          "name": "stdout",
          "text": [
            "Data(x=[75, 200], edge_index=[2, 1405], y=[1], pos=[75, 2])\n",
            "Data(x=[75, 200], edge_index=[2, 1395], y=[1], pos=[75, 2])\n",
            "Starting training...\n",
            "Epoch 0 | Train Loss 2.063984961145454 | Train Accuracy 0.3130434782608696 | Test Loss 1.8159910898942213 | Test Accuracy 0.40875\n",
            "Epoch 1 | Train Loss 1.5175647644533052 | Train Accuracy 0.5164130434782609 | Test Loss 1.2583416333565345 | Test Accuracy 0.56875\n",
            "Epoch 2 | Train Loss 1.0185463225675955 | Train Accuracy 0.6884782608695652 | Test Loss 0.8164034577516409 | Test Accuracy 0.78125\n",
            "Epoch 3 | Train Loss 0.6715291618473 | Train Accuracy 0.8366304347826087 | Test Loss 0.601118972668281 | Test Accuracy 0.8525\n",
            "Epoch 4 | Train Loss 0.46562732631961506 | Train Accuracy 0.8959782608695652 | Test Loss 0.4465439525934366 | Test Accuracy 0.88625\n",
            "Epoch 5 | Train Loss 0.3344744817457265 | Train Accuracy 0.928804347826087 | Test Loss 0.3948494310562427 | Test Accuracy 0.8975\n",
            "Epoch 6 | Train Loss 0.2591240509516663 | Train Accuracy 0.9454347826086956 | Test Loss 0.3263002129701468 | Test Accuracy 0.91\n",
            "Epoch 7 | Train Loss 0.20763532827711767 | Train Accuracy 0.9571739130434782 | Test Loss 0.3128423507396991 | Test Accuracy 0.9125\n",
            "Epoch 8 | Train Loss 0.17209421248278683 | Train Accuracy 0.9639130434782609 | Test Loss 0.26279048507030195 | Test Accuracy 0.9225\n",
            "Epoch 9 | Train Loss 0.1451144107979619 | Train Accuracy 0.9675 | Test Loss 0.2451501523072903 | Test Accuracy 0.9325\n",
            "Epoch 10 | Train Loss 0.1272897328922732 | Train Accuracy 0.9720652173913044 | Test Loss 0.27037476576291597 | Test Accuracy 0.92625\n",
            "Epoch 11 | Train Loss 0.11369687777995649 | Train Accuracy 0.9740217391304348 | Test Loss 0.2506965731198971 | Test Accuracy 0.9225\n",
            "Epoch 12 | Train Loss 0.10180663730069581 | Train Accuracy 0.9768478260869565 | Test Loss 0.2322242672626789 | Test Accuracy 0.9325\n",
            "Epoch 13 | Train Loss 0.09232476069074538 | Train Accuracy 0.9794565217391304 | Test Loss 0.2186079936531874 | Test Accuracy 0.94375\n",
            "Epoch 14 | Train Loss 0.0838777876407322 | Train Accuracy 0.9819565217391304 | Test Loss 0.22226859629154205 | Test Accuracy 0.94\n",
            "Epoch 15 | Train Loss 0.07750719201026691 | Train Accuracy 0.9828260869565217 | Test Loss 0.22017659848699203 | Test Accuracy 0.93625\n",
            "Epoch 16 | Train Loss 0.07121147252877967 | Train Accuracy 0.9839130434782609 | Test Loss 0.20825793880682725 | Test Accuracy 0.945\n",
            "Epoch 17 | Train Loss 0.06958284231627153 | Train Accuracy 0.9835869565217391 | Test Loss 0.21408391142120728 | Test Accuracy 0.945\n",
            "Epoch 18 | Train Loss 0.06143854699459755 | Train Accuracy 0.9858695652173913 | Test Loss 0.21597060489539915 | Test Accuracy 0.945\n",
            "Epoch 19 | Train Loss 0.058359924852589354 | Train Accuracy 0.9868478260869565 | Test Loss 0.2015843685143269 | Test Accuracy 0.94875\n",
            "Epoch 20 | Train Loss 0.05512084366313906 | Train Accuracy 0.9870652173913044 | Test Loss 0.18878819334965485 | Test Accuracy 0.95125\n",
            "Epoch 21 | Train Loss 0.05265399836288351 | Train Accuracy 0.9877173913043479 | Test Loss 0.19910796301869246 | Test Accuracy 0.955\n",
            "Epoch 22 | Train Loss 0.04935530707007274 | Train Accuracy 0.9883695652173913 | Test Loss 0.20146285284024018 | Test Accuracy 0.95125\n",
            "Epoch 23 | Train Loss 0.04772337357280776 | Train Accuracy 0.9885869565217391 | Test Loss 0.18685995701413888 | Test Accuracy 0.9475\n",
            "Epoch 24 | Train Loss 0.04667832294297922 | Train Accuracy 0.9893478260869565 | Test Loss 0.19245166001984707 | Test Accuracy 0.95625\n",
            "Epoch 25 | Train Loss 0.04585601473485844 | Train Accuracy 0.9891304347826086 | Test Loss 0.18786242203070566 | Test Accuracy 0.95625\n",
            "Epoch 26 | Train Loss 0.0433913082007267 | Train Accuracy 0.9895652173913043 | Test Loss 0.19765793446164864 | Test Accuracy 0.95125\n",
            "Epoch 27 | Train Loss 0.03896709704551742 | Train Accuracy 0.9908695652173913 | Test Loss 0.19517376804007933 | Test Accuracy 0.95375\n",
            "Epoch 28 | Train Loss 0.037453325921281554 | Train Accuracy 0.9904347826086957 | Test Loss 0.18493357895372006 | Test Accuracy 0.9525\n",
            "Epoch 29 | Train Loss 0.03470176134336119 | Train Accuracy 0.9919565217391304 | Test Loss 0.1688230814268956 | Test Accuracy 0.9525\n",
            "Validation accuracy did not improve for several epochs. Stopping early.\n",
            "Epoch 0 | Train Loss 2.1154197595185704 | Train Accuracy 0.24869565217391304 | Test Loss 1.8767926051066472 | Test Accuracy 0.41875\n",
            "Epoch 1 | Train Loss 1.4884619837005932 | Train Accuracy 0.5539130434782609 | Test Loss 1.273153277543875 | Test Accuracy 0.6525\n",
            "Epoch 2 | Train Loss 1.028481573280361 | Train Accuracy 0.6933695652173913 | Test Loss 0.9805514583220849 | Test Accuracy 0.71375\n",
            "Epoch 3 | Train Loss 0.7920281787713369 | Train Accuracy 0.7705434782608696 | Test Loss 0.8214824841572688 | Test Accuracy 0.76375\n",
            "Epoch 4 | Train Loss 0.6216750111844804 | Train Accuracy 0.8143478260869565 | Test Loss 0.6567765703568091 | Test Accuracy 0.8075\n",
            "Epoch 5 | Train Loss 0.49008934054937625 | Train Accuracy 0.8436956521739131 | Test Loss 0.5586017759946676 | Test Accuracy 0.82625\n",
            "Epoch 6 | Train Loss 0.40179765162368614 | Train Accuracy 0.8632608695652174 | Test Loss 0.5163638706390674 | Test Accuracy 0.835\n",
            "Epoch 7 | Train Loss 0.3468702585539884 | Train Accuracy 0.8726086956521739 | Test Loss 0.48041407878582293 | Test Accuracy 0.86875\n",
            "Epoch 8 | Train Loss 0.3134226000143422 | Train Accuracy 0.8810869565217392 | Test Loss 0.4558543677513416 | Test Accuracy 0.88\n",
            "Epoch 9 | Train Loss 0.2877678372379806 | Train Accuracy 0.8921739130434783 | Test Loss 0.4342084160217872 | Test Accuracy 0.8475\n",
            "Epoch 10 | Train Loss 0.26810589655198985 | Train Accuracy 0.8963043478260869 | Test Loss 0.423948368200889 | Test Accuracy 0.8875\n",
            "Epoch 11 | Train Loss 0.2491213492014342 | Train Accuracy 0.908804347826087 | Test Loss 0.40714773764977086 | Test Accuracy 0.88875\n",
            "Epoch 12 | Train Loss 0.2325156594419645 | Train Accuracy 0.9177173913043478 | Test Loss 0.4164150483333148 | Test Accuracy 0.9\n",
            "Epoch 13 | Train Loss 0.2137579616262681 | Train Accuracy 0.93 | Test Loss 0.41075030198464024 | Test Accuracy 0.88625\n",
            "Epoch 14 | Train Loss 0.1898065303814494 | Train Accuracy 0.9453260869565218 | Test Loss 0.36088737272299254 | Test Accuracy 0.91375\n",
            "Epoch 15 | Train Loss 0.16712716136438152 | Train Accuracy 0.9538043478260869 | Test Loss 0.351632969883772 | Test Accuracy 0.915\n",
            "Epoch 16 | Train Loss 0.14695600872962838 | Train Accuracy 0.9615217391304348 | Test Loss 0.32319175509306103 | Test Accuracy 0.92625\n",
            "Epoch 17 | Train Loss 0.1317151285087069 | Train Accuracy 0.9671739130434782 | Test Loss 0.33611427132899946 | Test Accuracy 0.92375\n",
            "Epoch 18 | Train Loss 0.12107994545820272 | Train Accuracy 0.971304347826087 | Test Loss 0.3226743463713389 | Test Accuracy 0.935\n",
            "Epoch 19 | Train Loss 0.1084793364085878 | Train Accuracy 0.9738043478260869 | Test Loss 0.32585030966080153 | Test Accuracy 0.9275\n",
            "Epoch 20 | Train Loss 0.09614321277735548 | Train Accuracy 0.9782608695652174 | Test Loss 0.3065379663155629 | Test Accuracy 0.93625\n",
            "Epoch 21 | Train Loss 0.09003323467914015 | Train Accuracy 0.9786956521739131 | Test Loss 0.3126331842862643 | Test Accuracy 0.93375\n",
            "Epoch 22 | Train Loss 0.08542355387989017 | Train Accuracy 0.9807608695652174 | Test Loss 0.32357197312208325 | Test Accuracy 0.935\n",
            "Epoch 23 | Train Loss 0.08337991798503532 | Train Accuracy 0.9808695652173913 | Test Loss 0.335391097343885 | Test Accuracy 0.93375\n",
            "Epoch 24 | Train Loss 0.07912796436964224 | Train Accuracy 0.9817391304347826 | Test Loss 0.32752663498887646 | Test Accuracy 0.93\n",
            "Epoch 25 | Train Loss 0.07527745323022828 | Train Accuracy 0.9826086956521739 | Test Loss 0.37016530908071077 | Test Accuracy 0.9275\n",
            "Validation accuracy did not improve for several epochs. Stopping early.\n",
            "Epoch 0 | Train Loss 2.0992415853672557 | Train Accuracy 0.26717391304347826 | Test Loss 1.7792666600300715 | Test Accuracy 0.4425\n",
            "Epoch 1 | Train Loss 1.4955339829126995 | Train Accuracy 0.5420652173913043 | Test Loss 1.2402107807306142 | Test Accuracy 0.635\n",
            "Epoch 2 | Train Loss 0.9661854451729192 | Train Accuracy 0.7366304347826087 | Test Loss 0.8269080748924842 | Test Accuracy 0.77\n",
            "Epoch 3 | Train Loss 0.628775862356027 | Train Accuracy 0.8195652173913044 | Test Loss 0.5952333922569568 | Test Accuracy 0.83375\n",
            "Epoch 4 | Train Loss 0.4520629613349835 | Train Accuracy 0.8583695652173913 | Test Loss 0.4922040059016301 | Test Accuracy 0.85125\n",
            "Epoch 5 | Train Loss 0.35756672028866077 | Train Accuracy 0.8855434782608695 | Test Loss 0.41524818998116714 | Test Accuracy 0.8675\n",
            "Epoch 6 | Train Loss 0.2998052076953981 | Train Accuracy 0.9094565217391304 | Test Loss 0.3588668199685904 | Test Accuracy 0.89125\n",
            "Epoch 7 | Train Loss 0.25739252225806314 | Train Accuracy 0.9243478260869565 | Test Loss 0.3202770340901155 | Test Accuracy 0.91\n",
            "Epoch 8 | Train Loss 0.21655479021784332 | Train Accuracy 0.9418478260869565 | Test Loss 0.3103775026706549 | Test Accuracy 0.91\n",
            "Epoch 9 | Train Loss 0.1798023297968838 | Train Accuracy 0.9558695652173913 | Test Loss 0.2843103981935061 | Test Accuracy 0.9225\n",
            "Epoch 10 | Train Loss 0.14725142197373012 | Train Accuracy 0.965 | Test Loss 0.274988826077718 | Test Accuracy 0.93125\n",
            "Epoch 11 | Train Loss 0.1269390657802837 | Train Accuracy 0.9706521739130435 | Test Loss 0.2654171987221791 | Test Accuracy 0.9325\n",
            "Epoch 12 | Train Loss 0.10998051936945154 | Train Accuracy 0.9757608695652173 | Test Loss 0.2665787579921576 | Test Accuracy 0.9275\n",
            "Epoch 13 | Train Loss 0.09783555043395609 | Train Accuracy 0.9781521739130434 | Test Loss 0.2814128708380919 | Test Accuracy 0.93125\n",
            "Epoch 14 | Train Loss 0.08671806416370803 | Train Accuracy 0.9805434782608695 | Test Loss 0.25390725468213743 | Test Accuracy 0.935\n",
            "Epoch 15 | Train Loss 0.08097269682265404 | Train Accuracy 0.9819565217391304 | Test Loss 0.25493425933214336 | Test Accuracy 0.93625\n",
            "Epoch 16 | Train Loss 0.07531020688151734 | Train Accuracy 0.9828260869565217 | Test Loss 0.24833656159731057 | Test Accuracy 0.93375\n",
            "Epoch 17 | Train Loss 0.06858323722068842 | Train Accuracy 0.9836956521739131 | Test Loss 0.2560116963890883 | Test Accuracy 0.9375\n",
            "Epoch 18 | Train Loss 0.0661313321066296 | Train Accuracy 0.983804347826087 | Test Loss 0.26113542857078403 | Test Accuracy 0.93875\n",
            "Epoch 19 | Train Loss 0.06213432211532361 | Train Accuracy 0.985 | Test Loss 0.25623988933288133 | Test Accuracy 0.94125\n",
            "Epoch 20 | Train Loss 0.05817096818160886 | Train Accuracy 0.9854347826086957 | Test Loss 0.24999837720623383 | Test Accuracy 0.94125\n",
            "Epoch 21 | Train Loss 0.05947376803831301 | Train Accuracy 0.985108695652174 | Test Loss 0.24596181626503283 | Test Accuracy 0.9425\n",
            "Epoch 22 | Train Loss 0.057965137750013836 | Train Accuracy 0.9847826086956522 | Test Loss 0.25101942454393095 | Test Accuracy 0.9425\n",
            "Epoch 23 | Train Loss 0.05195616415908767 | Train Accuracy 0.986304347826087 | Test Loss 0.23483291540581447 | Test Accuracy 0.945\n",
            "Epoch 24 | Train Loss 0.049671300150091864 | Train Accuracy 0.9871739130434782 | Test Loss 0.2490935569199232 | Test Accuracy 0.9475\n",
            "Epoch 25 | Train Loss 0.046257381547345884 | Train Accuracy 0.9880434782608696 | Test Loss 0.24848312941881326 | Test Accuracy 0.94375\n",
            "Epoch 26 | Train Loss 0.04498976096834263 | Train Accuracy 0.9878260869565217 | Test Loss 0.24643232902655235 | Test Accuracy 0.94375\n",
            "Epoch 27 | Train Loss 0.04579652298384139 | Train Accuracy 0.9882608695652174 | Test Loss 0.2586158708884166 | Test Accuracy 0.94\n",
            "Epoch 28 | Train Loss 0.044154496346082955 | Train Accuracy 0.9881521739130434 | Test Loss 0.2537944932969717 | Test Accuracy 0.9425\n",
            "Epoch 29 | Train Loss 0.040516459509187065 | Train Accuracy 0.9886956521739131 | Test Loss 0.22738419301234758 | Test Accuracy 0.9475\n",
            "Validation accuracy did not improve for several epochs. Stopping early.\n",
            "Epoch 0 | Train Loss 2.0962296567029424 | Train Accuracy 0.2543478260869565 | Test Loss 1.8021026758047252 | Test Accuracy 0.42625\n",
            "Epoch 1 | Train Loss 1.5018630714880095 | Train Accuracy 0.533695652173913 | Test Loss 1.258185441677387 | Test Accuracy 0.645\n",
            "Epoch 2 | Train Loss 0.9979809427426921 | Train Accuracy 0.7551086956521739 | Test Loss 0.8431667043612554 | Test Accuracy 0.8025\n",
            "Epoch 3 | Train Loss 0.6571814827620983 | Train Accuracy 0.8539130434782609 | Test Loss 0.5930607983699212 | Test Accuracy 0.865\n",
            "Epoch 4 | Train Loss 0.44204939529299736 | Train Accuracy 0.913804347826087 | Test Loss 0.4515314560670119 | Test Accuracy 0.9025\n",
            "Epoch 5 | Train Loss 0.31309343522621524 | Train Accuracy 0.9402173913043478 | Test Loss 0.36159114424998945 | Test Accuracy 0.92\n",
            "Epoch 6 | Train Loss 0.23726614217998254 | Train Accuracy 0.9541304347826087 | Test Loss 0.31922175219425786 | Test Accuracy 0.92875\n",
            "Epoch 7 | Train Loss 0.18835882413097554 | Train Accuracy 0.9628260869565217 | Test Loss 0.29816201673104215 | Test Accuracy 0.9325\n",
            "Epoch 8 | Train Loss 0.1543827480895238 | Train Accuracy 0.9694565217391304 | Test Loss 0.2748194761001147 | Test Accuracy 0.9325\n",
            "Epoch 9 | Train Loss 0.1346915755679624 | Train Accuracy 0.9707608695652173 | Test Loss 0.2565101170195983 | Test Accuracy 0.94\n",
            "Epoch 10 | Train Loss 0.1186156667665475 | Train Accuracy 0.9744565217391304 | Test Loss 0.26066315231414944 | Test Accuracy 0.93875\n",
            "Epoch 11 | Train Loss 0.1071161564387795 | Train Accuracy 0.9754347826086956 | Test Loss 0.2551973628310057 | Test Accuracy 0.94375\n",
            "Epoch 12 | Train Loss 0.094791154933369 | Train Accuracy 0.9791304347826087 | Test Loss 0.24983052995342475 | Test Accuracy 0.94375\n",
            "Epoch 13 | Train Loss 0.08537355195989625 | Train Accuracy 0.981304347826087 | Test Loss 0.24880626339178818 | Test Accuracy 0.93875\n",
            "Epoch 14 | Train Loss 0.07761653671817233 | Train Accuracy 0.9826086956521739 | Test Loss 0.24959920977170652 | Test Accuracy 0.94\n",
            "Epoch 15 | Train Loss 0.07213706258011775 | Train Accuracy 0.983804347826087 | Test Loss 0.2296495844538395 | Test Accuracy 0.94375\n",
            "Epoch 16 | Train Loss 0.06677937533499466 | Train Accuracy 0.9846739130434783 | Test Loss 0.21234024889194048 | Test Accuracy 0.95\n",
            "Epoch 17 | Train Loss 0.06356395504877178 | Train Accuracy 0.9853260869565217 | Test Loss 0.22229249775409698 | Test Accuracy 0.945\n",
            "Epoch 18 | Train Loss 0.059504479654909424 | Train Accuracy 0.9858695652173913 | Test Loss 0.22937215807346198 | Test Accuracy 0.94625\n",
            "Epoch 19 | Train Loss 0.05605222355289799 | Train Accuracy 0.9868478260869565 | Test Loss 0.22308813895170504 | Test Accuracy 0.94625\n",
            "Epoch 20 | Train Loss 0.054231172252912074 | Train Accuracy 0.9868478260869565 | Test Loss 0.2250003797503618 | Test Accuracy 0.94125\n",
            "Epoch 21 | Train Loss 0.05184566570420025 | Train Accuracy 0.9877173913043479 | Test Loss 0.2395858776110869 | Test Accuracy 0.94\n",
            "Validation accuracy did not improve for several epochs. Stopping early.\n",
            "Epoch 0 | Train Loss 2.0367792555027537 | Train Accuracy 0.31 | Test Loss 1.6933807134628296 | Test Accuracy 0.52\n",
            "Epoch 1 | Train Loss 1.3925811135106616 | Train Accuracy 0.6073913043478261 | Test Loss 1.129632858129648 | Test Accuracy 0.6775\n",
            "Epoch 2 | Train Loss 0.8993067211574979 | Train Accuracy 0.7895652173913044 | Test Loss 0.730269179894374 | Test Accuracy 0.83875\n",
            "Epoch 3 | Train Loss 0.5573041871603992 | Train Accuracy 0.89 | Test Loss 0.48129297907535845 | Test Accuracy 0.90125\n",
            "Epoch 4 | Train Loss 0.3527205440526207 | Train Accuracy 0.9367391304347826 | Test Loss 0.3871136032618009 | Test Accuracy 0.90875\n",
            "Epoch 5 | Train Loss 0.25142008314530057 | Train Accuracy 0.9518478260869565 | Test Loss 0.32957989092056567 | Test Accuracy 0.92375\n",
            "Epoch 6 | Train Loss 0.1916485602657 | Train Accuracy 0.9633695652173913 | Test Loss 0.3083018992955868 | Test Accuracy 0.92625\n",
            "Epoch 7 | Train Loss 0.1539646282585131 | Train Accuracy 0.9686956521739131 | Test Loss 0.29266146341195476 | Test Accuracy 0.93625\n",
            "Epoch 8 | Train Loss 0.12805098701371914 | Train Accuracy 0.9754347826086956 | Test Loss 0.27770537252609545 | Test Accuracy 0.93625\n",
            "Epoch 9 | Train Loss 0.1115561247182389 | Train Accuracy 0.9779347826086957 | Test Loss 0.2836250364780426 | Test Accuracy 0.935\n",
            "Epoch 10 | Train Loss 0.09857570035900506 | Train Accuracy 0.9795652173913043 | Test Loss 0.27301352528425366 | Test Accuracy 0.9375\n",
            "Epoch 11 | Train Loss 0.09098201515411751 | Train Accuracy 0.981304347826087 | Test Loss 0.2903905063867569 | Test Accuracy 0.93625\n",
            "Epoch 12 | Train Loss 0.08294694187740485 | Train Accuracy 0.9836956521739131 | Test Loss 0.2722201897547795 | Test Accuracy 0.94\n",
            "Epoch 13 | Train Loss 0.07451155164744705 | Train Accuracy 0.9853260869565217 | Test Loss 0.2762610918054214 | Test Accuracy 0.93625\n",
            "Epoch 14 | Train Loss 0.0689655500334791 | Train Accuracy 0.9865217391304347 | Test Loss 0.29886225782907927 | Test Accuracy 0.93625\n",
            "Epoch 15 | Train Loss 0.06397297986162205 | Train Accuracy 0.9876086956521739 | Test Loss 0.29593268036842346 | Test Accuracy 0.935\n",
            "Epoch 16 | Train Loss 0.06256724441320533 | Train Accuracy 0.9873913043478261 | Test Loss 0.2668865197696365 | Test Accuracy 0.94\n",
            "Epoch 17 | Train Loss 0.05828348188272988 | Train Accuracy 0.9876086956521739 | Test Loss 0.2777935756513706 | Test Accuracy 0.94125\n",
            "Epoch 18 | Train Loss 0.055150524797176734 | Train Accuracy 0.9881521739130434 | Test Loss 0.3006251013049713 | Test Accuracy 0.9375\n",
            "Epoch 19 | Train Loss 0.0517432445129897 | Train Accuracy 0.9884782608695653 | Test Loss 0.2901460654460467 | Test Accuracy 0.9325\n",
            "Epoch 20 | Train Loss 0.0484356808463215 | Train Accuracy 0.9897826086956522 | Test Loss 0.2874665311895884 | Test Accuracy 0.94\n",
            "Epoch 21 | Train Loss 0.04596112640703925 | Train Accuracy 0.990108695652174 | Test Loss 0.2890304130716966 | Test Accuracy 0.93875\n",
            "Epoch 22 | Train Loss 0.04808350275399991 | Train Accuracy 0.9891304347826086 | Test Loss 0.2847549935372976 | Test Accuracy 0.94\n",
            "Validation accuracy did not improve for several epochs. Stopping early.\n",
            "best accuraces for test was : [0.95625, 0.93625, 0.9475, 0.95, 0.94125]\n",
            "stddev for test was  : 0.007756046028744281\n",
            "best accuraces for test was : [0.9919565217391304, 0.9826086956521739, 0.9886956521739131, 0.9877173913043479, 0.990108695652174]\n",
            "stddev for test was  : 0.0035176103011311296\n"
          ]
        }
      ]
    },
    {
      "cell_type": "code",
      "source": [
        "import numpy as np\n",
        "\n",
        "test_acc = [0.95625, 0.93625, 0.9475, 0.95, 0.94125]\n",
        "\n",
        "np.array(test_acc).mean()"
      ],
      "metadata": {
        "colab": {
          "base_uri": "https://localhost:8080/"
        },
        "id": "7xeTXhe1Buxk",
        "outputId": "4394b342-c271-4269-fbc3-df1858ffd4ae"
      },
      "execution_count": 15,
      "outputs": [
        {
          "output_type": "execute_result",
          "data": {
            "text/plain": [
              "0.94625"
            ]
          },
          "metadata": {},
          "execution_count": 15
        }
      ]
    },
    {
      "cell_type": "markdown",
      "source": [
        "# efficient 300"
      ],
      "metadata": {
        "id": "9XodoqYyt_jy"
      }
    },
    {
      "cell_type": "code",
      "source": [
        "logsef300 = run_experiment(300, features_efficient)\n",
        "with open('/content/drive/MyDrive/tmp/logsef300.pkl', 'wb') as file:\n",
        "        pickle.dump(logsef300, file)"
      ],
      "metadata": {
        "id": "gEPWIzrUvoPD",
        "colab": {
          "base_uri": "https://localhost:8080/"
        },
        "outputId": "565eb2e3-d776-4f04-c4d5-90eb93a4c8b2"
      },
      "execution_count": null,
      "outputs": [
        {
          "output_type": "stream",
          "name": "stdout",
          "text": [
            "Data(x=[75, 300], edge_index=[2, 1405], y=[1], pos=[75, 2])\n",
            "Data(x=[75, 300], edge_index=[2, 1395], y=[1], pos=[75, 2])\n",
            "Starting training...\n",
            "Epoch 0 | Train Loss 2.0440591068731413 | Train Accuracy 0.26565217391304347 | Test Loss 1.7477801946493297 | Test Accuracy 0.4225\n",
            "Epoch 1 | Train Loss 1.4779738295409415 | Train Accuracy 0.5677173913043478 | Test Loss 1.182201284628648 | Test Accuracy 0.70875\n",
            "Epoch 2 | Train Loss 0.9585956525471475 | Train Accuracy 0.7614130434782609 | Test Loss 0.7513474867894099 | Test Accuracy 0.83875\n",
            "Epoch 3 | Train Loss 0.6032570654319392 | Train Accuracy 0.8769565217391304 | Test Loss 0.5285116181923792 | Test Accuracy 0.8775\n",
            "Epoch 4 | Train Loss 0.4081512540578842 | Train Accuracy 0.9202173913043479 | Test Loss 0.4132346235788785 | Test Accuracy 0.9\n",
            "Epoch 5 | Train Loss 0.28851401226388085 | Train Accuracy 0.9490217391304347 | Test Loss 0.33808182638425094 | Test Accuracy 0.92375\n",
            "Epoch 6 | Train Loss 0.2149796309466991 | Train Accuracy 0.9621739130434782 | Test Loss 0.2764544120201698 | Test Accuracy 0.93125\n",
            "Epoch 7 | Train Loss 0.1672938881545431 | Train Accuracy 0.9689130434782609 | Test Loss 0.2459972076691114 | Test Accuracy 0.9425\n",
            "Epoch 8 | Train Loss 0.14100610992560783 | Train Accuracy 0.9736956521739131 | Test Loss 0.24452852744322556 | Test Accuracy 0.93875\n",
            "Epoch 9 | Train Loss 0.11997840196515124 | Train Accuracy 0.9770652173913044 | Test Loss 0.23893318153344667 | Test Accuracy 0.945\n",
            "Epoch 10 | Train Loss 0.10283642024215725 | Train Accuracy 0.98 | Test Loss 0.21242097593270814 | Test Accuracy 0.94125\n",
            "Epoch 11 | Train Loss 0.08988148799269563 | Train Accuracy 0.9823913043478261 | Test Loss 0.2345497441979555 | Test Accuracy 0.93625\n",
            "Epoch 12 | Train Loss 0.08083754272148427 | Train Accuracy 0.9845652173913043 | Test Loss 0.22139927859489733 | Test Accuracy 0.9425\n",
            "Epoch 13 | Train Loss 0.07420406251266184 | Train Accuracy 0.986304347826087 | Test Loss 0.2099471605167939 | Test Accuracy 0.94\n",
            "Epoch 14 | Train Loss 0.06935096578672528 | Train Accuracy 0.9858695652173913 | Test Loss 0.20669310110119674 | Test Accuracy 0.945\n",
            "Validation accuracy did not improve for several epochs. Stopping early.\n",
            "Epoch 0 | Train Loss 2.0634114030334683 | Train Accuracy 0.30228260869565216 | Test Loss 1.7078958658071666 | Test Accuracy 0.48875\n",
            "Epoch 1 | Train Loss 1.444433486296071 | Train Accuracy 0.5838043478260869 | Test Loss 1.198906192412743 | Test Accuracy 0.7\n",
            "Epoch 2 | Train Loss 0.9693926688697603 | Train Accuracy 0.7476086956521739 | Test Loss 0.8210842105058523 | Test Accuracy 0.7775\n",
            "Epoch 3 | Train Loss 0.651997115669979 | Train Accuracy 0.8132608695652174 | Test Loss 0.6270248889923096 | Test Accuracy 0.81625\n",
            "Epoch 4 | Train Loss 0.4727929749836524 | Train Accuracy 0.8610869565217392 | Test Loss 0.5170696859176342 | Test Accuracy 0.8125\n",
            "Epoch 5 | Train Loss 0.3600840851043661 | Train Accuracy 0.8926086956521739 | Test Loss 0.4351816475391388 | Test Accuracy 0.8675\n",
            "Epoch 6 | Train Loss 0.2814741377822227 | Train Accuracy 0.9253260869565217 | Test Loss 0.3811742445597282 | Test Accuracy 0.88375\n",
            "Epoch 7 | Train Loss 0.21827111382865244 | Train Accuracy 0.9533695652173914 | Test Loss 0.3408415730182941 | Test Accuracy 0.90625\n",
            "Epoch 8 | Train Loss 0.16550992087771496 | Train Accuracy 0.9691304347826087 | Test Loss 0.3000941001451932 | Test Accuracy 0.91875\n",
            "Epoch 9 | Train Loss 0.12810246118654808 | Train Accuracy 0.9770652173913044 | Test Loss 0.3068539511698943 | Test Accuracy 0.92\n",
            "Epoch 10 | Train Loss 0.10088748327042493 | Train Accuracy 0.9839130434782609 | Test Loss 0.25352712777944714 | Test Accuracy 0.9375\n",
            "Epoch 11 | Train Loss 0.08459141058847308 | Train Accuracy 0.9858695652173913 | Test Loss 0.2537770431775313 | Test Accuracy 0.93625\n",
            "Epoch 12 | Train Loss 0.07593088911380619 | Train Accuracy 0.9858695652173913 | Test Loss 0.23552265791938856 | Test Accuracy 0.94375\n",
            "Epoch 13 | Train Loss 0.0710562302912068 | Train Accuracy 0.986195652173913 | Test Loss 0.22822652456278986 | Test Accuracy 0.9425\n",
            "Epoch 14 | Train Loss 0.061590379000537925 | Train Accuracy 0.9886956521739131 | Test Loss 0.22150781421134105 | Test Accuracy 0.95\n",
            "Epoch 15 | Train Loss 0.05314725378735198 | Train Accuracy 0.9908695652173913 | Test Loss 0.24072863046939558 | Test Accuracy 0.95\n",
            "Epoch 16 | Train Loss 0.049282533491754696 | Train Accuracy 0.9914130434782609 | Test Loss 0.2249184136207287 | Test Accuracy 0.9475\n",
            "Epoch 17 | Train Loss 0.04728941001748252 | Train Accuracy 0.991195652173913 | Test Loss 0.23659209033044484 | Test Accuracy 0.95\n",
            "Epoch 18 | Train Loss 0.04165502844585313 | Train Accuracy 0.9923913043478261 | Test Loss 0.2286307573175201 | Test Accuracy 0.95\n",
            "Epoch 19 | Train Loss 0.038652788246205695 | Train Accuracy 0.9934782608695653 | Test Loss 0.23617125818362603 | Test Accuracy 0.9475\n",
            "Validation accuracy did not improve for several epochs. Stopping early.\n",
            "Epoch 0 | Train Loss 2.071154509153631 | Train Accuracy 0.3041304347826087 | Test Loss 1.7646977993158193 | Test Accuracy 0.4\n",
            "Epoch 1 | Train Loss 1.4168963490260973 | Train Accuracy 0.5835869565217391 | Test Loss 1.1816474841191218 | Test Accuracy 0.70125\n",
            "Epoch 2 | Train Loss 0.9200275991525915 | Train Accuracy 0.7873913043478261 | Test Loss 0.7912128567695618 | Test Accuracy 0.83125\n",
            "Epoch 3 | Train Loss 0.5938940693934759 | Train Accuracy 0.8797826086956522 | Test Loss 0.5461005774828104 | Test Accuracy 0.87375\n",
            "Epoch 4 | Train Loss 0.4061300489637587 | Train Accuracy 0.9252173913043479 | Test Loss 0.4304787379044753 | Test Accuracy 0.90125\n",
            "Epoch 5 | Train Loss 0.2851967439055443 | Train Accuracy 0.9538043478260869 | Test Loss 0.36316987528250766 | Test Accuracy 0.91875\n",
            "Epoch 6 | Train Loss 0.20709269312727782 | Train Accuracy 0.9679347826086957 | Test Loss 0.30870855427705324 | Test Accuracy 0.9225\n",
            "Epoch 7 | Train Loss 0.1602256543830865 | Train Accuracy 0.9744565217391304 | Test Loss 0.28841300079455745 | Test Accuracy 0.93125\n",
            "Epoch 8 | Train Loss 0.12889450289205545 | Train Accuracy 0.9790217391304348 | Test Loss 0.2892822760802049 | Test Accuracy 0.9275\n",
            "Epoch 9 | Train Loss 0.10599970817565918 | Train Accuracy 0.9817391304347826 | Test Loss 0.26572018689834154 | Test Accuracy 0.92875\n",
            "Epoch 10 | Train Loss 0.08972504947127567 | Train Accuracy 0.9840217391304348 | Test Loss 0.27619272011976975 | Test Accuracy 0.9325\n",
            "Epoch 11 | Train Loss 0.07864712282187408 | Train Accuracy 0.9856521739130435 | Test Loss 0.25612880346866757 | Test Accuracy 0.9375\n",
            "Epoch 12 | Train Loss 0.06834408869811644 | Train Accuracy 0.9872826086956522 | Test Loss 0.23612140462948725 | Test Accuracy 0.945\n",
            "Epoch 13 | Train Loss 0.06110555870044562 | Train Accuracy 0.9890217391304348 | Test Loss 0.23501977095237145 | Test Accuracy 0.9425\n",
            "Epoch 14 | Train Loss 0.05550348628053649 | Train Accuracy 0.9896739130434783 | Test Loss 0.23544993753043506 | Test Accuracy 0.94\n",
            "Epoch 15 | Train Loss 0.05255838420190331 | Train Accuracy 0.9896739130434783 | Test Loss 0.24238540346805865 | Test Accuracy 0.935\n",
            "Epoch 16 | Train Loss 0.04865018487261194 | Train Accuracy 0.9906521739130435 | Test Loss 0.24768219229120475 | Test Accuracy 0.9375\n",
            "Epoch 17 | Train Loss 0.04546137609415584 | Train Accuracy 0.9908695652173913 | Test Loss 0.2586887169342775 | Test Accuracy 0.93875\n",
            "Validation accuracy did not improve for several epochs. Stopping early.\n",
            "Epoch 0 | Train Loss 2.056274399989181 | Train Accuracy 0.2548913043478261 | Test Loss 1.7907624794886663 | Test Accuracy 0.41375\n",
            "Epoch 1 | Train Loss 1.4486798354321055 | Train Accuracy 0.5939130434782609 | Test Loss 1.1729058348215544 | Test Accuracy 0.695\n",
            "Epoch 2 | Train Loss 0.9086225914458433 | Train Accuracy 0.7981521739130435 | Test Loss 0.7536233113362238 | Test Accuracy 0.825\n",
            "Epoch 3 | Train Loss 0.5642683419088522 | Train Accuracy 0.9021739130434783 | Test Loss 0.49105610297276425 | Test Accuracy 0.89625\n",
            "Epoch 4 | Train Loss 0.361430410709646 | Train Accuracy 0.9388043478260869 | Test Loss 0.35368093389731187 | Test Accuracy 0.92\n",
            "Epoch 5 | Train Loss 0.25363473645928836 | Train Accuracy 0.957391304347826 | Test Loss 0.2934500231192662 | Test Accuracy 0.93\n",
            "Epoch 6 | Train Loss 0.19331829182596671 | Train Accuracy 0.9670652173913044 | Test Loss 0.24461412315185255 | Test Accuracy 0.93875\n",
            "Epoch 7 | Train Loss 0.15494506826831234 | Train Accuracy 0.9729347826086957 | Test Loss 0.23570994975475165 | Test Accuracy 0.9425\n",
            "Epoch 8 | Train Loss 0.1318264298347963 | Train Accuracy 0.9766304347826087 | Test Loss 0.18784890323877335 | Test Accuracy 0.95125\n",
            "Epoch 9 | Train Loss 0.11436045030131936 | Train Accuracy 0.9790217391304348 | Test Loss 0.18001059643351114 | Test Accuracy 0.94875\n",
            "Epoch 10 | Train Loss 0.10026577231474221 | Train Accuracy 0.981195652173913 | Test Loss 0.18982388652287996 | Test Accuracy 0.9475\n",
            "Epoch 11 | Train Loss 0.08901372179389 | Train Accuracy 0.9845652173913043 | Test Loss 0.19230039016558573 | Test Accuracy 0.94875\n",
            "Epoch 12 | Train Loss 0.08002456796303806 | Train Accuracy 0.9852173913043478 | Test Loss 0.1703767656133725 | Test Accuracy 0.9525\n",
            "Epoch 13 | Train Loss 0.0738731219381508 | Train Accuracy 0.9853260869565217 | Test Loss 0.16298274180063835 | Test Accuracy 0.9525\n",
            "Epoch 14 | Train Loss 0.07094427816466325 | Train Accuracy 0.9855434782608695 | Test Loss 0.1725013112792602 | Test Accuracy 0.95375\n",
            "Epoch 15 | Train Loss 0.0650081469082377 | Train Accuracy 0.9867391304347826 | Test Loss 0.1602789037502729 | Test Accuracy 0.9575\n",
            "Epoch 16 | Train Loss 0.05829956929665059 | Train Accuracy 0.9883695652173913 | Test Loss 0.15703908812541229 | Test Accuracy 0.95875\n",
            "Epoch 17 | Train Loss 0.053612187155522406 | Train Accuracy 0.9896739130434783 | Test Loss 0.17012578908067483 | Test Accuracy 0.9575\n",
            "Epoch 18 | Train Loss 0.04961578341640739 | Train Accuracy 0.99 | Test Loss 0.15817918141300863 | Test Accuracy 0.96125\n",
            "Epoch 19 | Train Loss 0.04814946659866513 | Train Accuracy 0.9905434782608695 | Test Loss 0.159675739132441 | Test Accuracy 0.95625\n",
            "Epoch 20 | Train Loss 0.04763678231716363 | Train Accuracy 0.9898913043478261 | Test Loss 0.17098861230680576 | Test Accuracy 0.9525\n",
            "Epoch 21 | Train Loss 0.05130971105407096 | Train Accuracy 0.9878260869565217 | Test Loss 0.16564500102630028 | Test Accuracy 0.955\n",
            "Epoch 22 | Train Loss 0.04591435758629814 | Train Accuracy 0.9896739130434783 | Test Loss 0.1831446598069026 | Test Accuracy 0.95375\n",
            "Epoch 23 | Train Loss 0.042833392191419586 | Train Accuracy 0.991304347826087 | Test Loss 0.19772691279649734 | Test Accuracy 0.94875\n",
            "Validation accuracy did not improve for several epochs. Stopping early.\n",
            "Epoch 0 | Train Loss 2.0423374987310834 | Train Accuracy 0.27402173913043476 | Test Loss 1.7539358597535353 | Test Accuracy 0.395\n",
            "Epoch 1 | Train Loss 1.463601205084059 | Train Accuracy 0.5242391304347827 | Test Loss 1.2457278691805327 | Test Accuracy 0.61\n",
            "Epoch 2 | Train Loss 1.0031092862288158 | Train Accuracy 0.7277173913043479 | Test Loss 0.8510179886451135 | Test Accuracy 0.7775\n",
            "Epoch 3 | Train Loss 0.6706138485007815 | Train Accuracy 0.8639130434782609 | Test Loss 0.5718241058863126 | Test Accuracy 0.87\n",
            "Epoch 4 | Train Loss 0.4273498196982675 | Train Accuracy 0.9245652173913044 | Test Loss 0.4088844335996188 | Test Accuracy 0.9025\n",
            "Epoch 5 | Train Loss 0.2884519190217058 | Train Accuracy 0.9493478260869566 | Test Loss 0.3492536304088739 | Test Accuracy 0.905\n",
            "Epoch 6 | Train Loss 0.2158023889383508 | Train Accuracy 0.9590217391304348 | Test Loss 0.3058849790921578 | Test Accuracy 0.91125\n",
            "Epoch 7 | Train Loss 0.1694871972108053 | Train Accuracy 0.9676086956521739 | Test Loss 0.2859121159865306 | Test Accuracy 0.91\n",
            "Epoch 8 | Train Loss 0.1380062950257626 | Train Accuracy 0.9735869565217391 | Test Loss 0.27324123680591583 | Test Accuracy 0.9175\n",
            "Epoch 9 | Train Loss 0.11438780215879281 | Train Accuracy 0.9786956521739131 | Test Loss 0.2509387926413463 | Test Accuracy 0.92375\n",
            "Epoch 10 | Train Loss 0.09934001555666327 | Train Accuracy 0.981304347826087 | Test Loss 0.2517763301730156 | Test Accuracy 0.92625\n",
            "Epoch 11 | Train Loss 0.0905612941003508 | Train Accuracy 0.9836956521739131 | Test Loss 0.25198533959113634 | Test Accuracy 0.9275\n",
            "Epoch 12 | Train Loss 0.08164812471821076 | Train Accuracy 0.9854347826086957 | Test Loss 0.2846111288437477 | Test Accuracy 0.925\n",
            "Epoch 13 | Train Loss 0.0721259265103274 | Train Accuracy 0.9866304347826087 | Test Loss 0.27714816480875015 | Test Accuracy 0.93\n",
            "Epoch 14 | Train Loss 0.06519741376137568 | Train Accuracy 0.9877173913043479 | Test Loss 0.2783933046918649 | Test Accuracy 0.925\n",
            "Epoch 15 | Train Loss 0.05892991224795373 | Train Accuracy 0.9889130434782609 | Test Loss 0.2775651164926015 | Test Accuracy 0.93\n",
            "Epoch 16 | Train Loss 0.05485120016641708 | Train Accuracy 0.9903260869565217 | Test Loss 0.27769306244758457 | Test Accuracy 0.93375\n",
            "Epoch 17 | Train Loss 0.050832317611719996 | Train Accuracy 0.9909782608695652 | Test Loss 0.2592225842750989 | Test Accuracy 0.9325\n",
            "Epoch 18 | Train Loss 0.04943566857966491 | Train Accuracy 0.9908695652173913 | Test Loss 0.24581696150394586 | Test Accuracy 0.93625\n",
            "Epoch 19 | Train Loss 0.04642057612202027 | Train Accuracy 0.9914130434782609 | Test Loss 0.2543737515807152 | Test Accuracy 0.935\n",
            "Epoch 20 | Train Loss 0.04439659403740532 | Train Accuracy 0.9918478260869565 | Test Loss 0.253164179623127 | Test Accuracy 0.94\n",
            "Epoch 21 | Train Loss 0.04237289463506184 | Train Accuracy 0.9922826086956522 | Test Loss 0.22528370269216025 | Test Accuracy 0.94375\n",
            "Epoch 22 | Train Loss 0.040993559138668284 | Train Accuracy 0.9929347826086956 | Test Loss 0.2253863404576595 | Test Accuracy 0.945\n",
            "Epoch 23 | Train Loss 0.04004726870981459 | Train Accuracy 0.9925 | Test Loss 0.231053192455035 | Test Accuracy 0.945\n",
            "Epoch 24 | Train Loss 0.039490502541108675 | Train Accuracy 0.9927173913043478 | Test Loss 0.23688603249879983 | Test Accuracy 0.945\n",
            "Epoch 25 | Train Loss 0.040802872012136504 | Train Accuracy 0.9919565217391304 | Test Loss 0.2270520800151504 | Test Accuracy 0.945\n",
            "Epoch 26 | Train Loss 0.045092327578458935 | Train Accuracy 0.990108695652174 | Test Loss 0.24690892490056845 | Test Accuracy 0.9425\n",
            "Epoch 27 | Train Loss 0.05546960958033904 | Train Accuracy 0.9865217391304347 | Test Loss 0.26691764707748705 | Test Accuracy 0.93375\n",
            "Validation accuracy did not improve for several epochs. Stopping early.\n",
            "best accuraces for test was : [0.945, 0.95, 0.945, 0.96125, 0.945]\n",
            "stddev for test was  : 0.007048936089935884\n",
            "best accuraces for test was : [0.986304347826087, 0.9934782608695653, 0.9908695652173913, 0.991304347826087, 0.9929347826086956]\n",
            "stddev for test was  : 0.0028302644709329258\n"
          ]
        }
      ]
    },
    {
      "cell_type": "code",
      "source": [
        "import numpy as np\n",
        "\n",
        "test_acc = [0.945, 0.95, 0.945, 0.96125, 0.945]\n",
        "\n",
        "np.array(test_acc).mean()"
      ],
      "metadata": {
        "colab": {
          "base_uri": "https://localhost:8080/"
        },
        "id": "qrXlg-lNB1gq",
        "outputId": "96157134-d9e3-4c2b-90f7-249340230dc8"
      },
      "execution_count": 16,
      "outputs": [
        {
          "output_type": "execute_result",
          "data": {
            "text/plain": [
              "0.9492499999999999"
            ]
          },
          "metadata": {},
          "execution_count": 16
        }
      ]
    },
    {
      "cell_type": "markdown",
      "source": [
        "# dummy 5, all random"
      ],
      "metadata": {
        "id": "oWrPgj0kFIrH"
      }
    },
    {
      "cell_type": "code",
      "source": [
        "run_experiment_no_pca(5, torch.rand(9200, 5), torch.rand(800, 5))"
      ],
      "metadata": {
        "id": "MJFB4dsWFps5"
      },
      "execution_count": null,
      "outputs": []
    },
    {
      "cell_type": "markdown",
      "source": [
        "# dummy 32, all rand"
      ],
      "metadata": {
        "id": "yUzdhDIpUkBe"
      }
    },
    {
      "cell_type": "code",
      "source": [
        "run_experiment_no_pca(32, torch.rand(9200, 32), torch.rand(800, 32))"
      ],
      "metadata": {
        "id": "c5WxaD3eUnYf"
      },
      "execution_count": null,
      "outputs": []
    },
    {
      "cell_type": "markdown",
      "source": [
        "# dummy 1, all rand"
      ],
      "metadata": {
        "id": "XKrUie1mUnte"
      }
    },
    {
      "cell_type": "code",
      "source": [
        "run_experiment_no_pca(1, torch.rand(9200, 1), torch.rand(800, 1))"
      ],
      "metadata": {
        "id": "29xMjy__UpsX"
      },
      "execution_count": null,
      "outputs": []
    },
    {
      "cell_type": "markdown",
      "source": [
        "# concat sq+eff 5 + 5"
      ],
      "metadata": {
        "id": "gcm7gUpSt0Zb"
      }
    },
    {
      "cell_type": "code",
      "source": [
        "import numpy as np\n",
        "features_sq_train = np.load('/content/drive/MyDrive/tmp/features_squeeze_train_false_TRAIN_pca5.npy')\n",
        "features_eff_train = np.load('/content/drive/MyDrive/tmp/features_efficient_train_false_TRAIN_pca5.npy')\n",
        "features_sq_val = np.load('/content/drive/MyDrive/tmp/features_squeeze_train_false_VALIDATION_pca5.npy')\n",
        "features_eff_val = np.load('/content/drive/MyDrive/tmp/features_efficient_train_false_VALIDATION_pca5.npy')\n",
        "\n",
        "\n",
        "train_features_pca = np.concatenate((features_sq_train, features_eff_train), axis=1)\n",
        "val_features_pca = np.concatenate((features_sq_val, features_eff_val), axis=1)"
      ],
      "metadata": {
        "id": "ENx7_uvYt4Hk"
      },
      "execution_count": null,
      "outputs": []
    },
    {
      "cell_type": "code",
      "source": [
        "logsconcat10 = run_experiment_no_pca(10, train_features_pca, val_features_pca)\n",
        "with open('/content/drive/MyDrive/tmp/logsconcat10.pkl', 'wb') as file:\n",
        "        pickle.dump(logsconcat10, file)"
      ],
      "metadata": {
        "colab": {
          "base_uri": "https://localhost:8080/"
        },
        "id": "YqQHndWLIgm_",
        "outputId": "43a38d45-67de-42c0-ca87-625fa43ca8fd"
      },
      "execution_count": null,
      "outputs": [
        {
          "output_type": "stream",
          "name": "stdout",
          "text": [
            "Data(x=[75, 10], edge_index=[2, 1405], y=[1], pos=[75, 2])\n",
            "Data(x=[75, 10], edge_index=[2, 1395], y=[1], pos=[75, 2])\n",
            "Starting training...\n",
            "Epoch 0 | Train Loss 2.127581564916505 | Train Accuracy 0.2534782608695652 | Test Loss 1.8303316923288198 | Test Accuracy 0.39625\n",
            "Epoch 1 | Train Loss 1.6540101112590895 | Train Accuracy 0.45130434782608697 | Test Loss 1.4541375728753896 | Test Accuracy 0.5375\n",
            "Epoch 2 | Train Loss 1.3545573693182733 | Train Accuracy 0.5866304347826087 | Test Loss 1.2067948029591486 | Test Accuracy 0.6275\n",
            "Epoch 3 | Train Loss 1.165692351344559 | Train Accuracy 0.6383695652173913 | Test Loss 1.0826831322449904 | Test Accuracy 0.66625\n",
            "Epoch 4 | Train Loss 1.0743317964176338 | Train Accuracy 0.6661956521739131 | Test Loss 1.0163354185911326 | Test Accuracy 0.66875\n",
            "Epoch 5 | Train Loss 1.0197349153459072 | Train Accuracy 0.6716304347826086 | Test Loss 0.9890824464651254 | Test Accuracy 0.67375\n",
            "Epoch 6 | Train Loss 0.9796735122799873 | Train Accuracy 0.6867391304347826 | Test Loss 0.9446801359836872 | Test Accuracy 0.6825\n",
            "Epoch 7 | Train Loss 0.9454055606491036 | Train Accuracy 0.6998913043478261 | Test Loss 0.9285745253929725 | Test Accuracy 0.70375\n",
            "Epoch 8 | Train Loss 0.912461324284474 | Train Accuracy 0.7105434782608696 | Test Loss 0.9070244339796213 | Test Accuracy 0.71625\n",
            "Epoch 9 | Train Loss 0.8912658861113919 | Train Accuracy 0.7231521739130434 | Test Loss 0.9283931530438937 | Test Accuracy 0.72625\n",
            "Epoch 10 | Train Loss 0.8665621226860417 | Train Accuracy 0.7345652173913043 | Test Loss 0.8820046782493591 | Test Accuracy 0.73\n",
            "Epoch 11 | Train Loss 0.8503784044749207 | Train Accuracy 0.7381521739130434 | Test Loss 0.8830890793066758 | Test Accuracy 0.72875\n",
            "Epoch 12 | Train Loss 0.8323669048647085 | Train Accuracy 0.7444565217391305 | Test Loss 0.8593886723885169 | Test Accuracy 0.7425\n",
            "Epoch 13 | Train Loss 0.8120407842927508 | Train Accuracy 0.7485869565217391 | Test Loss 0.8343670047246493 | Test Accuracy 0.74375\n",
            "Epoch 14 | Train Loss 0.8015510357088513 | Train Accuracy 0.7495652173913043 | Test Loss 0.8290594816207886 | Test Accuracy 0.74125\n",
            "Epoch 15 | Train Loss 0.7848908547312021 | Train Accuracy 0.7560869565217392 | Test Loss 0.827495487836691 | Test Accuracy 0.74125\n",
            "Epoch 16 | Train Loss 0.7728506649533907 | Train Accuracy 0.76 | Test Loss 0.8308896743334256 | Test Accuracy 0.74375\n",
            "Epoch 17 | Train Loss 0.7631453766177098 | Train Accuracy 0.7607608695652174 | Test Loss 0.821886039697207 | Test Accuracy 0.74375\n",
            "Epoch 18 | Train Loss 0.7546891731520494 | Train Accuracy 0.7620652173913044 | Test Loss 0.8216550716987023 | Test Accuracy 0.745\n",
            "Epoch 19 | Train Loss 0.7446469606624709 | Train Accuracy 0.7673913043478261 | Test Loss 0.824684739112854 | Test Accuracy 0.7375\n",
            "Epoch 20 | Train Loss 0.7383666634559631 | Train Accuracy 0.7652173913043478 | Test Loss 0.8103621785457318 | Test Accuracy 0.74125\n",
            "Epoch 21 | Train Loss 0.729196086525917 | Train Accuracy 0.768804347826087 | Test Loss 0.8022689727636484 | Test Accuracy 0.75625\n",
            "Epoch 22 | Train Loss 0.722182236197922 | Train Accuracy 0.7711956521739131 | Test Loss 0.7688496296222394 | Test Accuracy 0.7575\n",
            "Epoch 23 | Train Loss 0.7133177423642741 | Train Accuracy 0.7740217391304348 | Test Loss 0.7813920378684998 | Test Accuracy 0.75125\n",
            "Epoch 24 | Train Loss 0.7113977461639378 | Train Accuracy 0.773804347826087 | Test Loss 0.7637539139160743 | Test Accuracy 0.75375\n",
            "Epoch 25 | Train Loss 0.7038801420066092 | Train Accuracy 0.7772826086956521 | Test Loss 0.7382999887833228 | Test Accuracy 0.76375\n",
            "Epoch 26 | Train Loss 0.6963740574816862 | Train Accuracy 0.7775 | Test Loss 0.7616812403385456 | Test Accuracy 0.75875\n",
            "Epoch 27 | Train Loss 0.6955052105089029 | Train Accuracy 0.7765217391304348 | Test Loss 0.7383869313276731 | Test Accuracy 0.765\n",
            "Epoch 28 | Train Loss 0.6913750420014063 | Train Accuracy 0.7775 | Test Loss 0.751499918790964 | Test Accuracy 0.7575\n",
            "Epoch 29 | Train Loss 0.6855666254543595 | Train Accuracy 0.7815217391304348 | Test Loss 0.7596136858830085 | Test Accuracy 0.7525\n",
            "Epoch 30 | Train Loss 0.6815391052514315 | Train Accuracy 0.7801086956521739 | Test Loss 0.7524139330937312 | Test Accuracy 0.755\n",
            "Epoch 31 | Train Loss 0.676915118470788 | Train Accuracy 0.7830434782608696 | Test Loss 0.7598408391842475 | Test Accuracy 0.76\n",
            "Epoch 32 | Train Loss 0.6691761832270358 | Train Accuracy 0.7880434782608695 | Test Loss 0.7584261068930993 | Test Accuracy 0.76125\n",
            "Validation accuracy did not improve for several epochs. Stopping early.\n",
            "Epoch 0 | Train Loss 2.089847126768695 | Train Accuracy 0.25271739130434784 | Test Loss 1.8153955661333525 | Test Accuracy 0.3675\n",
            "Epoch 1 | Train Loss 1.5765054904752307 | Train Accuracy 0.5216304347826087 | Test Loss 1.3675055503845215 | Test Accuracy 0.605\n",
            "Epoch 2 | Train Loss 1.2248984624942143 | Train Accuracy 0.6525 | Test Loss 1.111876171368819 | Test Accuracy 0.69125\n",
            "Epoch 3 | Train Loss 1.0376384067866538 | Train Accuracy 0.7096739130434783 | Test Loss 0.9889850799853985 | Test Accuracy 0.7125\n",
            "Epoch 4 | Train Loss 0.9361796428759893 | Train Accuracy 0.7193478260869566 | Test Loss 0.9182293736017667 | Test Accuracy 0.72375\n",
            "Epoch 5 | Train Loss 0.8829441621071763 | Train Accuracy 0.7243478260869565 | Test Loss 0.8775149813065162 | Test Accuracy 0.7\n",
            "Epoch 6 | Train Loss 0.8458763236800829 | Train Accuracy 0.7346739130434783 | Test Loss 0.8524087071418762 | Test Accuracy 0.7325\n",
            "Epoch 7 | Train Loss 0.824683855391211 | Train Accuracy 0.7420652173913044 | Test Loss 0.8459295171957749 | Test Accuracy 0.74\n",
            "Epoch 8 | Train Loss 0.8044590086986622 | Train Accuracy 0.7452173913043478 | Test Loss 0.8311674824127784 | Test Accuracy 0.74125\n",
            "Epoch 9 | Train Loss 0.7926539290282462 | Train Accuracy 0.753804347826087 | Test Loss 0.8300780929051913 | Test Accuracy 0.73875\n",
            "Epoch 10 | Train Loss 0.7816196942908896 | Train Accuracy 0.7568478260869566 | Test Loss 0.816948257959806 | Test Accuracy 0.74625\n",
            "Epoch 11 | Train Loss 0.7711965921852324 | Train Accuracy 0.7580434782608696 | Test Loss 0.8061702388983506 | Test Accuracy 0.7425\n",
            "Epoch 12 | Train Loss 0.7618086391852962 | Train Accuracy 0.7604347826086957 | Test Loss 0.8094760454618014 | Test Accuracy 0.74\n",
            "Epoch 13 | Train Loss 0.7533126028461589 | Train Accuracy 0.7626086956521739 | Test Loss 0.8102627442433283 | Test Accuracy 0.7425\n",
            "Epoch 14 | Train Loss 0.7503445309897264 | Train Accuracy 0.7626086956521739 | Test Loss 0.7905851602554321 | Test Accuracy 0.74125\n",
            "Epoch 15 | Train Loss 0.7459333253403505 | Train Accuracy 0.7652173913043478 | Test Loss 0.8155328998198876 | Test Accuracy 0.73375\n",
            "Validation accuracy did not improve for several epochs. Stopping early.\n",
            "Epoch 0 | Train Loss 2.0566988264520965 | Train Accuracy 0.3234782608695652 | Test Loss 1.8708602740214422 | Test Accuracy 0.3975\n",
            "Epoch 1 | Train Loss 1.6536617394950655 | Train Accuracy 0.4726086956521739 | Test Loss 1.5735082626342773 | Test Accuracy 0.50125\n",
            "Epoch 2 | Train Loss 1.3874291976292927 | Train Accuracy 0.5576086956521739 | Test Loss 1.3590926390427809 | Test Accuracy 0.57\n",
            "Epoch 3 | Train Loss 1.2079264004197385 | Train Accuracy 0.6014130434782609 | Test Loss 1.2249470857473521 | Test Accuracy 0.59375\n",
            "Epoch 4 | Train Loss 1.103837449931436 | Train Accuracy 0.6279347826086956 | Test Loss 1.1501748516009405 | Test Accuracy 0.62875\n",
            "Epoch 5 | Train Loss 1.0308131161663268 | Train Accuracy 0.6669565217391304 | Test Loss 1.0671139130225549 | Test Accuracy 0.67375\n",
            "Epoch 6 | Train Loss 0.9528838379515542 | Train Accuracy 0.6994565217391304 | Test Loss 1.0052779500301068 | Test Accuracy 0.68375\n",
            "Epoch 7 | Train Loss 0.8961719245546393 | Train Accuracy 0.7184782608695652 | Test Loss 0.9671148153451773 | Test Accuracy 0.69625\n",
            "Epoch 8 | Train Loss 0.8551159393456247 | Train Accuracy 0.7279347826086957 | Test Loss 0.9512106592838581 | Test Accuracy 0.68625\n",
            "Epoch 9 | Train Loss 0.8282340611848567 | Train Accuracy 0.7326086956521739 | Test Loss 0.9348568962170527 | Test Accuracy 0.695\n",
            "Epoch 10 | Train Loss 0.8080314377115833 | Train Accuracy 0.7404347826086957 | Test Loss 0.9339962509962229 | Test Accuracy 0.7025\n",
            "Epoch 11 | Train Loss 0.7942872442719009 | Train Accuracy 0.7431521739130434 | Test Loss 0.9255735415678757 | Test Accuracy 0.705\n",
            "Epoch 12 | Train Loss 0.7835885989997122 | Train Accuracy 0.7475 | Test Loss 0.9271056376970731 | Test Accuracy 0.69375\n",
            "Epoch 13 | Train Loss 0.7774975943482585 | Train Accuracy 0.748804347826087 | Test Loss 0.9233957253969632 | Test Accuracy 0.70625\n",
            "Epoch 14 | Train Loss 0.7656639332158698 | Train Accuracy 0.7501086956521739 | Test Loss 0.8983789361440219 | Test Accuracy 0.71875\n",
            "Epoch 15 | Train Loss 0.7567789138605198 | Train Accuracy 0.7533695652173913 | Test Loss 0.8807668227415818 | Test Accuracy 0.72375\n",
            "Epoch 16 | Train Loss 0.7469364357077413 | Train Accuracy 0.7564130434782609 | Test Loss 0.8655287027359009 | Test Accuracy 0.72625\n",
            "Epoch 17 | Train Loss 0.740388542206751 | Train Accuracy 0.7579347826086956 | Test Loss 0.8751651828105633 | Test Accuracy 0.72625\n",
            "Epoch 18 | Train Loss 0.7316113491025236 | Train Accuracy 0.7623913043478261 | Test Loss 0.8544375208707956 | Test Accuracy 0.715\n",
            "Epoch 19 | Train Loss 0.7216899980687432 | Train Accuracy 0.7671739130434783 | Test Loss 0.8585513646786029 | Test Accuracy 0.7225\n",
            "Epoch 20 | Train Loss 0.7176346989969412 | Train Accuracy 0.7703260869565217 | Test Loss 0.8519486372287457 | Test Accuracy 0.72625\n",
            "Epoch 21 | Train Loss 0.7106770450870196 | Train Accuracy 0.7728260869565218 | Test Loss 0.8660071171247042 | Test Accuracy 0.73\n",
            "Epoch 22 | Train Loss 0.7069788678652711 | Train Accuracy 0.7743478260869565 | Test Loss 0.8309683432945838 | Test Accuracy 0.73375\n",
            "Epoch 23 | Train Loss 0.6999481142395072 | Train Accuracy 0.774891304347826 | Test Loss 0.8260478652440585 | Test Accuracy 0.735\n",
            "Epoch 24 | Train Loss 0.6930023599416018 | Train Accuracy 0.7783695652173913 | Test Loss 0.817148336997399 | Test Accuracy 0.73625\n",
            "Epoch 25 | Train Loss 0.6933660888009601 | Train Accuracy 0.7802173913043479 | Test Loss 0.8201727592028104 | Test Accuracy 0.73625\n",
            "Epoch 26 | Train Loss 0.6926066078659561 | Train Accuracy 0.7790217391304348 | Test Loss 0.8202602496513953 | Test Accuracy 0.725\n",
            "Epoch 27 | Train Loss 0.6917090894033512 | Train Accuracy 0.7796739130434782 | Test Loss 0.8107465138802161 | Test Accuracy 0.735\n",
            "Epoch 28 | Train Loss 0.6841756771836016 | Train Accuracy 0.7816304347826087 | Test Loss 0.8102374443641076 | Test Accuracy 0.7325\n",
            "Epoch 29 | Train Loss 0.6833864808496501 | Train Accuracy 0.7822826086956521 | Test Loss 0.812691656442789 | Test Accuracy 0.73625\n",
            "Validation accuracy did not improve for several epochs. Stopping early.\n",
            "Epoch 0 | Train Loss 2.0461618776122728 | Train Accuracy 0.29293478260869565 | Test Loss 1.8203369470743032 | Test Accuracy 0.33375\n",
            "Epoch 1 | Train Loss 1.5806708857417107 | Train Accuracy 0.47532608695652173 | Test Loss 1.404342302909264 | Test Accuracy 0.515\n",
            "Epoch 2 | Train Loss 1.310241111450725 | Train Accuracy 0.5593478260869565 | Test Loss 1.1963311617191021 | Test Accuracy 0.6025\n",
            "Epoch 3 | Train Loss 1.1811689395043585 | Train Accuracy 0.5909782608695652 | Test Loss 1.0806198991261995 | Test Accuracy 0.635\n",
            "Epoch 4 | Train Loss 1.0916154504650168 | Train Accuracy 0.6177173913043478 | Test Loss 1.0177422670217662 | Test Accuracy 0.66875\n",
            "Epoch 5 | Train Loss 1.0196392325063546 | Train Accuracy 0.6563043478260869 | Test Loss 0.9419174515284024 | Test Accuracy 0.6775\n",
            "Epoch 6 | Train Loss 0.9572924197547965 | Train Accuracy 0.6752173913043479 | Test Loss 0.8765825033187866 | Test Accuracy 0.68125\n",
            "Epoch 7 | Train Loss 0.9029069327645831 | Train Accuracy 0.69 | Test Loss 0.8284135919350845 | Test Accuracy 0.70375\n",
            "Epoch 8 | Train Loss 0.8686860042313734 | Train Accuracy 0.701304347826087 | Test Loss 0.8071558750592746 | Test Accuracy 0.72375\n",
            "Epoch 9 | Train Loss 0.8417776185605261 | Train Accuracy 0.7086956521739131 | Test Loss 0.7852310079794663 | Test Accuracy 0.72\n",
            "Epoch 10 | Train Loss 0.827314561439885 | Train Accuracy 0.7179347826086957 | Test Loss 0.7650167116752038 | Test Accuracy 0.7375\n",
            "Epoch 11 | Train Loss 0.8096101064648893 | Train Accuracy 0.7317391304347826 | Test Loss 0.7706938936160161 | Test Accuracy 0.73375\n",
            "Epoch 12 | Train Loss 0.7971351399189897 | Train Accuracy 0.741195652173913 | Test Loss 0.768519218151386 | Test Accuracy 0.73375\n",
            "Epoch 13 | Train Loss 0.785423170361254 | Train Accuracy 0.7456521739130435 | Test Loss 0.765315986596621 | Test Accuracy 0.7375\n",
            "Epoch 14 | Train Loss 0.7761730557928482 | Train Accuracy 0.7470652173913044 | Test Loss 0.7155873408684363 | Test Accuracy 0.75\n",
            "Epoch 15 | Train Loss 0.763699520793226 | Train Accuracy 0.7509782608695652 | Test Loss 0.7365540770383981 | Test Accuracy 0.74375\n",
            "Epoch 16 | Train Loss 0.7544589649058051 | Train Accuracy 0.7509782608695652 | Test Loss 0.7205669008768522 | Test Accuracy 0.74\n",
            "Epoch 17 | Train Loss 0.7452935706824064 | Train Accuracy 0.7528260869565218 | Test Loss 0.7379932541113633 | Test Accuracy 0.74625\n",
            "Epoch 18 | Train Loss 0.7417598871721162 | Train Accuracy 0.7543478260869565 | Test Loss 0.7351730420039251 | Test Accuracy 0.745\n",
            "Epoch 19 | Train Loss 0.7344739915182193 | Train Accuracy 0.7583695652173913 | Test Loss 0.7281097700962653 | Test Accuracy 0.745\n",
            "Validation accuracy did not improve for several epochs. Stopping early.\n",
            "Epoch 0 | Train Loss 1.9846704047587183 | Train Accuracy 0.3596739130434783 | Test Loss 1.679240813622108 | Test Accuracy 0.4375\n",
            "Epoch 1 | Train Loss 1.4701013531949785 | Train Accuracy 0.5359782608695652 | Test Loss 1.317101707825294 | Test Accuracy 0.5725\n",
            "Epoch 2 | Train Loss 1.1718873344361782 | Train Accuracy 0.6271739130434782 | Test Loss 1.098715575841757 | Test Accuracy 0.64875\n",
            "Epoch 3 | Train Loss 0.9946239549252722 | Train Accuracy 0.6952173913043478 | Test Loss 0.9854047619379483 | Test Accuracy 0.6825\n",
            "Epoch 4 | Train Loss 0.8927178697453605 | Train Accuracy 0.7248913043478261 | Test Loss 0.8982643439219549 | Test Accuracy 0.705\n",
            "Epoch 5 | Train Loss 0.8290386357241206 | Train Accuracy 0.7352173913043478 | Test Loss 0.8742351761231055 | Test Accuracy 0.71\n",
            "Epoch 6 | Train Loss 0.7907443265948031 | Train Accuracy 0.7454347826086957 | Test Loss 0.8421431596462543 | Test Accuracy 0.70625\n",
            "Epoch 7 | Train Loss 0.768874123485552 | Train Accuracy 0.7436956521739131 | Test Loss 0.8113686258976276 | Test Accuracy 0.72\n",
            "Epoch 8 | Train Loss 0.7527155199398597 | Train Accuracy 0.7490217391304348 | Test Loss 0.7893953644312345 | Test Accuracy 0.74375\n",
            "Epoch 9 | Train Loss 0.7345909292085303 | Train Accuracy 0.7571739130434783 | Test Loss 0.7651726603507996 | Test Accuracy 0.73875\n",
            "Epoch 10 | Train Loss 0.7203165890855922 | Train Accuracy 0.7620652173913044 | Test Loss 0.7629237771034241 | Test Accuracy 0.74875\n",
            "Epoch 11 | Train Loss 0.7118462359325753 | Train Accuracy 0.7693478260869565 | Test Loss 0.740488194502317 | Test Accuracy 0.7575\n",
            "Epoch 12 | Train Loss 0.7030287329107523 | Train Accuracy 0.7740217391304348 | Test Loss 0.7419658991006705 | Test Accuracy 0.7625\n",
            "Epoch 13 | Train Loss 0.6958101236571869 | Train Accuracy 0.7816304347826087 | Test Loss 0.7311856746673584 | Test Accuracy 0.7525\n",
            "Epoch 14 | Train Loss 0.6852155795527829 | Train Accuracy 0.7861956521739131 | Test Loss 0.7269381972459646 | Test Accuracy 0.76375\n",
            "Epoch 15 | Train Loss 0.6764822991357909 | Train Accuracy 0.7911956521739131 | Test Loss 0.7259915150128878 | Test Accuracy 0.76\n",
            "Epoch 16 | Train Loss 0.6681253034621477 | Train Accuracy 0.7903260869565217 | Test Loss 0.7399840721717248 | Test Accuracy 0.76875\n",
            "Epoch 17 | Train Loss 0.6571103597266806 | Train Accuracy 0.7964130434782609 | Test Loss 0.7220246149943426 | Test Accuracy 0.77\n",
            "Epoch 18 | Train Loss 0.6526860536800491 | Train Accuracy 0.7978260869565217 | Test Loss 0.7303047684522775 | Test Accuracy 0.7675\n",
            "Epoch 19 | Train Loss 0.641677002939913 | Train Accuracy 0.8016304347826086 | Test Loss 0.7081564802389878 | Test Accuracy 0.76625\n",
            "Epoch 20 | Train Loss 0.635144740757015 | Train Accuracy 0.8047826086956522 | Test Loss 0.7084308404188889 | Test Accuracy 0.7575\n",
            "Epoch 21 | Train Loss 0.6228869700183471 | Train Accuracy 0.8093478260869565 | Test Loss 0.6863028544646043 | Test Accuracy 0.77625\n",
            "Epoch 22 | Train Loss 0.6189455468621519 | Train Accuracy 0.8111956521739131 | Test Loss 0.6738145970381223 | Test Accuracy 0.78375\n",
            "Epoch 23 | Train Loss 0.6167941782623529 | Train Accuracy 0.8123913043478261 | Test Loss 0.6726436087718377 | Test Accuracy 0.78\n",
            "Epoch 24 | Train Loss 0.6125867139134142 | Train Accuracy 0.8125 | Test Loss 0.6585831412902245 | Test Accuracy 0.775\n",
            "Epoch 25 | Train Loss 0.6103525180369616 | Train Accuracy 0.8121739130434783 | Test Loss 0.6475960635221921 | Test Accuracy 0.785\n",
            "Epoch 26 | Train Loss 0.6020646699600749 | Train Accuracy 0.8134782608695652 | Test Loss 0.6635562525345728 | Test Accuracy 0.78625\n",
            "Epoch 27 | Train Loss 0.599134883739882 | Train Accuracy 0.8152173913043478 | Test Loss 0.6740876459158384 | Test Accuracy 0.7825\n",
            "Epoch 28 | Train Loss 0.5914096004433103 | Train Accuracy 0.8195652173913044 | Test Loss 0.6400529994414403 | Test Accuracy 0.78875\n",
            "Epoch 29 | Train Loss 0.5885188755475812 | Train Accuracy 0.8207608695652174 | Test Loss 0.6480305859675775 | Test Accuracy 0.79125\n",
            "Epoch 30 | Train Loss 0.5860827544497119 | Train Accuracy 0.8220652173913043 | Test Loss 0.6490735388719119 | Test Accuracy 0.7825\n",
            "Epoch 31 | Train Loss 0.5845679690440496 | Train Accuracy 0.8190217391304347 | Test Loss 0.6465568404931289 | Test Accuracy 0.79\n",
            "Epoch 32 | Train Loss 0.5802136547863483 | Train Accuracy 0.8227173913043478 | Test Loss 0.6401043924001547 | Test Accuracy 0.7975\n",
            "Epoch 33 | Train Loss 0.5749025308630533 | Train Accuracy 0.8233695652173914 | Test Loss 0.6580507159233093 | Test Accuracy 0.79125\n",
            "Epoch 34 | Train Loss 0.5693819326245122 | Train Accuracy 0.8278260869565217 | Test Loss 0.6389502195211557 | Test Accuracy 0.795\n",
            "Epoch 35 | Train Loss 0.5668382077581353 | Train Accuracy 0.8296739130434783 | Test Loss 0.6334142570312207 | Test Accuracy 0.7925\n",
            "Epoch 36 | Train Loss 0.5621755061050256 | Train Accuracy 0.8339130434782609 | Test Loss 0.6323061470802014 | Test Accuracy 0.7925\n",
            "Epoch 37 | Train Loss 0.5600561590658294 | Train Accuracy 0.8330434782608696 | Test Loss 0.6293697380102597 | Test Accuracy 0.79375\n",
            "Validation accuracy did not improve for several epochs. Stopping early.\n",
            "best accuraces for test was : [0.765, 0.74625, 0.73625, 0.75, 0.7975]\n",
            "stddev for test was  : 0.023871400252184632\n",
            "best accuraces for test was : [0.7880434782608695, 0.7652173913043478, 0.7822826086956521, 0.7583695652173913, 0.8339130434782609]\n",
            "stddev for test was  : 0.02961446904703204\n"
          ]
        }
      ]
    },
    {
      "cell_type": "markdown",
      "source": [
        "# concat sq+eff 2(sq) + 3(ef)\n"
      ],
      "metadata": {
        "id": "Osn1SOghITae"
      }
    },
    {
      "cell_type": "code",
      "source": [
        "import numpy as np\n",
        "features_sq_train = np.load('/content/drive/MyDrive/tmp/features_squeeze_train_false_TRAIN_pca2.npy')\n",
        "features_eff_train = np.load('/content/drive/MyDrive/tmp/features_efficient_train_false_TRAIN_pca3.npy')\n",
        "features_sq_val = np.load('/content/drive/MyDrive/tmp/features_squeeze_train_false_VALIDATION_pca2.npy')\n",
        "features_eff_val = np.load('/content/drive/MyDrive/tmp/features_efficient_train_false_VALIDATION_pca3.npy')\n",
        "\n",
        "\n",
        "train_features_pca = np.concatenate((features_sq_train, features_eff_train), axis=1)\n",
        "val_features_pca = np.concatenate((features_sq_val, features_eff_val), axis=1)"
      ],
      "metadata": {
        "id": "tFYzgnsnIUmI"
      },
      "execution_count": null,
      "outputs": []
    },
    {
      "cell_type": "code",
      "source": [
        "logsconcat5 = run_experiment_no_pca(5, train_features_pca, val_features_pca)\n",
        "with open('/content/drive/MyDrive/tmp/logsconcat5.pkl', 'wb') as file:\n",
        "        pickle.dump(logsconcat5, file)"
      ],
      "metadata": {
        "colab": {
          "base_uri": "https://localhost:8080/"
        },
        "id": "2inuahe1KL6-",
        "outputId": "55e952e2-a203-461c-a782-780192c81e9c"
      },
      "execution_count": null,
      "outputs": [
        {
          "output_type": "stream",
          "name": "stdout",
          "text": [
            "Data(x=[75, 5], edge_index=[2, 1405], y=[1], pos=[75, 2])\n",
            "Data(x=[75, 5], edge_index=[2, 1395], y=[1], pos=[75, 2])\n",
            "Starting training...\n",
            "Epoch 0 | Train Loss 2.0125722413261733 | Train Accuracy 0.29304347826086957 | Test Loss 1.757412992990934 | Test Accuracy 0.34375\n",
            "Epoch 1 | Train Loss 1.5560344813598528 | Train Accuracy 0.4880434782608696 | Test Loss 1.4657539496055016 | Test Accuracy 0.52375\n",
            "Epoch 2 | Train Loss 1.3356760715444882 | Train Accuracy 0.5470652173913043 | Test Loss 1.350614336820749 | Test Accuracy 0.55375\n",
            "Epoch 3 | Train Loss 1.2538598883483145 | Train Accuracy 0.5647826086956522 | Test Loss 1.3008230924606323 | Test Accuracy 0.575\n",
            "Epoch 4 | Train Loss 1.2181022465229034 | Train Accuracy 0.5752173913043478 | Test Loss 1.267210758649386 | Test Accuracy 0.575\n",
            "Epoch 5 | Train Loss 1.1982029159035947 | Train Accuracy 0.582391304347826 | Test Loss 1.2264036306968102 | Test Accuracy 0.595\n",
            "Epoch 6 | Train Loss 1.1802170984447002 | Train Accuracy 0.5856521739130435 | Test Loss 1.2258457037118764 | Test Accuracy 0.5975\n",
            "Epoch 7 | Train Loss 1.1603786266512341 | Train Accuracy 0.5965217391304348 | Test Loss 1.1951681696451628 | Test Accuracy 0.60875\n",
            "Epoch 8 | Train Loss 1.1488436543279223 | Train Accuracy 0.5984782608695652 | Test Loss 1.1631654409261851 | Test Accuracy 0.60125\n",
            "Epoch 9 | Train Loss 1.1322527821693156 | Train Accuracy 0.6075 | Test Loss 1.1529522400635939 | Test Accuracy 0.615\n",
            "Epoch 10 | Train Loss 1.124327351235681 | Train Accuracy 0.6072826086956522 | Test Loss 1.1384776463875403 | Test Accuracy 0.6175\n",
            "Epoch 11 | Train Loss 1.114342077738709 | Train Accuracy 0.6107608695652174 | Test Loss 1.1136154394883375 | Test Accuracy 0.635\n",
            "Epoch 12 | Train Loss 1.1019996309445963 | Train Accuracy 0.6160869565217392 | Test Loss 1.0856607143695538 | Test Accuracy 0.63625\n",
            "Epoch 13 | Train Loss 1.0785461655921407 | Train Accuracy 0.6223913043478261 | Test Loss 1.0905807109979482 | Test Accuracy 0.63125\n",
            "Epoch 14 | Train Loss 1.0656508339775934 | Train Accuracy 0.6252173913043478 | Test Loss 1.0803616688801692 | Test Accuracy 0.645\n",
            "Epoch 15 | Train Loss 1.0599834434688091 | Train Accuracy 0.628695652173913 | Test Loss 1.073471459058615 | Test Accuracy 0.64625\n",
            "Epoch 16 | Train Loss 1.0538256884449058 | Train Accuracy 0.6306521739130435 | Test Loss 1.0644498559144826 | Test Accuracy 0.6425\n",
            "Epoch 17 | Train Loss 1.0474743615421984 | Train Accuracy 0.6302173913043478 | Test Loss 1.0631910516665533 | Test Accuracy 0.62875\n",
            "Epoch 18 | Train Loss 1.0443854580322902 | Train Accuracy 0.6275 | Test Loss 1.0484408323581402 | Test Accuracy 0.635\n",
            "Epoch 19 | Train Loss 1.0371686207751434 | Train Accuracy 0.6316304347826087 | Test Loss 1.0428600815626292 | Test Accuracy 0.63625\n",
            "Epoch 20 | Train Loss 1.0294802896678448 | Train Accuracy 0.6368478260869566 | Test Loss 1.0632985738607554 | Test Accuracy 0.635\n",
            "Validation accuracy did not improve for several epochs. Stopping early.\n",
            "Epoch 0 | Train Loss 1.9358367911643453 | Train Accuracy 0.3816304347826087 | Test Loss 1.6623956240140474 | Test Accuracy 0.45125\n",
            "Epoch 1 | Train Loss 1.4989726063277986 | Train Accuracy 0.48532608695652174 | Test Loss 1.4501637770579412 | Test Accuracy 0.5075\n",
            "Epoch 2 | Train Loss 1.3620649584465556 | Train Accuracy 0.528695652173913 | Test Loss 1.3983259476148164 | Test Accuracy 0.50625\n",
            "Epoch 3 | Train Loss 1.3057068263490994 | Train Accuracy 0.5330434782608696 | Test Loss 1.359121716939486 | Test Accuracy 0.5275\n",
            "Epoch 4 | Train Loss 1.273490938047568 | Train Accuracy 0.538804347826087 | Test Loss 1.3299312591552734 | Test Accuracy 0.5175\n",
            "Epoch 5 | Train Loss 1.2511942113439243 | Train Accuracy 0.5473913043478261 | Test Loss 1.3218083840150099 | Test Accuracy 0.5375\n",
            "Epoch 6 | Train Loss 1.2337192164527044 | Train Accuracy 0.5554347826086956 | Test Loss 1.2814504825151884 | Test Accuracy 0.5425\n",
            "Epoch 7 | Train Loss 1.2213614972101317 | Train Accuracy 0.5555434782608696 | Test Loss 1.2845163620435274 | Test Accuracy 0.54125\n",
            "Epoch 8 | Train Loss 1.2134118721716933 | Train Accuracy 0.5578260869565217 | Test Loss 1.2645880350699792 | Test Accuracy 0.54625\n",
            "Epoch 9 | Train Loss 1.1878730754057567 | Train Accuracy 0.5610869565217391 | Test Loss 1.2172492834237905 | Test Accuracy 0.55\n",
            "Epoch 10 | Train Loss 1.171125240623951 | Train Accuracy 0.5614130434782608 | Test Loss 1.2118388735331023 | Test Accuracy 0.5475\n",
            "Epoch 11 | Train Loss 1.159144840306706 | Train Accuracy 0.5646739130434782 | Test Loss 1.224018509571369 | Test Accuracy 0.54625\n",
            "Epoch 12 | Train Loss 1.1558283873730235 | Train Accuracy 0.5635869565217392 | Test Loss 1.22942342207982 | Test Accuracy 0.535\n",
            "Epoch 13 | Train Loss 1.1507717242671385 | Train Accuracy 0.5644565217391304 | Test Loss 1.2092224542911236 | Test Accuracy 0.54375\n",
            "Epoch 14 | Train Loss 1.1455924411614735 | Train Accuracy 0.5632608695652174 | Test Loss 1.2025680817090547 | Test Accuracy 0.5425\n",
            "Validation accuracy did not improve for several epochs. Stopping early.\n",
            "Epoch 0 | Train Loss 1.985167524052991 | Train Accuracy 0.26869565217391306 | Test Loss 1.6848863913462713 | Test Accuracy 0.38\n",
            "Epoch 1 | Train Loss 1.5364147904846404 | Train Accuracy 0.4692391304347826 | Test Loss 1.4565962186226478 | Test Accuracy 0.535\n",
            "Epoch 2 | Train Loss 1.376575716667705 | Train Accuracy 0.5253260869565217 | Test Loss 1.3489102950462928 | Test Accuracy 0.5625\n",
            "Epoch 3 | Train Loss 1.3008100572559569 | Train Accuracy 0.5428260869565218 | Test Loss 1.30428658081935 | Test Accuracy 0.55625\n",
            "Epoch 4 | Train Loss 1.2686171589626207 | Train Accuracy 0.548804347826087 | Test Loss 1.2740827707143931 | Test Accuracy 0.56125\n",
            "Epoch 5 | Train Loss 1.2485905947784584 | Train Accuracy 0.5541304347826087 | Test Loss 1.2594594772045429 | Test Accuracy 0.54375\n",
            "Epoch 6 | Train Loss 1.2327410694625642 | Train Accuracy 0.5582608695652174 | Test Loss 1.2486902291958148 | Test Accuracy 0.55625\n",
            "Epoch 7 | Train Loss 1.2190014989011817 | Train Accuracy 0.5572826086956522 | Test Loss 1.233609139919281 | Test Accuracy 0.55875\n",
            "Validation accuracy did not improve for several epochs. Stopping early.\n",
            "Epoch 0 | Train Loss 1.9788803342315886 | Train Accuracy 0.333804347826087 | Test Loss 1.704752069253188 | Test Accuracy 0.4275\n",
            "Epoch 1 | Train Loss 1.5371022274096806 | Train Accuracy 0.46152173913043476 | Test Loss 1.4842136731514564 | Test Accuracy 0.46875\n",
            "Epoch 2 | Train Loss 1.3900084421038628 | Train Accuracy 0.5106521739130435 | Test Loss 1.4289369124632616 | Test Accuracy 0.50375\n",
            "Epoch 3 | Train Loss 1.3265070617198944 | Train Accuracy 0.5284782608695652 | Test Loss 1.3857092949060292 | Test Accuracy 0.50875\n",
            "Epoch 4 | Train Loss 1.2971686116523213 | Train Accuracy 0.5317391304347826 | Test Loss 1.3708037871580858 | Test Accuracy 0.51125\n",
            "Epoch 5 | Train Loss 1.2785024742285411 | Train Accuracy 0.5335869565217392 | Test Loss 1.3665615595304048 | Test Accuracy 0.50875\n",
            "Epoch 6 | Train Loss 1.268855172312922 | Train Accuracy 0.5308695652173913 | Test Loss 1.347014307975769 | Test Accuracy 0.51375\n",
            "Epoch 7 | Train Loss 1.2574100055628352 | Train Accuracy 0.537608695652174 | Test Loss 1.3206840111659124 | Test Accuracy 0.52875\n",
            "Epoch 8 | Train Loss 1.2492445686625109 | Train Accuracy 0.5352173913043479 | Test Loss 1.312905137355511 | Test Accuracy 0.53125\n",
            "Epoch 9 | Train Loss 1.2387329128881295 | Train Accuracy 0.5389130434782609 | Test Loss 1.317968331850492 | Test Accuracy 0.52875\n",
            "Epoch 10 | Train Loss 1.2267279778089788 | Train Accuracy 0.5421739130434783 | Test Loss 1.2899378904929528 | Test Accuracy 0.5425\n",
            "Epoch 11 | Train Loss 1.216183315548632 | Train Accuracy 0.5535869565217392 | Test Loss 1.2869679102530847 | Test Accuracy 0.54375\n",
            "Epoch 12 | Train Loss 1.2083943287531536 | Train Accuracy 0.561304347826087 | Test Loss 1.2835494463260357 | Test Accuracy 0.5425\n",
            "Epoch 13 | Train Loss 1.200869049049086 | Train Accuracy 0.5602173913043478 | Test Loss 1.263468861579895 | Test Accuracy 0.5525\n",
            "Epoch 14 | Train Loss 1.192442240814368 | Train Accuracy 0.5638043478260869 | Test Loss 1.2503540515899658 | Test Accuracy 0.55125\n",
            "Epoch 15 | Train Loss 1.185509282267756 | Train Accuracy 0.5739130434782609 | Test Loss 1.2479085830541758 | Test Accuracy 0.57375\n",
            "Epoch 16 | Train Loss 1.1765800424747996 | Train Accuracy 0.5806521739130435 | Test Loss 1.2127204491541936 | Test Accuracy 0.58\n",
            "Epoch 17 | Train Loss 1.1660683527588844 | Train Accuracy 0.5868478260869565 | Test Loss 1.2128726885868952 | Test Accuracy 0.58375\n",
            "Epoch 18 | Train Loss 1.1538466066122055 | Train Accuracy 0.5966304347826087 | Test Loss 1.2119951798365667 | Test Accuracy 0.58125\n",
            "Epoch 19 | Train Loss 1.1427394010954433 | Train Accuracy 0.5995652173913043 | Test Loss 1.1982542047133813 | Test Accuracy 0.5925\n",
            "Epoch 20 | Train Loss 1.1306902608937688 | Train Accuracy 0.6071739130434782 | Test Loss 1.1961556397951567 | Test Accuracy 0.6075\n",
            "Epoch 21 | Train Loss 1.1141968667507172 | Train Accuracy 0.6144565217391305 | Test Loss 1.1631074135120099 | Test Accuracy 0.6125\n",
            "Epoch 22 | Train Loss 1.102903144641055 | Train Accuracy 0.6183695652173913 | Test Loss 1.172053804764381 | Test Accuracy 0.615\n",
            "Epoch 23 | Train Loss 1.0869933259156015 | Train Accuracy 0.6240217391304348 | Test Loss 1.1224659039424016 | Test Accuracy 0.625\n",
            "Epoch 24 | Train Loss 1.0696209201382265 | Train Accuracy 0.6295652173913043 | Test Loss 1.109234828215379 | Test Accuracy 0.635\n",
            "Epoch 25 | Train Loss 1.0576435608996286 | Train Accuracy 0.6317391304347826 | Test Loss 1.086125066647163 | Test Accuracy 0.63375\n",
            "Epoch 26 | Train Loss 1.04051920481854 | Train Accuracy 0.633804347826087 | Test Loss 1.061560910481673 | Test Accuracy 0.63875\n",
            "Epoch 27 | Train Loss 1.016815223213699 | Train Accuracy 0.6445652173913043 | Test Loss 1.0667334978397076 | Test Accuracy 0.6175\n",
            "Epoch 28 | Train Loss 1.0004763586653604 | Train Accuracy 0.6513043478260869 | Test Loss 1.0565119614967933 | Test Accuracy 0.6525\n",
            "Epoch 29 | Train Loss 0.9951927479770448 | Train Accuracy 0.6567391304347826 | Test Loss 1.0376624785936797 | Test Accuracy 0.65625\n",
            "Epoch 30 | Train Loss 0.9782885445488824 | Train Accuracy 0.6613043478260869 | Test Loss 1.006096289708064 | Test Accuracy 0.6625\n",
            "Epoch 31 | Train Loss 0.9728366637395488 | Train Accuracy 0.6617391304347826 | Test Loss 1.0269420146942139 | Test Accuracy 0.66125\n",
            "Epoch 32 | Train Loss 0.9668801497254107 | Train Accuracy 0.6620652173913043 | Test Loss 0.995454320540795 | Test Accuracy 0.66\n",
            "Epoch 33 | Train Loss 0.963581750376357 | Train Accuracy 0.6645652173913044 | Test Loss 0.9915025371771592 | Test Accuracy 0.65\n",
            "Epoch 34 | Train Loss 0.9523516607781252 | Train Accuracy 0.6690217391304348 | Test Loss 0.996481519479018 | Test Accuracy 0.67125\n",
            "Epoch 35 | Train Loss 0.9473327141669061 | Train Accuracy 0.6701086956521739 | Test Loss 0.9833565446046683 | Test Accuracy 0.6725\n",
            "Epoch 36 | Train Loss 0.9429180485506853 | Train Accuracy 0.6758695652173913 | Test Loss 0.977442557995136 | Test Accuracy 0.66875\n",
            "Epoch 37 | Train Loss 0.9397347623275386 | Train Accuracy 0.676304347826087 | Test Loss 0.982688871713785 | Test Accuracy 0.67125\n",
            "Epoch 38 | Train Loss 0.92980815594395 | Train Accuracy 0.6744565217391304 | Test Loss 0.9811950371815608 | Test Accuracy 0.6725\n",
            "Epoch 39 | Train Loss 0.9258827422228124 | Train Accuracy 0.678695652173913 | Test Loss 0.9551418011005108 | Test Accuracy 0.6775\n",
            "Epoch 0 | Train Loss 2.0270243460933366 | Train Accuracy 0.2793478260869565 | Test Loss 1.7403975266676683 | Test Accuracy 0.44375\n",
            "Epoch 1 | Train Loss 1.583216741681099 | Train Accuracy 0.46793478260869564 | Test Loss 1.481569684468783 | Test Accuracy 0.47875\n",
            "Epoch 2 | Train Loss 1.3939019433326192 | Train Accuracy 0.4926086956521739 | Test Loss 1.3499592450948863 | Test Accuracy 0.52125\n",
            "Epoch 3 | Train Loss 1.2406004990140598 | Train Accuracy 0.6007608695652173 | Test Loss 1.211503762465257 | Test Accuracy 0.6175\n",
            "Epoch 4 | Train Loss 1.1369446731275983 | Train Accuracy 0.6247826086956522 | Test Loss 1.1458154274867132 | Test Accuracy 0.6175\n",
            "Epoch 5 | Train Loss 1.0967972568339772 | Train Accuracy 0.6295652173913043 | Test Loss 1.1253519149926992 | Test Accuracy 0.62375\n",
            "Epoch 6 | Train Loss 1.0734840126501188 | Train Accuracy 0.6330434782608696 | Test Loss 1.128741910824409 | Test Accuracy 0.6225\n",
            "Epoch 7 | Train Loss 1.0562027220924695 | Train Accuracy 0.6358695652173914 | Test Loss 1.0906870456842275 | Test Accuracy 0.615\n",
            "Epoch 8 | Train Loss 1.0435097556975153 | Train Accuracy 0.6383695652173913 | Test Loss 1.0800312803341792 | Test Accuracy 0.635\n",
            "Epoch 9 | Train Loss 1.0384536476598845 | Train Accuracy 0.6373913043478261 | Test Loss 1.074902864602896 | Test Accuracy 0.63\n",
            "Epoch 10 | Train Loss 1.027989261266258 | Train Accuracy 0.6363043478260869 | Test Loss 1.0612595814924974 | Test Accuracy 0.64125\n",
            "Epoch 11 | Train Loss 1.0228557603226767 | Train Accuracy 0.6425 | Test Loss 1.060859120809115 | Test Accuracy 0.63375\n",
            "Epoch 12 | Train Loss 1.0096635561850336 | Train Accuracy 0.6466304347826087 | Test Loss 1.0549277525681715 | Test Accuracy 0.62375\n",
            "Epoch 13 | Train Loss 1.00239443530639 | Train Accuracy 0.6478260869565218 | Test Loss 1.038975674372453 | Test Accuracy 0.635\n",
            "Epoch 14 | Train Loss 0.9899803888466623 | Train Accuracy 0.6529347826086956 | Test Loss 1.0390945764688344 | Test Accuracy 0.64375\n",
            "Epoch 15 | Train Loss 0.9907524610559145 | Train Accuracy 0.6543478260869565 | Test Loss 1.0321677235456614 | Test Accuracy 0.625\n",
            "Epoch 16 | Train Loss 0.9823006685409281 | Train Accuracy 0.6563043478260869 | Test Loss 1.0128541955581079 | Test Accuracy 0.63375\n",
            "Epoch 17 | Train Loss 0.9756433876852194 | Train Accuracy 0.6598913043478261 | Test Loss 1.0154586755312407 | Test Accuracy 0.635\n",
            "Epoch 18 | Train Loss 0.970712234162622 | Train Accuracy 0.6623913043478261 | Test Loss 1.0061606489695036 | Test Accuracy 0.6475\n",
            "Epoch 19 | Train Loss 0.964735795226362 | Train Accuracy 0.6657608695652174 | Test Loss 1.0093269348144531 | Test Accuracy 0.63875\n",
            "Epoch 20 | Train Loss 0.9591339259511895 | Train Accuracy 0.6632608695652173 | Test Loss 0.9931582716795114 | Test Accuracy 0.64\n",
            "Epoch 21 | Train Loss 0.9552353955805302 | Train Accuracy 0.665 | Test Loss 0.9975230097770691 | Test Accuracy 0.63875\n",
            "Epoch 22 | Train Loss 0.9493112506137954 | Train Accuracy 0.6647826086956522 | Test Loss 0.973050016623277 | Test Accuracy 0.64125\n",
            "Epoch 23 | Train Loss 0.9476558843420612 | Train Accuracy 0.6653260869565217 | Test Loss 0.9791384247633127 | Test Accuracy 0.63875\n",
            "Validation accuracy did not improve for several epochs. Stopping early.\n",
            "best accuraces for test was : [0.64625, 0.55, 0.5625, 0.6775, 0.6475]\n",
            "stddev for test was  : 0.056800088028100784\n",
            "best accuraces for test was : [0.6368478260869566, 0.5646739130434782, 0.5582608695652174, 0.678695652173913, 0.6657608695652174]\n",
            "stddev for test was  : 0.05632980581081663\n"
          ]
        }
      ]
    },
    {
      "cell_type": "markdown",
      "source": [
        "# concat sq+eff 16 + 16"
      ],
      "metadata": {
        "id": "zZAxza14IT9W"
      }
    },
    {
      "cell_type": "code",
      "source": [
        "import numpy as np\n",
        "features_sq_train = np.load('/content/drive/MyDrive/tmp/features_squeeze_train_false_TRAIN_pca16.npy')\n",
        "features_eff_train = np.load('/content/drive/MyDrive/tmp/features_efficient_train_false_TRAIN_pca16.npy')\n",
        "features_sq_val = np.load('/content/drive/MyDrive/tmp/features_squeeze_train_false_VALIDATION_pca16.npy')\n",
        "features_eff_val = np.load('/content/drive/MyDrive/tmp/features_efficient_train_false_VALIDATION_pca16.npy')\n",
        "\n",
        "\n",
        "train_features_pca = np.concatenate((features_sq_train, features_eff_train), axis=1)\n",
        "val_features_pca = np.concatenate((features_sq_val, features_eff_val), axis=1)"
      ],
      "metadata": {
        "id": "jeD8zn0rIU2Q"
      },
      "execution_count": null,
      "outputs": []
    },
    {
      "cell_type": "code",
      "source": [
        "logsconcat32 = run_experiment_no_pca(32, train_features_pca, val_features_pca)\n",
        "with open('/content/drive/MyDrive/tmp/logsconcat32.pkl', 'wb') as file:\n",
        "        pickle.dump(logsconcat32, file)"
      ],
      "metadata": {
        "colab": {
          "base_uri": "https://localhost:8080/"
        },
        "id": "JfU2hngHKOeI",
        "outputId": "449f16dd-998a-4e72-a0e4-2263e2a23796"
      },
      "execution_count": null,
      "outputs": [
        {
          "output_type": "stream",
          "name": "stdout",
          "text": [
            "Data(x=[75, 32], edge_index=[2, 1405], y=[1], pos=[75, 2])\n",
            "Data(x=[75, 32], edge_index=[2, 1395], y=[1], pos=[75, 2])\n",
            "Starting training...\n",
            "Epoch 0 | Train Loss 2.1180822120772467 | Train Accuracy 0.28119565217391307 | Test Loss 1.8865361213684082 | Test Accuracy 0.41125\n",
            "Epoch 1 | Train Loss 1.6368648906548817 | Train Accuracy 0.5168478260869566 | Test Loss 1.4531041383743286 | Test Accuracy 0.55\n",
            "Epoch 2 | Train Loss 1.2580581518510978 | Train Accuracy 0.6355434782608695 | Test Loss 1.1647697136952326 | Test Accuracy 0.675\n",
            "Epoch 3 | Train Loss 1.0294256019923422 | Train Accuracy 0.7166304347826087 | Test Loss 0.9844398360985976 | Test Accuracy 0.72125\n",
            "Epoch 4 | Train Loss 0.8893786937826209 | Train Accuracy 0.7503260869565217 | Test Loss 0.862889276101039 | Test Accuracy 0.745\n",
            "Epoch 5 | Train Loss 0.7975763661993874 | Train Accuracy 0.7723913043478261 | Test Loss 0.8146938773301932 | Test Accuracy 0.7525\n",
            "Epoch 6 | Train Loss 0.7351040653884411 | Train Accuracy 0.7867391304347826 | Test Loss 0.7637237172860366 | Test Accuracy 0.78625\n",
            "Epoch 7 | Train Loss 0.6813028994947672 | Train Accuracy 0.8057608695652174 | Test Loss 0.7078763750883249 | Test Accuracy 0.79375\n",
            "Epoch 8 | Train Loss 0.64397660166853 | Train Accuracy 0.8154347826086956 | Test Loss 0.6730154087910285 | Test Accuracy 0.81\n",
            "Epoch 9 | Train Loss 0.6029992966602246 | Train Accuracy 0.8285869565217391 | Test Loss 0.635026963857504 | Test Accuracy 0.82375\n",
            "Epoch 10 | Train Loss 0.5801389269116852 | Train Accuracy 0.8366304347826087 | Test Loss 0.5904984772205353 | Test Accuracy 0.8375\n",
            "Epoch 11 | Train Loss 0.5599440392106771 | Train Accuracy 0.8416304347826087 | Test Loss 0.5537300041088691 | Test Accuracy 0.85625\n",
            "Epoch 12 | Train Loss 0.5345627143979073 | Train Accuracy 0.8488043478260869 | Test Loss 0.540507048368454 | Test Accuracy 0.8525\n",
            "Epoch 13 | Train Loss 0.5117422598931525 | Train Accuracy 0.8538043478260869 | Test Loss 0.5300440306846912 | Test Accuracy 0.86125\n",
            "Epoch 14 | Train Loss 0.4965035335885154 | Train Accuracy 0.8604347826086957 | Test Loss 0.5162249092872326 | Test Accuracy 0.86\n",
            "Epoch 15 | Train Loss 0.4784265239205625 | Train Accuracy 0.8639130434782609 | Test Loss 0.4983328580856323 | Test Accuracy 0.86\n",
            "Epoch 16 | Train Loss 0.4637406971305609 | Train Accuracy 0.8677173913043478 | Test Loss 0.4970497443125798 | Test Accuracy 0.85375\n",
            "Epoch 17 | Train Loss 0.4506879047387176 | Train Accuracy 0.8714130434782609 | Test Loss 0.4822180179449228 | Test Accuracy 0.855\n",
            "Epoch 18 | Train Loss 0.4394257299395071 | Train Accuracy 0.8726086956521739 | Test Loss 0.46826355961652905 | Test Accuracy 0.85875\n",
            "Validation accuracy did not improve for several epochs. Stopping early.\n",
            "Epoch 0 | Train Loss 2.063873393668069 | Train Accuracy 0.3442391304347826 | Test Loss 1.8008490800857544 | Test Accuracy 0.475\n",
            "Epoch 1 | Train Loss 1.5894833116067781 | Train Accuracy 0.5331521739130435 | Test Loss 1.3954219084519606 | Test Accuracy 0.6\n",
            "Epoch 2 | Train Loss 1.2499389631880655 | Train Accuracy 0.6430434782608696 | Test Loss 1.1406875115174513 | Test Accuracy 0.68125\n",
            "Epoch 3 | Train Loss 1.0219129758576553 | Train Accuracy 0.7031521739130435 | Test Loss 0.9804114424265348 | Test Accuracy 0.71375\n",
            "Epoch 4 | Train Loss 0.8588985366125902 | Train Accuracy 0.7502173913043478 | Test Loss 0.8012919884461623 | Test Accuracy 0.77125\n",
            "Epoch 5 | Train Loss 0.7457824105189906 | Train Accuracy 0.7776086956521739 | Test Loss 0.7041263396923358 | Test Accuracy 0.80625\n",
            "Epoch 6 | Train Loss 0.667501412332058 | Train Accuracy 0.8033695652173913 | Test Loss 0.6299624764002286 | Test Accuracy 0.8375\n",
            "Epoch 7 | Train Loss 0.6054445405801138 | Train Accuracy 0.8214130434782608 | Test Loss 0.556478887796402 | Test Accuracy 0.84875\n",
            "Epoch 8 | Train Loss 0.5558807601531347 | Train Accuracy 0.8335869565217391 | Test Loss 0.5323360424775344 | Test Accuracy 0.84875\n",
            "Epoch 9 | Train Loss 0.5229806349509292 | Train Accuracy 0.8446739130434783 | Test Loss 0.48021546923197234 | Test Accuracy 0.8625\n",
            "Epoch 10 | Train Loss 0.49448622959769434 | Train Accuracy 0.8534782608695652 | Test Loss 0.4523905630295093 | Test Accuracy 0.875\n",
            "Epoch 11 | Train Loss 0.4688062197011378 | Train Accuracy 0.8614130434782609 | Test Loss 0.44924607414465684 | Test Accuracy 0.87\n",
            "Epoch 12 | Train Loss 0.44957534855024683 | Train Accuracy 0.8697826086956522 | Test Loss 0.420039455478008 | Test Accuracy 0.88125\n",
            "Epoch 13 | Train Loss 0.429522059754365 | Train Accuracy 0.8740217391304348 | Test Loss 0.41943757923749775 | Test Accuracy 0.8925\n",
            "Epoch 14 | Train Loss 0.4202807354223397 | Train Accuracy 0.8771739130434782 | Test Loss 0.38247267787273115 | Test Accuracy 0.88625\n",
            "Epoch 15 | Train Loss 0.4051061474407713 | Train Accuracy 0.8810869565217392 | Test Loss 0.39541917351576 | Test Accuracy 0.8875\n",
            "Epoch 16 | Train Loss 0.39177060686051846 | Train Accuracy 0.884891304347826 | Test Loss 0.37421863698042357 | Test Accuracy 0.8925\n",
            "Epoch 17 | Train Loss 0.37406049228997695 | Train Accuracy 0.891195652173913 | Test Loss 0.3603164507792546 | Test Accuracy 0.8975\n",
            "Epoch 18 | Train Loss 0.36396951259424287 | Train Accuracy 0.8935869565217391 | Test Loss 0.3789986211519975 | Test Accuracy 0.89375\n",
            "Epoch 19 | Train Loss 0.35322179060636294 | Train Accuracy 0.8975 | Test Loss 0.3771671618406589 | Test Accuracy 0.89875\n",
            "Epoch 20 | Train Loss 0.34896607376221156 | Train Accuracy 0.8976086956521739 | Test Loss 0.34255141707567066 | Test Accuracy 0.9125\n",
            "Epoch 21 | Train Loss 0.33671061518705553 | Train Accuracy 0.9028260869565218 | Test Loss 0.35398287039536697 | Test Accuracy 0.9025\n",
            "Epoch 22 | Train Loss 0.329700690228492 | Train Accuracy 0.9069565217391304 | Test Loss 0.3399370289765872 | Test Accuracy 0.9025\n",
            "Epoch 23 | Train Loss 0.3220909886683027 | Train Accuracy 0.9108695652173913 | Test Loss 0.35872840537474704 | Test Accuracy 0.9\n",
            "Epoch 24 | Train Loss 0.3162564747552905 | Train Accuracy 0.9109782608695652 | Test Loss 0.33870017528533936 | Test Accuracy 0.905\n",
            "Epoch 25 | Train Loss 0.3102244211671253 | Train Accuracy 0.913695652173913 | Test Loss 0.34143371880054474 | Test Accuracy 0.9025\n",
            "Validation accuracy did not improve for several epochs. Stopping early.\n",
            "Epoch 0 | Train Loss 2.0811562256680594 | Train Accuracy 0.28945652173913045 | Test Loss 1.789945831665626 | Test Accuracy 0.5175\n",
            "Epoch 1 | Train Loss 1.61002107626862 | Train Accuracy 0.5242391304347827 | Test Loss 1.4191504900272076 | Test Accuracy 0.5475\n",
            "Epoch 2 | Train Loss 1.3288510085807905 | Train Accuracy 0.5853260869565218 | Test Loss 1.205059840128972 | Test Accuracy 0.63625\n",
            "Epoch 3 | Train Loss 1.1237487503223949 | Train Accuracy 0.6769565217391305 | Test Loss 1.0045105310586782 | Test Accuracy 0.71\n",
            "Epoch 4 | Train Loss 0.9496869486239221 | Train Accuracy 0.7296739130434783 | Test Loss 0.8712037205696106 | Test Accuracy 0.755\n",
            "Epoch 5 | Train Loss 0.8249371821681658 | Train Accuracy 0.7615217391304347 | Test Loss 0.800339950965001 | Test Accuracy 0.77375\n",
            "Epoch 6 | Train Loss 0.751411133342319 | Train Accuracy 0.7777173913043478 | Test Loss 0.7331432516758258 | Test Accuracy 0.795\n",
            "Epoch 7 | Train Loss 0.6926411740067933 | Train Accuracy 0.7959782608695652 | Test Loss 0.7061175337204566 | Test Accuracy 0.82125\n",
            "Epoch 8 | Train Loss 0.6433653090563085 | Train Accuracy 0.8141304347826087 | Test Loss 0.6428165344091562 | Test Accuracy 0.82625\n",
            "Epoch 9 | Train Loss 0.6091920050481955 | Train Accuracy 0.8280434782608695 | Test Loss 0.640744651739414 | Test Accuracy 0.82625\n",
            "Epoch 10 | Train Loss 0.5903050336572859 | Train Accuracy 0.8327173913043479 | Test Loss 0.6115785676699418 | Test Accuracy 0.82125\n",
            "Epoch 11 | Train Loss 0.569194819778204 | Train Accuracy 0.8392391304347826 | Test Loss 0.5972816623174227 | Test Accuracy 0.82875\n",
            "Epoch 12 | Train Loss 0.5500486261314816 | Train Accuracy 0.8471739130434782 | Test Loss 0.5629918804535499 | Test Accuracy 0.835\n",
            "Epoch 13 | Train Loss 0.5404349894573292 | Train Accuracy 0.8493478260869565 | Test Loss 0.5627067891451029 | Test Accuracy 0.84875\n",
            "Epoch 14 | Train Loss 0.531322741570572 | Train Accuracy 0.8506521739130435 | Test Loss 0.5448245520775135 | Test Accuracy 0.85\n",
            "Epoch 15 | Train Loss 0.5178119065240026 | Train Accuracy 0.8558695652173913 | Test Loss 0.5244886531279638 | Test Accuracy 0.85125\n",
            "Epoch 16 | Train Loss 0.5042331365661489 | Train Accuracy 0.8593478260869565 | Test Loss 0.5376532146563897 | Test Accuracy 0.84375\n",
            "Epoch 17 | Train Loss 0.49806564135683906 | Train Accuracy 0.861195652173913 | Test Loss 0.5495645358012273 | Test Accuracy 0.8425\n",
            "Epoch 18 | Train Loss 0.482855297314624 | Train Accuracy 0.8664130434782609 | Test Loss 0.5128147464532119 | Test Accuracy 0.8475\n",
            "Epoch 19 | Train Loss 0.4682806311175227 | Train Accuracy 0.8683695652173913 | Test Loss 0.505240125151781 | Test Accuracy 0.84875\n",
            "Epoch 20 | Train Loss 0.4593767457538181 | Train Accuracy 0.8719565217391304 | Test Loss 0.4995401593355032 | Test Accuracy 0.86375\n",
            "Epoch 21 | Train Loss 0.4549802631760637 | Train Accuracy 0.8735869565217391 | Test Loss 0.506216402237232 | Test Accuracy 0.85875\n",
            "Epoch 22 | Train Loss 0.4452757408014602 | Train Accuracy 0.8736956521739131 | Test Loss 0.4975593365155734 | Test Accuracy 0.85875\n",
            "Epoch 23 | Train Loss 0.4423707917125689 | Train Accuracy 0.8757608695652174 | Test Loss 0.5220331366245563 | Test Accuracy 0.8525\n",
            "Epoch 24 | Train Loss 0.4346444644033909 | Train Accuracy 0.8768478260869565 | Test Loss 0.4979741951593986 | Test Accuracy 0.85875\n",
            "Epoch 25 | Train Loss 0.4245146121829748 | Train Accuracy 0.8809782608695652 | Test Loss 0.48527822815454924 | Test Accuracy 0.87125\n",
            "Epoch 26 | Train Loss 0.41438626239283216 | Train Accuracy 0.8843478260869565 | Test Loss 0.47803309101324815 | Test Accuracy 0.8775\n",
            "Epoch 27 | Train Loss 0.41071733366698027 | Train Accuracy 0.8868478260869566 | Test Loss 0.47453813827954805 | Test Accuracy 0.88125\n",
            "Epoch 28 | Train Loss 0.40546533475733465 | Train Accuracy 0.8884782608695653 | Test Loss 0.4473061045775047 | Test Accuracy 0.88625\n",
            "Epoch 29 | Train Loss 0.4004117799922824 | Train Accuracy 0.8895652173913043 | Test Loss 0.4476570739195897 | Test Accuracy 0.885\n",
            "Epoch 30 | Train Loss 0.3930670753535297 | Train Accuracy 0.8920652173913044 | Test Loss 0.4444155807678516 | Test Accuracy 0.8825\n",
            "Epoch 31 | Train Loss 0.38773585773176616 | Train Accuracy 0.8930434782608696 | Test Loss 0.4553318207080548 | Test Accuracy 0.88\n",
            "Epoch 32 | Train Loss 0.3809770451237758 | Train Accuracy 0.8957608695652174 | Test Loss 0.42982006416871 | Test Accuracy 0.88375\n",
            "Epoch 33 | Train Loss 0.3760572536331084 | Train Accuracy 0.8966304347826087 | Test Loss 0.4537616028235509 | Test Accuracy 0.88375\n",
            "Validation accuracy did not improve for several epochs. Stopping early.\n",
            "Epoch 0 | Train Loss 2.188764148288303 | Train Accuracy 0.23619565217391306 | Test Loss 1.9477777939576368 | Test Accuracy 0.35875\n",
            "Epoch 1 | Train Loss 1.7308252313070827 | Train Accuracy 0.4465217391304348 | Test Loss 1.5174923768410316 | Test Accuracy 0.495\n",
            "Epoch 2 | Train Loss 1.3804287786285083 | Train Accuracy 0.5596739130434782 | Test Loss 1.228861955495981 | Test Accuracy 0.6275\n",
            "Epoch 3 | Train Loss 1.1607106857829623 | Train Accuracy 0.6321739130434783 | Test Loss 1.0330331921577454 | Test Accuracy 0.68375\n",
            "Epoch 4 | Train Loss 1.0111030071145959 | Train Accuracy 0.6775 | Test Loss 0.8974480032920837 | Test Accuracy 0.72\n",
            "Epoch 5 | Train Loss 0.9021155987348821 | Train Accuracy 0.7183695652173913 | Test Loss 0.782270779976478 | Test Accuracy 0.7725\n",
            "Epoch 6 | Train Loss 0.8183025059600672 | Train Accuracy 0.7492391304347826 | Test Loss 0.7054224564478948 | Test Accuracy 0.79625\n",
            "Epoch 7 | Train Loss 0.7576676000737481 | Train Accuracy 0.7628260869565218 | Test Loss 0.6554967187918149 | Test Accuracy 0.8\n",
            "Epoch 8 | Train Loss 0.7122274817277988 | Train Accuracy 0.7802173913043479 | Test Loss 0.6183886115367596 | Test Accuracy 0.81875\n",
            "Epoch 9 | Train Loss 0.6635271946175231 | Train Accuracy 0.7929347826086957 | Test Loss 0.5943205379522764 | Test Accuracy 0.83375\n",
            "Epoch 10 | Train Loss 0.625535916744007 | Train Accuracy 0.8073913043478261 | Test Loss 0.5609710927192981 | Test Accuracy 0.82875\n",
            "Epoch 11 | Train Loss 0.599012173505293 | Train Accuracy 0.8180434782608695 | Test Loss 0.5380778656556056 | Test Accuracy 0.8375\n",
            "Epoch 12 | Train Loss 0.5755875344491668 | Train Accuracy 0.8294565217391304 | Test Loss 0.5187856898857997 | Test Accuracy 0.84375\n",
            "Epoch 13 | Train Loss 0.5555645730346441 | Train Accuracy 0.8381521739130435 | Test Loss 0.4828625160914201 | Test Accuracy 0.85875\n",
            "Epoch 14 | Train Loss 0.5313065033406019 | Train Accuracy 0.846304347826087 | Test Loss 0.464831680059433 | Test Accuracy 0.85375\n",
            "Epoch 15 | Train Loss 0.5141287855803967 | Train Accuracy 0.8496739130434783 | Test Loss 0.4609570251061366 | Test Accuracy 0.8575\n",
            "Epoch 16 | Train Loss 0.49650543224480415 | Train Accuracy 0.8557608695652174 | Test Loss 0.45732638010611903 | Test Accuracy 0.865\n",
            "Epoch 17 | Train Loss 0.48065598412520355 | Train Accuracy 0.8596739130434783 | Test Loss 0.42671340016218334 | Test Accuracy 0.87\n",
            "Epoch 18 | Train Loss 0.46544511647274095 | Train Accuracy 0.8633695652173913 | Test Loss 0.42730347239054167 | Test Accuracy 0.8675\n",
            "Epoch 19 | Train Loss 0.45717774476442075 | Train Accuracy 0.8680434782608696 | Test Loss 0.407490998506546 | Test Accuracy 0.87125\n",
            "Epoch 20 | Train Loss 0.4477459118804998 | Train Accuracy 0.868804347826087 | Test Loss 0.39136052475525784 | Test Accuracy 0.87125\n",
            "Epoch 21 | Train Loss 0.435623893307315 | Train Accuracy 0.8720652173913044 | Test Loss 0.39891385573607224 | Test Accuracy 0.8675\n",
            "Epoch 22 | Train Loss 0.4269504076283839 | Train Accuracy 0.8775 | Test Loss 0.39715198140877944 | Test Accuracy 0.86625\n",
            "Epoch 23 | Train Loss 0.4164248151290748 | Train Accuracy 0.8783695652173913 | Test Loss 0.4103815738971417 | Test Accuracy 0.87375\n",
            "Epoch 24 | Train Loss 0.4080146098923352 | Train Accuracy 0.8828260869565218 | Test Loss 0.39303414408977216 | Test Accuracy 0.86875\n",
            "Epoch 25 | Train Loss 0.3965600324380729 | Train Accuracy 0.8846739130434783 | Test Loss 0.3953032103868631 | Test Accuracy 0.875\n",
            "Epoch 26 | Train Loss 0.38691106376548606 | Train Accuracy 0.8871739130434783 | Test Loss 0.36080222863417405 | Test Accuracy 0.89\n",
            "Epoch 27 | Train Loss 0.382507908778886 | Train Accuracy 0.8910869565217391 | Test Loss 0.3678365338307161 | Test Accuracy 0.89125\n",
            "Epoch 28 | Train Loss 0.3768648501071665 | Train Accuracy 0.8929347826086956 | Test Loss 0.36889997812417835 | Test Accuracy 0.89125\n",
            "Epoch 29 | Train Loss 0.3694703813849224 | Train Accuracy 0.8961956521739131 | Test Loss 0.348802775144577 | Test Accuracy 0.88875\n",
            "Epoch 30 | Train Loss 0.36810140642854905 | Train Accuracy 0.8970652173913043 | Test Loss 0.36069753078313976 | Test Accuracy 0.88625\n",
            "Epoch 31 | Train Loss 0.3628077741919292 | Train Accuracy 0.8982608695652174 | Test Loss 0.3591142480189984 | Test Accuracy 0.88375\n",
            "Epoch 32 | Train Loss 0.35986993213494617 | Train Accuracy 0.8982608695652174 | Test Loss 0.3628521366761281 | Test Accuracy 0.88625\n",
            "Validation accuracy did not improve for several epochs. Stopping early.\n",
            "Epoch 0 | Train Loss 2.0412217378616333 | Train Accuracy 0.3506521739130435 | Test Loss 1.796177313877986 | Test Accuracy 0.4475\n",
            "Epoch 1 | Train Loss 1.5629846809638872 | Train Accuracy 0.5232608695652174 | Test Loss 1.3831510360424335 | Test Accuracy 0.55875\n",
            "Epoch 2 | Train Loss 1.2076656247178714 | Train Accuracy 0.6482608695652174 | Test Loss 1.0956206092467675 | Test Accuracy 0.685\n",
            "Epoch 3 | Train Loss 0.9735249086386628 | Train Accuracy 0.7204347826086956 | Test Loss 0.9143560482905462 | Test Accuracy 0.76\n",
            "Epoch 4 | Train Loss 0.8112434219155047 | Train Accuracy 0.7725 | Test Loss 0.7523517471093398 | Test Accuracy 0.81625\n",
            "Epoch 5 | Train Loss 0.6852516105605496 | Train Accuracy 0.8156521739130435 | Test Loss 0.6166740334950961 | Test Accuracy 0.86\n",
            "Epoch 6 | Train Loss 0.5962361521604989 | Train Accuracy 0.8396739130434783 | Test Loss 0.5671175099336184 | Test Accuracy 0.87125\n",
            "Epoch 7 | Train Loss 0.5314968317333195 | Train Accuracy 0.8567391304347826 | Test Loss 0.5010233934109027 | Test Accuracy 0.885\n",
            "Epoch 8 | Train Loss 0.48701429346369374 | Train Accuracy 0.8666304347826087 | Test Loss 0.4673360311068021 | Test Accuracy 0.88625\n",
            "Epoch 9 | Train Loss 0.4577198554244306 | Train Accuracy 0.8726086956521739 | Test Loss 0.4209450368697827 | Test Accuracy 0.89625\n",
            "Epoch 10 | Train Loss 0.43479611952271724 | Train Accuracy 0.8769565217391304 | Test Loss 0.4128524546439831 | Test Accuracy 0.89625\n",
            "Epoch 11 | Train Loss 0.41681770390520495 | Train Accuracy 0.8813043478260869 | Test Loss 0.40908150374889374 | Test Accuracy 0.8925\n",
            "Epoch 12 | Train Loss 0.400445613078773 | Train Accuracy 0.8833695652173913 | Test Loss 0.38648729484814864 | Test Accuracy 0.89625\n",
            "Epoch 13 | Train Loss 0.38667984027415514 | Train Accuracy 0.8873913043478261 | Test Loss 0.40430400004753697 | Test Accuracy 0.88875\n",
            "Epoch 14 | Train Loss 0.3774128695949912 | Train Accuracy 0.8895652173913043 | Test Loss 0.39203049815618074 | Test Accuracy 0.8925\n",
            "Validation accuracy did not improve for several epochs. Stopping early.\n",
            "best accuraces for test was : [0.86125, 0.9125, 0.88625, 0.89125, 0.89625]\n",
            "stddev for test was  : 0.018616189191131473\n",
            "best accuraces for test was : [0.8726086956521739, 0.913695652173913, 0.8966304347826087, 0.8982608695652174, 0.8895652173913043]\n",
            "stddev for test was  : 0.014917542736169524\n"
          ]
        }
      ]
    },
    {
      "cell_type": "code",
      "source": [],
      "metadata": {
        "id": "-5sh8l2vQAb9"
      },
      "execution_count": null,
      "outputs": []
    },
    {
      "cell_type": "code",
      "source": [],
      "metadata": {
        "id": "AkCt3hNZQAZn"
      },
      "execution_count": null,
      "outputs": []
    },
    {
      "cell_type": "code",
      "source": [],
      "metadata": {
        "id": "C5mxvv3-QAXS"
      },
      "execution_count": null,
      "outputs": []
    },
    {
      "cell_type": "code",
      "source": [],
      "metadata": {
        "id": "cGNIBpqvQAUd"
      },
      "execution_count": null,
      "outputs": []
    },
    {
      "cell_type": "code",
      "source": [],
      "metadata": {
        "id": "IjWnq8GlQASO"
      },
      "execution_count": null,
      "outputs": []
    },
    {
      "cell_type": "code",
      "source": [],
      "metadata": {
        "id": "zRvjfLjZP-nm"
      },
      "execution_count": null,
      "outputs": []
    },
    {
      "cell_type": "code",
      "source": [],
      "metadata": {
        "id": "1WvVVdZpP-kt"
      },
      "execution_count": null,
      "outputs": []
    },
    {
      "cell_type": "code",
      "source": [],
      "metadata": {
        "id": "hloaX9X4P-h2"
      },
      "execution_count": null,
      "outputs": []
    },
    {
      "cell_type": "code",
      "source": [],
      "metadata": {
        "id": "w0vzonWAP-fN"
      },
      "execution_count": null,
      "outputs": []
    },
    {
      "cell_type": "code",
      "source": [],
      "metadata": {
        "id": "3PogmvJaP-ct"
      },
      "execution_count": null,
      "outputs": []
    },
    {
      "cell_type": "code",
      "source": [],
      "metadata": {
        "id": "ywKZLFbQP-aR"
      },
      "execution_count": null,
      "outputs": []
    },
    {
      "cell_type": "code",
      "source": [],
      "metadata": {
        "id": "LHZwu7DYP-Xo"
      },
      "execution_count": null,
      "outputs": []
    },
    {
      "cell_type": "code",
      "source": [
        "import matplotlib.pyplot as plt\n",
        "\n",
        "def plot_logs(logs1, logs2, title1='Experiment 1', title2='Experiment 2'):\n",
        "    # Assuming logs1 and logs2 are structured as:\n",
        "    # [train_losses, train_accuracies, test_losses, test_accuracies]\n",
        "\n",
        "    # Plotting training and testing accuracy and loss for Experiment 1\n",
        "    plt.figure(figsize=(12, 10))\n",
        "\n",
        "    plt.subplot(2, 2, 1)\n",
        "    for i, acc in enumerate(logs1[1]):  # Train accuracies\n",
        "        plt.plot(acc, label=f'Run {i+1}')\n",
        "    plt.title(f'{title1} - Training Accuracy')\n",
        "    plt.legend()\n",
        "    plt.xlabel('Epoch')\n",
        "    plt.ylabel('Accuracy')\n",
        "\n",
        "    plt.subplot(2, 2, 2)\n",
        "    for i, loss in enumerate(logs1[0]):  # Train losses\n",
        "        plt.plot(loss, label=f'Run {i+1}')\n",
        "    plt.title(f'{title1} - Training Loss')\n",
        "    plt.legend()\n",
        "    plt.xlabel('Epoch')\n",
        "    plt.ylabel('Loss')\n",
        "\n",
        "    # Plotting training and testing accuracy and loss for Experiment 2\n",
        "    plt.subplot(2, 2, 3)\n",
        "    for i, acc in enumerate(logs2[1]):  # Train accuracies\n",
        "        plt.plot(acc, label=f'Run {i+1}')\n",
        "    plt.title(f'{title2} - Training Accuracy')\n",
        "    plt.legend()\n",
        "    plt.xlabel('Epoch')\n",
        "    plt.ylabel('Accuracy')\n",
        "\n",
        "    plt.subplot(2, 2, 4)\n",
        "    for i, loss in enumerate(logs2[0]):  # Train losses\n",
        "        plt.plot(loss, label=f'Run {i+1}')\n",
        "    plt.title(f'{title2} - Training Loss')\n",
        "    plt.legend()\n",
        "    plt.xlabel('Epoch')\n",
        "    plt.ylabel('Loss')\n",
        "\n",
        "    plt.tight_layout()\n",
        "    plt.show()\n",
        "\n",
        "# You can call this function with your logs1 and logs2 variables.\n",
        "# Example: plot_logs(logs1, logs2)\n"
      ],
      "metadata": {
        "id": "5bAikPHEPm9l"
      },
      "execution_count": null,
      "outputs": []
    }
  ]
}